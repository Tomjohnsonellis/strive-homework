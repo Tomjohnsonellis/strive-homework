{
 "cells": [
  {
   "cell_type": "markdown",
   "source": [
    "# Recognising handwritten digits (MNIST)\n",
    "_The \"Hello world\" of neural networks_"
   ],
   "metadata": {
    "collapsed": false,
    "pycharm": {
     "name": "#%% md\n"
    }
   }
  },
  {
   "cell_type": "code",
   "execution_count": 7,
   "metadata": {
    "collapsed": true
   },
   "outputs": [],
   "source": [
    "# Typical Imports: torch, numpy, matplotlib\n",
    "import pandas as pd\n",
    "import numpy as np\n",
    "import matplotlib.pyplot as plt\n",
    "import time\n",
    "from collections import OrderedDict\n",
    "import torch\n",
    "from torch import nn\n",
    "from torch import optim\n",
    "import torch.nn.functional as F\n",
    "from torchvision import datasets, transforms\n",
    "%matplotlib inline\n",
    "%config InlineBackend.figure_format = 'retina'"
   ]
  },
  {
   "cell_type": "code",
   "execution_count": 8,
   "outputs": [],
   "source": [
    "# This is a function just to give us pretty outputs of an image and what our model believes a digit to be\n",
    "# https://discuss.pytorch.org/t/view-classify-in-module-helper/30279/6\n",
    "\n",
    "def view_classify(img, ps):\n",
    "    ps = ps.data.numpy().squeeze()\n",
    "    fig, (ax1, ax2) = plt.subplots(figsize=(6,9), ncols=2)\n",
    "    ax1.imshow(img.resize_(1, 28, 28).numpy().squeeze())\n",
    "    ax1.axis('off')\n",
    "    ax2.barh(np.arange(10), ps)\n",
    "    ax2.set_aspect(0.1)\n",
    "    ax2.set_yticks(np.arange(10))\n",
    "    ax2.set_yticklabels(np.arange(10))\n",
    "    ax2.set_title('Class Probability')\n",
    "    ax2.set_xlim(0, 1.1)"
   ],
   "metadata": {
    "collapsed": false,
    "pycharm": {
     "name": "#%%\n"
    }
   }
  },
  {
   "cell_type": "code",
   "execution_count": 10,
   "outputs": [
    {
     "name": "stdout",
     "output_type": "stream",
     "text": [
      "Downloading http://yann.lecun.com/exdb/mnist/train-images-idx3-ubyte.gz\n",
      "Failed to download (trying next):\n",
      "HTTP Error 503: Service Unavailable\n",
      "\n",
      "Downloading https://ossci-datasets.s3.amazonaws.com/mnist/train-images-idx3-ubyte.gz\n",
      "Downloading https://ossci-datasets.s3.amazonaws.com/mnist/train-images-idx3-ubyte.gz to MNIST_data/MNIST\\raw\\train-images-idx3-ubyte.gz\n"
     ]
    },
    {
     "name": "stderr",
     "output_type": "stream",
     "text": [
      "100.0%\n"
     ]
    },
    {
     "name": "stdout",
     "output_type": "stream",
     "text": [
      "Extracting MNIST_data/MNIST\\raw\\train-images-idx3-ubyte.gz to MNIST_data/MNIST\\raw\n",
      "\n",
      "Downloading http://yann.lecun.com/exdb/mnist/train-labels-idx1-ubyte.gz\n",
      "Failed to download (trying next):\n",
      "HTTP Error 503: Service Unavailable\n",
      "\n",
      "Downloading https://ossci-datasets.s3.amazonaws.com/mnist/train-labels-idx1-ubyte.gz\n",
      "Downloading https://ossci-datasets.s3.amazonaws.com/mnist/train-labels-idx1-ubyte.gz to MNIST_data/MNIST\\raw\\train-labels-idx1-ubyte.gz\n"
     ]
    },
    {
     "name": "stderr",
     "output_type": "stream",
     "text": [
      "102.8%\n"
     ]
    },
    {
     "name": "stdout",
     "output_type": "stream",
     "text": [
      "Extracting MNIST_data/MNIST\\raw\\train-labels-idx1-ubyte.gz to MNIST_data/MNIST\\raw\n",
      "\n",
      "Downloading http://yann.lecun.com/exdb/mnist/t10k-images-idx3-ubyte.gz\n",
      "Failed to download (trying next):\n",
      "HTTP Error 503: Service Unavailable\n",
      "\n",
      "Downloading https://ossci-datasets.s3.amazonaws.com/mnist/t10k-images-idx3-ubyte.gz\n",
      "Downloading https://ossci-datasets.s3.amazonaws.com/mnist/t10k-images-idx3-ubyte.gz to MNIST_data/MNIST\\raw\\t10k-images-idx3-ubyte.gz\n"
     ]
    },
    {
     "name": "stderr",
     "output_type": "stream",
     "text": [
      "100.0%\n"
     ]
    },
    {
     "name": "stdout",
     "output_type": "stream",
     "text": [
      "Extracting MNIST_data/MNIST\\raw\\t10k-images-idx3-ubyte.gz to MNIST_data/MNIST\\raw\n",
      "\n",
      "Downloading http://yann.lecun.com/exdb/mnist/t10k-labels-idx1-ubyte.gz\n",
      "Failed to download (trying next):\n",
      "HTTP Error 503: Service Unavailable\n",
      "\n",
      "Downloading https://ossci-datasets.s3.amazonaws.com/mnist/t10k-labels-idx1-ubyte.gz\n",
      "Downloading https://ossci-datasets.s3.amazonaws.com/mnist/t10k-labels-idx1-ubyte.gz to MNIST_data/MNIST\\raw\\t10k-labels-idx1-ubyte.gz\n"
     ]
    },
    {
     "name": "stderr",
     "output_type": "stream",
     "text": [
      "112.7%"
     ]
    },
    {
     "name": "stdout",
     "output_type": "stream",
     "text": [
      "Extracting MNIST_data/MNIST\\raw\\t10k-labels-idx1-ubyte.gz to MNIST_data/MNIST\\raw\n",
      "\n"
     ]
    },
    {
     "name": "stderr",
     "output_type": "stream",
     "text": [
      "\n",
      "C:\\Users\\tom\\anaconda3\\envs\\poggers\\lib\\site-packages\\torchvision\\datasets\\mnist.py:498: UserWarning: The given NumPy array is not writeable, and PyTorch does not support non-writeable tensors. This means you can write to the underlying (supposedly non-writeable) NumPy array using the tensor. You may want to copy the array to protect its data or make it writeable before converting it to a tensor. This type of warning will be suppressed for the rest of this program. (Triggered internally at  ..\\torch\\csrc\\utils\\tensor_numpy.cpp:180.)\n",
      "  return torch.from_numpy(parsed.astype(m[2], copy=False)).view(*s)\n"
     ]
    }
   ],
   "source": [
    "# First of all, import the data we will be working with\n",
    "\n",
    "# We define a transform to normalize the data just so what we can apply it after we import the data\n",
    "transform = transforms.Compose([transforms.ToTensor(), transforms.Normalize((0.5,), (0.5,)) ])\n",
    "\n",
    "# Download and load the training data (Set download to False if you've run this before)\n",
    "trainset    = datasets.MNIST('MNIST_data/', download=False, train=True, transform=transform)\n",
    "trainloader = torch.utils.data.DataLoader(trainset, batch_size=16, shuffle=True)\n",
    "\n",
    "# Same as above but for the testing data\n",
    "testset    = datasets.MNIST('MNIST_data/', download=False, train=False, transform=transform)\n",
    "testloader = torch.utils.data.DataLoader(testset, batch_size=16, shuffle=True)"
   ],
   "metadata": {
    "collapsed": false,
    "pycharm": {
     "name": "#%%\n"
    }
   }
  },
  {
   "cell_type": "code",
   "execution_count": 11,
   "outputs": [
    {
     "data": {
      "text/plain": "torch.Size([16, 1, 28, 28])"
     },
     "execution_count": 11,
     "metadata": {},
     "output_type": "execute_result"
    }
   ],
   "source": [
    "# This is a useful way of moving/iterating through our data\n",
    "dataiter = iter(trainloader)\n",
    "# .next() will return the next batch of data, great!\n",
    "images, labels = dataiter.next()\n",
    "# Here's the shape of a batch of images, 16 images with 1 colour, 28 pixels high by 28 pixels wide\n",
    "images.shape"
   ],
   "metadata": {
    "collapsed": false,
    "pycharm": {
     "name": "#%%\n"
    }
   }
  },
  {
   "cell_type": "code",
   "execution_count": 29,
   "outputs": [
    {
     "data": {
      "text/plain": "<Figure size 432x288 with 1 Axes>",
      "image/png": "[encoded data removed]"
     },
     "metadata": {
      "image/png": {
       "width": 251,
       "height": 248
      },
      "needs_background": "light"
     },
     "output_type": "display_data"
    }
   ],
   "source": [
    "import random\n",
    "# Here's what an image looks like to us\n",
    "plt.imshow(images[random.randint(0,15)].numpy().squeeze(), cmap='Greys_r');"
   ],
   "metadata": {
    "collapsed": false,
    "pycharm": {
     "name": "#%%\n"
    }
   }
  },
  {
   "cell_type": "code",
   "execution_count": 14,
   "outputs": [
    {
     "data": {
      "text/plain": "MNIST_Network(\n  (fc1): Linear(in_features=784, out_features=32, bias=True)\n  (fc2): Linear(in_features=32, out_features=16, bias=True)\n  (fc3): Linear(in_features=16, out_features=10, bias=True)\n)"
     },
     "execution_count": 14,
     "metadata": {},
     "output_type": "execute_result"
    }
   ],
   "source": [
    "# Now to construct a network\n",
    "# The typical practice when using pytorch is to rewrite an __init__ and forward pass\n",
    "# for the default network class but with whatever you need for your actual network.\n",
    "\n",
    "\n",
    "# For example, we are going to send 28x28 pixels (784) into our network,\n",
    "# then pass them to smaller and smaller layers\n",
    "# Typically each layer will be 2^n in size as computers just love those numbers.\n",
    "class MNIST_Network(nn.Module):\n",
    "\n",
    "    # Defining the layers\n",
    "    def __init__(self):\n",
    "        super().__init__()\n",
    "        # fc for \"Fully Connected\" layer\n",
    "        self.fc1 = nn.Linear(784, 64)\n",
    "        self.fc2 = nn.Linear(64, 16)\n",
    "        self.fc3 = nn.Linear(16, 10)\n",
    "\n",
    "    # Forward pass through the network, returns the output logits\n",
    "    def forward(self, x):\n",
    "        x = self.fc1(x)\n",
    "        # relu is typically imported like this:\n",
    "        # import torch.nn.functional as F\n",
    "        x = F.relu(x)\n",
    "        x = self.fc2(x)\n",
    "        x = F.relu(x)\n",
    "        x = self.fc3(x)\n",
    "        # Softmax just makes all our outputs total to \"1\", useful for visualising results like \"90% sure this is an 8\"\n",
    "        x = F.softmax(x, dim=1)\n",
    "        return x\n",
    "\n",
    "model = MNIST_Network()\n",
    "model"
   ],
   "metadata": {
    "collapsed": false,
    "pycharm": {
     "name": "#%%\n"
    }
   }
  },
  {
   "cell_type": "code",
   "execution_count": 72,
   "outputs": [
    {
     "data": {
      "text/plain": "Sequential(\n  (0): Linear(in_features=784, out_features=32, bias=True)\n  (1): ReLU()\n  (2): Linear(in_features=32, out_features=16, bias=True)\n  (3): ReLU()\n  (4): Linear(in_features=16, out_features=10, bias=True)\n  (5): Softmax(dim=1)\n)"
     },
     "execution_count": 72,
     "metadata": {},
     "output_type": "execute_result"
    }
   ],
   "source": [
    "# There are other ways to define a network, some methods may be easier to adjust\n",
    "# You could define hyperparameters separately\n",
    "input_size = 784\n",
    "hidden_sizes = [32, 16]\n",
    "output_size = 10\n",
    "\n",
    "# Then use these with the nn.Sequential() function to make a feed forward model\n",
    "# https://pytorch.org/docs/master/generated/torch.nn.Sequential.html#torch.nn.Sequential\n",
    "sequential_model = nn.Sequential(\n",
    "    nn.Linear(input_size, hidden_sizes[0]),\n",
    "    nn.ReLU(),\n",
    "    nn.Linear(hidden_sizes[0], hidden_sizes[1]),\n",
    "    nn.ReLU(),\n",
    "    nn.Linear(hidden_sizes[1], output_size),\n",
    "    nn.Softmax(dim=1)\n",
    ")\n",
    "\n",
    "sequential_model"
   ],
   "metadata": {
    "collapsed": false,
    "pycharm": {
     "name": "#%%\n"
    }
   }
  },
  {
   "cell_type": "code",
   "execution_count": 31,
   "outputs": [
    {
     "data": {
      "text/plain": "Sequential(\n  (First Layer): Linear(in_features=784, out_features=32, bias=True)\n  (First ReLU): ReLU()\n  (Second Layer): Linear(in_features=32, out_features=16, bias=True)\n  (Second ReLU): ReLU()\n  (Final Layer): Linear(in_features=16, out_features=10, bias=True)\n  (Outputs): Softmax(dim=1)\n)"
     },
     "execution_count": 31,
     "metadata": {},
     "output_type": "execute_result"
    }
   ],
   "source": [
    "# An 'OrderedDict' can be used if you want to name each layer\n",
    "labelled_sequential_model = nn.Sequential(\n",
    "    OrderedDict([\n",
    "        ('First Layer', nn.Linear(input_size, hidden_sizes[0])),\n",
    "        ('First ReLU', nn.ReLU()),\n",
    "        ('Second Layer', nn.Linear(hidden_sizes[0], hidden_sizes[1])),\n",
    "        ('Second ReLU', nn.ReLU()),\n",
    "        ('Final Layer', nn.Linear(hidden_sizes[1], output_size)),\n",
    "        ('Outputs', nn.Softmax(dim=1))\n",
    "    ])\n",
    ")\n",
    "\n",
    "labelled_sequential_model"
   ],
   "metadata": {
    "collapsed": false,
    "pycharm": {
     "name": "#%%\n"
    }
   }
  },
  {
   "cell_type": "code",
   "execution_count": 43,
   "outputs": [
    {
     "data": {
      "text/plain": "tensor([ 0.0038,  0.0106, -0.1224, -0.2014,  0.1138,  0.1214, -0.0781,  0.2942,\n         0.1575, -0.1409,  0.0246, -0.0683, -0.0085, -0.0217, -0.0062, -0.0662,\n         0.0470,  0.0251, -0.0526,  0.1228, -0.0065,  0.0479,  0.1967, -0.0940,\n        -0.0256, -0.1054, -0.0240, -0.1151, -0.0055, -0.0336,  0.0997,  0.0151])"
     },
     "execution_count": 43,
     "metadata": {},
     "output_type": "execute_result"
    }
   ],
   "source": [
    "# Weights and biases are already done for you, initialised randomly.\n",
    "# You CAN tinker with them if you need to...\n",
    "\n",
    "#print(model.fc1.weight) # WEIGHT, Just the one\n",
    "#print(model.fc1.bias)\n",
    "\n",
    "# These are actually autograd variables, in order to directly alter them, we would use weight.data:\n",
    "#model.fc1.weight.data\n",
    "model.fc1.weight.data.fill_(0)  # Set them all to 0\n",
    "model.fc1.bias.data.normal_(std=0.1) # Fill the biases with values from a normal distribution"
   ],
   "metadata": {
    "collapsed": false,
    "pycharm": {
     "name": "#%%\n"
    }
   }
  },
  {
   "cell_type": "code",
   "execution_count": 66,
   "outputs": [
    {
     "name": "stdout",
     "output_type": "stream",
     "text": [
      "torch.Size([16, 1, 28, 28])\n"
     ]
    },
    {
     "data": {
      "text/plain": "torch.Size([16, 1, 784])"
     },
     "execution_count": 66,
     "metadata": {},
     "output_type": "execute_result"
    }
   ],
   "source": [
    "# So, now that we have a network/model, let's try it out!\n",
    "# From earlier, we can use the loaders to iterate over the data\n",
    "dataiter = iter(trainloader)\n",
    "images, labels = dataiter.next()  # Gives us the next item\n",
    "\n",
    "print(images.size())\n",
    "# We need to turn this from a grid of pixel values to just a 1D array, just numbers one after another\n",
    "# Our iterater actually gives us a batch of images, so the syntax here is (batch_size, colour_channels, pixels)\n",
    "images = images.reshape(images.shape[0], 1, 784)\n",
    "images.size()"
   ],
   "metadata": {
    "collapsed": false,
    "pycharm": {
     "name": "#%%\n"
    }
   }
  },
  {
   "cell_type": "code",
   "execution_count": 67,
   "outputs": [
    {
     "data": {
      "text/plain": "<Figure size 432x648 with 2 Axes>",
      "image/png": "[encoded data removed]"
     },
     "metadata": {
      "image/png": {
       "width": 349,
       "height": 195
      },
      "needs_background": "light"
     },
     "output_type": "display_data"
    }
   ],
   "source": [
    "# Now we can give this to the network\n",
    "image_index = 0\n",
    "model_guess = model(images[image_index])\n",
    "\n",
    "# Annnnd use the helper function from earlier to take a look\n",
    "actual_image = images[image_index]\n",
    "view_classify(actual_image, model_guess)\n",
    "# Excellent! Our untrained model has no idea what that is, time to train it!"
   ],
   "metadata": {
    "collapsed": false,
    "pycharm": {
     "name": "#%%\n"
    }
   }
  },
  {
   "cell_type": "code",
   "execution_count": 79,
   "outputs": [],
   "source": [
    "model_to_train = nn.Sequential(\n",
    "    OrderedDict([\n",
    "        ('First_Layer', nn.Linear(input_size, hidden_sizes[0])),\n",
    "        ('First_ReLU', nn.ReLU()),\n",
    "        ('Second_Layer', nn.Linear(hidden_sizes[0], hidden_sizes[1])),\n",
    "        ('Second_ReLU', nn.ReLU()),\n",
    "         # Logits are the raw output of the network, using softmax while training could lead to some BIG accuracy losses\n",
    "        ('Final_Layer', nn.Linear(hidden_sizes[1], output_size)),\n",
    "        # No softmax this time\n",
    "        #('Softmax', nn.Softmax(dim=1)\n",
    "    ])\n",
    ")\n",
    "\n",
    "# We need a loss function in order to score the model, this one is used for classification of multiple classes\n",
    "# https://pytorch.org/docs/stable/generated/torch.nn.CrossEntropyLoss.html\n",
    "loss_function = nn.CrossEntropyLoss()\n",
    "# And some way to optimise the loss\n",
    "# Stochastic Gradient Descent is an okay choice for this\n",
    "optimiser = optim.SGD(model_to_train.parameters(), lr=0.1)\n",
    "\n",
    "\"\"\"\n",
    "A Reminder on how a training loop typically works:\n",
    "Give a model some data\n",
    "Calculate how well it did with the loss function\n",
    "Backpropagate to calculate the gradients (how to adjust the weights)\n",
    "Step with the optimiser to apply those changes\n",
    "\n",
    "Let's do this once\n",
    "\"\"\"\n",
    "# Reset the optimiser\n",
    "optimiser.zero_grad() # Some networks like Recurrent NNs may not want the gradients zeroed, but we do\n",
    "images, labels = next(iter(trainloader))\n",
    "images = images.reshape(16, 784)\n",
    "\n",
    "# Pass some data forward through the network\n",
    "model_guess = model_to_train(images)\n",
    "# Calculate a score using the loss function\n",
    "loss = loss_function(model_guess, labels)\n",
    "# Backpropagate\n",
    "loss.backward()\n",
    "# Apply the calculated adjustments\n",
    "optimiser.step()\n",
    "\n",
    "# Annnnd that's one training step! Only difference between this and the actual training is doing it much more!"
   ],
   "metadata": {
    "collapsed": false,
    "pycharm": {
     "name": "#%%\n"
    }
   }
  },
  {
   "cell_type": "code",
   "execution_count": 90,
   "outputs": [
    {
     "name": "stdout",
     "output_type": "stream",
     "text": [
      "==================================================\n",
      "Gradients Reset!\n",
      "Initial Weights: \n",
      "tensor([[-0.0074,  0.0091, -0.0330,  ..., -0.0338,  0.0142, -0.0327],\n",
      "        [-0.0168,  0.0221,  0.0238,  ...,  0.0154,  0.0018,  0.0254],\n",
      "        [ 0.0132,  0.0216,  0.0119,  ..., -0.0008, -0.0021,  0.0191],\n",
      "        ...,\n",
      "        [ 0.0062, -0.0225, -0.0196,  ...,  0.0259,  0.0275,  0.0284],\n",
      "        [ 0.0085,  0.0031, -0.0170,  ...,  0.0196, -0.0332,  0.0066],\n",
      "        [-0.0216, -0.0053,  0.0154,  ...,  0.0176, -0.0137,  0.0304]])\n",
      "Feeding forward...\n",
      "Calculating loss...\n",
      "Current loss: 2.10095\n",
      "Backpropogating...\n",
      "Gradients: \n",
      "tensor([[ 0.0000,  0.0000,  0.0000,  ...,  0.0000,  0.0000,  0.0000],\n",
      "        [ 0.0082,  0.0082,  0.0082,  ...,  0.0082,  0.0082,  0.0082],\n",
      "        [-0.0004, -0.0004, -0.0004,  ..., -0.0004, -0.0004, -0.0004],\n",
      "        ...,\n",
      "        [ 0.0009,  0.0009,  0.0009,  ...,  0.0009,  0.0009,  0.0009],\n",
      "        [ 0.0000,  0.0000,  0.0000,  ...,  0.0000,  0.0000,  0.0000],\n",
      "        [ 0.0000,  0.0000,  0.0000,  ...,  0.0000,  0.0000,  0.0000]])\n",
      "Altering weights...\n",
      "Updated weights: \n",
      "tensor([[-0.0074,  0.0091, -0.0330,  ..., -0.0338,  0.0142, -0.0327],\n",
      "        [-0.0176,  0.0213,  0.0230,  ...,  0.0146,  0.0010,  0.0246],\n",
      "        [ 0.0133,  0.0216,  0.0120,  ..., -0.0008, -0.0020,  0.0191],\n",
      "        ...,\n",
      "        [ 0.0061, -0.0226, -0.0197,  ...,  0.0258,  0.0274,  0.0283],\n",
      "        [ 0.0085,  0.0031, -0.0170,  ...,  0.0196, -0.0332,  0.0066],\n",
      "        [-0.0216, -0.0053,  0.0154,  ...,  0.0176, -0.0137,  0.0304]]) \n",
      "==================================================\n"
     ]
    }
   ],
   "source": [
    "# Above training but with print outputs\n",
    "print(\"=\"*50)\n",
    "optimiser.zero_grad()\n",
    "print(\"Gradients Reset!\")\n",
    "print(f\"Initial Weights: \\n{model_to_train.First_Layer.weight.data}\")\n",
    "print(\"Feeding forward...\")\n",
    "model_guess = model_to_train(images)\n",
    "print(\"Calculating loss...\")\n",
    "loss = loss_function(model_guess, labels)\n",
    "print(f\"Current loss: {loss:.5f}\")\n",
    "print(\"Backpropogating...\")\n",
    "loss.backward()\n",
    "print(f\"Gradients: \\n{model_to_train.First_Layer.weight.grad}\")\n",
    "print(\"Altering weights...\")\n",
    "optimiser.step()\n",
    "print(f\"Updated weights: \\n{model_to_train.First_Layer.weight.data} \")\n",
    "print(\"=\"*50)"
   ],
   "metadata": {
    "collapsed": false,
    "pycharm": {
     "name": "#%%\n"
    }
   }
  },
  {
   "cell_type": "code",
   "execution_count": 140,
   "outputs": [
    {
     "name": "stdout",
     "output_type": "stream",
     "text": [
      "Epoch 1 / 3\n",
      "Training cycle: 0\t Avg. Loss: 0.0046\n",
      "Training cycle: 500\t Avg. Loss: 1.6074\n",
      "Training cycle: 1000\t Avg. Loss: 0.5905\n",
      "Training cycle: 1500\t Avg. Loss: 0.4368\n",
      "Training cycle: 2000\t Avg. Loss: 0.4019\n",
      "Training cycle: 2500\t Avg. Loss: 0.3508\n",
      "Training cycle: 3000\t Avg. Loss: 0.3465\n",
      "Training cycle: 3500\t Avg. Loss: 0.3156\n",
      "Epoch 2 / 3\n",
      "Training cycle: 0\t Avg. Loss: 0.0010\n",
      "Training cycle: 500\t Avg. Loss: 0.2944\n",
      "Training cycle: 1000\t Avg. Loss: 0.2713\n",
      "Training cycle: 1500\t Avg. Loss: 0.2725\n",
      "Training cycle: 2000\t Avg. Loss: 0.2620\n",
      "Training cycle: 2500\t Avg. Loss: 0.2424\n",
      "Training cycle: 3000\t Avg. Loss: 0.2526\n",
      "Training cycle: 3500\t Avg. Loss: 0.2306\n",
      "Epoch 3 / 3\n",
      "Training cycle: 0\t Avg. Loss: 0.0003\n",
      "Training cycle: 500\t Avg. Loss: 0.2071\n",
      "Training cycle: 1000\t Avg. Loss: 0.1936\n",
      "Training cycle: 1500\t Avg. Loss: 0.1868\n",
      "Training cycle: 2000\t Avg. Loss: 0.1897\n",
      "Training cycle: 2500\t Avg. Loss: 0.2028\n",
      "Training cycle: 3000\t Avg. Loss: 0.1963\n",
      "Training cycle: 3500\t Avg. Loss: 0.1616\n",
      "==================================================\n",
      "DONE\n"
     ]
    }
   ],
   "source": [
    "# Now for the big training loop, I'll include everything we need\n",
    "\n",
    "# Define a transform that we apply as the data is loaded\n",
    "transform = transforms.Compose([transforms.ToTensor(), transforms.Normalize((0.5,), (0.5,)) ])\n",
    "# Download and load the training data (Set download to False if you've run this before)\n",
    "trainset    = datasets.MNIST('MNIST_data/', download=False, train=True, transform=transform)\n",
    "trainloader = torch.utils.data.DataLoader(trainset, batch_size=16, shuffle=True)\n",
    "# Same as above but for the testing data\n",
    "testset    = datasets.MNIST('MNIST_data/', download=False, train=False, transform=transform)\n",
    "testloader = torch.utils.data.DataLoader(testset, batch_size=16, shuffle=True)\n",
    "\n",
    "# The model\n",
    "input_size = 784\n",
    "hidden_sizes =  [128, 64]\n",
    "output_size = 10\n",
    "model = nn.Sequential(\n",
    "    OrderedDict([\n",
    "        ('First_Layer', nn.Linear(input_size, hidden_sizes[0])),\n",
    "        ('First_ReLU', nn.ReLU()),\n",
    "        ('Second_Layer', nn.Linear(hidden_sizes[0], hidden_sizes[1])),\n",
    "        ('Second_ReLU', nn.ReLU()),\n",
    "        ('Final_Layer', nn.Linear(hidden_sizes[1], output_size)),\n",
    "        ('Final_ReLU', nn.ReLU())\n",
    "    ])\n",
    ")\n",
    "\n",
    "# Model parameters\n",
    "optimiser = optim.SGD(model.parameters(), lr=0.01)\n",
    "loss_function = nn.CrossEntropyLoss()\n",
    "\n",
    "training_epochs = 3\n",
    "print_every = 500 # Just so we have a manageable amount of text displayed\n",
    "\n",
    "for epoch in range(training_epochs):\n",
    "    running_loss = 0\n",
    "    print(f\"Epoch {epoch+1} / {training_epochs}\")\n",
    "\n",
    "    for cycle, (images, labels) in enumerate(iter(trainloader)):\n",
    "        # Flatten the images for our network\n",
    "        images = images.reshape(16, 784)\n",
    "        # Zero out the gradients\n",
    "        optimiser.zero_grad()\n",
    "        # Make a guess by passing an image forward through the network\n",
    "        model_guess = model.forward(images)\n",
    "        # Calculate how good/bad that guess is\n",
    "        loss_value = loss_function(model_guess, labels)\n",
    "        # Backpropogate to see how we need to adjust the weights\n",
    "        loss_value.backward()\n",
    "        # Adjust the weights\n",
    "        optimiser.step()\n",
    "\n",
    "        # Keep track of the loss for our human eyes to see\n",
    "        running_loss += loss_value.item()\n",
    "\n",
    "        if cycle % print_every == 0:\n",
    "            print(f\"Training cycle: {cycle}\\t Avg. Loss: {running_loss/print_every:.4f}\")\n",
    "            running_loss = 0\n",
    "\n",
    "print(\"=\"*50)\n",
    "print(\"DONE\")"
   ],
   "metadata": {
    "collapsed": false,
    "pycharm": {
     "name": "#%%\n"
    }
   }
  },
  {
   "cell_type": "code",
   "execution_count": 145,
   "outputs": [
    {
     "data": {
      "text/plain": "<Figure size 432x648 with 2 Axes>",
      "image/png": "[encoded data removed]"
     },
     "metadata": {
      "image/png": {
       "width": 349,
       "height": 195
      },
      "needs_background": "light"
     },
     "output_type": "display_data"
    }
   ],
   "source": [
    "# Okay, we have now trained a model on all the data, let's see how it does now...\n",
    "images, labels = next(iter(testloader))\n",
    "\n",
    "img = images[0].view(1, 784)\n",
    "# Turn off gradients to speed up this part\n",
    "with torch.no_grad():\n",
    "    logits = model.forward(img)\n",
    "\n",
    "# Softmax on the raw network output to get a \"I'm 90% it's this number\" output\n",
    "ps = F.softmax(logits, dim=1)\n",
    "view_classify(img.view(1, 28, 28), ps)"
   ],
   "metadata": {
    "collapsed": false,
    "pycharm": {
     "name": "#%%\n"
    }
   }
  },
  {
   "cell_type": "code",
   "execution_count": 137,
   "outputs": [],
   "source": [],
   "metadata": {
    "collapsed": false,
    "pycharm": {
     "name": "#%%"
    }
   }
  }
 ],
 "metadata": {
  "kernelspec": {
   "display_name": "Python 3",
   "language": "python",
   "name": "python3"
  },
  "language_info": {
   "codemirror_mode": {
    "name": "ipython",
    "version": 2
   },
   "file_extension": ".py",
   "mimetype": "text/x-python",
   "name": "python",
   "nbconvert_exporter": "python",
   "pygments_lexer": "ipython2",
   "version": "2.7.6"
  }
 },
 "nbformat": 4,
 "nbformat_minor": 0
}