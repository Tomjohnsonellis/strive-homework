{
 "cells": [
  {
   "cell_type": "markdown",
   "metadata": {
    "collapsed": true,
    "pycharm": {
     "name": "#%% md\n"
    }
   },
   "source": [
    "### Perceptron\n",
    "\n",
    "A perceptron is a simple type of neural network, its key features are:<br>\n",
    "- Used in supervised learning for binary classifiers (Yes or No type problems)\n",
    "\n",
    "How it works\n",
    "- Is given some inputs\n",
    "- Multiplies each input by some weight\n",
    "- Sums up the weights\n",
    "- Applies the heaviside activation function, resulting in 0 or 1\n",
    "- That's it!\n",
    "\n",
    "Examples of perceptron code: and-gate-perceptron.py / or-gate-perceptrain-remake.py"
   ]
  },
  {
   "cell_type": "markdown",
   "source": [
    "### Data Loaders\n",
    "As data scientists, funnily enough we will be working with data. Being able to control that data as needed can be a very useful skill to have!<br>\n",
    "One method of getting our data into a useful form is data loaders.<br>\n",
    "torch.util.data.DataLoader is an alright one, but a far more powerful tool is creating a custom data loader that suits the specific needs of the task at hand.<br>\n",
    "```python\n",
    "class CustomDataset(Dataset <-- This might be optional):\n",
    "    def __init__(self, anything_this_needs):\n",
    "        # custom preprocessing here\n",
    "    def __len__(self):\n",
    "        # Can return the size of the dataset\n",
    "    def __get_item__(self, index):\n",
    "        # Allows us to access specific samples as we need\n",
    "```\n",
    "\n"
   ],
   "metadata": {
    "collapsed": false,
    "pycharm": {
     "name": "#%% md\n"
    }
   }
  }
 ],
 "metadata": {
  "kernelspec": {
   "display_name": "Python 3",
   "language": "python",
   "name": "python3"
  },
  "language_info": {
   "codemirror_mode": {
    "name": "ipython",
    "version": 2
   },
   "file_extension": ".py",
   "mimetype": "text/x-python",
   "name": "python",
   "nbconvert_exporter": "python",
   "pygments_lexer": "ipython2",
   "version": "2.7.6"
  }
 },
 "nbformat": 4,
 "nbformat_minor": 0
}