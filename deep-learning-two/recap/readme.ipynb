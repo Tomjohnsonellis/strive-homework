{
 "cells": [
  {
   "cell_type": "markdown",
   "source": [
    "# Deep learning Recap\n",
    "We have covered quite a few topics in this module, this notebook will provide a recap of the concepts, potential use cases, code to reference, and key things to remember.<br>\n",
    "The topics covered were:\n"
   ],
   "metadata": {}
  },
  {
   "cell_type": "markdown",
   "source": [
    "### CONCEPT\n",
    "<br>***What is it?:***   DEFINITION_AND_EXPLANATION\n",
    "<br>***Why use it?:***   WHAT_DOES_IT_DO?_WHAT_ADVANTAGES_DOES_IT_PROVIDE?_WHAT_PROBLEM_DOES_IT_SOLVE?\n",
    "<br>***When to use it?:*** SITUATIONS_WHERE_IT_WOULD_BE_EFFECTIVE\n",
    "<br>***How to use it?:***\n",
    "```python\n",
    "CODE_EXAMPLE\n",
    "```"
   ],
   "metadata": {}
  },
  {
   "cell_type": "markdown",
   "source": [
    "### Perceptron\n",
    "<br>***What is it?:***   A simple type of neural network, used for simple \"Yes/No\" problems.\n",
    "<br>***Why use it?:***   It has a (relatively) simple architecture, it's a good tool for understanding the flow of a typical neural network. However, it is rather primitive compared to other networks we have available.\n",
    "<br>***When to use it?:*** If you are trying to answer the question \"Is this <X>? Yes or No\" then a perceptron will be helpful - you can also add them to the end of more complex networks!\n",
    "<br>***How to use it?:*** See [AND Gate](https://github.com/Tomjohnsonellis/strive-work/blob/main/deep-learning-two/and-gate-perceptron.py) / [OR Gate](https://github.com/Tomjohnsonellis/strive-work/blob/main/deep-learning-two/or-gate-perceptron-remake.py) for a coding walkthrough.\n",
    "![Perceptron](assets/perceptron.png)\n"
   ],
   "metadata": {}
  },
  {
   "cell_type": "markdown",
   "source": [
    "### Validating Model Accuracy\n",
    "<br>***What is it?:***   Accuracy of a model is how... accurate it is! Validation accuracy is found by testing the model on data it hasn't seen before.\n",
    "<br>***Why use it?:***   You will want to know your model's accuracy on new data practically every time you are working with one, if a model can't handle new information, it's not useful. A model scoring 100% on the training data but 50% on real data is probably overfitting to the data.\n",
    "<br>![Overfitting](assets/overfitting.png)\n",
    "<br>***When to use it?:*** Ideally, time and resources not being an issue, you would want to validate your model as you train it, perhaps every epoch! How the model performs on training data isn't nearly as importing as how it performs during validation. \n",
    "<br>***How to use it?:*** Here's a way to calculate the accuracy for some multi-label classification problem.\n",
    "```python\n",
    "# We have a 4 class classification problem, let's say Is this a Cat, Dog, Bird or Spider?\n",
    "# Our model returns some number of probability predictions, the same number as images we give it.\n",
    "# E.g. [0.2, 0.1, 0.05, 0.65], [0.85, 0.05, 0.05, 0.05] | Spider, Cat\n",
    "# First we will want to get the highest probability and what index number it's in (That will also be the class index)\n",
    "top_probability, top_class = that_network_output.topk(1, dim=1)\n",
    "# We can now compare if the model's top class is the same as the actual label...\n",
    "correct_predictions = top_class == actual_labels\n",
    "# The above will give us a tensor of 1/0 or True/False for the predictions being correct\n",
    "# Math wise, we can just use a .mean() to find the accuracy\n",
    "# We do need to change the tensor's type though! Currently the tensor has a datatype of bool (Boolean), useful for efficient memory usage but not for our purposes. We will change it to float.\n",
    "model_accuracy = correct_predictions.float().mean()\n",
    "# Last step, 'model_accuracy' is a tensor containing the value, so to get the actual value we use:\n",
    "model_accuracy.item()\n",
    "```\n",
    "And that's all you need to calculate an accuracy!\n",
    "Oh, remember to use torch.no_grad() when you do this, no need to calculate gradients while validating\n",
    "\n",
    "\n",
    "#### Bonus: Missclassified items\n",
    "```\n",
    "# If you need the indexes of incorrect guesses (perhaps for model analysis, maybe it has trouble with a particular class) you can do that by:\n",
    "misclassified = [\n",
    "    index for index,is_correct in enumerate(correct_model_classifications)\n",
    "    if is_correct.item() is False\n",
    "  ]\n",
    "# Looks long, it's just a list comprehension that gives you the indexes where the correct predictions tensor is zero\n",
    "```"
   ],
   "metadata": {}
  },
  {
   "cell_type": "markdown",
   "source": [
    "### Data Loaders\n",
    "<br>***What is it?:***   Typically an OOP Class which handles things like batch creation, preprocessing of data, anything like \"Give me only prices below <x>\", some function that helps us get the data we want for some network.\n",
    "<br>***Why use it?:***   As data scientists, funnily enough we will be working with data. Being able to control that data as needed can be a very useful skill to have! In addition to doing exactly what we want, making our own data loader will also save us time in the long run and make us understand and think about the data we are working with.\n",
    "<br>***When to use it?:*** We may not be happy with pytorch's default data loader and want to use some new technique that isn't yet widely adopted, or perhaps our data is in a really weird form. When we need specific things or intend to toy with different subsets of data, probably a good idea to create your own loader.\n",
    "<br>***How to use it?:*** See [custom-dataloader.py](https://github.com/Tomjohnsonellis/strive-work/blob/main/deep-learning-two/custom-dataloader.py) for an explanation."
   ],
   "metadata": {}
  },
  {
   "cell_type": "markdown",
   "source": [],
   "metadata": {}
  }
 ],
 "metadata": {
  "orig_nbformat": 4,
  "language_info": {
   "name": "python",
   "version": "3.8.11",
   "mimetype": "text/x-python",
   "codemirror_mode": {
    "name": "ipython",
    "version": 3
   },
   "pygments_lexer": "ipython3",
   "nbconvert_exporter": "python",
   "file_extension": ".py"
  },
  "kernelspec": {
   "name": "python3",
   "display_name": "Python 3.8.11 64-bit ('poggers': conda)"
  },
  "interpreter": {
   "hash": "f80c954d01f95c2ad67b8d0a560a05c6c6b2e66af80807006ce2befdd416022b"
  }
 },
 "nbformat": 4,
 "nbformat_minor": 2
}