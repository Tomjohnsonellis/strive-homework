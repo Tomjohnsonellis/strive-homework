{
 "cells": [
  {
   "cell_type": "markdown",
   "source": [
    "# Deep learning Recap\n",
    "We have covered quite a few topics in this module, this notebook will provide a recap of the concepts, potential use cases, code to reference, and key things to remember.<br>\n",
    "The topics covered were:\n"
   ],
   "metadata": {}
  },
  {
   "cell_type": "markdown",
   "source": [
    "### CONCEPT\n",
    "<br>***What is it?:***   DEFINITION_AND_EXPLANATION\n",
    "<br>***Why use it?:***   WHAT_DOES_IT_DO?_WHAT_ADVANTAGES_DOES_IT_PROVIDE?_WHAT_PROBLEM_DOES_IT_SOLVE?\n",
    "<br>***When to use it?:*** SITUATIONS_WHERE_IT_WOULD_BE_EFFECTIVE\n",
    "<br>***How to use it?:***\n",
    "```python\n",
    "CODE_EXAMPLE\n",
    "```"
   ],
   "metadata": {}
  },
  {
   "cell_type": "markdown",
   "source": [
    "### Perceptron\n",
    "<br>***What is it?:***   A simple type of neural network, used for simple \"Yes/No\" problems\n",
    "<br>***Why use it?:***   It has a (relatively) simple architecture, it's a good tool for understanding the flow of a typical neural network. However, it is rather primitive compared to other networks we have available.\n",
    "<br>***When to use it?:*** If you are trying to answer the question \"Is this <X>? Yes or No\" then a perceptron will be helpful - you can also add them to the end of more complex networks!\n",
    "<br>***How to use it?:*** See [AND Gate](https://github.com/Tomjohnsonellis/strive-work/blob/main/deep-learning-two/and-gate-perceptron.py) / [OR Gate](https://github.com/Tomjohnsonellis/strive-work/blob/main/deep-learning-two/or-gate-perceptron-remake.py) for a coding walkthrough.\n",
    "![Perceptron](assets/perceptron.png)\n"
   ],
   "metadata": {}
  }
 ],
 "metadata": {
  "orig_nbformat": 4,
  "language_info": {
   "name": "python",
   "version": "3.8.11",
   "mimetype": "text/x-python",
   "codemirror_mode": {
    "name": "ipython",
    "version": 3
   },
   "pygments_lexer": "ipython3",
   "nbconvert_exporter": "python",
   "file_extension": ".py"
  },
  "kernelspec": {
   "name": "python3",
   "display_name": "Python 3.8.11 64-bit ('poggers': conda)"
  },
  "interpreter": {
   "hash": "f80c954d01f95c2ad67b8d0a560a05c6c6b2e66af80807006ce2befdd416022b"
  }
 },
 "nbformat": 4,
 "nbformat_minor": 2
}