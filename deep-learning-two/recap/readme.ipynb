{
 "cells": [
  {
   "cell_type": "markdown",
   "source": [
    "# Deep learning Recap\n",
    "We have covered quite a few topics in this module, this notebook will provide a recap of the concepts, potential use cases, code to reference, and key things to remember.<br>\n",
    "The topics covered were:\n"
   ],
   "metadata": {}
  },
  {
   "cell_type": "markdown",
   "source": [
    "### CONCEPT\n",
    "<br>***What is it?:***   DEFINITION_AND_EXPLANATION\n",
    "<br>***Why use it?:***   WHAT_DOES_IT_DO?_WHAT_ADVANTAGES_DOES_IT_PROVIDE?_WHAT_PROBLEM_DOES_IT_SOLVE?\n",
    "<br>***When to use it?:*** SITUATIONS_WHERE_IT_WOULD_BE_EFFECTIVE\n",
    "<br>***How to use it?:***\n",
    "```python\n",
    "CODE_EXAMPLE\n",
    "```"
   ],
   "metadata": {}
  },
  {
   "cell_type": "code",
   "execution_count": null,
   "source": [
    "### CONCEPT\n",
    "<br>***What is it?:***   DEFINITION_AND_EXPLANATION\n",
    "<br>***Why use it?:***   WHAT_DOES_IT_DO?_WHAT_ADVANTAGES_DOES_IT_PROVIDE?_WHAT_PROBLEM_DOES_IT_SOLVE?\n",
    "<br>***When to use it?:*** SITUATIONS_WHERE_IT_WOULD_BE_EFFECTIVE\n",
    "<br>***How to use it?:***\n",
    "```python\n",
    "CODE_EXAMPLE\n",
    "```"
   ],
   "outputs": [],
   "metadata": {}
  }
 ],
 "metadata": {
  "orig_nbformat": 4,
  "language_info": {
   "name": "python"
  }
 },
 "nbformat": 4,
 "nbformat_minor": 2
}