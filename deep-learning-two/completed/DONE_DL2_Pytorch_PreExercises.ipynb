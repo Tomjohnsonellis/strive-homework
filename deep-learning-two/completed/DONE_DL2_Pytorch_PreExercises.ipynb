{
 "cells": [
  {
   "cell_type": "code",
   "execution_count": null,
   "id": "common-daisy",
   "metadata": {},
   "outputs": [],
   "source": [
    "# Install torch and torchvision on your computer\n",
    "# It's convenient to create a virtual env for that"
   ]
  },
  {
   "cell_type": "code",
   "execution_count": 2,
   "id": "romance-document",
   "metadata": {
    "ExecuteTime": {
     "end_time": "2021-05-26T05:44:46.718547Z",
     "start_time": "2021-05-26T05:44:44.015035Z"
    }
   },
   "outputs": [],
   "source": [
    "import torch\n",
    "import torch.nn as nn\n",
    "import numpy as np"
   ]
  },
  {
   "cell_type": "code",
   "execution_count": 4,
   "id": "younger-champagne",
   "metadata": {
    "ExecuteTime": {
     "end_time": "2021-05-26T05:55:09.345568Z",
     "start_time": "2021-05-26T05:55:09.326608Z"
    }
   },
   "outputs": [
    {
     "data": {
      "text/plain": "<torch._C.Generator at 0x1558cf3ce30>"
     },
     "execution_count": 4,
     "metadata": {},
     "output_type": "execute_result"
    }
   ],
   "source": [
    "# set the torch manual seed to 42\n",
    "torch.manual_seed(42)"
   ]
  },
  {
   "cell_type": "code",
   "execution_count": 11,
   "id": "informative-hammer",
   "metadata": {
    "ExecuteTime": {
     "end_time": "2021-05-26T05:53:21.990528Z",
     "start_time": "2021-05-26T05:53:21.982001Z"
    }
   },
   "outputs": [
    {
     "data": {
      "text/plain": "torch.Size([5])"
     },
     "execution_count": 11,
     "metadata": {},
     "output_type": "execute_result"
    }
   ],
   "source": [
    "# Create a tensor of shape (5,) and store in the features variable\n",
    "features = torch.ones(size=[5])\n",
    "features.size()"
   ]
  },
  {
   "cell_type": "code",
   "execution_count": 14,
   "id": "piano-breach",
   "metadata": {
    "ExecuteTime": {
     "end_time": "2021-05-26T05:53:21.843474Z",
     "start_time": "2021-05-26T05:53:21.840266Z"
    }
   },
   "outputs": [
    {
     "data": {
      "text/plain": "tensor([0.6009, 0.2566, 0.7936, 0.9408, 0.1332])"
     },
     "execution_count": 14,
     "metadata": {},
     "output_type": "execute_result"
    }
   ],
   "source": [
    "# Generate a tensor called weights with the same shape of features\n",
    "# Hint: search torch.rand_like\n",
    "weights = torch.rand_like(features)\n",
    "weights"
   ]
  },
  {
   "cell_type": "code",
   "execution_count": 13,
   "id": "offensive-interpretation",
   "metadata": {
    "ExecuteTime": {
     "end_time": "2021-05-26T06:03:23.249934Z",
     "start_time": "2021-05-26T06:03:23.232413Z"
    }
   },
   "outputs": [],
   "source": [
    "assert weights.shape == features.shape\n"
   ]
  },
  {
   "cell_type": "code",
   "execution_count": 15,
   "id": "collected-measure",
   "metadata": {
    "ExecuteTime": {
     "end_time": "2021-05-26T05:53:22.688098Z",
     "start_time": "2021-05-26T05:53:22.685070Z"
    }
   },
   "outputs": [],
   "source": [
    "bias = torch.randn((1,1))"
   ]
  },
  {
   "cell_type": "code",
   "execution_count": 18,
   "id": "informal-enclosure",
   "metadata": {
    "ExecuteTime": {
     "end_time": "2021-05-26T05:53:22.837840Z",
     "start_time": "2021-05-26T05:53:22.832752Z"
    }
   },
   "outputs": [
    {
     "data": {
      "text/plain": "tensor([[-2.4661]])"
     },
     "execution_count": 18,
     "metadata": {},
     "output_type": "execute_result"
    }
   ],
   "source": [
    "bias"
   ]
  },
  {
   "cell_type": "code",
   "execution_count": 19,
   "id": "cultural-freeze",
   "metadata": {
    "ExecuteTime": {
     "end_time": "2021-05-26T05:53:22.958309Z",
     "start_time": "2021-05-26T05:53:22.953589Z"
    }
   },
   "outputs": [],
   "source": [
    "# Implement the sigmoid function by using torch\n",
    "def sigmoid(x):\n",
    "    return nn.Sigmoid(x)"
   ]
  },
  {
   "cell_type": "code",
   "execution_count": 20,
   "id": "caroline-assignment",
   "metadata": {
    "ExecuteTime": {
     "end_time": "2021-05-26T06:07:15.298988Z",
     "start_time": "2021-05-26T06:07:15.293636Z"
    }
   },
   "outputs": [],
   "source": [
    "# Use torch.dot function for multiplying weights and features and\n",
    "# add the bias to the result. Store the result into the score variable\n",
    "\n",
    "score = torch.dot(weights, features) + bias\n",
    "\n"
   ]
  },
  {
   "cell_type": "code",
   "execution_count": 21,
   "id": "complicated-radar",
   "metadata": {
    "ExecuteTime": {
     "end_time": "2021-05-26T06:07:54.742774Z",
     "start_time": "2021-05-26T06:07:54.738740Z"
    }
   },
   "outputs": [],
   "source": [
    "assert score.shape == (1,1)"
   ]
  },
  {
   "cell_type": "code",
   "execution_count": 46,
   "id": "saved-martin",
   "metadata": {
    "ExecuteTime": {
     "end_time": "2021-05-26T06:09:09.770708Z",
     "start_time": "2021-05-26T06:09:09.764317Z"
    }
   },
   "outputs": [
    {
     "data": {
      "text/plain": [
       "tensor([[0.6683]])"
      ]
     },
     "execution_count": 46,
     "metadata": {},
     "output_type": "execute_result"
    }
   ],
   "source": [
    "# Use the defined sigmoid function to activate the score.\n",
    "# Store the result in the prob variable\n",
    "\n",
    "prob = sigmoid(score)\n"
   ]
  },
  {
   "cell_type": "code",
   "execution_count": 47,
   "id": "portuguese-nursery",
   "metadata": {
    "ExecuteTime": {
     "end_time": "2021-05-26T06:09:20.343108Z",
     "start_time": "2021-05-26T06:09:20.339958Z"
    }
   },
   "outputs": [],
   "source": [
    "assert prob.shape == (1,1)"
   ]
  },
  {
   "cell_type": "code",
   "execution_count": 26,
   "id": "latter-firewall",
   "metadata": {
    "ExecuteTime": {
     "end_time": "2021-05-26T06:11:19.575519Z",
     "start_time": "2021-05-26T06:11:19.568376Z"
    }
   },
   "outputs": [],
   "source": [
    "# Convert the a numpy array into a torch tensor\n",
    "# Store it in the b variable\n",
    "a = np.random.rand(4, 3)\n",
    "b = torch.from_numpy(a)"
   ]
  },
  {
   "cell_type": "code",
   "execution_count": 23,
   "id": "historical-passenger",
   "metadata": {
    "ExecuteTime": {
     "end_time": "2021-05-26T06:12:33.848173Z",
     "start_time": "2021-05-26T06:12:33.845007Z"
    }
   },
   "outputs": [],
   "source": [
    "assert b.shape == (4,3) "
   ]
  },
  {
   "cell_type": "code",
   "execution_count": 32,
   "id": "medieval-cabin",
   "metadata": {
    "ExecuteTime": {
     "end_time": "2021-05-26T06:15:11.278855Z",
     "start_time": "2021-05-26T06:15:11.274384Z"
    }
   },
   "outputs": [
    {
     "data": {
      "text/plain": "numpy.ndarray"
     },
     "execution_count": 32,
     "metadata": {},
     "output_type": "execute_result"
    }
   ],
   "source": [
    "# Do the opposite now. From the given tensor a convert it a numpy array\n",
    "# Store the result in b\n",
    "a = torch.tensor([1,2])\n",
    "b = np.array(a)\n",
    "type(b)"
   ]
  },
  {
   "cell_type": "code",
   "execution_count": 29,
   "id": "solar-conspiracy",
   "metadata": {
    "ExecuteTime": {
     "end_time": "2021-05-26T06:15:23.003363Z",
     "start_time": "2021-05-26T06:15:22.999824Z"
    }
   },
   "outputs": [],
   "source": [
    "assert type(b) == np.ndarray"
   ]
  },
  {
   "cell_type": "code",
   "execution_count": 35,
   "id": "unsigned-defeat",
   "metadata": {
    "ExecuteTime": {
     "end_time": "2021-05-26T06:38:16.934705Z",
     "start_time": "2021-05-26T06:38:16.929106Z"
    }
   },
   "outputs": [
    {
     "data": {
      "text/plain": "torch.Size([10, 10])"
     },
     "execution_count": 35,
     "metadata": {},
     "output_type": "execute_result"
    }
   ],
   "source": [
    "# Reshape the given v tensor in a 10x10 tensor.\n",
    "# Store the result in v_reshaped\n",
    "# You can use various methods: reshape, view, resize... Check all of them\n",
    "\n",
    "v = torch.randn((100,1))\n",
    "v_reshaped = v.view((10,10))\n",
    "v_reshaped.size()\n"
   ]
  },
  {
   "cell_type": "code",
   "execution_count": 37,
   "id": "violent-kuwait",
   "metadata": {},
   "outputs": [
    {
     "data": {
      "text/plain": "torch.Size([16, 32, 32, 3])"
     },
     "execution_count": 37,
     "metadata": {},
     "output_type": "execute_result"
    }
   ],
   "source": [
    "# create a tensor with shape (16, 32, 32, 3) containing only ones\n",
    "# Store it in the ones variable\n",
    "ones = torch.ones((16,32,32,3))\n",
    "ones.shape"
   ]
  },
  {
   "cell_type": "code",
   "execution_count": null,
   "id": "otherwise-tourism",
   "metadata": {},
   "outputs": [],
   "source": [
    "assert ones.shape == (16, 32, 32, 3)"
   ]
  },
  {
   "cell_type": "code",
   "execution_count": 46,
   "id": "united-nebraska",
   "metadata": {
    "ExecuteTime": {
     "end_time": "2021-05-26T06:50:29.092598Z",
     "start_time": "2021-05-26T06:50:29.067520Z"
    }
   },
   "outputs": [
    {
     "data": {
      "text/plain": "<matplotlib.collections.PathCollection at 0x155a4cb5d00>"
     },
     "execution_count": 46,
     "metadata": {},
     "output_type": "execute_result"
    },
    {
     "data": {
      "text/plain": "<Figure size 432x288 with 1 Axes>",
      "image/png": "[encoded data removed]"
     },
     "metadata": {
      "needs_background": "light"
     },
     "output_type": "display_data"
    }
   ],
   "source": [
    "import pandas as pd\n",
    "import matplotlib.pyplot as plt\n",
    "# load and plot the data using scatterplot with different colors for labels\n",
    "data = pd.read_csv('data.csv', header=None)\n",
    "plt.scatter(data[0], data[1], c=data[2])\n"
   ]
  },
  {
   "cell_type": "code",
   "execution_count": 11,
   "id": "increased-schedule",
   "metadata": {
    "ExecuteTime": {
     "end_time": "2021-05-26T06:52:46.863528Z",
     "start_time": "2021-05-26T06:52:46.755851Z"
    }
   },
   "outputs": [
    {
     "data": {
      "image/png": "[encoded data removed]",
      "text/plain": [
       "<Figure size 432x288 with 1 Axes>"
      ]
     },
     "metadata": {
      "needs_background": "light"
     },
     "output_type": "display_data"
    }
   ],
   "source": []
  },
  {
   "cell_type": "code",
   "execution_count": null,
   "id": "circular-surgery",
   "metadata": {},
   "outputs": [],
   "source": []
  }
 ],
 "metadata": {
  "kernelspec": {
   "display_name": "Python 3",
   "language": "python",
   "name": "python3"
  },
  "language_info": {
   "codemirror_mode": {
    "name": "ipython",
    "version": 3
   },
   "file_extension": ".py",
   "mimetype": "text/x-python",
   "name": "python",
   "nbconvert_exporter": "python",
   "pygments_lexer": "ipython3",
   "version": "3.9.1"
  },
  "varInspector": {
   "cols": {
    "lenName": 16,
    "lenType": 16,
    "lenVar": 40
   },
   "kernels_config": {
    "python": {
     "delete_cmd_postfix": "",
     "delete_cmd_prefix": "del ",
     "library": "var_list.py",
     "varRefreshCmd": "print(var_dic_list())"
    },
    "r": {
     "delete_cmd_postfix": ") ",
     "delete_cmd_prefix": "rm(",
     "library": "var_list.r",
     "varRefreshCmd": "cat(var_dic_list()) "
    }
   },
   "types_to_exclude": [
    "module",
    "function",
    "builtin_function_or_method",
    "instance",
    "_Feature"
   ],
   "window_display": false
  }
 },
 "nbformat": 4,
 "nbformat_minor": 5
}