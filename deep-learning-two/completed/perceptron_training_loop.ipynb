{
 "cells": [
  {
   "cell_type": "markdown",
   "id": "fdd6c8a7",
   "metadata": {},
   "source": [
    "https://www.youtube.com/watch?v=V9fEwzshzhA&feature=emb_title"
   ]
  },
  {
   "cell_type": "code",
   "execution_count": 12,
   "id": "tamil-knight",
   "metadata": {
    "ExecuteTime": {
     "end_time": "2021-05-26T12:27:39.273838Z",
     "start_time": "2021-05-26T12:27:38.729599Z"
    }
   },
   "outputs": [],
   "source": [
    "import matplotlib.pyplot as plt\n",
    "import numpy as np\n",
    "import pandas as pd\n"
   ]
  },
  {
   "cell_type": "code",
   "execution_count": 13,
   "id": "social-hygiene",
   "metadata": {
    "ExecuteTime": {
     "end_time": "2021-05-26T12:27:59.434011Z",
     "start_time": "2021-05-26T12:27:59.412650Z"
    }
   },
   "outputs": [],
   "source": [
    "data = pd.read_csv(\"data.csv\", header=None)"
   ]
  },
  {
   "cell_type": "code",
   "execution_count": 14,
   "id": "hawaiian-response",
   "metadata": {
    "ExecuteTime": {
     "end_time": "2021-05-26T12:28:01.281235Z",
     "start_time": "2021-05-26T12:28:01.255495Z"
    }
   },
   "outputs": [
    {
     "data": {
      "text/plain": "          0         1  2\n0   0.78051 -0.063669  1\n1   0.28774  0.291390  1\n2   0.40714  0.178780  1\n3   0.29230  0.421700  1\n4   0.50922  0.352560  1\n..      ...       ... ..\n95  0.77029  0.701400  0\n96  0.73156  0.717820  0\n97  0.44556  0.579910  0\n98  0.85275  0.859870  0\n99  0.51912  0.623590  0\n\n[100 rows x 3 columns]",
      "text/html": "<div>\n<style scoped>\n    .dataframe tbody tr th:only-of-type {\n        vertical-align: middle;\n    }\n\n    .dataframe tbody tr th {\n        vertical-align: top;\n    }\n\n    .dataframe thead th {\n        text-align: right;\n    }\n</style>\n<table border=\"1\" class=\"dataframe\">\n  <thead>\n    <tr style=\"text-align: right;\">\n      <th></th>\n      <th>0</th>\n      <th>1</th>\n      <th>2</th>\n    </tr>\n  </thead>\n  <tbody>\n    <tr>\n      <th>0</th>\n      <td>0.78051</td>\n      <td>-0.063669</td>\n      <td>1</td>\n    </tr>\n    <tr>\n      <th>1</th>\n      <td>0.28774</td>\n      <td>0.291390</td>\n      <td>1</td>\n    </tr>\n    <tr>\n      <th>2</th>\n      <td>0.40714</td>\n      <td>0.178780</td>\n      <td>1</td>\n    </tr>\n    <tr>\n      <th>3</th>\n      <td>0.29230</td>\n      <td>0.421700</td>\n      <td>1</td>\n    </tr>\n    <tr>\n      <th>4</th>\n      <td>0.50922</td>\n      <td>0.352560</td>\n      <td>1</td>\n    </tr>\n    <tr>\n      <th>...</th>\n      <td>...</td>\n      <td>...</td>\n      <td>...</td>\n    </tr>\n    <tr>\n      <th>95</th>\n      <td>0.77029</td>\n      <td>0.701400</td>\n      <td>0</td>\n    </tr>\n    <tr>\n      <th>96</th>\n      <td>0.73156</td>\n      <td>0.717820</td>\n      <td>0</td>\n    </tr>\n    <tr>\n      <th>97</th>\n      <td>0.44556</td>\n      <td>0.579910</td>\n      <td>0</td>\n    </tr>\n    <tr>\n      <th>98</th>\n      <td>0.85275</td>\n      <td>0.859870</td>\n      <td>0</td>\n    </tr>\n    <tr>\n      <th>99</th>\n      <td>0.51912</td>\n      <td>0.623590</td>\n      <td>0</td>\n    </tr>\n  </tbody>\n</table>\n<p>100 rows × 3 columns</p>\n</div>"
     },
     "execution_count": 14,
     "metadata": {},
     "output_type": "execute_result"
    }
   ],
   "source": [
    "data"
   ]
  },
  {
   "cell_type": "code",
   "execution_count": 15,
   "id": "desirable-hartford",
   "metadata": {
    "ExecuteTime": {
     "end_time": "2021-05-26T12:28:29.194826Z",
     "start_time": "2021-05-26T12:28:29.182937Z"
    }
   },
   "outputs": [],
   "source": [
    "X = np.array(data[[0,1]])"
   ]
  },
  {
   "cell_type": "code",
   "execution_count": 16,
   "id": "improving-genome",
   "metadata": {
    "ExecuteTime": {
     "end_time": "2021-05-26T12:28:37.038894Z",
     "start_time": "2021-05-26T12:28:37.034486Z"
    }
   },
   "outputs": [],
   "source": [
    "y = np.array(data[2])"
   ]
  },
  {
   "cell_type": "code",
   "execution_count": 17,
   "id": "continued-reaction",
   "metadata": {
    "ExecuteTime": {
     "end_time": "2021-05-26T12:29:25.233059Z",
     "start_time": "2021-05-26T12:29:25.091342Z"
    }
   },
   "outputs": [
    {
     "data": {
      "text/plain": "<matplotlib.collections.PathCollection at 0x1981d799430>"
     },
     "execution_count": 17,
     "metadata": {},
     "output_type": "execute_result"
    },
    {
     "data": {
      "text/plain": "<Figure size 432x288 with 1 Axes>",
      "image/png": "[encoded data removed]"
     },
     "metadata": {
      "needs_background": "light"
     },
     "output_type": "display_data"
    }
   ],
   "source": [
    "plt.scatter(X[:,0], X[:,1], c=y)"
   ]
  },
  {
   "cell_type": "code",
   "execution_count": 18,
   "id": "signal-target",
   "metadata": {
    "ExecuteTime": {
     "end_time": "2021-05-26T12:29:57.439340Z",
     "start_time": "2021-05-26T12:29:57.433683Z"
    }
   },
   "outputs": [],
   "source": [
    "def sigmoid(x):\n",
    "    return 1/(1+np.exp(-x))"
   ]
  },
  {
   "cell_type": "code",
   "execution_count": 19,
   "id": "internal-permit",
   "metadata": {},
   "outputs": [],
   "source": [
    "#Wx + b"
   ]
  },
  {
   "cell_type": "code",
   "execution_count": 20,
   "id": "whole-breathing",
   "metadata": {
    "ExecuteTime": {
     "end_time": "2021-05-26T12:47:33.831293Z",
     "start_time": "2021-05-26T12:47:33.826935Z"
    }
   },
   "outputs": [],
   "source": [
    "# Probability and score\n",
    "def output_formula(features, weights, bias):\n",
    "    return sigmoid(np.dot(features,weights)+bias)"
   ]
  },
  {
   "cell_type": "code",
   "execution_count": 21,
   "id": "established-regression",
   "metadata": {
    "ExecuteTime": {
     "end_time": "2021-05-26T12:47:35.083096Z",
     "start_time": "2021-05-26T12:47:35.077873Z"
    }
   },
   "outputs": [],
   "source": [
    "# Cross entropy formula\n",
    "def error_formula(y, output):\n",
    "    return -y*np.log(output) - (1-y)*np.log(1-output)"
   ]
  },
  {
   "cell_type": "markdown",
   "id": "north-macedonia",
   "metadata": {},
   "source": [
    "Loss Function: is the general name for the error functions.\n",
    "In this binary classification problem, and many others, we use Cross Entropy as Loss function. \n",
    "\n",
    "In general, a loss is something that you want to minimize."
   ]
  },
  {
   "cell_type": "code",
   "execution_count": 22,
   "id": "ongoing-aruba",
   "metadata": {
    "ExecuteTime": {
     "end_time": "2021-05-26T12:56:24.477227Z",
     "start_time": "2021-05-26T12:56:24.472084Z"
    }
   },
   "outputs": [],
   "source": [
    "def update_weights(x, y, weights, bias, learning_rate):\n",
    "    output = output_formula(x, weights, bias)\n",
    "    d_error = y - output\n",
    "    weights = weights + learning_rate*d_error*x\n",
    "    bias = bias + learning_rate*d_error\n",
    "    return weights, bias"
   ]
  },
  {
   "cell_type": "code",
   "execution_count": 23,
   "id": "tired-sociology",
   "metadata": {
    "ExecuteTime": {
     "end_time": "2021-05-26T12:47:38.686007Z",
     "start_time": "2021-05-26T12:47:38.680320Z"
    }
   },
   "outputs": [
    {
     "data": {
      "text/plain": "(100, 2)"
     },
     "execution_count": 23,
     "metadata": {},
     "output_type": "execute_result"
    }
   ],
   "source": [
    "X.shape\n"
   ]
  },
  {
   "cell_type": "code",
   "execution_count": 24,
   "id": "collective-somerset",
   "metadata": {
    "ExecuteTime": {
     "end_time": "2021-05-26T12:47:38.828909Z",
     "start_time": "2021-05-26T12:47:38.823420Z"
    }
   },
   "outputs": [],
   "source": [
    "weights = np.random.normal(size=X.shape[1])\n",
    "bias = 0\n",
    "out = output_formula(X, weights, bias)\n",
    "loss = error_formula(y, out)"
   ]
  },
  {
   "cell_type": "code",
   "execution_count": 25,
   "id": "toxic-stereo",
   "metadata": {
    "ExecuteTime": {
     "end_time": "2021-05-26T12:53:25.918805Z",
     "start_time": "2021-05-26T12:53:25.910656Z"
    }
   },
   "outputs": [
    {
     "data": {
      "text/plain": "0.05"
     },
     "execution_count": 25,
     "metadata": {},
     "output_type": "execute_result"
    }
   ],
   "source": [
    "np.mean(out > 0.5)"
   ]
  },
  {
   "cell_type": "code",
   "execution_count": 26,
   "id": "primary-sheffield",
   "metadata": {
    "ExecuteTime": {
     "end_time": "2021-05-26T13:04:01.659693Z",
     "start_time": "2021-05-26T13:04:01.650617Z"
    },
    "scrolled": true
   },
   "outputs": [
    {
     "data": {
      "text/plain": "array([0.67553553, 0.41868713, 0.4948902 , 0.36070851, 0.43273713,\n       0.50315966, 0.39757506, 0.43812904, 0.36497894, 0.42775808,\n       0.43708706, 0.3679151 , 0.35227545, 0.39932317, 0.37562766,\n       0.48719763, 0.49529405, 0.4452144 , 0.3697683 , 0.38059729,\n       0.39033466, 0.32736734, 0.38383893, 0.37045526, 0.45990042,\n       0.25154318, 0.27457607, 0.40160206, 0.5385567 , 0.46934875,\n       0.36632327, 0.5619711 , 0.29284094, 0.33108924, 0.3875154 ,\n       0.4075773 , 0.41134544, 0.35909391, 0.45000835, 0.47123774,\n       0.39014521, 0.31279043, 0.50599185, 0.3013221 , 0.49128669,\n       0.42740602, 0.38352959, 0.3169842 , 0.45328101, 0.42687902,\n       0.18742772, 0.3147328 , 0.35694296, 0.23646949, 0.40545677,\n       0.33723006, 0.27519085, 0.27815394, 0.38036568, 0.28964036,\n       0.34448014, 0.31184042, 0.34857233, 0.29787588, 0.3877854 ,\n       0.29111198, 0.32967198, 0.335929  , 0.48595985, 0.30232255,\n       0.21698181, 0.35108229, 0.22631068, 0.32089059, 0.36032069,\n       0.34444297, 0.37047695, 0.26083026, 0.39023006, 0.28939148,\n       0.27651137, 0.30091152, 0.29923964, 0.32473343, 0.37222821,\n       0.31103332, 0.36296364, 0.24619274, 0.34776229, 0.26170035,\n       0.21404582, 0.34372471, 0.36684061, 0.23322855, 0.30097977,\n       0.32541752, 0.31204403, 0.32021238, 0.27577302, 0.31472547])"
     },
     "execution_count": 26,
     "metadata": {},
     "output_type": "execute_result"
    }
   ],
   "source": [
    "out"
   ]
  },
  {
   "cell_type": "code",
   "execution_count": 27,
   "id": "cooperative-bowling",
   "metadata": {
    "ExecuteTime": {
     "end_time": "2021-05-26T12:54:53.430746Z",
     "start_time": "2021-05-26T12:54:53.424221Z"
    }
   },
   "outputs": [
    {
     "data": {
      "text/plain": "0.55"
     },
     "execution_count": 27,
     "metadata": {},
     "output_type": "execute_result"
    }
   ],
   "source": [
    "np.mean((out > 0.5) == y)"
   ]
  },
  {
   "cell_type": "code",
   "execution_count": 28,
   "id": "naked-praise",
   "metadata": {
    "ExecuteTime": {
     "end_time": "2021-05-26T13:02:08.940306Z",
     "start_time": "2021-05-26T13:02:07.303047Z"
    }
   },
   "outputs": [],
   "source": [
    "from sklearn.model_selection import train_test_split\n",
    "\n",
    "X_train, X_test, y_train, y_test = train_test_split(X, y, test_size=0.3, random_state=42)"
   ]
  },
  {
   "cell_type": "code",
   "execution_count": 29,
   "id": "center-transsexual",
   "metadata": {
    "ExecuteTime": {
     "end_time": "2021-05-26T13:07:53.790248Z",
     "start_time": "2021-05-26T13:07:53.776343Z"
    }
   },
   "outputs": [],
   "source": [
    "import time\n",
    "np.random.seed(42)\n",
    "\n",
    "epochs = 1000\n",
    "learning_rate = 0.01\n",
    "\n",
    "def train(train_features, train_targets, test_features, test_targets, epochs, learning_rate):\n",
    "    weights = np.random.normal(size=train_features.shape[1])\n",
    "    bias = 0\n",
    "    errors = []\n",
    "    test_errors = []\n",
    "    for epoch in range(epochs):\n",
    "        for x, y in zip(train_features, train_targets):\n",
    "            output = output_formula(x, weights, bias)\n",
    "            weights, bias = update_weights(x, y, weights, bias, learning_rate)\n",
    "        # at the end of one epoch\n",
    "        out = output_formula(train_features, weights, bias)\n",
    "        loss = np.mean(error_formula(train_targets, out))\n",
    "        errors.append(loss)\n",
    "        out_test = output_formula(test_features, weights, bias)\n",
    "        loss_test = np.mean(error_formula(test_targets, out_test))\n",
    "        test_errors.append(loss_test)\n",
    "        \n",
    "        if epoch % 10 == 0:\n",
    "            print(\"Epoch:\", epoch)\n",
    "            print(\"Train loss\", loss)\n",
    "            predictions = out > 0.5\n",
    "            accuracy = np.mean(predictions == train_targets)\n",
    "            print(\"Train Accuracy\", accuracy)\n",
    "            print(\"Test loss\", loss_test)\n",
    "            predictions = out_test > 0.5\n",
    "            accuracy = np.mean(predictions == test_targets)\n",
    "            print(\"Test Accuracy\", accuracy)\n",
    "        plt.plot(errors)\n",
    "        plt.plot(test_errors)\n",
    "        \n",
    "        \n",
    "        \n",
    "        \n",
    "        "
   ]
  },
  {
   "cell_type": "code",
   "execution_count": 30,
   "id": "adult-little",
   "metadata": {
    "ExecuteTime": {
     "end_time": "2021-05-26T13:07:57.101600Z",
     "start_time": "2021-05-26T13:07:54.426838Z"
    }
   },
   "outputs": [
    {
     "name": "stdout",
     "output_type": "stream",
     "text": [
      "Epoch: 0\n",
      "Train loss 0.7117483654726598\n",
      "Train Accuracy 0.3\n",
      "Test loss 0.7023157933365239\n",
      "Test Accuracy 0.3333333333333333\n",
      "Epoch: 10\n",
      "Train loss 0.6445552413143899\n",
      "Train Accuracy 0.5428571428571428\n",
      "Test loss 0.6430783262870947\n",
      "Test Accuracy 0.5333333333333333\n",
      "Epoch: 20\n",
      "Train loss 0.6026193327619113\n",
      "Train Accuracy 0.6571428571428571\n",
      "Test loss 0.5857879311488109\n",
      "Test Accuracy 0.7\n",
      "Epoch: 30\n",
      "Train loss 0.5661689745803781\n",
      "Train Accuracy 0.7285714285714285\n",
      "Test loss 0.5355808924857777\n",
      "Test Accuracy 0.7666666666666667\n",
      "Epoch: 40\n",
      "Train loss 0.5344890307069268\n",
      "Train Accuracy 0.8\n",
      "Test loss 0.4926844780546055\n",
      "Test Accuracy 0.8333333333333334\n",
      "Epoch: 50\n",
      "Train loss 0.5068603906363077\n",
      "Train Accuracy 0.8571428571428571\n",
      "Test loss 0.455948311998732\n",
      "Test Accuracy 0.9\n",
      "Epoch: 60\n",
      "Train loss 0.48265857397336703\n",
      "Train Accuracy 0.9\n",
      "Test loss 0.4243171330894691\n",
      "Test Accuracy 0.9333333333333333\n",
      "Epoch: 70\n",
      "Train loss 0.46135690060216106\n",
      "Train Accuracy 0.9285714285714286\n",
      "Test loss 0.39691477758871613\n",
      "Test Accuracy 0.9333333333333333\n",
      "Epoch: 80\n",
      "Train loss 0.442515196531258\n",
      "Train Accuracy 0.9285714285714286\n",
      "Test loss 0.37302541573640485\n",
      "Test Accuracy 0.9333333333333333\n",
      "Epoch: 90\n",
      "Train loss 0.4257670695557669\n",
      "Train Accuracy 0.9142857142857143\n",
      "Test loss 0.35206717105932206\n",
      "Test Accuracy 0.9333333333333333\n",
      "Epoch: 100\n",
      "Train loss 0.41080789353249025\n",
      "Train Accuracy 0.9142857142857143\n",
      "Test loss 0.3335674732940522\n",
      "Test Accuracy 0.9333333333333333\n",
      "Epoch: 110\n",
      "Train loss 0.3973841839837826\n",
      "Train Accuracy 0.9142857142857143\n",
      "Test loss 0.31714187451164033\n",
      "Test Accuracy 0.9666666666666667\n",
      "Epoch: 120\n",
      "Train loss 0.3852845436150023\n",
      "Train Accuracy 0.9142857142857143\n",
      "Test loss 0.3024765539488301\n",
      "Test Accuracy 0.9666666666666667\n",
      "Epoch: 130\n",
      "Train loss 0.3743321160539242\n",
      "Train Accuracy 0.9142857142857143\n",
      "Test loss 0.2893141921096142\n",
      "Test Accuracy 0.9666666666666667\n",
      "Epoch: 140\n",
      "Train loss 0.3643783811983866\n",
      "Train Accuracy 0.9142857142857143\n",
      "Test loss 0.277442709226858\n",
      "Test Accuracy 0.9666666666666667\n",
      "Epoch: 150\n",
      "Train loss 0.35529809363578274\n",
      "Train Accuracy 0.9142857142857143\n",
      "Test loss 0.2666863450472745\n",
      "Test Accuracy 0.9666666666666667\n",
      "Epoch: 160\n",
      "Train loss 0.34698517026085535\n",
      "Train Accuracy 0.9142857142857143\n",
      "Test loss 0.2568986099089495\n",
      "Test Accuracy 0.9666666666666667\n",
      "Epoch: 170\n",
      "Train loss 0.3393493538952913\n",
      "Train Accuracy 0.9142857142857143\n",
      "Test loss 0.2479567126411146\n",
      "Test Accuracy 0.9666666666666667\n",
      "Epoch: 180\n",
      "Train loss 0.33231350545674926\n",
      "Train Accuracy 0.9142857142857143\n",
      "Test loss 0.23975714637223355\n",
      "Test Accuracy 0.9666666666666667\n",
      "Epoch: 190\n",
      "Train loss 0.32581140264523234\n",
      "Train Accuracy 0.9142857142857143\n",
      "Test loss 0.23221217985904488\n",
      "Test Accuracy 0.9666666666666667\n",
      "Epoch: 200\n",
      "Train loss 0.31978594587260567\n",
      "Train Accuracy 0.9142857142857143\n",
      "Test loss 0.22524705699185726\n",
      "Test Accuracy 0.9666666666666667\n",
      "Epoch: 210\n",
      "Train loss 0.314187691507921\n",
      "Train Accuracy 0.9142857142857143\n",
      "Test loss 0.2187977511398799\n",
      "Test Accuracy 0.9666666666666667\n",
      "Epoch: 220\n",
      "Train loss 0.3089736484699634\n",
      "Train Accuracy 0.9142857142857143\n",
      "Test loss 0.2128091555022259\n",
      "Test Accuracy 0.9666666666666667\n",
      "Epoch: 230\n",
      "Train loss 0.3041062871234488\n",
      "Train Accuracy 0.9285714285714286\n",
      "Test loss 0.20723361737859358\n",
      "Test Accuracy 0.9666666666666667\n",
      "Epoch: 240\n",
      "Train loss 0.2995527197867848\n",
      "Train Accuracy 0.9285714285714286\n",
      "Test loss 0.202029744889166\n",
      "Test Accuracy 0.9666666666666667\n",
      "Epoch: 250\n",
      "Train loss 0.2952840203950128\n",
      "Train Accuracy 0.9285714285714286\n",
      "Test loss 0.19716143052314683\n",
      "Test Accuracy 0.9666666666666667\n",
      "Epoch: 260\n",
      "Train loss 0.2912746573907142\n",
      "Train Accuracy 0.9285714285714286\n",
      "Test loss 0.19259704807935546\n",
      "Test Accuracy 0.9666666666666667\n",
      "Epoch: 270\n",
      "Train loss 0.28750201908450973\n",
      "Train Accuracy 0.9285714285714286\n",
      "Test loss 0.18830878894160694\n",
      "Test Accuracy 0.9666666666666667\n",
      "Epoch: 280\n",
      "Train loss 0.2839460148189873\n",
      "Train Accuracy 0.9285714285714286\n",
      "Test loss 0.18427211086984513\n",
      "Test Accuracy 0.9666666666666667\n",
      "Epoch: 290\n",
      "Train loss 0.2805887385133838\n",
      "Train Accuracy 0.9285714285714286\n",
      "Test loss 0.18046527809208052\n",
      "Test Accuracy 0.9666666666666667\n",
      "Epoch: 300\n",
      "Train loss 0.2774141837419979\n",
      "Train Accuracy 0.9285714285714286\n",
      "Test loss 0.1768689758372813\n",
      "Test Accuracy 0.9666666666666667\n",
      "Epoch: 310\n",
      "Train loss 0.2744080015496608\n",
      "Train Accuracy 0.9285714285714286\n",
      "Test loss 0.17346598584765582\n",
      "Test Accuracy 0.9666666666666667\n",
      "Epoch: 320\n",
      "Train loss 0.27155729384440136\n",
      "Train Accuracy 0.9285714285714286\n",
      "Test loss 0.17024091207191577\n",
      "Test Accuracy 0.9666666666666667\n",
      "Epoch: 330\n",
      "Train loss 0.2688504365181967\n",
      "Train Accuracy 0.9285714285714286\n",
      "Test loss 0.16717994783727866\n",
      "Test Accuracy 0.9666666666666667\n",
      "Epoch: 340\n",
      "Train loss 0.2662769274998053\n",
      "Train Accuracy 0.9285714285714286\n",
      "Test loss 0.1642706774553452\n",
      "Test Accuracy 0.9666666666666667\n",
      "Epoch: 350\n",
      "Train loss 0.2638272557927163\n",
      "Train Accuracy 0.9285714285714286\n",
      "Test loss 0.16150190653324545\n",
      "Test Accuracy 0.9666666666666667\n",
      "Epoch: 360\n",
      "Train loss 0.26149278823811084\n",
      "Train Accuracy 0.9285714285714286\n",
      "Test loss 0.15886351631146461\n",
      "Test Accuracy 0.9666666666666667\n",
      "Epoch: 370\n",
      "Train loss 0.25926567130041056\n",
      "Train Accuracy 0.9285714285714286\n",
      "Test loss 0.15634633819112323\n",
      "Test Accuracy 0.9666666666666667\n",
      "Epoch: 380\n",
      "Train loss 0.25713874562734007\n",
      "Train Accuracy 0.9285714285714286\n",
      "Test loss 0.15394204529049765\n",
      "Test Accuracy 0.9666666666666667\n",
      "Epoch: 390\n",
      "Train loss 0.25510547150793594\n",
      "Train Accuracy 0.9285714285714286\n",
      "Test loss 0.15164305841774448\n",
      "Test Accuracy 0.9666666666666667\n",
      "Epoch: 400\n",
      "Train loss 0.25315986365674065\n",
      "Train Accuracy 0.9285714285714286\n",
      "Test loss 0.14944246429076957\n",
      "Test Accuracy 0.9666666666666667\n",
      "Epoch: 410\n",
      "Train loss 0.2512964340033772\n",
      "Train Accuracy 0.9285714285714286\n",
      "Test loss 0.14733394419699\n",
      "Test Accuracy 0.9666666666666667\n",
      "Epoch: 420\n",
      "Train loss 0.24951014137400798\n",
      "Train Accuracy 0.9285714285714286\n",
      "Test loss 0.1453117115816357\n",
      "Test Accuracy 0.9666666666666667\n",
      "Epoch: 430\n",
      "Train loss 0.247796347123012\n",
      "Train Accuracy 0.9285714285714286\n",
      "Test loss 0.14337045729626624\n",
      "Test Accuracy 0.9666666666666667\n",
      "Epoch: 440\n",
      "Train loss 0.2461507759161002\n",
      "Train Accuracy 0.9285714285714286\n",
      "Test loss 0.14150530143945414\n",
      "Test Accuracy 0.9666666666666667\n",
      "Epoch: 450\n",
      "Train loss 0.2445694809852786\n",
      "Train Accuracy 0.9285714285714286\n",
      "Test loss 0.13971175088726542\n",
      "Test Accuracy 0.9666666666666667\n",
      "Epoch: 460\n",
      "Train loss 0.2430488132758121\n",
      "Train Accuracy 0.9285714285714286\n",
      "Test loss 0.13798566174870816\n",
      "Test Accuracy 0.9666666666666667\n",
      "Epoch: 470\n",
      "Train loss 0.24158539398905013\n",
      "Train Accuracy 0.9285714285714286\n",
      "Test loss 0.13632320609585927\n",
      "Test Accuracy 0.9666666666666667\n",
      "Epoch: 480\n",
      "Train loss 0.24017609009545765\n",
      "Train Accuracy 0.9285714285714286\n",
      "Test loss 0.13472084241415452\n",
      "Test Accuracy 0.9666666666666667\n",
      "Epoch: 490\n",
      "Train loss 0.23881799245168048\n",
      "Train Accuracy 0.9285714285714286\n",
      "Test loss 0.13317528929854833\n",
      "Test Accuracy 0.9666666666666667\n",
      "Epoch: 500\n",
      "Train loss 0.2375083962058529\n",
      "Train Accuracy 0.9285714285714286\n",
      "Test loss 0.13168350198880407\n",
      "Test Accuracy 0.9666666666666667\n",
      "Epoch: 510\n",
      "Train loss 0.23624478321811404\n",
      "Train Accuracy 0.9285714285714286\n",
      "Test loss 0.13024265139408192\n",
      "Test Accuracy 0.9666666666666667\n",
      "Epoch: 520\n",
      "Train loss 0.2350248062596986\n",
      "Train Accuracy 0.9285714285714286\n",
      "Test loss 0.1288501053052074\n",
      "Test Accuracy 0.9666666666666667\n",
      "Epoch: 530\n",
      "Train loss 0.23384627478503583\n",
      "Train Accuracy 0.9285714285714286\n",
      "Test loss 0.12750341153385344\n",
      "Test Accuracy 0.9666666666666667\n",
      "Epoch: 540\n",
      "Train loss 0.23270714209786328\n",
      "Train Accuracy 0.9285714285714286\n",
      "Test loss 0.12620028275267042\n",
      "Test Accuracy 0.9666666666666667\n",
      "Epoch: 550\n",
      "Train loss 0.23160549375515746\n",
      "Train Accuracy 0.9285714285714286\n",
      "Test loss 0.12493858284005697\n",
      "Test Accuracy 0.9666666666666667\n",
      "Epoch: 560\n",
      "Train loss 0.23053953707228705\n",
      "Train Accuracy 0.9285714285714286\n",
      "Test loss 0.12371631455864457\n",
      "Test Accuracy 0.9666666666666667\n",
      "Epoch: 570\n",
      "Train loss 0.22950759160967438\n",
      "Train Accuracy 0.9285714285714286\n",
      "Test loss 0.1225316084183313\n",
      "Test Accuracy 0.9666666666666667\n",
      "Epoch: 580\n",
      "Train loss 0.22850808053584323\n",
      "Train Accuracy 0.9285714285714286\n",
      "Test loss 0.12138271259340981\n",
      "Test Accuracy 0.9666666666666667\n",
      "Epoch: 590\n",
      "Train loss 0.22753952277435469\n",
      "Train Accuracy 0.9285714285714286\n",
      "Test loss 0.12026798377943354\n",
      "Test Accuracy 0.9666666666666667\n",
      "Epoch: 600\n",
      "Train loss 0.2266005258530825\n",
      "Train Accuracy 0.9285714285714286\n",
      "Test loss 0.1191858788894089\n",
      "Test Accuracy 0.9666666666666667\n",
      "Epoch: 610\n",
      "Train loss 0.2256897793838075\n",
      "Train Accuracy 0.9142857142857143\n",
      "Test loss 0.11813494750092375\n",
      "Test Accuracy 0.9666666666666667\n",
      "Epoch: 620\n",
      "Train loss 0.22480604910839425\n",
      "Train Accuracy 0.9142857142857143\n",
      "Test loss 0.11711382497630021\n",
      "Test Accuracy 0.9666666666666667\n",
      "Epoch: 630\n",
      "Train loss 0.2239481714550585\n",
      "Train Accuracy 0.9142857142857143\n",
      "Test loss 0.11612122618690979\n",
      "Test Accuracy 0.9666666666666667\n",
      "Epoch: 640\n",
      "Train loss 0.22311504855456035\n",
      "Train Accuracy 0.9142857142857143\n",
      "Test loss 0.11515593978074469\n",
      "Test Accuracy 0.9666666666666667\n",
      "Epoch: 650\n",
      "Train loss 0.2223056436717026\n",
      "Train Accuracy 0.9142857142857143\n",
      "Test loss 0.11421682293920571\n",
      "Test Accuracy 0.9666666666666667\n",
      "Epoch: 660\n",
      "Train loss 0.22151897701238302\n",
      "Train Accuracy 0.9142857142857143\n",
      "Test loss 0.11330279657513981\n",
      "Test Accuracy 0.9666666666666667\n",
      "Epoch: 670\n",
      "Train loss 0.2207541218707285\n",
      "Train Accuracy 0.9142857142857143\n",
      "Test loss 0.11241284092943835\n",
      "Test Accuracy 0.9666666666666667\n",
      "Epoch: 680\n",
      "Train loss 0.22001020108460656\n",
      "Train Accuracy 0.9142857142857143\n",
      "Test loss 0.11154599152815635\n",
      "Test Accuracy 0.9666666666666667\n",
      "Epoch: 690\n",
      "Train loss 0.21928638377114004\n",
      "Train Accuracy 0.9142857142857143\n",
      "Test loss 0.11070133546619515\n",
      "Test Accuracy 0.9666666666666667\n",
      "Epoch: 700\n",
      "Train loss 0.21858188231678555\n",
      "Train Accuracy 0.9142857142857143\n",
      "Test loss 0.10987800798721255\n",
      "Test Accuracy 0.9666666666666667\n",
      "Epoch: 710\n",
      "Train loss 0.21789594959914424\n",
      "Train Accuracy 0.9142857142857143\n",
      "Test loss 0.1090751893325666\n",
      "Test Accuracy 0.9666666666666667\n",
      "Epoch: 720\n",
      "Train loss 0.21722787641997426\n",
      "Train Accuracy 0.9142857142857143\n",
      "Test loss 0.10829210183494374\n",
      "Test Accuracy 0.9666666666666667\n",
      "Epoch: 730\n",
      "Train loss 0.21657698913092857\n",
      "Train Accuracy 0.9142857142857143\n",
      "Test loss 0.10752800723478022\n",
      "Test Accuracy 0.9666666666666667\n",
      "Epoch: 740\n",
      "Train loss 0.21594264743536126\n",
      "Train Accuracy 0.9142857142857143\n",
      "Test loss 0.10678220419980905\n",
      "Test Accuracy 0.9666666666666667\n",
      "Epoch: 750\n",
      "Train loss 0.21532424235116704\n",
      "Train Accuracy 0.9142857142857143\n",
      "Test loss 0.10605402603001875\n",
      "Test Accuracy 0.9666666666666667\n",
      "Epoch: 760\n",
      "Train loss 0.21472119432107106\n",
      "Train Accuracy 0.9142857142857143\n",
      "Test loss 0.10534283853204446\n",
      "Test Accuracy 0.9666666666666667\n",
      "Epoch: 770\n",
      "Train loss 0.21413295145807232\n",
      "Train Accuracy 0.9142857142857143\n",
      "Test loss 0.10464803804858355\n",
      "Test Accuracy 0.9666666666666667\n",
      "Epoch: 780\n",
      "Train loss 0.21355898791490474\n",
      "Train Accuracy 0.9142857142857143\n",
      "Test loss 0.10396904962978354\n",
      "Test Accuracy 0.9666666666666667\n",
      "Epoch: 790\n",
      "Train loss 0.2129988023674146\n",
      "Train Accuracy 0.9142857142857143\n",
      "Test loss 0.10330532533481945\n",
      "Test Accuracy 0.9666666666666667\n",
      "Epoch: 800\n",
      "Train loss 0.21245191660268054\n",
      "Train Accuracy 0.9142857142857143\n",
      "Test loss 0.10265634265295857\n",
      "Test Accuracy 0.9666666666666667\n",
      "Epoch: 810\n",
      "Train loss 0.21191787420353667\n",
      "Train Accuracy 0.9142857142857143\n",
      "Test loss 0.10202160303441987\n",
      "Test Accuracy 0.9666666666666667\n",
      "Epoch: 820\n",
      "Train loss 0.21139623932191073\n",
      "Train Accuracy 0.9142857142857143\n",
      "Test loss 0.10140063052220795\n",
      "Test Accuracy 0.9666666666666667\n",
      "Epoch: 830\n",
      "Train loss 0.21088659553405953\n",
      "Train Accuracy 0.9142857142857143\n",
      "Test loss 0.10079297047692162\n",
      "Test Accuracy 0.9666666666666667\n",
      "Epoch: 840\n",
      "Train loss 0.21038854477139765\n",
      "Train Accuracy 0.9142857142857143\n",
      "Test loss 0.1001981883872303\n",
      "Test Accuracy 0.9666666666666667\n",
      "Epoch: 850\n",
      "Train loss 0.20990170632115873\n",
      "Train Accuracy 0.9142857142857143\n",
      "Test loss 0.09961586875938012\n",
      "Test Accuracy 0.9666666666666667\n",
      "Epoch: 860\n",
      "Train loss 0.20942571589162923\n",
      "Train Accuracy 0.9142857142857143\n",
      "Test loss 0.09904561407966117\n",
      "Test Accuracy 0.9666666666666667\n",
      "Epoch: 870\n",
      "Train loss 0.2089602247371377\n",
      "Train Accuracy 0.9142857142857143\n",
      "Test loss 0.09848704384429977\n",
      "Test Accuracy 0.9666666666666667\n",
      "Epoch: 880\n",
      "Train loss 0.20850489883839163\n",
      "Train Accuracy 0.9142857142857143\n",
      "Test loss 0.09793979365170649\n",
      "Test Accuracy 0.9666666666666667\n",
      "Epoch: 890\n",
      "Train loss 0.20805941813412268\n",
      "Train Accuracy 0.9142857142857143\n",
      "Test loss 0.0974035143524605\n",
      "Test Accuracy 0.9666666666666667\n",
      "Epoch: 900\n",
      "Train loss 0.20762347580032894\n",
      "Train Accuracy 0.9142857142857143\n",
      "Test loss 0.0968778712527673\n",
      "Test Accuracy 0.9666666666666667\n",
      "Epoch: 910\n",
      "Train loss 0.20719677757371358\n",
      "Train Accuracy 0.9142857142857143\n",
      "Test loss 0.09636254336751802\n",
      "Test Accuracy 0.9666666666666667\n",
      "Epoch: 920\n",
      "Train loss 0.20677904111618778\n",
      "Train Accuracy 0.9142857142857143\n",
      "Test loss 0.09585722271936632\n",
      "Test Accuracy 0.9666666666666667\n",
      "Epoch: 930\n",
      "Train loss 0.2063699954175617\n",
      "Train Accuracy 0.9142857142857143\n",
      "Test loss 0.09536161368054942\n",
      "Test Accuracy 0.9666666666666667\n",
      "Epoch: 940\n",
      "Train loss 0.20596938023376934\n",
      "Train Accuracy 0.9142857142857143\n",
      "Test loss 0.0948754323544316\n",
      "Test Accuracy 0.9666666666666667\n",
      "Epoch: 950\n",
      "Train loss 0.20557694555819225\n",
      "Train Accuracy 0.9142857142857143\n",
      "Test loss 0.09439840599401646\n",
      "Test Accuracy 0.9666666666666667\n",
      "Epoch: 960\n",
      "Train loss 0.2051924511238199\n",
      "Train Accuracy 0.9142857142857143\n",
      "Test loss 0.09393027245483247\n",
      "Test Accuracy 0.9666666666666667\n",
      "Epoch: 970\n",
      "Train loss 0.20481566593417685\n",
      "Train Accuracy 0.9142857142857143\n",
      "Test loss 0.09347077967988279\n",
      "Test Accuracy 0.9666666666666667\n",
      "Epoch: 980\n",
      "Train loss 0.20444636782109138\n",
      "Train Accuracy 0.9142857142857143\n",
      "Test loss 0.09301968521445457\n",
      "Test Accuracy 0.9666666666666667\n",
      "Epoch: 990\n",
      "Train loss 0.2040843430275323\n",
      "Train Accuracy 0.9142857142857143\n",
      "Test loss 0.09257675574879788\n",
      "Test Accuracy 0.9666666666666667\n"
     ]
    },
    {
     "data": {
      "text/plain": "<Figure size 432x288 with 1 Axes>",
      "image/png": "[encoded data removed]"
     },
     "metadata": {
      "needs_background": "light"
     },
     "output_type": "display_data"
    }
   ],
   "source": [
    "train(X_train, y_train, X_test, y_test, epochs, learning_rate)"
   ]
  },
  {
   "cell_type": "code",
   "execution_count": 31,
   "id": "sticky-today",
   "metadata": {
    "ExecuteTime": {
     "end_time": "2021-05-26T12:39:19.286937Z",
     "start_time": "2021-05-26T12:39:19.252166Z"
    }
   },
   "outputs": [
    {
     "ename": "NameError",
     "evalue": "name 'w1x1' is not defined",
     "output_type": "error",
     "traceback": [
      "\u001B[1;31m---------------------------------------------------------------------------\u001B[0m",
      "\u001B[1;31mNameError\u001B[0m                                 Traceback (most recent call last)",
      "\u001B[1;32m~\\AppData\\Local\\Temp/ipykernel_16948/2294156495.py\u001B[0m in \u001B[0;36m<module>\u001B[1;34m\u001B[0m\n\u001B[1;32m----> 1\u001B[1;33m \u001B[0mw1x1\u001B[0m\u001B[1;33m+\u001B[0m\u001B[0mw2x2\u001B[0m\u001B[1;33m\u001B[0m\u001B[1;33m\u001B[0m\u001B[0m\n\u001B[0m\u001B[0;32m      2\u001B[0m \u001B[1;33m\u001B[0m\u001B[0m\n",
      "\u001B[1;31mNameError\u001B[0m: name 'w1x1' is not defined"
     ]
    }
   ],
   "source": [
    "w1x1+w2x2"
   ]
  },
  {
   "cell_type": "code",
   "execution_count": null,
   "id": "offshore-better",
   "metadata": {},
   "outputs": [],
   "source": []
  }
 ],
 "metadata": {
  "kernelspec": {
   "display_name": "Python 3",
   "language": "python",
   "name": "python3"
  },
  "language_info": {
   "codemirror_mode": {
    "name": "ipython",
    "version": 3
   },
   "file_extension": ".py",
   "mimetype": "text/x-python",
   "name": "python",
   "nbconvert_exporter": "python",
   "pygments_lexer": "ipython3",
   "version": "3.9.5"
  },
  "varInspector": {
   "cols": {
    "lenName": 16,
    "lenType": 16,
    "lenVar": 40
   },
   "kernels_config": {
    "python": {
     "delete_cmd_postfix": "",
     "delete_cmd_prefix": "del ",
     "library": "var_list.py",
     "varRefreshCmd": "print(var_dic_list())"
    },
    "r": {
     "delete_cmd_postfix": ") ",
     "delete_cmd_prefix": "rm(",
     "library": "var_list.r",
     "varRefreshCmd": "cat(var_dic_list()) "
    }
   },
   "types_to_exclude": [
    "module",
    "function",
    "builtin_function_or_method",
    "instance",
    "_Feature"
   ],
   "window_display": false
  }
 },
 "nbformat": 4,
 "nbformat_minor": 5
}