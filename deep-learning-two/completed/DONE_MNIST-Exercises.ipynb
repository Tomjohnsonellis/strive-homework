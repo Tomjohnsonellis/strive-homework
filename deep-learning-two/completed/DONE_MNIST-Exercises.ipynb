{
 "cells": [
  {
   "cell_type": "code",
   "execution_count": 5,
   "source": [
    "# Bunch of imports and setup\n",
    "%matplotlib inline\n",
    "%config InlineBackend.figure_format = 'retina'\n",
    "from collections import OrderedDict\n",
    "import numpy as np\n",
    "import matplotlib.pyplot as plt\n",
    "import time\n",
    "import torch\n",
    "from torch import nn\n",
    "from torch import optim\n",
    "import torch.nn.functional as F\n",
    "from torchvision import datasets, transforms\n",
    "# Train and test loader\n",
    "import torch\n",
    "from torchvision import datasets, transforms\n",
    "transform = transforms.Compose([transforms.ToTensor(), transforms.Normalize((0.5), (0.5)) ])\n",
    "trainset    = datasets.MNIST('MNIST_data/', download=True, train=True, transform=transform)\n",
    "trainloader = torch.utils.data.DataLoader(trainset, batch_size=16, shuffle=True)\n",
    "testset    = datasets.MNIST('MNIST_data/', download=True, train=False, transform=transform)\n",
    "testloader = torch.utils.data.DataLoader(testset, batch_size=16, shuffle=True)\n",
    "\n",
    "\n",
    "def view_classify(img, ps):\n",
    "\n",
    "    ps = ps.data.numpy().squeeze()\n",
    "\n",
    "    fig, (ax1, ax2) = plt.subplots(figsize=(6,9), ncols=2)\n",
    "    ax1.imshow(img.resize_(1, 28, 28).numpy().squeeze())\n",
    "    ax1.axis('off')\n",
    "    ax2.barh(np.arange(10), ps)\n",
    "    ax2.set_aspect(0.1)\n",
    "    ax2.set_yticks(np.arange(10))\n",
    "    ax2.set_yticklabels(np.arange(10))\n",
    "    ax2.set_title('Class Probability')\n",
    "    ax2.set_xlim(0, 1.1)"
   ],
   "outputs": [
    {
     "output_type": "stream",
     "name": "stdout",
     "text": [
      "Downloading http://yann.lecun.com/exdb/mnist/train-images-idx3-ubyte.gz\n",
      "Downloading http://yann.lecun.com/exdb/mnist/train-images-idx3-ubyte.gz to MNIST_data/MNIST/raw/train-images-idx3-ubyte.gz\n",
      "Failed to download (trying next):\n",
      "HTTP Error 503: Service Unavailable\n",
      "\n",
      "Downloading https://ossci-datasets.s3.amazonaws.com/mnist/train-images-idx3-ubyte.gz\n",
      "Downloading https://ossci-datasets.s3.amazonaws.com/mnist/train-images-idx3-ubyte.gz to MNIST_data/MNIST/raw/train-images-idx3-ubyte.gz\n"
     ]
    },
    {
     "output_type": "stream",
     "name": "stderr",
     "text": [
      "100.0%\n"
     ]
    },
    {
     "output_type": "stream",
     "name": "stdout",
     "text": [
      "Extracting MNIST_data/MNIST/raw/train-images-idx3-ubyte.gz to MNIST_data/MNIST/raw\n",
      "\n",
      "Downloading http://yann.lecun.com/exdb/mnist/train-labels-idx1-ubyte.gz\n",
      "Downloading http://yann.lecun.com/exdb/mnist/train-labels-idx1-ubyte.gz to MNIST_data/MNIST/raw/train-labels-idx1-ubyte.gz\n"
     ]
    },
    {
     "output_type": "stream",
     "name": "stderr",
     "text": [
      "102.8%\n"
     ]
    },
    {
     "output_type": "stream",
     "name": "stdout",
     "text": [
      "Extracting MNIST_data/MNIST/raw/train-labels-idx1-ubyte.gz to MNIST_data/MNIST/raw\n",
      "\n",
      "Downloading http://yann.lecun.com/exdb/mnist/t10k-images-idx3-ubyte.gz\n",
      "Failed to download (trying next):\n",
      "HTTP Error 503: Service Unavailable\n",
      "\n",
      "Downloading https://ossci-datasets.s3.amazonaws.com/mnist/t10k-images-idx3-ubyte.gz\n",
      "Downloading https://ossci-datasets.s3.amazonaws.com/mnist/t10k-images-idx3-ubyte.gz to MNIST_data/MNIST/raw/t10k-images-idx3-ubyte.gz\n"
     ]
    },
    {
     "output_type": "stream",
     "name": "stderr",
     "text": [
      "100.0%\n"
     ]
    },
    {
     "output_type": "stream",
     "name": "stdout",
     "text": [
      "Extracting MNIST_data/MNIST/raw/t10k-images-idx3-ubyte.gz to MNIST_data/MNIST/raw\n",
      "\n",
      "Downloading http://yann.lecun.com/exdb/mnist/t10k-labels-idx1-ubyte.gz\n",
      "Failed to download (trying next):\n",
      "HTTP Error 503: Service Unavailable\n",
      "\n",
      "Downloading https://ossci-datasets.s3.amazonaws.com/mnist/t10k-labels-idx1-ubyte.gz\n",
      "Downloading https://ossci-datasets.s3.amazonaws.com/mnist/t10k-labels-idx1-ubyte.gz to MNIST_data/MNIST/raw/t10k-labels-idx1-ubyte.gz\n"
     ]
    },
    {
     "output_type": "stream",
     "name": "stderr",
     "text": [
      "112.7%\n",
      "/home/tom/anaconda3/envs/poggers/lib/python3.8/site-packages/torchvision/datasets/mnist.py:498: UserWarning: The given NumPy array is not writeable, and PyTorch does not support non-writeable tensors. This means you can write to the underlying (supposedly non-writeable) NumPy array using the tensor. You may want to copy the array to protect its data or make it writeable before converting it to a tensor. This type of warning will be suppressed for the rest of this program. (Triggered internally at  /pytorch/torch/csrc/utils/tensor_numpy.cpp:180.)\n",
      "  return torch.from_numpy(parsed.astype(m[2], copy=False)).view(*s)\n"
     ]
    },
    {
     "output_type": "stream",
     "name": "stdout",
     "text": [
      "Extracting MNIST_data/MNIST/raw/t10k-labels-idx1-ubyte.gz to MNIST_data/MNIST/raw\n",
      "\n"
     ]
    }
   ],
   "metadata": {
    "collapsed": true
   }
  },
  {
   "cell_type": "code",
   "execution_count": 6,
   "source": [],
   "outputs": [],
   "metadata": {
    "collapsed": false,
    "pycharm": {
     "name": "#%%\n"
    }
   }
  },
  {
   "cell_type": "markdown",
   "source": [
    "<div style=\\\"background:#222222; color:#ffffff; padding:20px\\\">\n",
    "      <h3 style=\\\"color:#01ff84; margin-top:4px\\\">Exercise 1:</h3>\n",
    "      <p>Now it's your turn to build a simple network, use any method I've covered so far. In the next notebook, you'll learn how to train a network so it can make good predictions.</p>\n",
    "      <p>Build a network to classify the MNIST images with 3 hidden layers. Use 16 units in the first hidden layer, 32 units in the second layer, and 8 units in the third layer. Each hidden layer should have a ReLU activation function, and use softmax on the output layer.</p>\n",
    "    <div>"
   ],
   "metadata": {
    "collapsed": false
   }
  },
  {
   "cell_type": "code",
   "execution_count": 7,
   "source": [
    "input_size = 784\n",
    "hidden_sizes =  [16, 32, 8]\n",
    "output_size = 10\n",
    "model = nn.Sequential(\n",
    "        OrderedDict([\n",
    "            ('First_Layer', nn.Linear(input_size, hidden_sizes[0])),\n",
    "            ('First_ReLU', nn.ReLU()),\n",
    "            ('Second_Layer', nn.Linear(hidden_sizes[0], hidden_sizes[1])),\n",
    "            ('Second_ReLU', nn.ReLU()),\n",
    "            ('Third_Layer', nn.Linear(hidden_sizes[1], hidden_sizes[2])),\n",
    "            ('Third_ReLU', nn.ReLU()),\n",
    "            ('Output_Layer', nn.Linear(hidden_sizes[2], output_size)),\n",
    "            ('Output_ReLU', nn.ReLU()),\n",
    "            ('Softmax_Output', nn.Softmax(dim=1)),\n",
    "            # I think the above works? if not:\n",
    "            # ('Softmax_Output', F.softmax(dim=1)),\n",
    "        ])\n",
    "    )"
   ],
   "outputs": [],
   "metadata": {
    "collapsed": false,
    "pycharm": {
     "name": "#%%\n"
    }
   }
  },
  {
   "cell_type": "code",
   "execution_count": 8,
   "source": [
    "# Run this cell with your model to make sure it works\n",
    "# Forward pass through the network and display output\n",
    "images, labels = next(iter(trainloader))\n",
    "images = images.resize_(images.shape[0], 1, 784)\n",
    "ps = model.forward(images[0,:])\n",
    "view_classify(images[0].view(1, 28, 28), ps)"
   ],
   "outputs": [
    {
     "output_type": "display_data",
     "data": {
      "text/plain": [
       "<Figure size 432x648 with 2 Axes>"
      ],
      "image/png": "[encoded data removed]"
     },
     "metadata": {
      "image/png": {
       "width": 349,
       "height": 195
      },
      "needs_background": "light"
     }
    }
   ],
   "metadata": {
    "collapsed": false,
    "pycharm": {
     "name": "#%%\n"
    }
   }
  },
  {
   "cell_type": "markdown",
   "source": [
    "<div style=\\\"background:#222222; color:#ffffff; padding:20px\\\">\n",
    "      <h3 style=\\\"color:#01ff84; margin-top:4px\\\">Exercise 2:</h3>\n",
    "      <p>Train your network implementing the Pytorch training loop and <strong style=\\\"color:#01ff84\\\">after each epoch, use the model for predicting the test (validation) MNIST data.</strong></p>\n",
    "      <p>Note: If your model does not fit with the final softmax layer, you can remove this layer.</p>\n",
    "      <p>Hint: <a href=\\\"https://discuss.pytorch.org/t/training-loop-checking-validation-accuracy/78399\\\">Training loop checking validation accuracy\n",
    "    </a></p>\n",
    "      <p>Research about <code>model.train()</code>, <code>model.eval()</code> and <code>with torch.no_grad()</code> in Pytorch.\n",
    "    <div>"
   ],
   "metadata": {
    "collapsed": false,
    "pycharm": {
     "name": "#%% md\n"
    }
   }
  },
  {
   "cell_type": "code",
   "execution_count": 56,
   "source": [
    "## TODO: Your training loop here\n",
    "input_size = 784\n",
    "hidden_sizes =  [128, 64]\n",
    "output_size = 10\n",
    "model = nn.Sequential(\n",
    "    OrderedDict([\n",
    "        ('First_Layer', nn.Linear(input_size, hidden_sizes[0])),\n",
    "        ('First_ReLU', nn.ReLU()),\n",
    "        ('Second_Layer', nn.Linear(hidden_sizes[0], hidden_sizes[1])),\n",
    "        ('Second_ReLU', nn.ReLU()),\n",
    "        ('Final_Layer', nn.Linear(hidden_sizes[1], output_size)),\n",
    "        ('Final_ReLU', nn.ReLU())\n",
    "    ])\n",
    ")\n",
    "\n",
    "# Model parameters\n",
    "optimiser = optim.SGD(model.parameters(), lr=0.01)\n",
    "criterion = nn.CrossEntropyLoss()\n",
    "\n",
    "training_epochs = 3\n",
    "print_every = 500 # Just so we have a manageable amount of text displayed\n",
    "\n",
    "for epoch in range(training_epochs):\n",
    "    model.train()\n",
    "    running_loss = 0\n",
    "    print(f\"Epoch {epoch+1} / {training_epochs}\")\n",
    "\n",
    "    for cycle, (images, labels) in enumerate(iter(trainloader)):\n",
    "        # Flatten the images for our network\n",
    "        images = images.reshape(16, 784)\n",
    "        # Zero out the gradients\n",
    "        optimiser.zero_grad()\n",
    "        # Make a guess by passing an image forward through the network\n",
    "        model_guess = model.forward(images)\n",
    "        # Calculate how good/bad that guess is\n",
    "        loss_value = criterion(model_guess, labels)\n",
    "        # Backpropogate to see how we need to adjust the weights\n",
    "        loss_value.backward()\n",
    "        # Adjust the weights\n",
    "        optimiser.step()\n",
    "\n",
    "        # Keep track of the loss for our human eyes to see\n",
    "        running_loss += loss_value.item()\n",
    "\n",
    "        if cycle % print_every == 0:\n",
    "            print(f\"Training cycle: {cycle}\\t Avg. Loss: {running_loss/print_every:.4f}\")\n",
    "            running_loss = 0\n",
    "\n",
    "    # Eval loop here\n",
    "    # Eval Loop\n",
    "    # There are 10,000 samples in the test set\n",
    "    model.eval()\n",
    "    with torch.no_grad():\n",
    "        correct_guesses = 0\n",
    "        for test_images, test_labels in iter(testloader):\n",
    "            test_images = test_images.reshape(16, 784)\n",
    "            test_guess = model.forward(test_images)\n",
    "            loss_value = criterion(test_guess, test_labels)\n",
    "            # print(\"=\"*50)\n",
    "            # print(f\"Model predicions are this size: {test_guess.size()}\")\n",
    "            index = 0\n",
    "            for guess in test_guess:\n",
    "\n",
    "                # print(\"I am the guess values for one image\")\n",
    "                guess = F.softmax(guess, dim=1)\n",
    "                # print(guess)\n",
    "                prediction = 0\n",
    "                for value in guess:\n",
    "                    if value == guess.max():\n",
    "                        break\n",
    "                    else:\n",
    "                        prediction += 1\n",
    "                # print(f\"My prediction is: {prediction}\")\n",
    "                # print(f\"Actual value: {test_labels[index]}\")\n",
    "\n",
    "                if prediction == test_labels[index]:\n",
    "                    correct_guesses += 1\n",
    "                index += 1\n",
    "        print(\"=\"*50)\n",
    "        print(f\"Correct Guesses: {correct_guesses} / 10,000\")\n",
    "        accuracy = correct_guesses / 100\n",
    "        print(f\"Accuracy: {accuracy}%\")\n",
    "        print(\"=\"*50)\n",
    "        model.train()\n",
    "\n",
    "print(\"*\"*50)\n",
    "print(\"DONE\")"
   ],
   "outputs": [
    {
     "output_type": "stream",
     "name": "stdout",
     "text": [
      "Epoch 1 / 3\n",
      "Training cycle: 0\t Avg. Loss: 0.0046\n",
      "Training cycle: 500\t Avg. Loss: 1.9237\n",
      "Training cycle: 1000\t Avg. Loss: 1.1629\n",
      "Training cycle: 1500\t Avg. Loss: 0.8964\n",
      "Training cycle: 2000\t Avg. Loss: 0.8203\n",
      "Training cycle: 2500\t Avg. Loss: 0.7901\n",
      "Training cycle: 3000\t Avg. Loss: 0.7860\n",
      "Training cycle: 3500\t Avg. Loss: 0.7508\n"
     ]
    },
    {
     "output_type": "stream",
     "name": "stderr",
     "text": [
      "C:\\Users\\tom\\AppData\\Local\\Temp/ipykernel_7256/2452867569.py:65: UserWarning: Implicit dimension choice for softmax has been deprecated. Change the call to include dim=X as an argument.\n",
      "  guess = F.softmax(guess)\n"
     ]
    },
    {
     "output_type": "stream",
     "name": "stdout",
     "text": [
      "==================================================\n",
      "Correct Guesses: 7393 / 10,000\n",
      "Accuracy: 0.7393\n",
      "==================================================\n",
      "Epoch 2 / 3\n",
      "Training cycle: 0\t Avg. Loss: 0.0006\n",
      "Training cycle: 500\t Avg. Loss: 0.7523\n",
      "Training cycle: 1000\t Avg. Loss: 0.6493\n",
      "Training cycle: 1500\t Avg. Loss: 0.5243\n",
      "Training cycle: 2000\t Avg. Loss: 0.4969\n",
      "Training cycle: 2500\t Avg. Loss: 0.4834\n",
      "Training cycle: 3000\t Avg. Loss: 0.4809\n",
      "Training cycle: 3500\t Avg. Loss: 0.4834\n",
      "==================================================\n",
      "Correct Guesses: 8451 / 10,000\n",
      "Accuracy: 0.8451\n",
      "==================================================\n",
      "Epoch 3 / 3\n",
      "Training cycle: 0\t Avg. Loss: 0.0004\n",
      "Training cycle: 500\t Avg. Loss: 0.4381\n",
      "Training cycle: 1000\t Avg. Loss: 0.4428\n",
      "Training cycle: 1500\t Avg. Loss: 0.4461\n",
      "Training cycle: 2000\t Avg. Loss: 0.4318\n",
      "Training cycle: 2500\t Avg. Loss: 0.4297\n",
      "Training cycle: 3000\t Avg. Loss: 0.4165\n",
      "Training cycle: 3500\t Avg. Loss: 0.4044\n",
      "==================================================\n",
      "Correct Guesses: 8599 / 10,000\n",
      "Accuracy: 0.8599\n",
      "==================================================\n",
      "**************************************************\n",
      "DONE\n"
     ]
    }
   ],
   "metadata": {
    "collapsed": false,
    "pycharm": {
     "name": "#%%\n"
    }
   }
  },
  {
   "cell_type": "code",
   "execution_count": 54,
   "source": [
    "# Eval Loop\n",
    "# There are 10,000 samples in the test set\n",
    "model.eval()\n",
    "with torch.no_grad():\n",
    "    correct_guesses = 0\n",
    "    for test_images, test_labels in iter(testloader):\n",
    "        test_images = test_images.reshape(16, 784)\n",
    "        test_guess = model.forward(test_images)\n",
    "        loss_value = criterion(test_guess, test_labels)\n",
    "        # print(\"=\"*50)\n",
    "        # print(f\"Model predicions are this size: {test_guess.size()}\")\n",
    "        index = 0\n",
    "        for guess in test_guess:\n",
    "\n",
    "            # print(\"I am the guess values for one image\")\n",
    "            guess = F.softmax(guess, dim=1)\n",
    "            # print(guess)\n",
    "            prediction = 0\n",
    "            for value in guess:\n",
    "                if value == guess.max():\n",
    "                    break\n",
    "                else:\n",
    "                    prediction += 1\n",
    "            # print(f\"My prediction is: {prediction}\")\n",
    "            # print(f\"Actual value: {test_labels[index]}\")\n",
    "\n",
    "            if prediction == test_labels[index]:\n",
    "                correct_guesses += 1\n",
    "            index += 1\n",
    "    print(\"=\"*50)\n",
    "    print(f\"Correct Guesses: {correct_guesses} / 10,000\")\n",
    "    accuracy = correct_guesses / 100\n",
    "    print(f\"Accuracy: {accuracy}%\")\n",
    "    print(\"=\"*50)\n",
    "model.train()\n"
   ],
   "outputs": [
    {
     "output_type": "stream",
     "name": "stderr",
     "text": [
      "C:\\Users\\tom\\AppData\\Local\\Temp/ipykernel_7256/855075697.py:16: UserWarning: Implicit dimension choice for softmax has been deprecated. Change the call to include dim=X as an argument.\n",
      "  guess = F.softmax(guess)\n"
     ]
    },
    {
     "output_type": "stream",
     "name": "stdout",
     "text": [
      "==================================================\n",
      "Correct Guesses: 9453 / 10,000\n",
      "Accuracy: 0.9453\n",
      "==================================================\n"
     ]
    }
   ],
   "metadata": {
    "collapsed": false,
    "pycharm": {
     "name": "#%%\n"
    }
   }
  },
  {
   "cell_type": "markdown",
   "source": [
    "<div style=\"background:#222222; color:#ffffff; padding:20px\">\n",
    "  <h3 style=\"color:#01ff84; margin-top:4px\">Exercise 3:</h3>\n",
    "  <p>Write the code for adding <strong style=\"color:#01ff84\">Early Stopping with patience = 2</strong> to the training loop from scratch.</p>\n",
    "  <p><strong style=\"color:#01ff84\">Hint:</strong> Monitor the Validation loss every epoch, and if in 2 epochs, the validation loss does not improve, stop the training loop with <code>break</code>.</p>\n",
    "<div>"
   ],
   "metadata": {
    "collapsed": false,
    "pycharm": {
     "name": "#%% md\n"
    }
   }
  },
  {
   "cell_type": "code",
   "execution_count": 8,
   "source": [
    "\"\"\"\n",
    "For this exercise, we need to keep track of the loss in each epoch, and stop the training process if the algorithm isn't improving\n",
    "\n",
    "\"\"\"\n",
    "# Copied from above\n",
    "\n",
    "input_size = 784\n",
    "hidden_sizes =  [128, 64]\n",
    "output_size = 10\n",
    "model = nn.Sequential(\n",
    "    OrderedDict([\n",
    "        ('First_Layer', nn.Linear(input_size, hidden_sizes[0])),\n",
    "        ('First_ReLU', nn.ReLU()),\n",
    "        ('Second_Layer', nn.Linear(hidden_sizes[0], hidden_sizes[1])),\n",
    "        ('Second_ReLU', nn.ReLU()),\n",
    "        ('Final_Layer', nn.Linear(hidden_sizes[1], output_size)),\n",
    "        ('Final_ReLU', nn.ReLU())\n",
    "    ])\n",
    ")\n",
    "\n",
    "# Model parameters\n",
    "optimiser = optim.SGD(model.parameters(), lr=0.1)\n",
    "criterion = nn.CrossEntropyLoss()\n",
    "\n",
    "training_epochs = 100\n",
    "print_every = 1000 # Just so we have a manageable amount of text displayed\n",
    "previous_loss = 0\n",
    "\n",
    "for epoch in range(training_epochs):\n",
    "    model.train()\n",
    "    running_loss = 0\n",
    "    print(f\"Epoch {epoch+1} / {training_epochs}\")\n",
    "\n",
    "    for cycle, (images, labels) in enumerate(iter(trainloader)):\n",
    "        # Flatten the images for our network\n",
    "        images = images.reshape(16, 784)\n",
    "        # Zero out the gradients\n",
    "        optimiser.zero_grad()\n",
    "        # Make a guess by passing an image forward through the network\n",
    "        model_guess = model.forward(images)\n",
    "        # Calculate how good/bad that guess is\n",
    "        loss_value = criterion(model_guess, labels)\n",
    "        # Backpropogate to see how we need to adjust the weights\n",
    "        loss_value.backward()\n",
    "        # Adjust the weights\n",
    "        optimiser.step()\n",
    "\n",
    "        # Keep track of the loss for our human eyes to see\n",
    "        running_loss += loss_value.item()\n",
    "\n",
    "        if cycle % print_every == 0:\n",
    "            print(f\"Training cycle: {cycle}\\t Avg. Loss: {running_loss/print_every:.4f}\")\n",
    "            running_loss = 0\n",
    "\n",
    "    # Eval loop here\n",
    "    # Eval Loop\n",
    "    # There are 10,000 samples in the test set\n",
    "    epoch_loss = 0\n",
    "    model.eval()\n",
    "    with torch.no_grad():\n",
    "        for test_images, test_labels in iter(testloader):\n",
    "            test_images = test_images.reshape(16, 784)\n",
    "            test_guess = model.forward(test_images)\n",
    "            loss_value = criterion(test_guess, test_labels)\n",
    "            epoch_loss += loss_value\n",
    " \n",
    "        print(\"=\"*50)\n",
    "        print(f\"Loss this validation epoch: {epoch_loss}\")\n",
    "        if previous_loss != 0:\n",
    "            print(f\"Previous loss: {previous_loss}\")\n",
    "            if previous_loss <= epoch_loss:\n",
    "                print(\"Model is not improving, exiting...\")\n",
    "                print(\"@\"*50)\n",
    "                break\n",
    "        previous_loss = epoch_loss\n",
    "        model.train()\n",
    "\n",
    "print(\"*\"*50)\n",
    "print(\"DONE\")"
   ],
   "outputs": [
    {
     "output_type": "stream",
     "name": "stdout",
     "text": [
      "Epoch 1 / 10\n",
      "Training cycle: 0\t Avg. Loss: 0.0046\n",
      "Training cycle: 500\t Avg. Loss: 2.0051\n",
      "Training cycle: 1000\t Avg. Loss: 1.3252\n",
      "Training cycle: 1500\t Avg. Loss: 1.1044\n",
      "Training cycle: 2000\t Avg. Loss: 1.0250\n",
      "Training cycle: 2500\t Avg. Loss: 0.8694\n",
      "Training cycle: 3000\t Avg. Loss: 0.7977\n",
      "Training cycle: 3500\t Avg. Loss: 0.7592\n",
      "==================================================\n",
      "Loss this validation epoch: 448.1414489746094\n",
      "Epoch 2 / 10\n",
      "Training cycle: 0\t Avg. Loss: 0.0021\n",
      "Training cycle: 500\t Avg. Loss: 0.7141\n",
      "Training cycle: 1000\t Avg. Loss: 0.7117\n",
      "Training cycle: 1500\t Avg. Loss: 0.7102\n",
      "Training cycle: 2000\t Avg. Loss: 0.6936\n",
      "Training cycle: 2500\t Avg. Loss: 0.6983\n",
      "Training cycle: 3000\t Avg. Loss: 0.6926\n",
      "Training cycle: 3500\t Avg. Loss: 0.6664\n",
      "==================================================\n",
      "Loss this validation epoch: 405.9627685546875\n",
      "Previous loss: 448.1414489746094\n",
      "Epoch 3 / 10\n",
      "Training cycle: 0\t Avg. Loss: 0.0007\n",
      "Training cycle: 500\t Avg. Loss: 0.6371\n",
      "Training cycle: 1000\t Avg. Loss: 0.6578\n",
      "Training cycle: 1500\t Avg. Loss: 0.6461\n",
      "Training cycle: 2000\t Avg. Loss: 0.6424\n",
      "Training cycle: 2500\t Avg. Loss: 0.6258\n",
      "Training cycle: 3000\t Avg. Loss: 0.6231\n",
      "Training cycle: 3500\t Avg. Loss: 0.6161\n",
      "==================================================\n",
      "Loss this validation epoch: 380.94354248046875\n",
      "Previous loss: 405.9627685546875\n",
      "Epoch 4 / 10\n",
      "Training cycle: 0\t Avg. Loss: 0.0011\n",
      "Training cycle: 500\t Avg. Loss: 0.5913\n",
      "Training cycle: 1000\t Avg. Loss: 0.6044\n",
      "Training cycle: 1500\t Avg. Loss: 0.6127\n",
      "Training cycle: 2000\t Avg. Loss: 0.6018\n",
      "Training cycle: 2500\t Avg. Loss: 0.6028\n",
      "Training cycle: 3000\t Avg. Loss: 0.5773\n",
      "Training cycle: 3500\t Avg. Loss: 0.6119\n",
      "==================================================\n",
      "Loss this validation epoch: 364.2335510253906\n",
      "Previous loss: 380.94354248046875\n",
      "Epoch 5 / 10\n",
      "Training cycle: 0\t Avg. Loss: 0.0016\n",
      "Training cycle: 500\t Avg. Loss: 0.5911\n",
      "Training cycle: 1000\t Avg. Loss: 0.5643\n",
      "Training cycle: 1500\t Avg. Loss: 0.5651\n",
      "Training cycle: 2000\t Avg. Loss: 0.5711\n",
      "Training cycle: 2500\t Avg. Loss: 0.5859\n",
      "Training cycle: 3000\t Avg. Loss: 0.5806\n",
      "Training cycle: 3500\t Avg. Loss: 0.5825\n",
      "==================================================\n",
      "Loss this validation epoch: 354.4239196777344\n",
      "Previous loss: 364.2335510253906\n",
      "Epoch 6 / 10\n",
      "Training cycle: 0\t Avg. Loss: 0.0010\n",
      "Training cycle: 500\t Avg. Loss: 0.5674\n",
      "Training cycle: 1000\t Avg. Loss: 0.5777\n",
      "Training cycle: 1500\t Avg. Loss: 0.5443\n",
      "Training cycle: 2000\t Avg. Loss: 0.5610\n",
      "Training cycle: 2500\t Avg. Loss: 0.5603\n",
      "Training cycle: 3000\t Avg. Loss: 0.5529\n",
      "Training cycle: 3500\t Avg. Loss: 0.5592\n",
      "==================================================\n",
      "Loss this validation epoch: 353.0208740234375\n",
      "Previous loss: 354.4239196777344\n",
      "Epoch 7 / 10\n",
      "Training cycle: 0\t Avg. Loss: 0.0007\n",
      "Training cycle: 500\t Avg. Loss: 0.5537\n",
      "Training cycle: 1000\t Avg. Loss: 0.5606\n",
      "Training cycle: 1500\t Avg. Loss: 0.5502\n",
      "Training cycle: 2000\t Avg. Loss: 0.5405\n",
      "Training cycle: 2500\t Avg. Loss: 0.5381\n",
      "Training cycle: 3000\t Avg. Loss: 0.5261\n",
      "Training cycle: 3500\t Avg. Loss: 0.4587\n",
      "==================================================\n",
      "Loss this validation epoch: 237.44361877441406\n",
      "Previous loss: 353.0208740234375\n",
      "Epoch 8 / 10\n",
      "Training cycle: 0\t Avg. Loss: 0.0017\n",
      "Training cycle: 500\t Avg. Loss: 0.3347\n",
      "Training cycle: 1000\t Avg. Loss: 0.3430\n",
      "Training cycle: 1500\t Avg. Loss: 0.3460\n",
      "Training cycle: 2000\t Avg. Loss: 0.3238\n",
      "Training cycle: 2500\t Avg. Loss: 0.3389\n",
      "Training cycle: 3000\t Avg. Loss: 0.3346\n",
      "Training cycle: 3500\t Avg. Loss: 0.3312\n",
      "==================================================\n",
      "Loss this validation epoch: 203.9017791748047\n",
      "Previous loss: 237.44361877441406\n",
      "Epoch 9 / 10\n",
      "Training cycle: 0\t Avg. Loss: 0.0009\n",
      "Training cycle: 500\t Avg. Loss: 0.3184\n",
      "Training cycle: 1000\t Avg. Loss: 0.3190\n",
      "Training cycle: 1500\t Avg. Loss: 0.3232\n",
      "Training cycle: 2000\t Avg. Loss: 0.3122\n",
      "Training cycle: 2500\t Avg. Loss: 0.3003\n",
      "Training cycle: 3000\t Avg. Loss: 0.3210\n",
      "Training cycle: 3500\t Avg. Loss: 0.3355\n",
      "==================================================\n",
      "Loss this validation epoch: 203.2626190185547\n",
      "Previous loss: 203.9017791748047\n",
      "Epoch 10 / 10\n",
      "Training cycle: 0\t Avg. Loss: 0.0008\n",
      "Training cycle: 500\t Avg. Loss: 0.3065\n",
      "Training cycle: 1000\t Avg. Loss: 0.3250\n",
      "Training cycle: 1500\t Avg. Loss: 0.3053\n",
      "Training cycle: 2000\t Avg. Loss: 0.3198\n",
      "Training cycle: 2500\t Avg. Loss: 0.2970\n",
      "Training cycle: 3000\t Avg. Loss: 0.3004\n",
      "Training cycle: 3500\t Avg. Loss: 0.3074\n",
      "==================================================\n",
      "Loss this validation epoch: 204.0926971435547\n",
      "Previous loss: 203.2626190185547\n",
      "Model is not improving, exiting...\n",
      "@@@@@@@@@@@@@@@@@@@@@@@@@@@@@@@@@@@@@@@@@@@@@@@@@@\n",
      "**************************************************\n",
      "DONE\n"
     ]
    }
   ],
   "metadata": {
    "collapsed": false,
    "pycharm": {
     "name": "#%%\n"
    }
   }
  }
 ],
 "metadata": {
  "kernelspec": {
   "name": "python3",
   "display_name": "Python 3.8.11 64-bit ('poggers': conda)"
  },
  "language_info": {
   "name": "python",
   "version": "3.8.11",
   "mimetype": "text/x-python",
   "codemirror_mode": {
    "name": "ipython",
    "version": 3
   },
   "pygments_lexer": "ipython3",
   "nbconvert_exporter": "python",
   "file_extension": ".py"
  },
  "interpreter": {
   "hash": "f80c954d01f95c2ad67b8d0a560a05c6c6b2e66af80807006ce2befdd416022b"
  }
 },
 "nbformat": 4,
 "nbformat_minor": 2
}