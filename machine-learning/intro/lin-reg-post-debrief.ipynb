{
 "cells": [
  {
   "cell_type": "markdown",
   "id": "00489ae2",
   "metadata": {},
   "source": [
    "# Linear Regression Walkthrough"
   ]
  },
  {
   "cell_type": "code",
   "execution_count": 2,
   "id": "86479312",
   "metadata": {},
   "outputs": [],
   "source": [
    "# The usual imports\n",
    "\n",
    "import pandas as pd\n",
    "import numpy as np\n",
    "import matplotlib.pyplot as plt\n",
    "from sklearn.model_selection import train_test_split"
   ]
  },
  {
   "cell_type": "code",
   "execution_count": 4,
   "id": "cce75d75",
   "metadata": {},
   "outputs": [
    {
     "name": "stdout",
     "output_type": "stream",
     "text": [
      "           X          Y\n",
      "0  32.502345  31.707006\n",
      "1  53.426804  68.777596\n",
      "2  61.530358  62.562382\n",
      "3  47.475640  71.546632\n",
      "4  59.813208  87.230925\n"
     ]
    }
   ],
   "source": [
    "# Load the data into a frame\n",
    "df = pd.read_csv(\"./reg_data.csv\")\n",
    "print(df.head(5))"
   ]
  },
  {
   "cell_type": "code",
   "execution_count": 5,
   "id": "9411613e",
   "metadata": {},
   "outputs": [],
   "source": [
    "# Standard ML data split, 80% training, 20% testing\n",
    "x_train, x_test, y_train, y_test = train_test_split(df.X,df.Y,train_size=0.8)"
   ]
  },
  {
   "cell_type": "code",
   "execution_count": 99,
   "id": "63281791",
   "metadata": {},
   "outputs": [
    {
     "name": "stdout",
     "output_type": "stream",
     "text": [
      "For loop method: 1.3714111590497102\n",
      "Sum method: 1.3714111590497102\n",
      "5.593034744737835\n",
      "1.3714111590497102\n"
     ]
    },
    {
     "data": {
      "text/plain": [
       "<matplotlib.collections.PathCollection at 0x7f9cce5c25b0>"
      ]
     },
     "execution_count": 99,
     "metadata": {},
     "output_type": "execute_result"
    },
    {
     "data": {
      "image/png": "[encoded data removed]",
      "text/plain": [
       "<Figure size 432x288 with 1 Axes>"
      ]
     },
     "metadata": {
      "needs_background": "light"
     },
     "output_type": "display_data"
    }
   ],
   "source": [
    "# 2 ways of doing the linear regression calculation to find a gradient\n",
    "\n",
    "x_mean = df[\"X\"].mean()\n",
    "y_mean = df[\"Y\"].mean()\n",
    "\n",
    "b_u = 0 #Calculation Upper\n",
    "b_l = 0 #Calculation Lower\n",
    "\n",
    "for i in range(x_train.shape[0]):\n",
    "    \n",
    "    b_u += (x_train.values[i] - x_mean) * (y_train.values[i] - y_mean)\n",
    "    b_l += (x_train.values[i] - x_mean)**2\n",
    "    \n",
    "b = b_u/b_l\n",
    "print(\"For loop method: {}\".format(b))\n",
    "\n",
    "# I think this one is nicer\n",
    "\n",
    "bupper = sum( (x_train - x_mean) * (y_train - y_mean) )\n",
    "blower = sum( (x_train - x_mean)**2 )\n",
    "bee = bupper/blower\n",
    "print(\"Sum method: {}\".format(bee))\n",
    "\n",
    "# Calculate some constant to add to the gradient\n",
    "a = y_mean - b * x_mean\n",
    "\n",
    "print(a)\n",
    "print(b)\n",
    "\n",
    "# this is y= mx + c but written as\n",
    "# y = a + bx\n",
    "y = a + b * x_train.values\n",
    "\n",
    "# Plot the prediction line\n",
    "x = x_train\n",
    "plt.plot(x, y, color=\"red\")\n",
    "\n",
    "\n",
    "# Show the training data to see if it's reasonable\n",
    "plt.scatter(x_train, y_train)"
   ]
  },
  {
   "cell_type": "code",
   "execution_count": 41,
   "id": "903e29d1",
   "metadata": {},
   "outputs": [],
   "source": [
    "# Splitting the data into classes, above or below our line\n",
    "class_0 = []\n",
    "class_1 = []\n",
    "\n",
    "for i in range(x_test.shape[0]):\n",
    "    \n",
    "    if y_test.values[i] < (a + b * x_test.values[i]):\n",
    "        class_0.append( (x_test.values[i], y_test.values[i]) )\n",
    "    else:\n",
    "        class_1.append( (x_test.values[i], y_test.values[i]) )\n",
    "        \n",
    "\n",
    "class_0 = np.array(class_0)\n",
    "class_1 = np.array(class_1)"
   ]
  },
  {
   "cell_type": "code",
   "execution_count": 94,
   "id": "a897c26f",
   "metadata": {},
   "outputs": [
    {
     "data": {
      "text/plain": [
       "[<matplotlib.lines.Line2D at 0x7f9cce75fb50>]"
      ]
     },
     "execution_count": 94,
     "metadata": {},
     "output_type": "execute_result"
    },
    {
     "data": {
      "image/png": "[encoded data removed]",
      "text/plain": [
       "<Figure size 432x288 with 1 Axes>"
      ]
     },
     "metadata": {
      "needs_background": "light"
     },
     "output_type": "display_data"
    }
   ],
   "source": [
    "# Plotting the classes\n",
    "plt.scatter(class_0[:,0], class_0[:,1])\n",
    "plt.scatter(class_1[:,0], class_1[:,1])\n",
    "\n",
    "# Add our prediction line\n",
    "plt.plot(x,y)\n",
    "\n",
    "# Wow, it's pretty good!"
   ]
  },
  {
   "cell_type": "code",
   "execution_count": 49,
   "id": "64ccb4a9",
   "metadata": {},
   "outputs": [
    {
     "name": "stdout",
     "output_type": "stream",
     "text": [
      "2.1023562620404683\n"
     ]
    }
   ],
   "source": [
    "# Calculating the error for our line\n",
    "\n",
    "err = 0\n",
    "for i in range(x_test.shape[0]):\n",
    "    err += abs( y_test.values[i] - (a + b * x_test.values[i]))\n",
    "    \n",
    "# Divide by mean to show the typical error\n",
    "print(err / y_test.mean())"
   ]
  },
  {
   "cell_type": "code",
   "execution_count": 98,
   "id": "663ff21a",
   "metadata": {},
   "outputs": [
    {
     "data": {
      "text/plain": [
       "[<matplotlib.lines.Line2D at 0x7f9cce667c70>]"
      ]
     },
     "execution_count": 98,
     "metadata": {},
     "output_type": "execute_result"
    },
    {
     "data": {
      "image/png": "[encoded data removed]",
      "text/plain": [
       "<Figure size 432x288 with 1 Axes>"
      ]
     },
     "metadata": {
      "needs_background": "light"
     },
     "output_type": "display_data"
    }
   ],
   "source": [
    "# Finally, show how well the prediction works on all the data\n",
    "\n",
    "\n",
    "class_0 = []\n",
    "class_1 = []\n",
    "\n",
    "for i in range(df.X.shape[0]):\n",
    "    \n",
    "    if df.Y.values[i] < (a + b * df.X.values[i]):\n",
    "        class_0.append( (df.X.values[i], df.Y.values[i]) )\n",
    "    else:\n",
    "        class_1.append( (df.X.values[i], df.Y.values[i]) )\n",
    "        \n",
    "\n",
    "class_0 = np.array(class_0)\n",
    "class_1 = np.array(class_1)\n",
    "\n",
    "# Plotting the classes\n",
    "plt.scatter(class_0[:,0], class_0[:,1])\n",
    "plt.scatter(class_1[:,0], class_1[:,1])\n",
    "\n",
    "# Add our prediction line\n",
    "plt.plot(x,y, color=\"plum\")\n",
    "\n",
    "# Wow, it's pretty good!"
   ]
  }
 ],
 "metadata": {
  "kernelspec": {
   "display_name": "Python 3",
   "language": "python",
   "name": "python3"
  },
  "language_info": {
   "codemirror_mode": {
    "name": "ipython",
    "version": 3
   },
   "file_extension": ".py",
   "mimetype": "text/x-python",
   "name": "python",
   "nbconvert_exporter": "python",
   "pygments_lexer": "ipython3",
   "version": "3.8.8"
  }
 },
 "nbformat": 4,
 "nbformat_minor": 5
}
