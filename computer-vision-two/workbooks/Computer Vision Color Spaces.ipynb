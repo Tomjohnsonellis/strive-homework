{
 "cells": [
  {
   "cell_type": "markdown",
   "source": [
    "# Computer Vision color spaces"
   ],
   "metadata": {
    "code_folding": []
   }
  },
  {
   "cell_type": "markdown",
   "source": [
    "### Import statements"
   ],
   "metadata": {}
  },
  {
   "cell_type": "code",
   "execution_count": 2,
   "source": [
    "import cv2\n",
    "import numpy as np\n",
    "import matplotlib.pyplot as plt"
   ],
   "outputs": [],
   "metadata": {
    "ExecuteTime": {
     "end_time": "2020-02-15T09:14:06.475524Z",
     "start_time": "2020-02-15T09:14:06.427139Z"
    }
   }
  },
  {
   "cell_type": "markdown",
   "source": [
    "### To edit an image making a copy of it is always a good idea!"
   ],
   "metadata": {}
  },
  {
   "cell_type": "code",
   "execution_count": 3,
   "source": [
    "# Load an image\n",
    "# And make a copy of the original image to avoid manipulating the original image\n",
    "my_image = cv2.imread('../assets/swirl.jpg')\n",
    "a_copy_of_my_image = my_image.copy()\n",
    "a_copy_of_my_image.shape\n"
   ],
   "outputs": [
    {
     "output_type": "execute_result",
     "data": {
      "text/plain": [
       "(400, 400, 3)"
      ]
     },
     "metadata": {},
     "execution_count": 3
    }
   ],
   "metadata": {
    "ExecuteTime": {
     "end_time": "2020-02-15T09:35:27.721084Z",
     "start_time": "2020-02-15T09:35:27.716611Z"
    }
   }
  },
  {
   "cell_type": "markdown",
   "source": [
    "[Hint](# \"Numpy .copy function\") "
   ],
   "metadata": {}
  },
  {
   "cell_type": "markdown",
   "source": [
    "## Color Spaces"
   ],
   "metadata": {}
  },
  {
   "cell_type": "markdown",
   "source": [
    "### BGR Spliting the color channels"
   ],
   "metadata": {}
  },
  {
   "cell_type": "code",
   "execution_count": 4,
   "source": [
    "# Load a color image and split in is different B, G and R channels\n",
    "my_image = cv2.imread('../assets/swirl.jpg')\n",
    "blue = my_image[:,:,0]\n",
    "green = my_image[:,:,1]\n",
    "red = my_image[:,:,2]\n",
    "\n",
    "#or\n",
    "b,g,r = cv2.split(my_image)"
   ],
   "outputs": [],
   "metadata": {
    "ExecuteTime": {
     "end_time": "2019-11-19T14:23:21.069716Z",
     "start_time": "2019-11-19T14:22:29.674760Z"
    }
   }
  },
  {
   "cell_type": "markdown",
   "source": [
    "[Hint](# \"cv2.split\") "
   ],
   "metadata": {}
  },
  {
   "cell_type": "code",
   "execution_count": 5,
   "source": [
    "# Show each channel channel on screen\n",
    "def show(img):\n",
    "    cv2.imshow(\"Image\",img)\n",
    "    cv2.waitKey(0)\n",
    "    cv2.destroyAllWindows()\n",
    "    cv2.waitKey(1)\n",
    "\n",
    "\n",
    "show(blue)\n",
    "show(green)\n",
    "show(red)"
   ],
   "outputs": [],
   "metadata": {
    "ExecuteTime": {
     "end_time": "2019-11-19T14:23:44.812375Z",
     "start_time": "2019-11-19T14:23:29.745242Z"
    }
   }
  },
  {
   "cell_type": "markdown",
   "source": [
    "#### Merging the color channels"
   ],
   "metadata": {}
  },
  {
   "cell_type": "code",
   "execution_count": 6,
   "source": [
    "# Modify a channel and then merge them all again\n",
    "green = np.zeros_like(green)\n",
    "\n",
    "merged = cv2.merge([blue, green, red])\n",
    "show(merged)"
   ],
   "outputs": [],
   "metadata": {
    "ExecuteTime": {
     "end_time": "2019-11-18T14:20:18.472726Z",
     "start_time": "2019-11-18T14:20:11.815285Z"
    }
   }
  },
  {
   "cell_type": "markdown",
   "source": [
    "[Hint](# \"cv2.merge\") "
   ],
   "metadata": {}
  },
  {
   "cell_type": "code",
   "execution_count": 7,
   "source": [
    "# Create a black canvas with the same size as the image you loaded\n",
    "black_canvas = np.zeros_like(my_image)\n",
    "# Only want one dimension of black\n",
    "black_canvas = black_canvas[:,:,0]\n",
    "\n",
    "# show(black_canvas)\n",
    " "
   ],
   "outputs": [],
   "metadata": {
    "ExecuteTime": {
     "end_time": "2019-11-19T14:25:54.885437Z",
     "start_time": "2019-11-19T14:24:57.052078Z"
    }
   }
  },
  {
   "cell_type": "markdown",
   "source": [
    "[Hint](# \"use numpy np.zeros function with the img.shape[:2]\") "
   ],
   "metadata": {}
  },
  {
   "cell_type": "code",
   "execution_count": 8,
   "source": [
    "# Merge each channel with the black canvas \n",
    "# So you will end up with 3 images: (Red,Black,Black), (Black,Green,Black) and (Black,Black,Blue) \n",
    "# Assuming you are working with RGB, but BGR is also fine\n",
    "\n",
    "# Putting green back to original\n",
    "green = my_image[:,:,1]\n",
    "# I'll use BGR as it's the default\n",
    "BXX = cv2.merge([blue, black_canvas, black_canvas])\n",
    "XGX = cv2.merge([black_canvas, green, black_canvas])\n",
    "XXR = cv2.merge([black_canvas, black_canvas, red])\n",
    "\n",
    "print(BXX.shape)\n",
    "\n",
    "# show(BXX)\n",
    "# show(XGX)\n",
    "# show(XXR)\n"
   ],
   "outputs": [
    {
     "output_type": "stream",
     "name": "stdout",
     "text": [
      "(400, 400, 3)\n"
     ]
    }
   ],
   "metadata": {}
  },
  {
   "cell_type": "markdown",
   "source": [
    "[Hint](# \"cv2.merge\") "
   ],
   "metadata": {}
  },
  {
   "cell_type": "markdown",
   "source": [
    "### HSV: Hue Saturation Value"
   ],
   "metadata": {}
  },
  {
   "cell_type": "markdown",
   "source": [
    "#### M&Ms challenge!"
   ],
   "metadata": {
    "ExecuteTime": {
     "end_time": "2019-08-03T16:16:41.586811Z",
     "start_time": "2019-08-03T16:16:41.580866Z"
    }
   }
  },
  {
   "cell_type": "code",
   "execution_count": 9,
   "source": [
    "# Use the image below and convert it from BGR to HSV\n",
    "img = cv2.imread('../assets/mnms.png')\n",
    "# plt.figure(figsize = (20,15));\n",
    "# plt.imshow(cv2.cvtColor(img,cv2.COLOR_BGR2RGB));\n",
    "\n",
    "hsv = cv2.cvtColor(img, cv2.COLOR_BGR2HSV)"
   ],
   "outputs": [],
   "metadata": {
    "ExecuteTime": {
     "end_time": "2019-11-19T14:29:49.625236Z",
     "start_time": "2019-11-19T14:29:42.103147Z"
    }
   }
  },
  {
   "cell_type": "code",
   "execution_count": 10,
   "source": [
    "# Split the H,S and V channels \n",
    "h = hsv[:,:,0]\n",
    "s = hsv[:,:,1]\n",
    "v = hsv[:,:,2]\n",
    "# or\n",
    "# h,s,v = cv2.split(hsv)"
   ],
   "outputs": [],
   "metadata": {
    "ExecuteTime": {
     "end_time": "2019-11-19T14:39:09.957995Z",
     "start_time": "2019-11-19T14:39:09.333538Z"
    },
    "scrolled": false
   }
  },
  {
   "cell_type": "markdown",
   "source": [
    "[Hint](# \"cv2.cvtColor\") "
   ],
   "metadata": {}
  },
  {
   "cell_type": "code",
   "execution_count": 11,
   "source": [
    "# Create a mask to filter out the Blue M&Ms (remember you need a lower and upper range)\n",
    "# Make a copy of the hsv image and apply the mask to it, then display the image\n",
    "blue_low_b = (85, 0, 0)\n",
    "blue_up_b = (150, 255, 255)\n",
    "\n",
    "clone = hsv.copy()\n",
    "blue_mask = cv2.inRange(clone, blue_low_b, blue_up_b)\n",
    "blue_masked_sweets = cv2.bitwise_and(clone,clone, mask=blue_mask)\n",
    "\n",
    "blue_masked_sweets = cv2.cvtColor(blue_masked_sweets, cv2.COLOR_HSV2BGR)\n",
    "show(blue_masked_sweets)\n"
   ],
   "outputs": [],
   "metadata": {
    "ExecuteTime": {
     "end_time": "2019-11-19T14:39:23.171577Z",
     "start_time": "2019-11-19T14:39:22.790933Z"
    }
   }
  },
  {
   "cell_type": "markdown",
   "source": [
    "[Hint](# \"cv2.inRange\") "
   ],
   "metadata": {}
  },
  {
   "cell_type": "code",
   "execution_count": 12,
   "source": [
    "# Repeat the same but now with the greens\n",
    "green_low_b = (40, 0, 0)\n",
    "green_up_b = (85, 255, 255)\n",
    "\n",
    "clone = hsv.copy()\n",
    "green_mask = cv2.inRange(clone, green_low_b, green_up_b)\n",
    "green_masked_sweets = cv2.bitwise_and(clone,clone, mask=green_mask)\n",
    "\n",
    "green_masked_sweets = cv2.cvtColor(green_masked_sweets, cv2.COLOR_HSV2BGR)\n",
    "show(green_masked_sweets)"
   ],
   "outputs": [],
   "metadata": {
    "ExecuteTime": {
     "end_time": "2019-11-19T14:39:42.232166Z",
     "start_time": "2019-11-19T14:39:41.843412Z"
    }
   }
  },
  {
   "cell_type": "code",
   "execution_count": 13,
   "source": [
    "# Now combine both masks togheter so we can see all greens and blues in the same image!\n",
    "blue_and_green_sweets = cv2.bitwise_or(blue_masked_sweets, green_masked_sweets)\n",
    "show(blue_and_green_sweets)\n"
   ],
   "outputs": [],
   "metadata": {
    "ExecuteTime": {
     "end_time": "2019-11-19T14:39:50.013297Z",
     "start_time": "2019-11-19T14:39:49.588290Z"
    }
   }
  },
  {
   "cell_type": "code",
   "execution_count": 16,
   "source": [
    "# Now lets combine both masks but also some opacity, we want to be able to see all M&Ms but\n",
    "# Blues and greens will show as int he image above while the other colors will be faded out with some opacity\n",
    "# You just need to add alpha to apply opacity to the dark parts of the mask, then display the image\n",
    "combined = cv2.addWeighted(img, 0.25, blue_and_green_sweets, 0.75, 0)\n",
    "show(combined)"
   ],
   "outputs": [],
   "metadata": {
    "ExecuteTime": {
     "end_time": "2019-11-19T14:40:32.223935Z",
     "start_time": "2019-11-19T14:40:31.596814Z"
    }
   }
  },
  {
   "cell_type": "markdown",
   "source": [
    "[Hint](# \"cv2.addWeighted\") "
   ],
   "metadata": {}
  },
  {
   "cell_type": "code",
   "execution_count": 15,
   "source": [
    "# Below you will find an example with oranges and greens just for reference so you can see what we want to accomplish\n",
    "# In this example the oranges are not perfect, and it can be improved a lot easily."
   ],
   "outputs": [],
   "metadata": {
    "ExecuteTime": {
     "end_time": "2019-08-19T14:38:07.622905Z",
     "start_time": "2019-08-19T14:38:07.590404Z"
    },
    "hidden": true
   }
  },
  {
   "cell_type": "markdown",
   "source": [
    "## Mini project"
   ],
   "metadata": {}
  },
  {
   "cell_type": "markdown",
   "source": [
    "### Level 1"
   ],
   "metadata": {}
  },
  {
   "cell_type": "markdown",
   "source": [
    "#### Color tracker"
   ],
   "metadata": {}
  },
  {
   "cell_type": "markdown",
   "source": [
    "1. Given an image with an specific color on it isolate the color and only shot that item"
   ],
   "metadata": {}
  },
  {
   "cell_type": "markdown",
   "source": [
    "### Level 2"
   ],
   "metadata": {}
  },
  {
   "cell_type": "markdown",
   "source": [
    "#### Color tracker"
   ],
   "metadata": {
    "heading_collapsed": true
   }
  },
  {
   "cell_type": "markdown",
   "source": [
    "1. Make it track a item in real time (either with a video or a webcam)"
   ],
   "metadata": {
    "hidden": true
   }
  },
  {
   "cell_type": "markdown",
   "source": [
    "### Level 3"
   ],
   "metadata": {
    "heading_collapsed": true
   }
  },
  {
   "cell_type": "markdown",
   "source": [
    "#### Color Tracker"
   ],
   "metadata": {
    "heading_collapsed": true,
    "hidden": true
   }
  },
  {
   "cell_type": "markdown",
   "source": [
    "1. Can you make it track two or more different items at the same time?"
   ],
   "metadata": {
    "hidden": true
   }
  },
  {
   "cell_type": "code",
   "execution_count": null,
   "source": [],
   "outputs": [],
   "metadata": {}
  }
 ],
 "metadata": {
  "kernelspec": {
   "name": "python3",
   "display_name": "Python 3.9.6 64-bit ('computer-vision': conda)"
  },
  "language_info": {
   "codemirror_mode": {
    "name": "ipython",
    "version": 3
   },
   "file_extension": ".py",
   "mimetype": "text/x-python",
   "name": "python",
   "nbconvert_exporter": "python",
   "pygments_lexer": "ipython3",
   "version": "3.9.6"
  },
  "interpreter": {
   "hash": "011e758be91d26e8d288cbf90abbb5b9a9569c809becae42b5f392133dba3285"
  }
 },
 "nbformat": 4,
 "nbformat_minor": 2
}