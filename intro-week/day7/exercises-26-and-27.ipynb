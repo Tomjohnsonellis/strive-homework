{
 "cells": [
  {
   "cell_type": "markdown",
   "id": "sealed-cattle",
   "metadata": {},
   "source": [
    "26. You have a DataFrame that consists of 10 columns of floating--point numbers. Suppose that exactly 5 entries in each row are NaN values. For each row of the DataFrame, find the column which contains the third NaN value.\n",
    "\n",
    "(You should return a Series of column labels. Try not to use .iterrows())"
   ]
  },
  {
   "cell_type": "code",
   "execution_count": 7,
   "id": "level-pantyhose",
   "metadata": {},
   "outputs": [
    {
     "name": "stdout",
     "output_type": "stream",
     "text": [
      "\n",
      "Results: \n",
      "0    3\n",
      "1    8\n",
      "2    5\n",
      "3    6\n",
      "4    8\n",
      "dtype: int64\n"
     ]
    }
   ],
   "source": [
    "# I apologise for this code, if you have a more concise version please let me know in the feedback!\n",
    "import numpy as np\n",
    "import pandas as pd\n",
    "data = {\n",
    "1:[np.nan,2,np.nan,4,5],\n",
    "2:[np.nan,2,3,np.nan,5],\n",
    "3:[np.nan,2,np.nan,4,5],\n",
    "4:[1,np.nan,3,np.nan,np.nan],\n",
    "5:[1,2,np.nan,4,5],\n",
    "6:[1,np.nan,3,np.nan,np.nan],\n",
    "7:[1,2,3,4,5],\n",
    "8:[1,np.nan,3,np.nan,np.nan],\n",
    "9:[1,2,3,4,np.nan],\n",
    "10:[1,np.nan,3,4,5]}\n",
    "\n",
    "df = pd.DataFrame(data)\n",
    "#print(df)\n",
    "\n",
    "# First, I find out what values are null\n",
    "nans = df.isnull()\n",
    "#print(nans)\n",
    "\n",
    "# Then convert True/False to 1/0\n",
    "nans = nans[:] + 0\n",
    "#print(nans)\n",
    "\n",
    "# Then replace the value with the cumulative sum\n",
    "nans = nans.cumsum(axis=1)\n",
    "#print(nans)\n",
    "\n",
    "# As each \"True\" adds 1 to the cumulative sum, we now only care about finding a \"3\"\n",
    "nans = nans[nans[:] == 3]\n",
    "#print(nans)\n",
    "\n",
    "# dataframe.idxmax() returns the first occurence of a maximum value, which in our case is 3\n",
    "labels = nans.idxmax(axis=1, skipna=True)\n",
    "\n",
    "# Finally, display the columns containing the 3rd occurence of NaN\n",
    "print(\"\")\n",
    "print(\"Results: \")\n",
    "print(labels)\n"
   ]
  },
  {
   "cell_type": "markdown",
   "id": "stuck-allocation",
   "metadata": {},
   "source": [
    "**27.** A DataFrame has a column of groups 'grps' and and column of numbers 'vals'. For example: \n",
    "\n",
    "```python\n",
    "df = pd.DataFrame({'grps': list('aaabbcaabcccbbc'), \n",
    "                   'vals': [12,345,3,1,45,14,4,52,54,23,235,21,57,3,87]})\n",
    "```\n",
    "For each *group*, find the sum of the three greatest values."
   ]
  },
  {
   "cell_type": "code",
   "execution_count": 8,
   "id": "portable-turner",
   "metadata": {},
   "outputs": [
    {
     "data": {
      "text/html": [
       "<div>\n",
       "<style scoped>\n",
       "    .dataframe tbody tr th:only-of-type {\n",
       "        vertical-align: middle;\n",
       "    }\n",
       "\n",
       "    .dataframe tbody tr th {\n",
       "        vertical-align: top;\n",
       "    }\n",
       "\n",
       "    .dataframe thead th {\n",
       "        text-align: right;\n",
       "    }\n",
       "</style>\n",
       "<table border=\"1\" class=\"dataframe\">\n",
       "  <thead>\n",
       "    <tr style=\"text-align: right;\">\n",
       "      <th></th>\n",
       "      <th>0</th>\n",
       "    </tr>\n",
       "  </thead>\n",
       "  <tbody>\n",
       "    <tr>\n",
       "      <th>a</th>\n",
       "      <td>409</td>\n",
       "    </tr>\n",
       "    <tr>\n",
       "      <th>b</th>\n",
       "      <td>156</td>\n",
       "    </tr>\n",
       "    <tr>\n",
       "      <th>c</th>\n",
       "      <td>345</td>\n",
       "    </tr>\n",
       "  </tbody>\n",
       "</table>\n",
       "</div>"
      ],
      "text/plain": [
       "     0\n",
       "a  409\n",
       "b  156\n",
       "c  345"
      ]
     },
     "execution_count": 8,
     "metadata": {},
     "output_type": "execute_result"
    }
   ],
   "source": [
    "# Initialising\n",
    "df = pd.DataFrame({'grps': list('aaabbcaabcccbbc'), 'vals': [12,345,3,1,45,14,4,52,54,23,235,21,57,3,87]})\n",
    "\n",
    "# Sorting was helpful for debugging, but ultimately not necessary for the program\n",
    "#df = df.sort_values([\"grps\",\"vals\"], ascending = [True, False])\n",
    "\n",
    "# All the unique groups - there must be a way to split up the dataframe using this\n",
    "# but due to time constraints I will do this the ugly way.\n",
    "groups = df[\"grps\"].unique()\n",
    "\n",
    "# Build all the groups we need manually\n",
    "group_a = df[df[\"grps\"] == \"a\"]\n",
    "group_b = df[df[\"grps\"] == \"b\"]\n",
    "group_c = df[df[\"grps\"] == \"c\"]\n",
    "\n",
    "# Find the sum of the 3 largest numbers of each of those groups\n",
    "sum_a = group_a[\"vals\"].nlargest(3).sum()\n",
    "sum_b = group_b[\"vals\"].nlargest(3).sum()\n",
    "sum_c = group_c[\"vals\"].nlargest(3).sum()\n",
    "\n",
    "# Store them\n",
    "sums = [sum_a,sum_b,sum_c]\n",
    "\n",
    "# Present the results\n",
    "results = pd.DataFrame(data=sums, index = groups)\n",
    "results\n",
    "\n",
    "# I'm almost certain there's a beatiful pandas way of \n",
    "# doing this in about 2 lines of code somewhere on the internet,\n",
    "# If you something more concise that this please let me know in the feedback!"
   ]
  }
 ],
 "metadata": {
  "kernelspec": {
   "display_name": "Python 3",
   "language": "python",
   "name": "python3"
  },
  "language_info": {
   "codemirror_mode": {
    "name": "ipython",
    "version": 3
   },
   "file_extension": ".py",
   "mimetype": "text/x-python",
   "name": "python",
   "nbconvert_exporter": "python",
   "pygments_lexer": "ipython3",
   "version": "3.8.8"
  }
 },
 "nbformat": 4,
 "nbformat_minor": 5
}
