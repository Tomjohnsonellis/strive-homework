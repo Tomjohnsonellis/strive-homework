{
 "cells": [
  {
   "cell_type": "markdown",
   "id": "celtic-prague",
   "metadata": {},
   "source": [
    "23. Given a DataFrame of numeric values, say\n",
    "\n",
    "df = pd.DataFrame(np.random.random(size=(5, 3))) # a 5x3 frame of float values\n",
    "\n",
    "how do you subtract the row mean from each element in the row?\n"
   ]
  },
  {
   "cell_type": "code",
   "execution_count": 5,
   "id": "promising-adult",
   "metadata": {},
   "outputs": [
    {
     "data": {
      "text/html": [
       "<div>\n",
       "<style scoped>\n",
       "    .dataframe tbody tr th:only-of-type {\n",
       "        vertical-align: middle;\n",
       "    }\n",
       "\n",
       "    .dataframe tbody tr th {\n",
       "        vertical-align: top;\n",
       "    }\n",
       "\n",
       "    .dataframe thead th {\n",
       "        text-align: right;\n",
       "    }\n",
       "</style>\n",
       "<table border=\"1\" class=\"dataframe\">\n",
       "  <thead>\n",
       "    <tr style=\"text-align: right;\">\n",
       "      <th></th>\n",
       "      <th>0</th>\n",
       "      <th>1</th>\n",
       "      <th>2</th>\n",
       "    </tr>\n",
       "  </thead>\n",
       "  <tbody>\n",
       "    <tr>\n",
       "      <th>0</th>\n",
       "      <td>0.187310</td>\n",
       "      <td>-0.098615</td>\n",
       "      <td>-0.088695</td>\n",
       "    </tr>\n",
       "    <tr>\n",
       "      <th>1</th>\n",
       "      <td>0.215850</td>\n",
       "      <td>-0.391538</td>\n",
       "      <td>0.175688</td>\n",
       "    </tr>\n",
       "    <tr>\n",
       "      <th>2</th>\n",
       "      <td>0.068426</td>\n",
       "      <td>-0.128087</td>\n",
       "      <td>0.059661</td>\n",
       "    </tr>\n",
       "    <tr>\n",
       "      <th>3</th>\n",
       "      <td>0.474848</td>\n",
       "      <td>-0.166091</td>\n",
       "      <td>-0.308757</td>\n",
       "    </tr>\n",
       "    <tr>\n",
       "      <th>4</th>\n",
       "      <td>-0.235097</td>\n",
       "      <td>0.261354</td>\n",
       "      <td>-0.026258</td>\n",
       "    </tr>\n",
       "  </tbody>\n",
       "</table>\n",
       "</div>"
      ],
      "text/plain": [
       "          0         1         2\n",
       "0  0.187310 -0.098615 -0.088695\n",
       "1  0.215850 -0.391538  0.175688\n",
       "2  0.068426 -0.128087  0.059661\n",
       "3  0.474848 -0.166091 -0.308757\n",
       "4 -0.235097  0.261354 -0.026258"
      ]
     },
     "execution_count": 5,
     "metadata": {},
     "output_type": "execute_result"
    }
   ],
   "source": [
    "df = pd.DataFrame(np.random.random(size=(5, 3))) # a 5x3 frame of float values\n",
    "\n",
    "# I spent far too long on this one, I need to be vigilant about my time usage!\n",
    "# This is my old train-of-thought\n",
    "\n",
    "#print(df)\n",
    "#print(df[0] - pd.DataFrame.mean(df[0]))\n",
    "#rowmean = pd.DataFrame.mean(df, axis=1)\n",
    "#df[3] = rowmean\n",
    "#pd.DataFrame.insert(555,\"means\",rowmean)\n",
    "#result = (df - df[3])\n",
    "#print(df.subtract(rowmean))\n",
    "#print(rowmean)\n",
    "\n",
    "# And this was all I needed!\n",
    "df.sub(df.mean(axis=1), axis=0)\n"
   ]
  },
  {
   "cell_type": "markdown",
   "id": "outside-alberta",
   "metadata": {},
   "source": [
    "24. Suppose you have DataFrame with 10 columns of real numbers, for example:\n",
    "\n",
    "df = pd.DataFrame(np.random.random(size=(5, 10)), columns=list('abcdefghij'))\n",
    "\n",
    "Which column of numbers has the smallest sum? (Find that column's label.)\n"
   ]
  },
  {
   "cell_type": "code",
   "execution_count": 6,
   "id": "changed-cotton",
   "metadata": {},
   "outputs": [
    {
     "name": "stdout",
     "output_type": "stream",
     "text": [
      "          a         b         c         d         e         f         g  \\\n",
      "0  0.994160  0.877147  0.231513  0.770083  0.293279  0.020310  0.301783   \n",
      "1  0.157807  0.139098  0.337490  0.242500  0.533837  0.021106  0.042682   \n",
      "2  0.240196  0.036125  0.839275  0.452847  0.686348  0.296512  0.164477   \n",
      "3  0.850895  0.003284  0.157492  0.799607  0.304326  0.821742  0.272288   \n",
      "4  0.205541  0.023179  0.083602  0.173915  0.350734  0.624379  0.003256   \n",
      "\n",
      "          h         i         j  \n",
      "0  0.047414  0.287387  0.722131  \n",
      "1  0.727453  0.253549  0.607817  \n",
      "2  0.629252  0.118292  0.283725  \n",
      "3  0.637678  0.289359  0.610489  \n",
      "4  0.038941  0.657409  0.106334  \n",
      "a    2.448599\n",
      "b    1.078833\n",
      "c    1.649372\n",
      "d    2.438952\n",
      "e    2.168524\n",
      "f    1.784049\n",
      "g    0.784485\n",
      "h    2.080737\n",
      "i    1.605997\n",
      "j    2.330495\n",
      "dtype: float64\n",
      "0.7844854917877169\n"
     ]
    },
    {
     "data": {
      "text/plain": [
       "Index(['g'], dtype='object')"
      ]
     },
     "execution_count": 6,
     "metadata": {},
     "output_type": "execute_result"
    }
   ],
   "source": [
    "# This one also took me a long time, It's probably a bit lengthy but:\n",
    "# Calculate the sums\n",
    "# Find the smallest one\n",
    "# Find the index of the cell with the smallest sum\n",
    "\n",
    "df = pd.DataFrame(np.random.random(size=(5, 10)), columns=list('abcdefghij'))\n",
    "print(df)\n",
    "#print(df.min())\n",
    "#print(df.min().sum())\n",
    "\n",
    "#print(df.sum())\n",
    "#print(df.sum().min())\n",
    "\n",
    "sums = df.sum()\n",
    "minsum = min(sums)\n",
    "\n",
    "print(sums)\n",
    "print(minsum)\n",
    "\n",
    "sums[sums == minsum].index"
   ]
  }
 ],
 "metadata": {
  "kernelspec": {
   "display_name": "Python 3",
   "language": "python",
   "name": "python3"
  },
  "language_info": {
   "codemirror_mode": {
    "name": "ipython",
    "version": 3
   },
   "file_extension": ".py",
   "mimetype": "text/x-python",
   "name": "python",
   "nbconvert_exporter": "python",
   "pygments_lexer": "ipython3",
   "version": "3.8.8"
  }
 },
 "nbformat": 4,
 "nbformat_minor": 5
}
