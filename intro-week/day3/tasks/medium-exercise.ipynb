{
 "cells": [
  {
   "cell_type": "markdown",
   "metadata": {},
   "source": [
    "Exercise 5.8 (🌶️): A, B, C, and D are all different digits. The number DCBA is equal to 4 times the number ABCD. What are the digits? Note: to make ABCD and DCBA conventional numbers, neither A nor D can be zero. Use a quadruple-nested loop."
   ]
  },
  {
   "cell_type": "code",
   "execution_count": 34,
   "metadata": {},
   "outputs": [
    {
     "name": "stdout",
     "output_type": "stream",
     "text": [
      "DCBA: 8712\n",
      "ABCD: 2178\n"
     ]
    }
   ],
   "source": [
    "# DCBA = 4 x ABCD\n",
    "# A != 0\n",
    "# D != 0\n",
    "# All numbers are unique\n",
    "\n",
    "# We will simply iterate through all possible combinations of valid numbers until\n",
    "# we find a combination that meets the requirements\n",
    "\n",
    "A = range(1,10)\n",
    "B = range(0,10)\n",
    "C = range(0,10)\n",
    "D = range(1,10)\n",
    "\n",
    "for value_A in A:\n",
    "    for value_B in B:\n",
    "        for value_C in C:\n",
    "            for value_D in D:\n",
    "                \n",
    "                # This command checks if DCBA is equal to 4 times ABCD\n",
    "                if ( int( str(value_D) + str(value_C) + str(value_B) + str(value_A) ) ) == (4 * ( int( str(value_A) + str(value_B) + str(value_C) + str(value_D) ))):\n",
    "                    \n",
    "                    # This command checks that all the digits are unique\n",
    "                    if ( (value_A != value_B)  and (value_A != value_C)  and (value_A != value_D)  and (value_B != value_C)  and (value_B != value_D)  and (value_C != value_D) ):\n",
    "                        # Finally we print the output\n",
    "                        print(\"DCBA: \" + ( str(value_D) + str(value_C) + str(value_B) + str(value_A)))\n",
    "                        print(\"ABCD: \" + ( str(value_A) + str(value_B) + str(value_C) + str(value_D)))\n",
    "\n",
    "\n"
   ]
  },
  {
   "cell_type": "code",
   "execution_count": null,
   "metadata": {},
   "outputs": [],
   "source": []
  }
 ],
 "metadata": {
  "kernelspec": {
   "display_name": "Python 3",
   "language": "python",
   "name": "python3"
  },
  "language_info": {
   "codemirror_mode": {
    "name": "ipython",
    "version": 3
   },
   "file_extension": ".py",
   "mimetype": "text/x-python",
   "name": "python",
   "nbconvert_exporter": "python",
   "pygments_lexer": "ipython3",
   "version": "3.8.5"
  }
 },
 "nbformat": 4,
 "nbformat_minor": 4
}
