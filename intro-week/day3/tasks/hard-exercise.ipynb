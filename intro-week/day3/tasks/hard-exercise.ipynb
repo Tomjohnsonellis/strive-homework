{
 "cells": [
  {
   "cell_type": "markdown",
   "metadata": {},
   "source": [
    "Exercise 5.6 (🌶️🌶️): A prime number is a positive integer that is dividable by exactly two different numbers, namely 1 and itself. The lowest (and only even) prime number is 2. The first 10 prime numbers are 2, 3, 5, 7, 11, 13, 17, 19, 23, and 29. Write a function that returns a list off all prime numbers below a given number.\n",
    "\n",
    "Hint: In a loop where you test the possible dividers of the number, you can conclude that the number is not prime as soon as you encounter a number other than 1 or the number itself that divides it. However, you can only conclude that it actually is prime after you have tested all possible dividers.\n",
    "\n",
    "What is the challenge here? You have to try to optimize your code and try to make it work for the highest prime number you can encounter before you run out of memory. For low numbers you should know how to do it already\n"
   ]
  },
  {
   "cell_type": "code",
   "execution_count": 58,
   "metadata": {},
   "outputs": [
    {
     "name": "stdout",
     "output_type": "stream",
     "text": [
      "2\n",
      "3\n",
      "4\n",
      "5\n",
      "We have found a factor: 5\n",
      "35 is not prime.\n",
      "-----\n",
      "Enter a number to check if it is prime: 7\n",
      "2\n",
      "3\n",
      "7 is prime!\n"
     ]
    },
    {
     "data": {
      "text/plain": [
       "True"
      ]
     },
     "execution_count": 58,
     "metadata": {},
     "output_type": "execute_result"
    }
   ],
   "source": [
    "def prime_check(number):\n",
    "    \n",
    "    # Create a list of all the possible factors to check\n",
    "    possible_factors = range(2,int((number + 1) / 2)) # No factor will be more than half the size of the number\n",
    "    for value in possible_factors:\n",
    "        # Comment out below if using large numbers\n",
    "        print(value)\n",
    "        if number % value == 0:\n",
    "            print(\"We have found a factor: \" + str(value))\n",
    "            print(str(number) + \" is not prime.\")\n",
    "            return False\n",
    "    \n",
    "    # If we have not found a factor we will conclude that the number is prime.\n",
    "    print(str(number) + \" is prime!\")\n",
    "    return True\n",
    "\n",
    "\n",
    "prime_check(35)\n",
    "print(\"-----\")\n",
    "user_number = input(\"Enter a number to check if it is prime: \")\n",
    "prime_check(int(user_number))\n"
   ]
  }
 ],
 "metadata": {
  "kernelspec": {
   "display_name": "Python 3",
   "language": "python",
   "name": "python3"
  },
  "language_info": {
   "codemirror_mode": {
    "name": "ipython",
    "version": 3
   },
   "file_extension": ".py",
   "mimetype": "text/x-python",
   "name": "python",
   "nbconvert_exporter": "python",
   "pygments_lexer": "ipython3",
   "version": "3.8.5"
  }
 },
 "nbformat": 4,
 "nbformat_minor": 4
}
