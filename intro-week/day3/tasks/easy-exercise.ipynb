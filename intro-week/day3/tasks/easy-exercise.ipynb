{
 "cells": [
  {
   "cell_type": "markdown",
   "metadata": {},
   "source": [
    "\n",
    "Exercise 1.1: The cover price of a book is 24.95 EUR, but bookstores get a 40 percent discount. Shipping costs 3 EUR for the first copy and 75 cents for each additional copy. Calculate the total wholesale costs for 60 copies. \n"
   ]
  },
  {
   "cell_type": "code",
   "execution_count": null,
   "metadata": {},
   "outputs": [],
   "source": [
    "## Exercise 1.1 - Book prices\n",
    "\n",
    "book_price = 24.95\n",
    "discount = (1 - 0.4) # A Discount of 40%\n",
    "\n",
    "# Record how many books they are ordering\n",
    "number_of_books = 60\n",
    "\n",
    "# Calculate how much the bookstore will actually pay per book\n",
    "discounted_book_price = book_price * discount\n",
    "print(\"Book price after discount is: \" + str(discounted_book_price))\n",
    "\n",
    "total_book_price = (discounted_book_price * number_of_books)\n",
    "print(\"Totat cost of just books is: \" + str(total_book_price))\n",
    "\n",
    "# Calculate the total shipping cost\n",
    "# (The first book is 3 EUR, each one after is 0.75 EUR)\n",
    "shipping_cost = 3 + (0.75 * (number_of_books -1))\n",
    "print(\"The shipping cost for this amount of books is: \" + str(shipping_cost))\n",
    "\n",
    "\n",
    "# Sum these two values to find the total cost of 60 books\n",
    "total_cost = total_book_price + shipping_cost\n",
    "print(str(total_book_price) + \" + \" + str(shipping_cost) + \" = \" + str(total_cost))\n",
    "print(\"Total cost: \" + str(total_cost))"
   ]
  }
 ],
 "metadata": {
  "kernelspec": {
   "display_name": "Python 3",
   "language": "python",
   "name": "python3"
  },
  "language_info": {
   "codemirror_mode": {
    "name": "ipython",
    "version": 3
   },
   "file_extension": ".py",
   "mimetype": "text/x-python",
   "name": "python",
   "nbconvert_exporter": "python",
   "pygments_lexer": "ipython3",
   "version": "3.8.5"
  }
 },
 "nbformat": 4,
 "nbformat_minor": 4
}
