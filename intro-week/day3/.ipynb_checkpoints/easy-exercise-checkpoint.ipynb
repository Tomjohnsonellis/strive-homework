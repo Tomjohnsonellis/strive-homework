{
 "cells": [
  {
   "cell_type": "markdown",
   "metadata": {},
   "source": [
    "**Exercise 5.2:** Write and test three functions that return the largest, the smallest, and the number of dividables by 3 in a given collection of numbers. Use the algorithm described earlier in the Part 5 lecture :)"
   ]
  },
  {
   "cell_type": "code",
   "execution_count": null,
   "metadata": {},
   "outputs": [],
   "source": [
    "number_set = [10,20,30,99,88,77,42,2,4,8,16,32,64]\n",
    "#print(number_set)\n",
    "\n",
    "def find_largest(collection_of_numbers):\n",
    "    # Initialise a variable...\n",
    "    current_largest = collection_of_numbers[0]\n",
    "    \n",
    "    for number in collection_of_numbers:\n",
    "        # Check if each number is larger than one we've checked before\n",
    "        if number > current_largest:\n",
    "            # If it is, great, we'll update what our biggest number is\n",
    "            current_largest = number\n",
    "    \n",
    "    return current_largest\n",
    "\n",
    "def find_smallest(collection_of_numbers):\n",
    "    # Initialise a variable...\n",
    "    current_smallest = collection_of_numbers[0]\n",
    "    \n",
    "    for number in collection_of_numbers:\n",
    "        # Check if each number is smaller than one we've checked before\n",
    "        if number < current_smallest:\n",
    "            # If it is, great, we'll update what our smallest number is\n",
    "            current_smallest = number\n",
    "    \n",
    "    return current_smallest\n",
    "\n",
    "def find_multiples_of_3(collection_of_numbers):\n",
    "    # Initialise a counter...\n",
    "    count = 0\n",
    "    \n",
    "    for number in collection_of_numbers:\n",
    "        if (number % 3 == 0):\n",
    "            count += 1\n",
    "            \n",
    "    return count\n",
    "    \n",
    "print(\"In this number set...\")\n",
    "\n",
    "print(\"There are \" + str(find_multiples_of_3(number_set)) + \" multiples of 3.\")\n",
    "    \n",
    "print(\"The largest number is: \" + str(find_largest(number_set)))\n",
    "\n",
    "print(\"The smallest number is: \" + str(find_smallest(number_set)))"
   ]
  }
 ],
 "metadata": {
  "kernelspec": {
   "display_name": "Python 3",
   "language": "python",
   "name": "python3"
  },
  "language_info": {
   "codemirror_mode": {
    "name": "ipython",
    "version": 3
   },
   "file_extension": ".py",
   "mimetype": "text/x-python",
   "name": "python",
   "nbconvert_exporter": "python",
   "pygments_lexer": "ipython3",
   "version": "3.8.5"
  }
 },
 "nbformat": 4,
 "nbformat_minor": 4
}
