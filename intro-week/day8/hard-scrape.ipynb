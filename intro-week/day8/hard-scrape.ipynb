{
 "cells": [
  {
   "cell_type": "markdown",
   "id": "chemical-vision",
   "metadata": {},
   "source": [
    "Exercise:\n",
    "\n",
    "    Extract the 10 days weather from san Francisco from weather.com.\n",
    "\n",
    "    inspect with the console\n",
    "    write code to target the right elements of the text\n",
    "    For each day, you need to store:\n",
    "\n",
    "    The day of the week (Saturday)\n",
    "    The date (12/09)\n",
    "    A short description of the conditions (Clear early then increasing cloudiness after midnight. Low 41F. Winds light and variable)\n",
    "    The temperature low and high, with a function of your own to convert into Celsius\n",
    "    For each element you scrape, The name of the item you targetted (ex: DailyContent--daypartDate--3MM0J)\n",
    "    Save all of this into a Pandas dataframe"
   ]
  },
  {
   "cell_type": "markdown",
   "id": "signed-government",
   "metadata": {},
   "source": [
    "https://weather.com/weather/tenday/l/San+Francisco+CA?canonicalCityId=dfdaba8cbe3a4d12a8796e1f7b1ccc7174b4b0a2d5ddb1c8566ae9f154fa638c"
   ]
  },
  {
   "cell_type": "code",
   "execution_count": 126,
   "id": "undefined-alloy",
   "metadata": {},
   "outputs": [
    {
     "name": "stdout",
     "output_type": "stream",
     "text": [
      "html\n",
      "body\n",
      "div\n",
      "div\n",
      "div\n",
      "div\n",
      "div\n"
     ]
    }
   ],
   "source": [
    "# No idea with this one, I'll be going over everything today after debrief.\n",
    "\n",
    "from bs4 import BeautifulSoup\n",
    "import numpy as np\n",
    "import pandas as pd\n",
    "import requests\n",
    "import json\n",
    "\n",
    "\n",
    "webpage = requests.get(\"https://weather.com/weather/tenday/l/San+Francisco+CA?canonicalCityId=dfdaba8cbe3a4d12a8796e1f7b1ccc7174b4b0a2d5ddb1c8566ae9f154fa638c\")\n",
    "\n",
    "soup = BeautifulSoup(webpage.content, \"html.parser\")\n",
    "\n",
    "\n",
    "# This is the xpath of the box around the weather information\n",
    "# /html/body/div[1]/main/div[2]/main/div[1]/section/div[2]\n",
    "\n",
    "\n",
    "# I attempted to map out a path to it but found this very confusing\n",
    "html = list(soup.children)[1]\n",
    "body = list(html.children)[1]\n",
    "div = list(body.children)[0]\n",
    "main = list(div.children)[2]\n",
    "div_two = list(main.children)[1]\n",
    "main_two = list(div_two.children)[0]\n",
    "div_three = list(main_two.children)[0]\n",
    "\n",
    "# This was to try and identify what object I was using\n",
    "things = [html.name,body.name,div.name,main.name,div_two.name,main_two.name,div_three.name]\n",
    "for item in things:\n",
    "    print(item)\n"
   ]
  },
  {
   "cell_type": "code",
   "execution_count": null,
   "id": "cooked-calibration",
   "metadata": {},
   "outputs": [],
   "source": []
  }
 ],
 "metadata": {
  "kernelspec": {
   "display_name": "Python 3",
   "language": "python",
   "name": "python3"
  },
  "language_info": {
   "codemirror_mode": {
    "name": "ipython",
    "version": 3
   },
   "file_extension": ".py",
   "mimetype": "text/x-python",
   "name": "python",
   "nbconvert_exporter": "python",
   "pygments_lexer": "ipython3",
   "version": "3.8.8"
  }
 },
 "nbformat": 4,
 "nbformat_minor": 5
}
