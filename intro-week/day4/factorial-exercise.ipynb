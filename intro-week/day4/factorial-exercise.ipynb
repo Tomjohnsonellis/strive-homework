{
 "cells": [
  {
   "cell_type": "markdown",
   "metadata": {},
   "source": [
    "Exercise (optional): The factorial of a positive integer is that integer, multiplied by all positive integers that are lower (excluding zero). You write the factorial as the number with an exclamation mark after it. E.g., the factorial of 5 is 5! = 5 * 4 * 3 * 2 * 1 = 120. Write a function that calculates the factorial of its (integer) parameter. Test your function for different parameter values, but do not use very large numbers as factorials grow exponentially. Hint: to do this with a while loop, you need at least one more variable.\n",
    "___"
   ]
  },
  {
   "cell_type": "markdown",
   "metadata": {},
   "source": [
    "# What do we do?\n",
    "\n",
    "Write a function that calculates the factorial of a parameter passed to it.\n",
    "\n",
    "### How do we do it?\n",
    "\n",
    "Multiply the parameter by every integer smaller than itself e.g. 5! = 5 x 4 x 3 x 2 x 1 = 120\n",
    "Return the result."
   ]
  },
  {
   "cell_type": "code",
   "execution_count": 7,
   "metadata": {},
   "outputs": [
    {
     "name": "stdout",
     "output_type": "stream",
     "text": [
      "Hello! Enter a number to find the factorial of: 5\n",
      "5! is: 120\n"
     ]
    },
    {
     "data": {
      "text/plain": [
       "120"
      ]
     },
     "execution_count": 7,
     "metadata": {},
     "output_type": "execute_result"
    }
   ],
   "source": [
    "def calculate_factorial(number):\n",
    "    # We only need to multiply by integers SMALLER than the given number\n",
    "    integer = number - 1\n",
    "    \n",
    "    # For every integer that's less than our number, we'll multiply our number by that value\n",
    "    # For values greater than 1 as we do not want to multiply by 1 (it's not needed) or 0 (would result in 0)\n",
    "    while integer > 1:\n",
    "        number = number * integer\n",
    "        integer -= 1\n",
    "        #print(f\"number {number} --- integer {integer}\")\n",
    "    print(f\"{user_number}! is: {number}\")\n",
    "    return number\n",
    "        \n",
    "user_number = input(\"Hello! Enter a number to find the factorial of: \")\n",
    "calculate_factorial(int(user_number))"
   ]
  },
  {
   "cell_type": "code",
   "execution_count": null,
   "metadata": {},
   "outputs": [],
   "source": []
  }
 ],
 "metadata": {
  "kernelspec": {
   "display_name": "Python 3",
   "language": "python",
   "name": "python3"
  },
  "language_info": {
   "codemirror_mode": {
    "name": "ipython",
    "version": 3
   },
   "file_extension": ".py",
   "mimetype": "text/x-python",
   "name": "python",
   "nbconvert_exporter": "python",
   "pygments_lexer": "ipython3",
   "version": "3.8.5"
  }
 },
 "nbformat": 4,
 "nbformat_minor": 4
}
