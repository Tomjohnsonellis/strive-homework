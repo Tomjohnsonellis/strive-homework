{
 "cells": [
  {
   "cell_type": "markdown",
   "metadata": {},
   "source": [
    "# Strive.school Day 4 - Strings\n",
    "\n",
    "Exercise 6.3: In the text below, count how often the word \"wood\" occurs (using program code, of course). Capitals and lower case letters may both be used, and you have to consider that the word \"wood\" should be a separate word, and not part of another word. Hint: If you did the exercises from this chapter, you already developed a function that \"cleans\" a text. Combining that function with the split() function more or less solves the problem for you."
   ]
  },
  {
   "cell_type": "code",
   "execution_count": null,
   "metadata": {},
   "outputs": [],
   "source": [
    "# text = \"\"\"How much wood would a woodchuck chuck\n",
    "# If a woodchuck could chuck wood?\n",
    "# He would chuck, he would, as much as he could,\n",
    "# And chuck as much as a woodchuck would\n",
    "# If a Mr. Smith could chuck wood\\n\\r\\t.\"\"\""
   ]
  },
  {
   "cell_type": "markdown",
   "metadata": {},
   "source": [
    "## Pseudo-code\n",
    "\n",
    "What do we need to do?<br>\n",
    "Go through some text and count how often the word \"wood\" appears.\n",
    "    \n",
    "<p>\n",
    "    Considerations:<br>\n",
    "CAPITALS and lowercase characters are both acceptable. <br>\n",
    "\"wood\" on it's own is what we need, not as part of a word e.g. \"woodchuck\".<br>\n",
    "    <hr>\n",
    "    \n",
    "1. Read the text into a variable (text_to_check)\n",
    "2. As capitals do not not matter, convert the text to all the same format (lowercase)\n",
    "3. Split the text all into different words and remove all punctuation\n",
    "4. Count how many of the words are \"wood\""
   ]
  },
  {
   "cell_type": "code",
   "execution_count": 43,
   "metadata": {},
   "outputs": [
    {
     "name": "stdout",
     "output_type": "stream",
     "text": [
      "The word 'wood' occurs 3 times!\n"
     ]
    }
   ],
   "source": [
    "text_to_check = \"\"\"How much wood would a woodchuck chuck\n",
    "If a woodchuck could chuck wood?\n",
    "He would chuck, he would, as much as he could,\n",
    "And chuck as much as a woodchuck would\n",
    "If a Mr. Smith could chuck wood\\n\\r\\t.\"\"\"\n",
    "\n",
    "# Make all the text lowercase\n",
    "text_to_check = text_to_check.lower()\n",
    "\n",
    "# Make a list of each word\n",
    "split_text = text_to_check.split()\n",
    "\n",
    "# Initialise a list to store the words after we have remove any punctuation\n",
    "stripped_text = []\n",
    "\n",
    "for item in split_text:\n",
    "    # Remove any punctuation from our words\n",
    "    item = item.strip(\" ,.!?\\\\\")\n",
    "    # Add just the word to the list\n",
    "    stripped_text.append(item)\n",
    "\n",
    "# Finally, count how many of the words are exactly \"wood\"\n",
    "total_woods = 0\n",
    "for word in stripped_text:\n",
    "    if word == \"wood\":\n",
    "        total_woods += 1\n",
    "        \n",
    "# Display the result\n",
    "print(f\"The word 'wood' occurs {total_woods} times!\")"
   ]
  },
  {
   "cell_type": "code",
   "execution_count": null,
   "metadata": {},
   "outputs": [],
   "source": []
  }
 ],
 "metadata": {
  "kernelspec": {
   "display_name": "Python 3",
   "language": "python",
   "name": "python3"
  },
  "language_info": {
   "codemirror_mode": {
    "name": "ipython",
    "version": 3
   },
   "file_extension": ".py",
   "mimetype": "text/x-python",
   "name": "python",
   "nbconvert_exporter": "python",
   "pygments_lexer": "ipython3",
   "version": "3.8.5"
  }
 },
 "nbformat": 4,
 "nbformat_minor": 4
}
