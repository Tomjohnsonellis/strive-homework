{
 "cells": [
  {
   "cell_type": "markdown",
   "id": "secondary-pride",
   "metadata": {},
   "source": [
    "72. How to swap two rows of an array? (★★★)"
   ]
  },
  {
   "cell_type": "code",
   "execution_count": 2,
   "id": "gothic-horizon",
   "metadata": {},
   "outputs": [
    {
     "name": "stdout",
     "output_type": "stream",
     "text": [
      "[[    1    11   111  1111 11111]\n",
      " [    2    22   222  2222 22222]\n",
      " [    3    33   333  3333 33333]\n",
      " [    4    44   444  4444 44444]\n",
      " [    5    55   555  5555 55555]]\n",
      "\n",
      "=====\n",
      "\n",
      "[[    4    44   444  4444 44444]\n",
      " [    2    22   222  2222 22222]\n",
      " [    3    33   333  3333 33333]\n",
      " [    1    11   111  1111 11111]\n",
      " [    5    55   555  5555 55555]]\n"
     ]
    }
   ],
   "source": [
    "import numpy as np\n",
    "\n",
    "row1 = [1,11,111,1111,11111]\n",
    "row2 = [2,22,222,2222,22222]\n",
    "row3 = [3,33,333,3333,33333]\n",
    "row4 = [4,44,444,4444,44444]\n",
    "row5 = [5,55,555,5555,55555]\n",
    "\n",
    "swap_me = np.array([row1,row2,row3,row4,row5])\n",
    "print(swap_me)\n",
    "\n",
    "print()\n",
    "print(\"=====\")\n",
    "print()\n",
    "\n",
    "# This command does not actually require the \",:\" term as it will default to it\n",
    "swap_me[ [0,3] , :] = swap_me[ [3,0] , :]\n",
    "print(swap_me)"
   ]
  },
  {
   "cell_type": "markdown",
   "id": "finite-tuition",
   "metadata": {},
   "source": [
    "#### 75. How to compute averages using a sliding window over an array? (★★★)"
   ]
  },
  {
   "cell_type": "code",
   "execution_count": 36,
   "id": "close-potter",
   "metadata": {},
   "outputs": [
    {
     "name": "stdout",
     "output_type": "stream",
     "text": [
      "[[ 1.   1.5  2.   2.5  3.   3.5  4.   4.5  5.   5.5  6.   6.5  7.   7.5\n",
      "   8.   8.5  9.   9.5 10.  10.5 11.  11.5 12.  12.5 13.  13.5 14.  14.5\n",
      "  15.  15.5 16.  16.5 17.  17.5 18.  18.5 19.  19.5 20.  20.5 21.  21.5\n",
      "  22.  22.5 23.  23.5 24.  24.5 25.  25.5 26.  26.5 27.  27.5 28.  28.5\n",
      "  29.  29.5 30.  30.5 31.  31.5 32.  32.5 33.  33.5 34.  34.5 35.  35.5\n",
      "  36.  36.5 37.  37.5 38.  38.5 39.  39.5 40.  40.5 41.  41.5 42.  42.5\n",
      "  43.  43.5 44.  44.5 45.  45.5 46.  46.5 47.  47.5 48.  48.5 49.  49.5\n",
      "  50.  50.5]]\n"
     ]
    }
   ],
   "source": [
    "# I'm not certain I fully understand the question,\n",
    "# but from what I can gather on discord and the hint,\n",
    "# We need to calculate an average for each size of the array.\n",
    "\n",
    "# So I will use an array of numbers 1 to 100,\n",
    "# Calculate the mean from the cumulative total.\n",
    "# This will be so by the Nth value, we have the mean of the first 10 values.\n",
    "\n",
    "an_array = np.indices([100]) + 1\n",
    "my_indices = np.indices([100]) + 1\n",
    "\n",
    "cum_sum_of_array = np.array(np.cumsum(an_array))\n",
    "\n",
    "#print(my_indices)\n",
    "\n",
    "#print(cum_sum_of_array)\n",
    "\n",
    "expanding_window_average = np.divide(cum_sum_of_array,my_indices)\n",
    "print(expanding_window_average)"
   ]
  }
 ],
 "metadata": {
  "kernelspec": {
   "display_name": "Python 3",
   "language": "python",
   "name": "python3"
  },
  "language_info": {
   "codemirror_mode": {
    "name": "ipython",
    "version": 3
   },
   "file_extension": ".py",
   "mimetype": "text/x-python",
   "name": "python",
   "nbconvert_exporter": "python",
   "pygments_lexer": "ipython3",
   "version": "3.8.8"
  }
 },
 "nbformat": 4,
 "nbformat_minor": 5
}
