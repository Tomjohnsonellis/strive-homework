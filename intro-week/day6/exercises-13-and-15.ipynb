{
 "cells": [
  {
   "cell_type": "markdown",
   "id": "second-orchestra",
   "metadata": {},
   "source": [
    "13. Create a 10x10 array with random values and find the minimum and maximum values (★☆☆)"
   ]
  },
  {
   "cell_type": "code",
   "execution_count": 4,
   "id": "demanding-carroll",
   "metadata": {},
   "outputs": [
    {
     "name": "stdout",
     "output_type": "stream",
     "text": [
      "Min: 0.0026348805879311543 | Max: 0.9948496819703777\n"
     ]
    }
   ],
   "source": [
    "import numpy as np\n",
    "\n",
    "ten_by_ten = np.random.rand(10,10)\n",
    "\n",
    "#print(ten_by_ten)\n",
    "\n",
    "# Numpy has sensible names for many functions\n",
    "\n",
    "minimum = np.min(ten_by_ten)\n",
    "\n",
    "maximum = np.max(ten_by_ten)\n",
    "\n",
    "print(f\"Min: {minimum} | Max: {maximum}\")\n"
   ]
  },
  {
   "cell_type": "markdown",
   "id": "foreign-array",
   "metadata": {},
   "source": [
    "15. Create a 2d array with 1 on the border and 0 inside (★☆☆)"
   ]
  },
  {
   "cell_type": "code",
   "execution_count": null,
   "id": "advised-coordinate",
   "metadata": {},
   "outputs": [],
   "source": [
    "# For the smallest valid array (3x3) we can just change it manually\n",
    "border_array = np.ones([3,3])\n",
    "border_array[1,1] = 0\n",
    "\n",
    "print(border_array)\n",
    "\n",
    "print()\n",
    "print(\"---------\")\n",
    "print(\"A bigger version:\")\n",
    "\n",
    "# But for anything larger we should probably construct the array with commands\n",
    "scalable_version = np.zeros([10,10])\n",
    "#print(scalable_version)\n",
    "scalable_version[:,0] = 1\n",
    "scalable_version[0,:] = 1\n",
    "scalable_version[:,-1] = 1\n",
    "scalable_version[-1,:] = 1\n",
    "print(scalable_version)\n",
    "\n",
    "# I tried to put the above all into one command, but couldn't figure out the syntax\n",
    "# If you know it, let me know in the feedback please :-)\n",
    "#scalable_version([:,0],[0,:].[:,-1],[-1,:]) = 1"
   ]
  }
 ],
 "metadata": {
  "kernelspec": {
   "display_name": "Python 3",
   "language": "python",
   "name": "python3"
  },
  "language_info": {
   "codemirror_mode": {
    "name": "ipython",
    "version": 3
   },
   "file_extension": ".py",
   "mimetype": "text/x-python",
   "name": "python",
   "nbconvert_exporter": "python",
   "pygments_lexer": "ipython3",
   "version": "3.8.8"
  }
 },
 "nbformat": 4,
 "nbformat_minor": 5
}
