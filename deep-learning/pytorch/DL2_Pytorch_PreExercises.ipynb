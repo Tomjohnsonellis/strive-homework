{
 "cells": [
  {
   "cell_type": "code",
   "execution_count": 2,
   "id": "common-daisy",
   "metadata": {},
   "outputs": [],
   "source": [
    "# Install torch and torchvision on your computer\n",
    "# It's convenient to create a virtual env for that"
   ]
  },
  {
   "cell_type": "code",
   "execution_count": 3,
   "id": "romance-document",
   "metadata": {
    "ExecuteTime": {
     "end_time": "2021-05-26T05:44:46.718547Z",
     "start_time": "2021-05-26T05:44:44.015035Z"
    }
   },
   "outputs": [],
   "source": [
    "import torch\n",
    "import torch.nn as nn\n",
    "import numpy as np"
   ]
  },
  {
   "cell_type": "code",
   "execution_count": 4,
   "id": "younger-champagne",
   "metadata": {
    "ExecuteTime": {
     "end_time": "2021-05-26T05:55:09.345568Z",
     "start_time": "2021-05-26T05:55:09.326608Z"
    }
   },
   "outputs": [
    {
     "data": {
      "text/plain": "<torch._C.Generator at 0x7ff67e3b49b0>"
     },
     "execution_count": 4,
     "metadata": {},
     "output_type": "execute_result"
    }
   ],
   "source": [
    "# set the torch manual seed to 42\n",
    "torch.manual_seed(42)"
   ]
  },
  {
   "cell_type": "code",
   "execution_count": 5,
   "id": "informative-hammer",
   "metadata": {
    "ExecuteTime": {
     "end_time": "2021-05-26T05:53:21.990528Z",
     "start_time": "2021-05-26T05:53:21.982001Z"
    }
   },
   "outputs": [
    {
     "data": {
      "text/plain": "tensor([0.8823, 0.9150, 0.3829, 0.9593, 0.3904])"
     },
     "execution_count": 5,
     "metadata": {},
     "output_type": "execute_result"
    }
   ],
   "source": [
    "# Create a tensor of shape (5,) and store in the features variable\n",
    "features = 0\n",
    "# Can assign values and datatype\n",
    "features = torch.tensor([1,2,3,4,5], dtype=torch.half)\n",
    "# Or just random values of a certain shape 5, (5,2), (10,100) etc\n",
    "features = torch.rand(5)\n",
    "\n",
    "features\n"
   ]
  },
  {
   "cell_type": "code",
   "execution_count": 6,
   "id": "piano-breach",
   "metadata": {
    "ExecuteTime": {
     "end_time": "2021-05-26T05:53:21.843474Z",
     "start_time": "2021-05-26T05:53:21.840266Z"
    }
   },
   "outputs": [
    {
     "data": {
      "text/plain": "tensor([0.6009, 0.2566, 0.7936, 0.9408, 0.1332])"
     },
     "execution_count": 6,
     "metadata": {},
     "output_type": "execute_result"
    }
   ],
   "source": [
    "# Generate a tensor called weights with the same shape of features\n",
    "# Hint: search torch.rand_like\n",
    "weights = 0\n",
    "\n",
    "# rand_like makes a tensor \"like\" another one in terms of size, but fills with random values\n",
    "weights = torch.rand_like(features)\n",
    "weights"
   ]
  },
  {
   "cell_type": "code",
   "execution_count": 7,
   "id": "offensive-interpretation",
   "metadata": {
    "ExecuteTime": {
     "end_time": "2021-05-26T06:03:23.249934Z",
     "start_time": "2021-05-26T06:03:23.232413Z"
    }
   },
   "outputs": [],
   "source": [
    "assert weights.shape == features.shape"
   ]
  },
  {
   "cell_type": "code",
   "execution_count": 8,
   "id": "neither-sample",
   "metadata": {
    "ExecuteTime": {
     "end_time": "2021-05-26T05:53:22.262490Z",
     "start_time": "2021-05-26T05:53:22.256392Z"
    }
   },
   "outputs": [
    {
     "data": {
      "text/plain": "tensor([0.6009, 0.2566, 0.7936, 0.9408, 0.1332])"
     },
     "execution_count": 8,
     "metadata": {},
     "output_type": "execute_result"
    }
   ],
   "source": [
    "weights"
   ]
  },
  {
   "cell_type": "code",
   "execution_count": 9,
   "id": "collected-measure",
   "metadata": {
    "ExecuteTime": {
     "end_time": "2021-05-26T05:53:22.688098Z",
     "start_time": "2021-05-26T05:53:22.685070Z"
    }
   },
   "outputs": [
    {
     "name": "stdout",
     "output_type": "stream",
     "text": [
      "bias.shape: torch.Size([1, 1])\n",
      "bias: tensor([[-2.4661]])\n",
      "----- ^ Note ^ the ^ double brackets [[]] ^\n",
      "shape_one.shape: torch.Size([1])\n",
      "shape_one: tensor([0.3623])\n"
     ]
    }
   ],
   "source": [
    "bias = torch.randn((1,1))\n",
    "# Note, (1,) and (1,1) are different shapes!\n",
    "shape_one = torch.randn(1)\n",
    "print(f\"bias.shape: {bias.shape}\")\n",
    "print(f\"bias: {bias}\")\n",
    "print(\"----- ^ Note ^ the ^ double brackets [[]] ^\")\n",
    "print(f\"shape_one.shape: {shape_one.shape}\")\n",
    "print(f\"shape_one: {shape_one}\")\n"
   ]
  },
  {
   "cell_type": "code",
   "execution_count": 10,
   "id": "informal-enclosure",
   "metadata": {
    "ExecuteTime": {
     "end_time": "2021-05-26T05:53:22.837840Z",
     "start_time": "2021-05-26T05:53:22.832752Z"
    }
   },
   "outputs": [
    {
     "data": {
      "text/plain": "tensor([[-2.4661]])"
     },
     "execution_count": 10,
     "metadata": {},
     "output_type": "execute_result"
    }
   ],
   "source": [
    "bias"
   ]
  },
  {
   "cell_type": "code",
   "execution_count": 11,
   "id": "cultural-freeze",
   "metadata": {
    "ExecuteTime": {
     "end_time": "2021-05-26T05:53:22.958309Z",
     "start_time": "2021-05-26T05:53:22.953589Z"
    }
   },
   "outputs": [
    {
     "name": "stdout",
     "output_type": "stream",
     "text": [
      "weights: tensor([0.6009, 0.2566, 0.7936, 0.9408, 0.1332])\n",
      "sigmoided: tensor([0.6459, 0.5638, 0.6886, 0.7193, 0.5332])\n"
     ]
    }
   ],
   "source": [
    "# Implement the sigmoid function by using torch\n",
    "def sigmoid(x):\n",
    "    # returns a new tensor\n",
    "    # https://pytorch.org/docs/stable/generated/torch.sigmoid.html\n",
    "    return torch.sigmoid(x)\n",
    "\n",
    "print(f\"weights: {weights}\")\n",
    "print(f\"sigmoided: {sigmoid(weights)}\")"
   ]
  },
  {
   "cell_type": "code",
   "execution_count": 12,
   "id": "caroline-assignment",
   "metadata": {
    "ExecuteTime": {
     "end_time": "2021-05-26T06:07:15.298988Z",
     "start_time": "2021-05-26T06:07:15.293636Z"
    }
   },
   "outputs": [
    {
     "name": "stdout",
     "output_type": "stream",
     "text": [
      "(* represents doing the dot product here\n",
      "weights * features = 2.0232625007629395\n",
      "tensor([0.6009, 0.2566, 0.7936, 0.9408, 0.1332]) * tensor([0.8823, 0.9150, 0.3829, 0.9593, 0.3904]) = 2.0232625007629395\n",
      "\n",
      "2.0232625007629395 + bias = tensor([[-0.4428]])\n",
      "2.0232625007629395 + tensor([[-2.4661]]) = tensor([[-0.4428]])\n"
     ]
    },
    {
     "data": {
      "text/plain": "tensor([[-0.4428]])"
     },
     "execution_count": 12,
     "metadata": {},
     "output_type": "execute_result"
    }
   ],
   "source": [
    "# Use torch.dot function for multiplying weights and features and\n",
    "# add the bias to the result. Store the result into the score variable\n",
    "\n",
    "score = 0\n",
    "first_step = torch.dot(weights, features)\n",
    "print(\"(* represents doing the dot product here\")\n",
    "print(f\"weights * features = {first_step}\\n{weights} * {features} = {first_step}\")\n",
    "second_step = first_step + bias\n",
    "print(f\"\\n{first_step} + bias = {second_step}\")\n",
    "print(f\"{first_step} + {bias} = {second_step}\")\n",
    "\n",
    "score = torch.dot(weights, features) + bias\n",
    "score"
   ]
  },
  {
   "cell_type": "code",
   "execution_count": 13,
   "id": "complicated-radar",
   "metadata": {
    "ExecuteTime": {
     "end_time": "2021-05-26T06:07:54.742774Z",
     "start_time": "2021-05-26T06:07:54.738740Z"
    }
   },
   "outputs": [],
   "source": [
    "assert score.shape == (1,1)"
   ]
  },
  {
   "cell_type": "code",
   "execution_count": 14,
   "id": "saved-martin",
   "metadata": {
    "ExecuteTime": {
     "end_time": "2021-05-26T06:09:09.770708Z",
     "start_time": "2021-05-26T06:09:09.764317Z"
    }
   },
   "outputs": [
    {
     "data": {
      "text/plain": "tensor([[0.3911]])"
     },
     "execution_count": 14,
     "metadata": {},
     "output_type": "execute_result"
    }
   ],
   "source": [
    "# Use the defined sigmoid function to activate the score.\n",
    "# Store the result in the prob variable\n",
    "\n",
    "prob = sigmoid(score)\n",
    "prob"
   ]
  },
  {
   "cell_type": "code",
   "execution_count": 15,
   "id": "portuguese-nursery",
   "metadata": {
    "ExecuteTime": {
     "end_time": "2021-05-26T06:09:20.343108Z",
     "start_time": "2021-05-26T06:09:20.339958Z"
    }
   },
   "outputs": [],
   "source": [
    "assert prob.shape == (1,1)"
   ]
  },
  {
   "cell_type": "code",
   "execution_count": 16,
   "id": "latter-firewall",
   "metadata": {
    "ExecuteTime": {
     "end_time": "2021-05-26T06:11:19.575519Z",
     "start_time": "2021-05-26T06:11:19.568376Z"
    }
   },
   "outputs": [
    {
     "data": {
      "text/plain": "tensor([[0.5991, 0.8706, 0.7398],\n        [0.3673, 0.3563, 0.4991],\n        [0.7386, 0.9528, 0.2298],\n        [0.9949, 0.7139, 0.1213]], dtype=torch.float64)"
     },
     "execution_count": 16,
     "metadata": {},
     "output_type": "execute_result"
    }
   ],
   "source": [
    "# Convert the a numpy array into a torch tensor\n",
    "# Store it in the b variable\n",
    "a = np.random.rand(4, 3)\n",
    "a\n",
    "b = torch.tensor(a)\n",
    "b"
   ]
  },
  {
   "cell_type": "code",
   "execution_count": 17,
   "id": "historical-passenger",
   "metadata": {
    "ExecuteTime": {
     "end_time": "2021-05-26T06:12:33.848173Z",
     "start_time": "2021-05-26T06:12:33.845007Z"
    }
   },
   "outputs": [],
   "source": [
    "assert b.shape == (4,3) "
   ]
  },
  {
   "cell_type": "code",
   "execution_count": 18,
   "id": "medieval-cabin",
   "metadata": {
    "ExecuteTime": {
     "end_time": "2021-05-26T06:15:11.278855Z",
     "start_time": "2021-05-26T06:15:11.274384Z"
    }
   },
   "outputs": [
    {
     "data": {
      "text/plain": "array([1, 2])"
     },
     "execution_count": 18,
     "metadata": {},
     "output_type": "execute_result"
    }
   ],
   "source": [
    "# Do the opposite now. From the given tensor a convert it a numpy array\n",
    "# Store the result in b\n",
    "a = torch.tensor([1,2])\n",
    "a\n",
    "b = np.array(a)\n",
    "b"
   ]
  },
  {
   "cell_type": "code",
   "execution_count": 19,
   "id": "solar-conspiracy",
   "metadata": {
    "ExecuteTime": {
     "end_time": "2021-05-26T06:15:23.003363Z",
     "start_time": "2021-05-26T06:15:22.999824Z"
    }
   },
   "outputs": [],
   "source": [
    "assert type(b) == np.ndarray"
   ]
  },
  {
   "cell_type": "code",
   "execution_count": 20,
   "id": "unsigned-defeat",
   "metadata": {
    "ExecuteTime": {
     "end_time": "2021-05-26T06:38:16.934705Z",
     "start_time": "2021-05-26T06:38:16.929106Z"
    }
   },
   "outputs": [
    {
     "data": {
      "text/plain": "torch.Size([10, 10])"
     },
     "execution_count": 20,
     "metadata": {},
     "output_type": "execute_result"
    }
   ],
   "source": [
    "# Reshape the given v tensor in a 10x10 tensor.\n",
    "# Store the result in v_reshaped\n",
    "# You can use various methods: reshape, view, resize... Check all of them\n",
    "\n",
    "v = torch.randn((100,1))\n",
    "# .resize has been deprecated, but resize_ can still be used for inplace resizing\n",
    "#v_reshaped = v.resize_(10,10)\n",
    "\n",
    "# .view is fine to use, but if you are making a weird size the docs recommend .reshape instead\n",
    "# https://pytorch.org/docs/master/generated/torch.Tensor.view.html#torch.Tensor.view\n",
    "#v_reshaped = v.view(10,10)\n",
    "\n",
    "# .reshape will be the goto for most simple reshaping tasks\n",
    "v_reshaped = torch.reshape(v, (10,10))\n",
    "v_reshaped.shape\n"
   ]
  },
  {
   "cell_type": "code",
   "execution_count": 21,
   "id": "violent-kuwait",
   "metadata": {},
   "outputs": [
    {
     "data": {
      "text/plain": "torch.Size([16, 32, 32, 3])"
     },
     "execution_count": 21,
     "metadata": {},
     "output_type": "execute_result"
    }
   ],
   "source": [
    "# create a tensor with shape (16, 32, 32, 3) containing only ones\n",
    "# Store it in the ones variable\n",
    "ones = 0\n",
    "ones = torch.ones((16,32,32,3))\n",
    "ones.shape"
   ]
  },
  {
   "cell_type": "code",
   "execution_count": 22,
   "id": "otherwise-tourism",
   "metadata": {},
   "outputs": [],
   "source": [
    "assert ones.shape == (16, 32, 32, 3)"
   ]
  },
  {
   "cell_type": "code",
   "execution_count": 23,
   "id": "united-nebraska",
   "metadata": {
    "ExecuteTime": {
     "end_time": "2021-05-26T06:50:29.092598Z",
     "start_time": "2021-05-26T06:50:29.067520Z"
    }
   },
   "outputs": [
    {
     "data": {
      "text/plain": "<Figure size 432x288 with 1 Axes>",
      "image/png": "[encoded data removed]"
     },
     "metadata": {
      "needs_background": "light"
     },
     "output_type": "display_data"
    }
   ],
   "source": [
    "import pandas as pd\n",
    "import matplotlib.pyplot as plt\n",
    "# load and plot the data using scatterplot with different colors for labels\n",
    "data = pd.read_csv('data.csv', header=None)\n",
    "#data\n",
    "data[2].value_counts()\n",
    "cdict = {0:\"lime\",1:\"plum\"}\n",
    "for x,y,label in data.values:\n",
    "    plt.scatter(x,y, c=cdict[label])\n"
   ]
  },
  {
   "cell_type": "code",
   "execution_count": 39,
   "id": "increased-schedule",
   "metadata": {
    "ExecuteTime": {
     "end_time": "2021-05-26T06:52:46.863528Z",
     "start_time": "2021-05-26T06:52:46.755851Z"
    }
   },
   "outputs": [
    {
     "data": {
      "text/plain": "tensor([0.0001])"
     },
     "execution_count": 39,
     "metadata": {},
     "output_type": "execute_result"
    }
   ],
   "source": [
    "sigmoid(torch.tensor([-9]))"
   ]
  },
  {
   "cell_type": "code",
   "execution_count": null,
   "id": "circular-surgery",
   "metadata": {},
   "outputs": [],
   "source": []
  }
 ],
 "metadata": {
  "kernelspec": {
   "display_name": "Python 3",
   "language": "python",
   "name": "python3"
  },
  "language_info": {
   "codemirror_mode": {
    "name": "ipython",
    "version": 3
   },
   "file_extension": ".py",
   "mimetype": "text/x-python",
   "name": "python",
   "nbconvert_exporter": "python",
   "pygments_lexer": "ipython3",
   "version": "3.9.1"
  },
  "varInspector": {
   "cols": {
    "lenName": 16,
    "lenType": 16,
    "lenVar": 40
   },
   "kernels_config": {
    "python": {
     "delete_cmd_postfix": "",
     "delete_cmd_prefix": "del ",
     "library": "var_list.py",
     "varRefreshCmd": "print(var_dic_list())"
    },
    "r": {
     "delete_cmd_postfix": ") ",
     "delete_cmd_prefix": "rm(",
     "library": "var_list.r",
     "varRefreshCmd": "cat(var_dic_list()) "
    }
   },
   "types_to_exclude": [
    "module",
    "function",
    "builtin_function_or_method",
    "instance",
    "_Feature"
   ],
   "window_display": false
  }
 },
 "nbformat": 4,
 "nbformat_minor": 5
}