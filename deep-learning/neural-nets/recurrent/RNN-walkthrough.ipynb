{
 "cells": [
  {
   "cell_type": "markdown",
   "source": [
    "# Recurrent Neural Networks\n",
    "These are NNs which work with sequences of data and have an element of time.<br>\n",
    "The interesting thing about them is that they have a memory component,\n",
    "so you can prioritise more recent (or earlier if  you wish) data when training\n",
    "a model.<br>\n",
    "_Example: The more recent prices of a stock are likely to be more relevant when attempting to predict the next price._\n",
    "<p>"
   ],
   "metadata": {
    "collapsed": false,
    "pycharm": {
     "name": "#%% md\n"
    }
   }
  },
  {
   "cell_type": "code",
   "execution_count": 21,
   "outputs": [
    {
     "name": "stdout",
     "output_type": "stream",
     "text": [
      "Imports complete\n"
     ]
    }
   ],
   "source": [
    "# Imports\n",
    "\n",
    "import numpy as np\n",
    "import numpy.random as rnd\n",
    "import itertools\n",
    "import os\n",
    "import sys\n",
    "import scipy.misc\n",
    "import random\n",
    "import time\n",
    "\n",
    "# We will use some utilities from sklearn\n",
    "from sklearn.preprocessing import StandardScaler\n",
    "\n",
    "# PyTorch\n",
    "import torch\n",
    "from torch import nn\n",
    "from torch.optim import Adam, SGD\n",
    "from torchsummary import summary\n",
    "from torch.autograd  import Variable\n",
    "\n",
    "# Used for plotting and display of figures\n",
    "%matplotlib inline\n",
    "import matplotlib\n",
    "import matplotlib.pyplot as plt\n",
    "from mpl_toolkits.mplot3d import Axes3D\n",
    "\n",
    "plt.rcParams['axes.labelsize'] = 14\n",
    "plt.rcParams['xtick.labelsize'] = 12\n",
    "plt.rcParams['ytick.labelsize'] = 12\n",
    "\n",
    "\n",
    "from IPython.display import display, clear_output\n",
    "from IPython.display import Image\n",
    "from IPython.display import SVG\n",
    "\n",
    "print(\"Imports complete\")"
   ],
   "metadata": {
    "collapsed": false,
    "pycharm": {
     "name": "#%%\n"
    }
   }
  },
  {
   "cell_type": "code",
   "execution_count": 37,
   "outputs": [
    {
     "data": {
      "text/plain": "<Figure size 432x288 with 1 Axes>",
      "image/png": "[encoded data removed]"
     },
     "metadata": {
      "needs_background": "light"
     },
     "output_type": "display_data"
    },
    {
     "ename": "KeyboardInterrupt",
     "evalue": "",
     "output_type": "error",
     "traceback": [
      "\u001B[1;31m---------------------------------------------------------------------------\u001B[0m",
      "\u001B[1;31mKeyboardInterrupt\u001B[0m                         Traceback (most recent call last)",
      "\u001B[1;32m<ipython-input-37-3e6650a6be6e>\u001B[0m in \u001B[0;36m<module>\u001B[1;34m\u001B[0m\n\u001B[0;32m     21\u001B[0m     \u001B[0mplt\u001B[0m\u001B[1;33m.\u001B[0m\u001B[0mshow\u001B[0m\u001B[1;33m(\u001B[0m\u001B[1;33m)\u001B[0m\u001B[1;33m\u001B[0m\u001B[1;33m\u001B[0m\u001B[0m\n\u001B[0;32m     22\u001B[0m     \u001B[1;31m# Time as in make the program wait, bad choice I know\u001B[0m\u001B[1;33m\u001B[0m\u001B[1;33m\u001B[0m\u001B[1;33m\u001B[0m\u001B[0m\n\u001B[1;32m---> 23\u001B[1;33m     \u001B[0mtime\u001B[0m\u001B[1;33m.\u001B[0m\u001B[0msleep\u001B[0m\u001B[1;33m(\u001B[0m\u001B[1;36m0.5\u001B[0m\u001B[1;33m)\u001B[0m\u001B[1;33m\u001B[0m\u001B[1;33m\u001B[0m\u001B[0m\n\u001B[0m\u001B[0;32m     24\u001B[0m \u001B[1;33m\u001B[0m\u001B[0m\n",
      "\u001B[1;31mKeyboardInterrupt\u001B[0m: "
     ]
    }
   ],
   "source": [
    "# The function below, given a value, generates some result\n",
    "# If we give it a series of values, it will generate a series of results.\n",
    "def time_series(t):\n",
    "    return t * np.sin(t) / 3 + 2 * np.sin(t*5)\n",
    "\n",
    "\n",
    "# Just a list of 0.1, 0.2, 0.3...\n",
    "a_range = range(0,50)\n",
    "some_times = []\n",
    "for step in a_range:\n",
    "    some_times.append(step / 10)\n",
    "points = []\n",
    "\n",
    "# Run this cell and take a look at the updating graph, a pattern begins to form\n",
    "for a_time in some_times:\n",
    "    #print(time_series(time))\n",
    "    clear_output()\n",
    "    points.append([a_time, time_series(a_time)])\n",
    "    for x, y in points:\n",
    "        plt.scatter(x,y)\n",
    "    plt.show()\n",
    "    # Time as in make the program wait, bad choice I know\n",
    "    time.sleep(0.5)"
   ],
   "metadata": {
    "collapsed": false,
    "pycharm": {
     "name": "#%%\n"
    }
   }
  },
  {
   "cell_type": "code",
   "execution_count": 39,
   "outputs": [
    {
     "data": {
      "text/plain": "(array([[[ 0.24227129],\n         [ 2.02285132],\n         [ 3.53798791]],\n \n        [[-5.6249364 ],\n         [-5.80014216],\n         [-5.68019731]],\n \n        [[-4.8425182 ],\n         [-4.36902945],\n         [-4.30624516]],\n \n        [[-1.55026718],\n         [-2.26498206],\n         [-2.62768353]],\n \n        [[-3.71989627],\n         [-4.85757551],\n         [-6.04931194]]]),\n array([[[ 2.02285132],\n         [ 3.53798791],\n         [ 4.61319196]],\n \n        [[-5.80014216],\n         [-5.68019731],\n         [-5.48839383]],\n \n        [[-4.36902945],\n         [-4.30624516],\n         [-4.54931696]],\n \n        [[-2.26498206],\n         [-2.62768353],\n         [-2.51080253]],\n \n        [[-4.85757551],\n         [-6.04931194],\n         [-7.05030071]]]))"
     },
     "execution_count": 39,
     "metadata": {},
     "output_type": "execute_result"
    }
   ],
   "source": [
    "\"\"\"\n",
    "\n",
    "We train these types of networks with sequences of data, be it price info, a list of pixels, whatever.\n",
    "From a time series, we would extract some sequences (at random) from it of some length (κ), these are our samples.\n",
    "\n",
    "The below function does just that...\n",
    " \"\"\"\n",
    "\n",
    "# This just generates some random data\n",
    "t_min, t_max = 0, 30\n",
    "resolution = 0.1\n",
    "\n",
    "# Receives the number of samples (batch_size) of size (n_steps) to extract\n",
    "# from the time series, and outputs such a sample\n",
    "\n",
    "# batch_size is how many samples\n",
    "# n_steps is the length of the sequence (our κ)\n",
    "def next_batch(batch_size, n_steps):\n",
    "    t0 = np.random.rand(batch_size, 1) * (t_max - t_min - n_steps * resolution)\n",
    "    Ts = t0 + np.arange(0., n_steps + 1) * resolution\n",
    "    ys = time_series(Ts)\n",
    "    return ys[:, :-1].reshape(-1, n_steps, 1), ys[:, 1:].reshape(-1, n_steps, 1)\n",
    "\n",
    "\n",
    "next_batch(5, 3)"
   ],
   "metadata": {
    "collapsed": false,
    "pycharm": {
     "name": "#%%\n"
    }
   }
  },
  {
   "cell_type": "code",
   "execution_count": 40,
   "outputs": [
    {
     "data": {
      "text/plain": "<Figure size 792x288 with 2 Axes>",
      "image/png": "[encoded data removed]"
     },
     "metadata": {
      "needs_background": "light"
     },
     "output_type": "display_data"
    }
   ],
   "source": [
    "#In the next cell, we visualize the time series, and an example of training pairs $(x,y)$,\n",
    "# where $x$ is a sequence of $k=20$ points and $y$ is the target sequence of $20$ points,\n",
    "# the ones obtained by shifting $x$ only one position.\n",
    "\"\"\"\n",
    "Let's visualise again.\n",
    "Here we will use a 20-item sequence and from it attempt to produce another 20-item sequence.\n",
    "\n",
    "\n",
    "Input = x = a sample\n",
    "Output = y = a target, here it is a similar sample to x, but shifted along by 1 reading\n",
    "e.g. if...\n",
    "x = [2,4,6,8,10]\n",
    "y would be = [4,6,8,10,12]\n",
    "\n",
    "\n",
    "Below is a nice plot, thanks Jon\n",
    "From a generated time series,\n",
    "We take a sequence of data (x)\n",
    "and can build a target (y)\n",
    "\n",
    "Now we have a training instance (x,y),\n",
    "Do that a bunch of times to build a training set\n",
    "\"\"\"\n",
    "\n",
    "\n",
    "# The time series and the example of (x,y) are shown\n",
    "\n",
    "t = np.linspace(t_min, t_max, int((t_max - t_min) / resolution))\n",
    "\n",
    "n_steps = 20\n",
    "t_instance = np.linspace(12.2, 12.2 + resolution * (n_steps + 1), n_steps + 1)\n",
    "\n",
    "plt.figure(figsize=(11,4))\n",
    "plt.subplot(121)\n",
    "plt.title(\"A time series (generated)\", fontsize=14)\n",
    "plt.plot(t, time_series(t), label=r\"$t . \\sin(t) / 3 + 2 . \\sin(5t)$\")\n",
    "plt.plot(t_instance[:-1], time_series(t_instance[:-1]), \"b-\", linewidth=3, label=\"A training instance\")\n",
    "plt.legend(loc=\"lower left\", fontsize=14)\n",
    "plt.axis([0, 30, -17, 13])\n",
    "plt.xlabel(\"Time\")\n",
    "plt.ylabel(\"Value\")\n",
    "\n",
    "plt.subplot(122)\n",
    "plt.title(\"A training instance\", fontsize=14)\n",
    "plt.plot(t_instance[:-1], time_series(t_instance[:-1]), \"bo\", markersize=10, label=\"instance\")\n",
    "plt.plot(t_instance[1:], time_series(t_instance[1:]), \"y*\", markersize=10, label=\"target\")\n",
    "plt.legend(loc=\"upper left\")\n",
    "plt.xlabel(\"Time\")\n",
    "\n",
    "\n",
    "#save_fig(\"time_series_plot\")\n",
    "plt.show()"
   ],
   "metadata": {
    "collapsed": false,
    "pycharm": {
     "name": "#%%\n"
    }
   }
  },
  {
   "cell_type": "code",
   "execution_count": 68,
   "outputs": [
    {
     "name": "stdout",
     "output_type": "stream",
     "text": [
      "Index(['date', 'ISE', 'ISE.1', 'SP', 'DAX', 'FTSE', 'NIKKEI', 'BOVESPA', 'EU',\n",
      "       'EM'],\n",
      "      dtype='object')\n"
     ]
    },
    {
     "data": {
      "text/plain": "<Figure size 432x288 with 1 Axes>",
      "image/png": "[encoded data removed]"
     },
     "metadata": {
      "needs_background": "light"
     },
     "output_type": "display_data"
    },
    {
     "name": "stdout",
     "output_type": "stream",
     "text": [
      "Nothing immediately jumps out as a pattern\n"
     ]
    },
    {
     "data": {
      "text/plain": "       date       ISE     ISE.1        SP       DAX      FTSE    NIKKEI  \\\n0  5-Jan-09  0.035754  0.038376 -0.004679  0.002193  0.003894  0.000000   \n1  6-Jan-09  0.025426  0.031813  0.007787  0.008455  0.012866  0.004162   \n2  7-Jan-09 -0.028862 -0.026353 -0.030469 -0.017833 -0.028735  0.017293   \n3  8-Jan-09 -0.062208 -0.084716  0.003391 -0.011726 -0.000466 -0.040061   \n4  9-Jan-09  0.009860  0.009658 -0.021533 -0.019873 -0.012710 -0.004474   \n\n    BOVESPA        EU        EM  \n0  0.031190  0.012698  0.028524  \n1  0.018920  0.011341  0.008773  \n2 -0.035899 -0.017073 -0.020015  \n3  0.028283 -0.005561 -0.019424  \n4 -0.009764 -0.010989 -0.007802  ",
      "text/html": "<div>\n<style scoped>\n    .dataframe tbody tr th:only-of-type {\n        vertical-align: middle;\n    }\n\n    .dataframe tbody tr th {\n        vertical-align: top;\n    }\n\n    .dataframe thead th {\n        text-align: right;\n    }\n</style>\n<table border=\"1\" class=\"dataframe\">\n  <thead>\n    <tr style=\"text-align: right;\">\n      <th></th>\n      <th>date</th>\n      <th>ISE</th>\n      <th>ISE.1</th>\n      <th>SP</th>\n      <th>DAX</th>\n      <th>FTSE</th>\n      <th>NIKKEI</th>\n      <th>BOVESPA</th>\n      <th>EU</th>\n      <th>EM</th>\n    </tr>\n  </thead>\n  <tbody>\n    <tr>\n      <th>0</th>\n      <td>5-Jan-09</td>\n      <td>0.035754</td>\n      <td>0.038376</td>\n      <td>-0.004679</td>\n      <td>0.002193</td>\n      <td>0.003894</td>\n      <td>0.000000</td>\n      <td>0.031190</td>\n      <td>0.012698</td>\n      <td>0.028524</td>\n    </tr>\n    <tr>\n      <th>1</th>\n      <td>6-Jan-09</td>\n      <td>0.025426</td>\n      <td>0.031813</td>\n      <td>0.007787</td>\n      <td>0.008455</td>\n      <td>0.012866</td>\n      <td>0.004162</td>\n      <td>0.018920</td>\n      <td>0.011341</td>\n      <td>0.008773</td>\n    </tr>\n    <tr>\n      <th>2</th>\n      <td>7-Jan-09</td>\n      <td>-0.028862</td>\n      <td>-0.026353</td>\n      <td>-0.030469</td>\n      <td>-0.017833</td>\n      <td>-0.028735</td>\n      <td>0.017293</td>\n      <td>-0.035899</td>\n      <td>-0.017073</td>\n      <td>-0.020015</td>\n    </tr>\n    <tr>\n      <th>3</th>\n      <td>8-Jan-09</td>\n      <td>-0.062208</td>\n      <td>-0.084716</td>\n      <td>0.003391</td>\n      <td>-0.011726</td>\n      <td>-0.000466</td>\n      <td>-0.040061</td>\n      <td>0.028283</td>\n      <td>-0.005561</td>\n      <td>-0.019424</td>\n    </tr>\n    <tr>\n      <th>4</th>\n      <td>9-Jan-09</td>\n      <td>0.009860</td>\n      <td>0.009658</td>\n      <td>-0.021533</td>\n      <td>-0.019873</td>\n      <td>-0.012710</td>\n      <td>-0.004474</td>\n      <td>-0.009764</td>\n      <td>-0.010989</td>\n      <td>-0.007802</td>\n    </tr>\n  </tbody>\n</table>\n</div>"
     },
     "execution_count": 68,
     "metadata": {},
     "output_type": "execute_result"
    }
   ],
   "source": [
    "# Load in some sample data, it's some stock prices\n",
    "import pandas as pd\n",
    "import seaborn as sns\n",
    "\n",
    "# I'll plot the FTSE\n",
    "df = pd.read_csv('data_akbilgic.csv')\n",
    "print(df.columns)\n",
    "plt.title((\"FTSE Returns over time\"))\n",
    "plt.plot(df['FTSE'], color=\"green\")\n",
    "plt.xlabel(\"Time\")\n",
    "plt.ylabel(\"FTSE returns\")\n",
    "plt.show()\n",
    "print(\"Nothing immediately jumps out as a pattern\")\n",
    "df.head()"
   ],
   "metadata": {
    "collapsed": false,
    "pycharm": {
     "name": "#%%\n"
    }
   }
  },
  {
   "cell_type": "code",
   "execution_count": 100,
   "outputs": [],
   "source": [
    "# Let's prepare some data to train!\n",
    "df_size = df.shape[0] # How many data points we have\n",
    "df_train = 0\n",
    "df_test = 0\n",
    "\n",
    "# In order to train a model, we'll first need to build some data to train with\n",
    "# Similar to above, we will take sequences of data of a certain length\n",
    "def next_stock_batch(batch_size, n_steps, df_base):\n",
    "    t_min = 0\n",
    "    # We can't sample non-existent data\n",
    "    t_max = df_base.shape[0]\n",
    "\n",
    "    # The inputs will be formed by 8 sequences taken from\n",
    "    # 7 time series [ISE.1,SP,DAX,FTSE,NIKKEI,BOVESPA,EU]\n",
    "    x = np.zeros((batch_size,n_steps,7))\n",
    "    print(f\"x.shape: {x.shape}\")\n",
    "\n",
    "    # We want to predict the returns of the Istambul stock (ISE.1)\n",
    "    # taken into consideration the previous n_steps days\n",
    "    y = np.zeros((batch_size,n_steps,1))\n",
    "    print(f\"y.shape: {y.shape}\")\n",
    "\n",
    "    # We chose batch_size random points from time series x-axis\n",
    "    starting_points = np.random.randint(0,t_max-n_steps-1,size=batch_size)\n",
    "    print(starting_points)\n",
    "\n",
    "    input_cols = [\"ISE.1\",\"SP\",\"DAX\",\"FTSE\",\"NIKKEI\",\"BOVESPA\",\"EU\"]\n",
    "    #for start in starting_points:\n",
    "        # We create the batches for x using all time series (8) between t and t+n_steps\n",
    "    # print(\"#####\")\n",
    "    # for sample in x:\n",
    "    #     for row in sample:\n",
    "    #         pass\n",
    "    # print(\"#####\")\n",
    "\n",
    "    # This is awful, but I think it builds x and y\n",
    "\n",
    "    # For each of the starting points,\n",
    "    for sample_no, start in enumerate(starting_points):\n",
    "        #print(sample_no)\n",
    "        # We want to grab data from an exchange\n",
    "        for seq_no, exchange in enumerate(input_cols):\n",
    "            #print(\">\",seq_no)\n",
    "            one_sequence = df_base[exchange][start:start+n_steps]\n",
    "            #print(one_sequence.shape)\n",
    "            # And put it in the correct locations in x\n",
    "            for index, data_point in enumerate(one_sequence):\n",
    "                #print(\">>\",index)\n",
    "                x[sample_no][index][seq_no] = data_point\n",
    "\n",
    "            y[sample_no][seq_no] = df_base[exchange][start+n_steps+1]\n",
    "\n",
    "    # We create the batches for y using only one time series between t+1 and t+n_steps+1\n",
    "\n",
    "    #Save on x and y the time series data sequence and the prediction sequence\n",
    "\n",
    "    return x,y\n",
    "\n",
    "# Output is big\n",
    "# next_stock_batch(5,10,df)"
   ],
   "metadata": {
    "collapsed": false,
    "pycharm": {
     "name": "#%%\n"
    }
   }
  },
  {
   "cell_type": "code",
   "execution_count": 101,
   "outputs": [],
   "source": [
    "\"\"\"\n",
    "Next up we will define some parameters for our network\n",
    "\"\"\"\n",
    "# An RNN can take as inputs multiple input sequences (e.g, a matrix of n_seq x n_steps)\n",
    "# Since we use only a single TS, n_inputs=1\n",
    "\n",
    "# We are using 7 different exchanges here so...\n",
    "n_inputs = 7\n",
    "\n",
    "# This is the size of each sequence, 10 is a nice number to start with\n",
    "n_steps = 10\n",
    "\n",
    "# There is one layer of X recurrent neurons together\n",
    "n_neurons = 10\n",
    "\n",
    "# The ouput will be a single sequence\n",
    "n_outputs = 1"
   ],
   "metadata": {
    "collapsed": false,
    "pycharm": {
     "name": "#%%\n"
    }
   }
  },
  {
   "cell_type": "code",
   "execution_count": 103,
   "outputs": [],
   "source": [
    "# Architecture time\n",
    "\n",
    "# This is a default pytorch architecture\n",
    "class Model(nn.Module):\n",
    "    def __init__(self, input_size, output_size, hidden_dim, n_layers, n_steps):\n",
    "        super(Model, self).__init__()\n",
    "\n",
    "        # Defining some parameters\n",
    "        self.hidden_dim = hidden_dim\n",
    "        self.n_layers = n_layers\n",
    "        self.hidden = [0]\n",
    "        #Defining the layers\n",
    "        # RNN Layer\n",
    "\n",
    "        self.rnn = nn.RNN(input_size, n_outputs, n_layers, batch_first=True)\n",
    "\n",
    "    def forward(self, x):\n",
    "\n",
    "        # complete the forward function so it returns the output and the last hidden state\n",
    "        # what is the input of an RNN?\n",
    "        if len(self.hidden) == 1:\n",
    "            #inicitialize at 0 values\n",
    "            return out, hidden\n",
    "\n",
    "    def init_hidden(self, batch_size):\n",
    "        # This method generates the first hidden state of zeros which we'll use in the forward pass\n",
    "        # We'll send the tensor holding the hidden state to the device we specified earlier as well\n",
    "        return hidden"
   ],
   "metadata": {
    "collapsed": false,
    "pycharm": {
     "name": "#%%\n"
    }
   }
  },
  {
   "cell_type": "code",
   "execution_count": 109,
   "outputs": [],
   "source": [
    "# Optimiser and Loss functions\n",
    "\n",
    "# We initialize our RNN model to pass it to the optimizer\n",
    "model = Model(input_size=n_inputs, output_size=n_outputs, n_steps=n_steps, hidden_dim=n_neurons, n_layers=1)\n",
    "\n",
    "# What would be an adecuate loss function?\n",
    "criterion =  nn.MSELoss # Criterion == Loss == Cost\n",
    "\n",
    "# optimizer to apply the gradients\n",
    "optim = SGD(model.parameters(), lr=0.01, momentum=0.9)"
   ],
   "metadata": {
    "collapsed": false,
    "pycharm": {
     "name": "#%%\n"
    }
   }
  },
  {
   "cell_type": "code",
   "execution_count": 114,
   "outputs": [
    {
     "name": "stdout",
     "output_type": "stream",
     "text": [
      "x.shape: (25, 10, 7)\n",
      "y.shape: (25, 10, 1)\n",
      "[118  99 442 243 136 204 312 101 333 487 373  67 398  43   7 337 523  83\n",
      "  76  79 223 430 235 130 523]\n"
     ]
    },
    {
     "ename": "NameError",
     "evalue": "name 'out' is not defined",
     "output_type": "error",
     "traceback": [
      "\u001B[1;31m---------------------------------------------------------------------------\u001B[0m",
      "\u001B[1;31mNameError\u001B[0m                                 Traceback (most recent call last)",
      "\u001B[1;32m<ipython-input-114-75faa6e05541>\u001B[0m in \u001B[0;36m<module>\u001B[1;34m\u001B[0m\n\u001B[0;32m     33\u001B[0m     \u001B[0moptim\u001B[0m\u001B[1;33m.\u001B[0m\u001B[0mzero_grad\u001B[0m\u001B[1;33m(\u001B[0m\u001B[1;33m)\u001B[0m\u001B[1;33m\u001B[0m\u001B[1;33m\u001B[0m\u001B[0m\n\u001B[0;32m     34\u001B[0m     \u001B[1;31m#Get the outputs\u001B[0m\u001B[1;33m\u001B[0m\u001B[1;33m\u001B[0m\u001B[1;33m\u001B[0m\u001B[0m\n\u001B[1;32m---> 35\u001B[1;33m     \u001B[0moutput\u001B[0m \u001B[1;33m=\u001B[0m \u001B[0mmodel\u001B[0m\u001B[1;33m(\u001B[0m\u001B[0mx_batch\u001B[0m\u001B[1;33m)\u001B[0m\u001B[1;33m\u001B[0m\u001B[1;33m\u001B[0m\u001B[0m\n\u001B[0m\u001B[0;32m     36\u001B[0m \u001B[1;33m\u001B[0m\u001B[0m\n\u001B[0;32m     37\u001B[0m      \u001B[1;31m#compute the loss\u001B[0m\u001B[1;33m\u001B[0m\u001B[1;33m\u001B[0m\u001B[1;33m\u001B[0m\u001B[0m\n",
      "\u001B[1;32m~\\anaconda3\\envs\\junk\\lib\\site-packages\\torch\\nn\\modules\\module.py\u001B[0m in \u001B[0;36m_call_impl\u001B[1;34m(self, *input, **kwargs)\u001B[0m\n\u001B[0;32m    887\u001B[0m             \u001B[0mresult\u001B[0m \u001B[1;33m=\u001B[0m \u001B[0mself\u001B[0m\u001B[1;33m.\u001B[0m\u001B[0m_slow_forward\u001B[0m\u001B[1;33m(\u001B[0m\u001B[1;33m*\u001B[0m\u001B[0minput\u001B[0m\u001B[1;33m,\u001B[0m \u001B[1;33m**\u001B[0m\u001B[0mkwargs\u001B[0m\u001B[1;33m)\u001B[0m\u001B[1;33m\u001B[0m\u001B[1;33m\u001B[0m\u001B[0m\n\u001B[0;32m    888\u001B[0m         \u001B[1;32melse\u001B[0m\u001B[1;33m:\u001B[0m\u001B[1;33m\u001B[0m\u001B[1;33m\u001B[0m\u001B[0m\n\u001B[1;32m--> 889\u001B[1;33m             \u001B[0mresult\u001B[0m \u001B[1;33m=\u001B[0m \u001B[0mself\u001B[0m\u001B[1;33m.\u001B[0m\u001B[0mforward\u001B[0m\u001B[1;33m(\u001B[0m\u001B[1;33m*\u001B[0m\u001B[0minput\u001B[0m\u001B[1;33m,\u001B[0m \u001B[1;33m**\u001B[0m\u001B[0mkwargs\u001B[0m\u001B[1;33m)\u001B[0m\u001B[1;33m\u001B[0m\u001B[1;33m\u001B[0m\u001B[0m\n\u001B[0m\u001B[0;32m    890\u001B[0m         for hook in itertools.chain(\n\u001B[0;32m    891\u001B[0m                 \u001B[0m_global_forward_hooks\u001B[0m\u001B[1;33m.\u001B[0m\u001B[0mvalues\u001B[0m\u001B[1;33m(\u001B[0m\u001B[1;33m)\u001B[0m\u001B[1;33m,\u001B[0m\u001B[1;33m\u001B[0m\u001B[1;33m\u001B[0m\u001B[0m\n",
      "\u001B[1;32m<ipython-input-103-a0f686b5eb7d>\u001B[0m in \u001B[0;36mforward\u001B[1;34m(self, x)\u001B[0m\n\u001B[0;32m     21\u001B[0m         \u001B[1;32mif\u001B[0m \u001B[0mlen\u001B[0m\u001B[1;33m(\u001B[0m\u001B[0mself\u001B[0m\u001B[1;33m.\u001B[0m\u001B[0mhidden\u001B[0m\u001B[1;33m)\u001B[0m \u001B[1;33m==\u001B[0m \u001B[1;36m1\u001B[0m\u001B[1;33m:\u001B[0m\u001B[1;33m\u001B[0m\u001B[1;33m\u001B[0m\u001B[0m\n\u001B[0;32m     22\u001B[0m             \u001B[1;31m#inicitialize at 0 values\u001B[0m\u001B[1;33m\u001B[0m\u001B[1;33m\u001B[0m\u001B[1;33m\u001B[0m\u001B[0m\n\u001B[1;32m---> 23\u001B[1;33m             \u001B[1;32mreturn\u001B[0m \u001B[0mout\u001B[0m\u001B[1;33m,\u001B[0m \u001B[0mhidden\u001B[0m\u001B[1;33m\u001B[0m\u001B[1;33m\u001B[0m\u001B[0m\n\u001B[0m\u001B[0;32m     24\u001B[0m \u001B[1;33m\u001B[0m\u001B[0m\n\u001B[0;32m     25\u001B[0m     \u001B[1;32mdef\u001B[0m \u001B[0minit_hidden\u001B[0m\u001B[1;33m(\u001B[0m\u001B[0mself\u001B[0m\u001B[1;33m,\u001B[0m \u001B[0mbatch_size\u001B[0m\u001B[1;33m)\u001B[0m\u001B[1;33m:\u001B[0m\u001B[1;33m\u001B[0m\u001B[1;33m\u001B[0m\u001B[0m\n",
      "\u001B[1;31mNameError\u001B[0m: name 'out' is not defined"
     ]
    }
   ],
   "source": [
    "## Trainning Loop\n",
    "\n",
    "#We will define the training loop for our model.\n",
    "# This training loop is a little different than the usual.\n",
    "# A normal training loop is epoch based meaning that it trains for a\n",
    "# certain ammount of epochs seeing the whole dataset in each epoch.\n",
    "# For this model we will use an 'online' training which mean we will generate\n",
    "# the batches the moment before feeding it with no real regard for running trhough the entire dataset.\n",
    "\n",
    "\n",
    "#number of batches we will go through\n",
    "n_iterations = 500\n",
    "#how many squence there will be in a bacth\n",
    "batch_size = 25\n",
    "#after how many operations we will print information\n",
    "printing_gap = 100\n",
    "\n",
    "#We will store the loss values here to plot them\n",
    "train_loss = []\n",
    "\n",
    "\n",
    "train_loss = []\n",
    "for iter in range(n_iterations):\n",
    "    #Get a batch\n",
    "    x_batch, y_batch = next_stock_batch(batch_size, n_steps, df)\n",
    "    #make into tensor\n",
    "    x_batch = torch.from_numpy(x_batch)\n",
    "    y_batch = torch.from_numpy(y_batch)\n",
    "    #make them into torch variables in float format\n",
    "    x_batch = Variable(x_batch).float()\n",
    "    y_batch = Variable(y_batch).float()\n",
    "    #Reset the gradients\n",
    "    optim.zero_grad()\n",
    "    #Get the outputs\n",
    "    output = model(x_batch)\n",
    "\n",
    "     #compute the loss\n",
    "    loss = criterion(output, y_batch.flatten())\n",
    "   #compute the gradients\n",
    "    loss.backwards()\n",
    "      #Apply the gradients\n",
    "    optim.step()\n",
    "\n",
    "\n",
    "    #Append the loss value\n",
    "    train_loss.append(loss.item())\n",
    "\n",
    "    if iter % printing_gap == 0:\n",
    "        #Print the information\n",
    "        print(f\"Iteration {iter} - Loss: {loss}\")\n",
    "\n",
    "\n",
    "plt.plot(train_loss, label= \"Train Loss\")\n",
    "plt.xlabel(\" Iteration \")\n",
    "plt.ylabel(\"Loss value\")\n",
    "plt.legend(loc=\"upper left\")\n",
    "plt.show()\n",
    "\n",
    "\n",
    "\n",
    "\n",
    "# ToDo :Understand this concept\n",
    "#       Make model work\n",
    "#       Training\n",
    "#       Testing\n",
    "#       Visualisations\n",
    "#       Extra Exercises"
   ],
   "metadata": {
    "collapsed": false,
    "pycharm": {
     "name": "#%%\n"
    }
   }
  }
 ],
 "metadata": {
  "kernelspec": {
   "display_name": "Python 3",
   "language": "python",
   "name": "python3"
  },
  "language_info": {
   "codemirror_mode": {
    "name": "ipython",
    "version": 2
   },
   "file_extension": ".py",
   "mimetype": "text/x-python",
   "name": "python",
   "nbconvert_exporter": "python",
   "pygments_lexer": "ipython2",
   "version": "2.7.6"
  }
 },
 "nbformat": 4,
 "nbformat_minor": 0
}