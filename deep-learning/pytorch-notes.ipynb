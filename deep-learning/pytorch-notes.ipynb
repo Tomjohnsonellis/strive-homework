{
 "cells": [
  {
   "cell_type": "markdown",
   "source": [
    "# Pytorch Notes\n",
    "This file contains examples and explanations of pytorch code"
   ],
   "metadata": {
    "collapsed": false,
    "pycharm": {
     "name": "#%% md\n"
    }
   }
  },
  {
   "cell_type": "code",
   "execution_count": 1,
   "metadata": {
    "collapsed": true
   },
   "outputs": [
    {
     "name": "stdout",
     "output_type": "stream",
     "text": [
      "All imports OK\n"
     ]
    }
   ],
   "source": [
    "# Imports\n",
    "\n",
    "import torch # Base package\n",
    "from torch import nn # Neural Network package\n",
    "from torch.utils.data import DataLoader # Useful tool for loading data and passing it to models\n",
    "from torchvision.transforms import ToTensor # Converts image data to tensors (Which are what pytorch uses) \n",
    "from torchvision.transforms import Lambda # Allows us to apply our own transformations using lambda functions\n",
    "from torchvision.transforms import Compose # Used to chain together transformations\n",
    "\n",
    "from torchvision import datasets # Free data to tinker with\n",
    "print(\"All imports OK\")"
   ]
  },
  {
   "cell_type": "markdown",
   "source": [
    "## Loading data"
   ],
   "metadata": {
    "collapsed": false,
    "pycharm": {
     "name": "#%% md\n"
    }
   }
  },
  {
   "cell_type": "code",
   "execution_count": 17,
   "outputs": [],
   "source": [
    "# We'll just use some freely available data\n",
    "training_data = datasets.FashionMNIST(\n",
    "    root=\"data\", # Data folder location\n",
    "    train=True, # This will be our training data\n",
    "    download=False, # Can replace with False after the first run\n",
    "    transform=ToTensor(), # Pytorch uses tensor objects, so may as well transform the data now\n",
    ")\n",
    "\n",
    "test_data = datasets.FashionMNIST(\n",
    "    root=\"data\",\n",
    "    train=False, # This will not be our training data\n",
    "    download=False,\n",
    "    transform=ToTensor(),\n",
    ")\n",
    "\n",
    "\n",
    "# Pytorch's DataLoaders allow us to, you guessed it, load data\n",
    "# Typical usage is...\n",
    "size_of_batch = 11 # However many number of data samples you use in each batch of data\n",
    "train_dataloader = DataLoader(training_data, batch_size=size_of_batch)\n",
    "test_dataloader = DataLoader(test_data, batch_size=size_of_batch)"
   ],
   "metadata": {
    "collapsed": false,
    "pycharm": {
     "name": "#%%\n"
    }
   }
  },
  {
   "cell_type": "code",
   "execution_count": 20,
   "outputs": [
    {
     "name": "stdout",
     "output_type": "stream",
     "text": [
      "Shape of X [Size of each batch, Colours, Height, Width]: \n",
      " torch.Size([11, 1, 28, 28])\n",
      "Shape of y:  torch.Size([11]) torch.int64\n"
     ]
    }
   ],
   "source": [
    "# We can find out about the shape of our data like so\n",
    "# X is the conventional name for data, y for the target result\n",
    "for X, y in test_dataloader:\n",
    "    print(\"Shape of X [Size of each batch, Colours, Height, Width]: \\n\", X.shape)\n",
    "    print(\"Shape of y: \", y.shape, y.dtype)\n",
    "    break # We only need to print this info once"
   ],
   "metadata": {
    "collapsed": false,
    "pycharm": {
     "name": "#%%\n"
    }
   }
  },
  {
   "cell_type": "markdown",
   "source": [
    "## Custom data loaders"
   ],
   "metadata": {
    "collapsed": false,
    "pycharm": {
     "name": "#%% md\n"
    }
   }
  },
  {
   "cell_type": "code",
   "execution_count": null,
   "outputs": [],
   "source": [
    "# Classes can be used to make our own data loaders,\n",
    "# This becomes increasing necessary as we deal with large and more complex problems\n",
    "# as we will be unable to just load everything into our machine's memory at once.\n",
    "# It also lets us make methods useful for a specific problem.\n",
    "\n",
    "# Todo : find some data and make a custom loader for it"
   ],
   "metadata": {
    "collapsed": false,
    "pycharm": {
     "name": "#%%\n"
    }
   }
  },
  {
   "cell_type": "markdown",
   "source": [
    "## Preprocessing\n",
    "Preprocessing depends heavily on the dataset you are using, but possible choices are:\n",
    "- Batch Normalisation, practically always helpful to do\n",
    "- Image cropping\n",
    "- Image translation\n",
    "- Image rotations/flips\n",
    "- Contrast changes"
   ],
   "metadata": {
    "collapsed": false,
    "pycharm": {
     "name": "#%% md\n"
    }
   }
  },
  {
   "cell_type": "code",
   "execution_count": null,
   "outputs": [],
   "source": [
    "# Let's just do batch normalisation"
   ],
   "metadata": {
    "collapsed": false,
    "pycharm": {
     "name": "#%%\n"
    }
   }
  }
 ],
 "metadata": {
  "kernelspec": {
   "display_name": "Python 3",
   "language": "python",
   "name": "python3"
  },
  "language_info": {
   "codemirror_mode": {
    "name": "ipython",
    "version": 2
   },
   "file_extension": ".py",
   "mimetype": "text/x-python",
   "name": "python",
   "nbconvert_exporter": "python",
   "pygments_lexer": "ipython2",
   "version": "2.7.6"
  }
 },
 "nbformat": 4,
 "nbformat_minor": 0
}