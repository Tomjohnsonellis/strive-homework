{
 "cells": [
  {
   "cell_type": "markdown",
   "source": [
    "# Pytorch Notes\n",
    "This file contains examples and explanations of pytorch code"
   ],
   "metadata": {
    "collapsed": false,
    "pycharm": {
     "name": "#%% md\n"
    }
   }
  },
  {
   "cell_type": "code",
   "execution_count": 34,
   "metadata": {
    "collapsed": true
   },
   "outputs": [
    {
     "name": "stdout",
     "output_type": "stream",
     "text": [
      "All imports OK\n"
     ]
    }
   ],
   "source": [
    "# Imports\n",
    "\n",
    "import torch # Base package\n",
    "from torch import nn # Neural Network package\n",
    "from torch.utils.data import DataLoader # Useful tool for loading data and passing it to models\n",
    "from torchvision.transforms import ToTensor # Converts image data to tensors (Which are what pytorch uses) \n",
    "from torchvision.transforms import Lambda # Allows us to apply our own transformations using lambda functions\n",
    "from torchvision.transforms import Compose # Used to chain together transformations\n",
    "\n",
    "from torchvision import datasets # Free data to tinker with\n",
    "print(\"All imports OK\")"
   ]
  },
  {
   "cell_type": "markdown",
   "source": [
    "## Loading data"
   ],
   "metadata": {
    "collapsed": false,
    "pycharm": {
     "name": "#%% md\n"
    }
   }
  },
  {
   "cell_type": "code",
   "execution_count": 35,
   "outputs": [],
   "source": [
    "# We'll just use some freely available data\n",
    "training_data = datasets.FashionMNIST(\n",
    "    root=\"data\", # Data folder location\n",
    "    train=True, # This will be our training data\n",
    "    download=False, # Can replace with False after the first run\n",
    "    transform=ToTensor(), # Pytorch uses tensor objects, so may as well transform the data now\n",
    ")\n",
    "\n",
    "test_data = datasets.FashionMNIST(\n",
    "    root=\"data\",\n",
    "    train=False, # This will not be our training data\n",
    "    download=False,\n",
    "    transform=ToTensor(),\n",
    ")\n",
    "\n",
    "\n",
    "# Pytorch's DataLoaders allow us to, you guessed it, load data\n",
    "# Typical usage is...\n",
    "size_of_batch = 64 # However many number of data samples you use in each batch of data\n",
    "train_dataloader = DataLoader(training_data, batch_size=size_of_batch)\n",
    "test_dataloader = DataLoader(test_data, batch_size=size_of_batch)"
   ],
   "metadata": {
    "collapsed": false,
    "pycharm": {
     "name": "#%%\n"
    }
   }
  },
  {
   "cell_type": "code",
   "execution_count": 36,
   "outputs": [
    {
     "name": "stdout",
     "output_type": "stream",
     "text": [
      "Shape of X [Size of each batch, Colours, Height, Width]: \n",
      " torch.Size([64, 1, 28, 28])\n",
      "Shape of y:  torch.Size([64]) torch.int64\n"
     ]
    }
   ],
   "source": [
    "# We can find out about the shape of our data like so\n",
    "# X is the conventional name for data, y for the target result\n",
    "for X, y in test_dataloader:\n",
    "    print(\"Shape of X [Size of each batch, Colours, Height, Width]: \\n\", X.shape)\n",
    "    print(\"Shape of y: \", y.shape, y.dtype)\n",
    "    break # We only need to print this info once"
   ],
   "metadata": {
    "collapsed": false,
    "pycharm": {
     "name": "#%%\n"
    }
   }
  },
  {
   "cell_type": "markdown",
   "source": [
    "## Custom data loaders"
   ],
   "metadata": {
    "collapsed": false,
    "pycharm": {
     "name": "#%% md\n"
    }
   }
  },
  {
   "cell_type": "code",
   "execution_count": 37,
   "outputs": [],
   "source": [
    "# Classes can be used to make our own data loaders,\n",
    "# This becomes increasing necessary as we deal with large and more complex problems\n",
    "# as we will be unable to just load everything into our machine's memory at once.\n",
    "# It also lets us make methods useful for a specific problem.\n",
    "\n",
    "# Todo : find some data and make a custom loader for it"
   ],
   "metadata": {
    "collapsed": false,
    "pycharm": {
     "name": "#%%\n"
    }
   }
  },
  {
   "cell_type": "markdown",
   "source": [
    "## Preprocessing\n",
    "Preprocessing depends heavily on the dataset you are using, but possible choices are:\n",
    "- Batch Normalisation, practically always helpful to do\n",
    "- Image cropping\n",
    "- Image translation\n",
    "- Image rotations/flips\n",
    "- Contrast changes"
   ],
   "metadata": {
    "collapsed": false,
    "pycharm": {
     "name": "#%% md\n"
    }
   }
  },
  {
   "cell_type": "code",
   "execution_count": 38,
   "outputs": [],
   "source": [
    "# Let's just do batch normalisation\n",
    "# Todo: figure our how to do that"
   ],
   "metadata": {
    "collapsed": false,
    "pycharm": {
     "name": "#%%\n"
    }
   }
  },
  {
   "cell_type": "markdown",
   "source": [
    "## Models"
   ],
   "metadata": {
    "collapsed": false,
    "pycharm": {
     "name": "#%% md\n"
    }
   }
  },
  {
   "cell_type": "code",
   "execution_count": 39,
   "outputs": [
    {
     "name": "stdout",
     "output_type": "stream",
     "text": [
      "Currently using: cuda\n",
      "NeuralNetwork(\n",
      "  (flatten): Flatten(start_dim=1, end_dim=-1)\n",
      "  (linear_relu_stack): Sequential(\n",
      "    (0): Linear(in_features=784, out_features=256, bias=True)\n",
      "    (1): ReLU()\n",
      "    (2): Linear(in_features=256, out_features=128, bias=True)\n",
      "    (3): ReLU()\n",
      "    (4): Linear(in_features=128, out_features=10, bias=True)\n",
      "    (5): ReLU()\n",
      "  )\n",
      ")\n"
     ]
    }
   ],
   "source": [
    "# If you have a nVidia graphics card with cuda capabilities, pytorch can make use of it\n",
    "device = \"cuda\" if torch.cuda.is_available() else \"cpu\"\n",
    "print(f\"Currently using: {device}\")\n",
    "\n",
    "# The typical practice with pytorch is to make a child class from the nn.Module\n",
    "# and then define whatever features your problem requires\n",
    "class NeuralNetwork(nn.Module):\n",
    "    def __init__(self):\n",
    "        super(NeuralNetwork, self).__init__() # super() gives us all the methods from the default neural network class\n",
    "        self.flatten = nn.Flatten() # Flattening tensors makes them 1 dimensional, often needed https://pytorch.org/docs/stable/generated/torch.flatten.html\n",
    "        # Here's the actual network, Sequential() will apply operations one after another (sequentially)\n",
    "        self.linear_relu_stack = nn.Sequential(\n",
    "            nn.Linear(28*28, 256), # A list of network layer sizes is typically better practice than hard coding values\n",
    "            nn.ReLU(), # Some activation function, ReLU is the current go-to but feel free to use sigmoid, tanh etc.\n",
    "            nn.Linear(256, 128),\n",
    "            nn.ReLU(),\n",
    "            nn.Linear(128,10),\n",
    "            nn.ReLU()\n",
    "        )\n",
    "\n",
    "    def forward(self, x):\n",
    "        x = self.flatten(x)\n",
    "        logits = self.linear_relu_stack(x) # Logits are a models raw predictions, not yet a usable guess\n",
    "        return logits\n",
    "\n",
    "model = NeuralNetwork().to(device)\n",
    "print(model)"
   ],
   "metadata": {
    "collapsed": false,
    "pycharm": {
     "name": "#%%\n"
    }
   }
  },
  {
   "cell_type": "markdown",
   "source": [
    "## Training\n",
    "In order to train a model, we need a loss function as well as an optimizer<br>\n",
    "The loss function will give us a value for how well the model is doing,<br>\n",
    "and the optimizer will attempt to improve this value"
   ],
   "metadata": {
    "collapsed": false,
    "pycharm": {
     "name": "#%% md\n"
    }
   }
  },
  {
   "cell_type": "code",
   "execution_count": 40,
   "outputs": [],
   "source": [
    "# Cross Entropy is useful for classification tasks https://pytorch.org/docs/stable/generated/torch.nn.CrossEntropyLoss.html\n",
    "# tl;dr: input our logits, receive a score\n",
    "loss_function = nn.CrossEntropyLoss()\n",
    "\n",
    "# SGD is stochastic gradient descent, this is a pretty basic algorithm in the ML world but still works fine here\n",
    "# Comparison of optimizers: https://mlfromscratch.com/optimizers-explained/\n",
    "optimizer = torch.optim.SGD(model.parameters(), lr=0.001)"
   ],
   "metadata": {
    "collapsed": false,
    "pycharm": {
     "name": "#%%\n"
    }
   }
  },
  {
   "cell_type": "code",
   "execution_count": 41,
   "outputs": [],
   "source": [
    "# Now to make the training loop\n",
    "# In each training step, the model will make a prediction on the training data,\n",
    "# calculate the error, then backpropagates that to adjust it's parameters\n",
    "def train(dataloader, model, loss_function, optimizer):\n",
    "    # X is the data, y is the target\n",
    "    for batch, (X, y) in enumerate(dataloader):\n",
    "        # This can be left out if you aren't using cuda, it just moves the tensors to GPU for processing\n",
    "        X, y = X.to(device), y.to(device)\n",
    "        # Make some predictions\n",
    "        predictions = model(X)\n",
    "        # Compute the loss\n",
    "        loss = loss_function(predictions, y)\n",
    "        # Backpropogate\n",
    "        # Reset gradients, this is needed so that we are recalculating them each time we do this\n",
    "        optimizer.zero_grad\n",
    "        # Although we didn't define a backward() method, the model inherited it thanks to super()!\n",
    "        loss.backward()\n",
    "        # Update the parameters (weights and biases)\n",
    "        optimizer.step()\n",
    "\n",
    "        # Print some information so we can see what's happening\n",
    "        size = len(dataloader.dataset)\n",
    "        if batch % 1000 == 0:\n",
    "            loss, current = loss.item(), batch * len(X) # loss.item is the loss for the batch divided by batch size\n",
    "            print(f\"Loss: {loss:>7f}  [{current:>5d}/{size:>5d}\")"
   ],
   "metadata": {
    "collapsed": false,
    "pycharm": {
     "name": "#%%\n"
    }
   }
  },
  {
   "cell_type": "code",
   "execution_count": 42,
   "outputs": [],
   "source": [
    "# We also need to test the model to verify it is generalising rather than overfitting\n",
    "def test(dataloader, model):\n",
    "    model.eval() # This sets the model to \"evaluation mode\", if we were using dropout this is required to test correctly\n",
    "    test_loss, correct = 0, 0\n",
    "    with torch.no_grad(): # This stops calculating the gradients, saves on memory usage for testing\n",
    "        for X, y in dataloader:\n",
    "            X, y = X.to(device), y.to(device) # Cuda stuff again\n",
    "            predictions = model(X) # Make predictions\n",
    "            test_loss += loss_function(predictions, y).item()\n",
    "            correct += (predictions.argmax(1) == y).type(torch.float).sum().item() # I think this counts the correct predictions\n",
    "\n",
    "        size = len(dataloader.dataset)\n",
    "        test_loss /= size\n",
    "        correct /= size\n",
    "        print(f\"Test Error:\\nAccuracy: {(100*correct):>0.1f}%\\nAverage Loss: {test_loss:>8f}\\n\")"
   ],
   "metadata": {
    "collapsed": false,
    "pycharm": {
     "name": "#%%\n"
    }
   }
  },
  {
   "cell_type": "code",
   "execution_count": 43,
   "outputs": [
    {
     "name": "stdout",
     "output_type": "stream",
     "text": [
      "Epoch #1\n",
      "----------\n",
      "Loss: 2.301413  [    0/60000\n",
      "Test Error:\n",
      "Accuracy: 45.1%\n",
      "Average Loss: 0.022993\n",
      "\n",
      "Epoch #2\n",
      "----------\n",
      "Loss: 1.348468  [    0/60000\n",
      "Test Error:\n",
      "Accuracy: 52.5%\n",
      "Average Loss: 0.021146\n",
      "\n",
      "Epoch #3\n",
      "----------\n",
      "Loss: 1.345409  [    0/60000\n",
      "Test Error:\n",
      "Accuracy: 41.8%\n",
      "Average Loss: 0.026070\n",
      "\n",
      "Epoch #4\n",
      "----------\n",
      "Loss: 1.446756  [    0/60000\n",
      "Test Error:\n",
      "Accuracy: 22.5%\n",
      "Average Loss: 0.032794\n",
      "\n",
      "Epoch #5\n",
      "----------\n",
      "Loss: 2.014762  [    0/60000\n",
      "Test Error:\n",
      "Accuracy: 10.2%\n",
      "Average Loss: 0.036088\n",
      "\n",
      "Done!\n"
     ]
    }
   ],
   "source": [
    "# Finally let's give it a whirl\n",
    "\n",
    "epochs = 5 # How many training cycles we do\n",
    "for t in range(epochs):\n",
    "    print(f\"Epoch #{t+1}\\n\"+ (\"-\"*10))\n",
    "    train(train_dataloader, model, loss_function, optimizer)\n",
    "    test(test_dataloader, model)\n",
    "\n",
    "print(\"Done!\")"
   ],
   "metadata": {
    "collapsed": false,
    "pycharm": {
     "name": "#%%\n"
    }
   }
  },
  {
   "cell_type": "code",
   "execution_count": 50,
   "outputs": [
    {
     "name": "stdout",
     "output_type": "stream",
     "text": [
      "Cuda Available: True\n",
      "Current Device: 0\n",
      "--> Quadro P5000\n",
      "Memory Allocated: 3834368\n",
      "Memory Reserved: 8388608\n",
      "Stats: OrderedDict([('active.all.allocated', 879196), ('active.all.current', 32), ('active.all.freed', 879164), ('active.all.peak', 59), ('active.large_pool.allocated', 0), ('active.large_pool.current', 0), ('active.large_pool.freed', 0), ('active.large_pool.peak', 0), ('active.small_pool.allocated', 879196), ('active.small_pool.current', 32), ('active.small_pool.freed', 879164), ('active.small_pool.peak', 59), ('active_bytes.all.allocated', 36538060288), ('active_bytes.all.current', 3834368), ('active_bytes.all.freed', 36534225920), ('active_bytes.all.peak', 5919744), ('active_bytes.large_pool.allocated', 0), ('active_bytes.large_pool.current', 0), ('active_bytes.large_pool.freed', 0), ('active_bytes.large_pool.peak', 0), ('active_bytes.small_pool.allocated', 36538060288), ('active_bytes.small_pool.current', 3834368), ('active_bytes.small_pool.freed', 36534225920), ('active_bytes.small_pool.peak', 5919744), ('allocated_bytes.all.allocated', 36538060288), ('allocated_bytes.all.current', 3834368), ('allocated_bytes.all.freed', 36534225920), ('allocated_bytes.all.peak', 5919744), ('allocated_bytes.large_pool.allocated', 0), ('allocated_bytes.large_pool.current', 0), ('allocated_bytes.large_pool.freed', 0), ('allocated_bytes.large_pool.peak', 0), ('allocated_bytes.small_pool.allocated', 36538060288), ('allocated_bytes.small_pool.current', 3834368), ('allocated_bytes.small_pool.freed', 36534225920), ('allocated_bytes.small_pool.peak', 5919744), ('allocation.all.allocated', 879196), ('allocation.all.current', 32), ('allocation.all.freed', 879164), ('allocation.all.peak', 59), ('allocation.large_pool.allocated', 0), ('allocation.large_pool.current', 0), ('allocation.large_pool.freed', 0), ('allocation.large_pool.peak', 0), ('allocation.small_pool.allocated', 879196), ('allocation.small_pool.current', 32), ('allocation.small_pool.freed', 879164), ('allocation.small_pool.peak', 59), ('inactive_split.all.allocated', 430295), ('inactive_split.all.current', 8), ('inactive_split.all.freed', 430287), ('inactive_split.all.peak', 11), ('inactive_split.large_pool.allocated', 0), ('inactive_split.large_pool.current', 0), ('inactive_split.large_pool.freed', 0), ('inactive_split.large_pool.peak', 0), ('inactive_split.small_pool.allocated', 430295), ('inactive_split.small_pool.current', 8), ('inactive_split.small_pool.freed', 430287), ('inactive_split.small_pool.peak', 11), ('inactive_split_bytes.all.allocated', 38842846208), ('inactive_split_bytes.all.current', 2457088), ('inactive_split_bytes.all.freed', 38840389120), ('inactive_split_bytes.all.peak', 2636800), ('inactive_split_bytes.large_pool.allocated', 0), ('inactive_split_bytes.large_pool.current', 0), ('inactive_split_bytes.large_pool.freed', 0), ('inactive_split_bytes.large_pool.peak', 0), ('inactive_split_bytes.small_pool.allocated', 38842846208), ('inactive_split_bytes.small_pool.current', 2457088), ('inactive_split_bytes.small_pool.freed', 38840389120), ('inactive_split_bytes.small_pool.peak', 2636800), ('num_alloc_retries', 0), ('num_ooms', 0), ('reserved_bytes.all.allocated', 8388608), ('reserved_bytes.all.current', 8388608), ('reserved_bytes.all.freed', 0), ('reserved_bytes.all.peak', 8388608), ('reserved_bytes.large_pool.allocated', 0), ('reserved_bytes.large_pool.current', 0), ('reserved_bytes.large_pool.freed', 0), ('reserved_bytes.large_pool.peak', 0), ('reserved_bytes.small_pool.allocated', 8388608), ('reserved_bytes.small_pool.current', 8388608), ('reserved_bytes.small_pool.freed', 0), ('reserved_bytes.small_pool.peak', 8388608), ('segment.all.allocated', 4), ('segment.all.current', 4), ('segment.all.freed', 0), ('segment.all.peak', 4), ('segment.large_pool.allocated', 0), ('segment.large_pool.current', 0), ('segment.large_pool.freed', 0), ('segment.large_pool.peak', 0), ('segment.small_pool.allocated', 4), ('segment.small_pool.current', 4), ('segment.small_pool.freed', 0), ('segment.small_pool.peak', 4)])\n"
     ]
    },
    {
     "ename": "ValueError",
     "evalue": "too many values to unpack (expected 2)",
     "output_type": "error",
     "traceback": [
      "\u001B[1;31m---------------------------------------------------------------------------\u001B[0m",
      "\u001B[1;31mValueError\u001B[0m                                Traceback (most recent call last)",
      "\u001B[1;32m<ipython-input-50-f82eabc89a06>\u001B[0m in \u001B[0;36m<module>\u001B[1;34m\u001B[0m\n\u001B[0;32m      8\u001B[0m \u001B[0mprint\u001B[0m\u001B[1;33m(\u001B[0m\u001B[1;34mf\"Memory Reserved: {torch.cuda.memory_reserved()}\"\u001B[0m\u001B[1;33m)\u001B[0m\u001B[1;33m\u001B[0m\u001B[1;33m\u001B[0m\u001B[0m\n\u001B[0;32m      9\u001B[0m \u001B[0mprint\u001B[0m\u001B[1;33m(\u001B[0m\u001B[1;34mf\"Stats: {torch.cuda.memory_stats()}\"\u001B[0m\u001B[1;33m)\u001B[0m\u001B[1;33m\u001B[0m\u001B[1;33m\u001B[0m\u001B[0m\n\u001B[1;32m---> 10\u001B[1;33m \u001B[1;32mfor\u001B[0m \u001B[0mkey\u001B[0m\u001B[1;33m,\u001B[0m \u001B[0mvalue\u001B[0m \u001B[1;32min\u001B[0m \u001B[0mtorch\u001B[0m\u001B[1;33m.\u001B[0m\u001B[0mcuda\u001B[0m\u001B[1;33m.\u001B[0m\u001B[0mmemory_stats\u001B[0m\u001B[1;33m(\u001B[0m\u001B[1;33m)\u001B[0m\u001B[1;33m:\u001B[0m\u001B[1;33m\u001B[0m\u001B[1;33m\u001B[0m\u001B[0m\n\u001B[0m\u001B[0;32m     11\u001B[0m     \u001B[0mprint\u001B[0m\u001B[1;33m(\u001B[0m\u001B[1;34mf\"{key} - {value}\"\u001B[0m\u001B[1;33m)\u001B[0m\u001B[1;33m\u001B[0m\u001B[1;33m\u001B[0m\u001B[0m\n",
      "\u001B[1;31mValueError\u001B[0m: too many values to unpack (expected 2)"
     ]
    }
   ],
   "source": [
    "# Cuda info\n",
    "\n",
    "print(f\"Cuda Available: {torch.cuda.is_available()}\")\n",
    "print(f\"Current Device: {torch.cuda.current_device()}\")\n",
    "device_id = torch.cuda.current_device()\n",
    "print(f\"--> {torch.cuda.get_device_name(device_id)}\")\n",
    "print(f\"Memory Allocated: {torch.cuda.memory_allocated(device_id)}\")\n",
    "print(f\"Memory Reserved: {torch.cuda.memory_reserved()}\")\n",
    "print(f\"Stats: {torch.cuda.memory_stats()}\")\n",
    "for key, value in torch.cuda.memory_stats():\n",
    "    print(f\"{key} - {value}\")"
   ],
   "metadata": {
    "collapsed": false,
    "pycharm": {
     "name": "#%%\n"
    }
   }
  }
 ],
 "metadata": {
  "kernelspec": {
   "display_name": "Python 3",
   "language": "python",
   "name": "python3"
  },
  "language_info": {
   "codemirror_mode": {
    "name": "ipython",
    "version": 2
   },
   "file_extension": ".py",
   "mimetype": "text/x-python",
   "name": "python",
   "nbconvert_exporter": "python",
   "pygments_lexer": "ipython2",
   "version": "2.7.6"
  }
 },
 "nbformat": 4,
 "nbformat_minor": 0
}