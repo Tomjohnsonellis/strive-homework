{
 "cells": [
  {
   "cell_type": "markdown",
   "source": [
    "# Pytorch Notes\n",
    "This file contains examples and explanations of pytorch code"
   ],
   "metadata": {
    "collapsed": false,
    "pycharm": {
     "name": "#%% md\n"
    }
   }
  },
  {
   "cell_type": "code",
   "execution_count": 2,
   "metadata": {
    "collapsed": true
   },
   "outputs": [
    {
     "name": "stdout",
     "output_type": "stream",
     "text": [
      "All imports OK\n"
     ]
    }
   ],
   "source": [
    "# Imports\n",
    "\n",
    "import torch # Base package\n",
    "from torch import nn # Neural Network package\n",
    "from torch.utils.data import DataLoader # Useful tool for loading data and passing it to models\n",
    "from torchvision.transforms import ToTensor # Converts image data to tensors (Which are what pytorch uses) \n",
    "from torchvision.transforms import Lambda # Allows us to apply our own transformations using lambda functions\n",
    "from torchvision.transforms import Compose # Used to chain together transformations\n",
    "\n",
    "from torchvision import datasets # Free data to tinker with\n",
    "print(\"All imports OK\")"
   ]
  },
  {
   "cell_type": "markdown",
   "source": [
    "## Loading data"
   ],
   "metadata": {
    "collapsed": false,
    "pycharm": {
     "name": "#%% md\n"
    }
   }
  },
  {
   "cell_type": "code",
   "execution_count": 3,
   "outputs": [],
   "source": [
    "# We'll just use some freely available data\n",
    "training_data = datasets.FashionMNIST(\n",
    "    root=\"data\", # Data folder location\n",
    "    train=True, # This will be our training data\n",
    "    download=False, # Can replace with False after the first run\n",
    "    transform=ToTensor(), # Pytorch uses tensor objects, so may as well transform the data now\n",
    ")\n",
    "\n",
    "test_data = datasets.FashionMNIST(\n",
    "    root=\"data\",\n",
    "    train=False, # This will not be our training data\n",
    "    download=False,\n",
    "    transform=ToTensor(),\n",
    ")\n",
    "\n",
    "\n",
    "# Pytorch's DataLoaders allow us to, you guessed it, load data\n",
    "# Typical usage is...\n",
    "size_of_batch = 11 # However many number of data samples you use in each batch of data\n",
    "train_dataloader = DataLoader(training_data, batch_size=size_of_batch)\n",
    "test_dataloader = DataLoader(test_data, batch_size=size_of_batch)"
   ],
   "metadata": {
    "collapsed": false,
    "pycharm": {
     "name": "#%%\n"
    }
   }
  },
  {
   "cell_type": "code",
   "execution_count": 4,
   "outputs": [
    {
     "name": "stdout",
     "output_type": "stream",
     "text": [
      "Shape of X [Size of each batch, Colours, Height, Width]: \n",
      " torch.Size([11, 1, 28, 28])\n",
      "Shape of y:  torch.Size([11]) torch.int64\n"
     ]
    }
   ],
   "source": [
    "# We can find out about the shape of our data like so\n",
    "# X is the conventional name for data, y for the target result\n",
    "for X, y in test_dataloader:\n",
    "    print(\"Shape of X [Size of each batch, Colours, Height, Width]: \\n\", X.shape)\n",
    "    print(\"Shape of y: \", y.shape, y.dtype)\n",
    "    break # We only need to print this info once"
   ],
   "metadata": {
    "collapsed": false,
    "pycharm": {
     "name": "#%%\n"
    }
   }
  },
  {
   "cell_type": "markdown",
   "source": [
    "## Custom data loaders"
   ],
   "metadata": {
    "collapsed": false,
    "pycharm": {
     "name": "#%% md\n"
    }
   }
  },
  {
   "cell_type": "code",
   "execution_count": 5,
   "outputs": [],
   "source": [
    "# Classes can be used to make our own data loaders,\n",
    "# This becomes increasing necessary as we deal with large and more complex problems\n",
    "# as we will be unable to just load everything into our machine's memory at once.\n",
    "# It also lets us make methods useful for a specific problem.\n",
    "\n",
    "# Todo : find some data and make a custom loader for it"
   ],
   "metadata": {
    "collapsed": false,
    "pycharm": {
     "name": "#%%\n"
    }
   }
  },
  {
   "cell_type": "markdown",
   "source": [
    "## Preprocessing\n",
    "Preprocessing depends heavily on the dataset you are using, but possible choices are:\n",
    "- Batch Normalisation, practically always helpful to do\n",
    "- Image cropping\n",
    "- Image translation\n",
    "- Image rotations/flips\n",
    "- Contrast changes"
   ],
   "metadata": {
    "collapsed": false,
    "pycharm": {
     "name": "#%% md\n"
    }
   }
  },
  {
   "cell_type": "code",
   "execution_count": 6,
   "outputs": [],
   "source": [
    "# Let's just do batch normalisation\n",
    "# Todo: figure our how to do that"
   ],
   "metadata": {
    "collapsed": false,
    "pycharm": {
     "name": "#%%\n"
    }
   }
  },
  {
   "cell_type": "markdown",
   "source": [
    "## Models"
   ],
   "metadata": {
    "collapsed": false,
    "pycharm": {
     "name": "#%% md\n"
    }
   }
  },
  {
   "cell_type": "code",
   "execution_count": 9,
   "outputs": [
    {
     "name": "stdout",
     "output_type": "stream",
     "text": [
      "Currently using: cuda\n",
      "NeuralNetwork(\n",
      "  (flatten): Flatten(start_dim=1, end_dim=-1)\n",
      "  (linear_relu_stack): Sequential(\n",
      "    (0): Linear(in_features=784, out_features=256, bias=True)\n",
      "    (1): ReLU()\n",
      "    (2): Linear(in_features=256, out_features=128, bias=True)\n",
      "    (3): ReLU()\n",
      "    (4): Linear(in_features=128, out_features=10, bias=True)\n",
      "    (5): ReLU()\n",
      "  )\n",
      ")\n"
     ]
    }
   ],
   "source": [
    "# If you have a nVidia graphics card with cuda capabilities, pytorch can make use of it\n",
    "device = \"cuda\" if torch.cuda.is_available() else \"cpu\"\n",
    "print(f\"Currently using: {device}\")\n",
    "\n",
    "# The typical practice with pytorch is to make a child class from the nn.Module\n",
    "# and then define whatever features your problem requires\n",
    "class NeuralNetwork(nn.Module):\n",
    "    def __init__(self):\n",
    "        super(NeuralNetwork, self).__init__() # super() gives us all the methods from the default neural network class\n",
    "        self.flatten = nn.Flatten() # Flattening tensors makes them 1 dimensional, often needed https://pytorch.org/docs/stable/generated/torch.flatten.html\n",
    "        # Here's the actual network, Sequential() will apply operations one after another (sequentially)\n",
    "        self.linear_relu_stack = nn.Sequential(\n",
    "            nn.Linear(28*28, 256), # A list of network layer sizes is typically better practice than hard coding values\n",
    "            nn.ReLU(), # Some activation function, ReLU is the current go-to but feel free to use sigmoid, tanh etc.\n",
    "            nn.Linear(256, 128),\n",
    "            nn.ReLU(),\n",
    "            nn.Linear(128,10),\n",
    "            nn.ReLU()\n",
    "        )\n",
    "\n",
    "    def forward(self, x):\n",
    "        x = self.flatten(x)\n",
    "        logits = self.linear_relu_stack(x) # Logits are a models raw predictions, not yet a usable guess\n",
    "        return logits\n",
    "\n",
    "model = NeuralNetwork().to(device)\n",
    "print(model)"
   ],
   "metadata": {
    "collapsed": false,
    "pycharm": {
     "name": "#%%\n"
    }
   }
  },
  {
   "cell_type": "markdown",
   "source": [
    "## Training\n",
    "In order to train a model, we need a loss function as well as an optimizer<br>\n",
    "The loss function will give us a value for how well the model is doing,<br>\n",
    "and the optimizer will attempt to improve this value"
   ],
   "metadata": {
    "collapsed": false,
    "pycharm": {
     "name": "#%% md\n"
    }
   }
  },
  {
   "cell_type": "code",
   "execution_count": 10,
   "outputs": [],
   "source": [
    "# Cross Entropy is useful for classification tasks https://pytorch.org/docs/stable/generated/torch.nn.CrossEntropyLoss.html\n",
    "# tl;dr: input our logits, receive a score\n",
    "loss_function = nn.CrossEntropyLoss\n",
    "\n",
    "# SGD is stochastic gradient descent, this is a pretty basic algorithm in the ML world but still works fine here\n",
    "# Comparison of optimizers: https://mlfromscratch.com/optimizers-explained/\n",
    "optimizer = torch.optim.SGD(model.parameters(), lr=0.001)"
   ],
   "metadata": {
    "collapsed": false,
    "pycharm": {
     "name": "#%%\n"
    }
   }
  },
  {
   "cell_type": "code",
   "execution_count": 11,
   "outputs": [],
   "source": [
    "# Now to make the training loop\n",
    "# In each training step, the model will make a prediction on the training data,\n",
    "# calculate the error, then backpropagates that to adjust it's parameters\n",
    "def train(dataloader, model, loss_function, optimizer):\n",
    "    # X is the data, y is the target\n",
    "    for batch, (X, y) in enumerate(dataloader):\n",
    "        # This can be left out if you aren't using cuda, it just moves the tensors to GPU for processing\n",
    "        X, y = X.to(device), y.to(device)\n",
    "        # Make some predictions\n",
    "        predictions = model(X)\n",
    "        # Compute the loss\n",
    "        loss = loss_function(predictions, y)\n",
    "        # Backpropogate\n",
    "        # Reset gradients, this is needed so that we are recalculating them each time we do this\n",
    "        optimizer.zero_grad\n",
    "        # Although we didn't define a backward() method, the model inherited it thanks to super()!\n",
    "        loss.backward()\n",
    "        # Update the parameters (weights and biases)\n",
    "        optimizer.step()\n",
    "\n",
    "        # Print some information so we can see what's happening\n",
    "        size = len(dataloader.dataset)\n",
    "        if batch % 100 == 0:\n",
    "            loss, current = loss.item(), batch * len(X)\n",
    "            print(f\"Loss: {loss:>7f}  [{current:>5d}/{size:>5d}\")"
   ],
   "metadata": {
    "collapsed": false,
    "pycharm": {
     "name": "#%%\n"
    }
   }
  },
  {
   "cell_type": "code",
   "execution_count": null,
   "outputs": [],
   "source": [
    "# We also need to test the model to verify it is generalising rather than overfitting\n",
    "def test(dataloader, model):\n",
    "    model.eval()\n",
    "    test_loss, correct = 0, 0\n",
    "    with torch.no_grad():\n",
    "        for X, y in dataloader:\n",
    "            "
   ],
   "metadata": {
    "collapsed": false,
    "pycharm": {
     "name": "#%%\n"
    }
   }
  }
 ],
 "metadata": {
  "kernelspec": {
   "display_name": "Python 3",
   "language": "python",
   "name": "python3"
  },
  "language_info": {
   "codemirror_mode": {
    "name": "ipython",
    "version": 2
   },
   "file_extension": ".py",
   "mimetype": "text/x-python",
   "name": "python",
   "nbconvert_exporter": "python",
   "pygments_lexer": "ipython2",
   "version": "2.7.6"
  }
 },
 "nbformat": 4,
 "nbformat_minor": 0
}