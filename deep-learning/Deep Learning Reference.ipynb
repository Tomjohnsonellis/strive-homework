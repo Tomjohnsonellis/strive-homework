{
 "cells": [
  {
   "cell_type": "markdown",
   "metadata": {
    "collapsed": true,
    "pycharm": {
     "name": "#%% md\n"
    }
   },
   "source": [
    "# Deep Learning: Reference Sheet\n",
    "***\n",
    "![Subset Diagram](img/subsets.png)\n",
    "<br>***Artificial Intelligence:*** Programs with the ability to learn and reason like humans\n",
    "<br>***Machine Learning:*** Algorithms with the ability to \"learn\" without being explicitly programmed. Mathematical processes count for this, linear regression, backpropogation etc.\n",
    "<br>***Deep Learning:*** A subset of machine learning, essentially when neural networks has 3+ layers, we would call it a deep learning model."
   ]
  }
 ],
 "metadata": {
  "kernelspec": {
   "display_name": "Python 3",
   "language": "python",
   "name": "python3"
  },
  "language_info": {
   "codemirror_mode": {
    "name": "ipython",
    "version": 2
   },
   "file_extension": ".py",
   "mimetype": "text/x-python",
   "name": "python",
   "nbconvert_exporter": "python",
   "pygments_lexer": "ipython2",
   "version": "2.7.6"
  }
 },
 "nbformat": 4,
 "nbformat_minor": 0
}