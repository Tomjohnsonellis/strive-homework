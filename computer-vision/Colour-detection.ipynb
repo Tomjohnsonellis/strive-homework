{
 "cells": [
  {
   "cell_type": "code",
   "execution_count": 1,
   "metadata": {
    "collapsed": true
   },
   "outputs": [],
   "source": [
    "import cv2\n",
    "import numpy as np"
   ]
  },
  {
   "cell_type": "code",
   "execution_count": 2,
   "outputs": [],
   "source": [
    "# This is a nice test image for experimenting with HSV colour spaces\n",
    "image = cv2.imread(\"img/rainbow.png\")\n",
    "image_hsv = cv2.cvtColor(image, cv2.COLOR_BGR2HSV)\n",
    "\n",
    "# This is what they \"look like\" in the different colour spaces\n",
    "cv2.imshow(\"DEFAULT\", image)\n",
    "cv2.imshow(\"HSV\", image_hsv)\n",
    "\n",
    "cv2.waitKey(0)\n",
    "cv2.destroyAllWindows()"
   ],
   "metadata": {
    "collapsed": false,
    "pycharm": {
     "name": "#%%\n"
    }
   }
  },
  {
   "cell_type": "code",
   "execution_count": 3,
   "outputs": [],
   "source": [
    "# This is just a function to show the original image and a new one\n",
    "def display_image(image_to_display):\n",
    "    cv2.imshow(\"Base Image\", image)\n",
    "    cv2.imshow(\"Colour Detection\", image_to_display)\n",
    "    cv2.waitKey(0)\n",
    "    cv2.destroyAllWindows()"
   ],
   "metadata": {
    "collapsed": false,
    "pycharm": {
     "name": "#%%\n"
    }
   }
  },
  {
   "cell_type": "code",
   "execution_count": 4,
   "outputs": [],
   "source": [
    "# Let's make a mask to show only Red colours\n",
    "\n",
    "# Define lower and upper bounds\n",
    "lower_red = np.array([150, 155, 80])\n",
    "upper_red = np.array([200, 255, 255])\n",
    "# Mask a mask of the values of the image that are within that range\n",
    "red_mask = cv2.inRange(image_hsv, lower_red, upper_red)\n",
    "\n",
    "# Let's take a look at what parts of the image are within our Red filter\n",
    "display_image(red_mask)"
   ],
   "metadata": {
    "collapsed": false,
    "pycharm": {
     "name": "#%%\n"
    }
   }
  },
  {
   "cell_type": "code",
   "execution_count": 5,
   "outputs": [],
   "source": [
    "# Cool, it's detecting the red, now if we wanted to show it in colour...\n",
    "red_image = cv2.bitwise_and(image, image, mask=red_mask)\n",
    "display_image(red_image)"
   ],
   "metadata": {
    "collapsed": false,
    "pycharm": {
     "name": "#%%\n"
    }
   }
  },
  {
   "cell_type": "code",
   "execution_count": 26,
   "outputs": [],
   "source": [
    "# Next up, how about green?\n",
    "lower_green = np.array([40, 50, 100])\n",
    "upper_green = np.array([70, 255, 255])\n",
    "green_mask = cv2.inRange(image_hsv, lower_green, upper_green)\n",
    "green_image = cv2.bitwise_and(image, image, mask=green_mask)\n",
    "display_image(green_image)\n",
    "# Yep, those are some greens!"
   ],
   "metadata": {
    "collapsed": false,
    "pycharm": {
     "name": "#%%\n"
    }
   }
  },
  {
   "cell_type": "code",
   "execution_count": 30,
   "outputs": [],
   "source": [
    "# Can we combine our masks? Yes! bitwise_or for \"red or green\"\n",
    "combined_image = cv2.bitwise_or(red_image, green_image)\n",
    "display_image(combined_image)"
   ],
   "metadata": {
    "collapsed": false,
    "pycharm": {
     "name": "#%%\n"
    }
   }
  },
  {
   "cell_type": "code",
   "execution_count": 40,
   "outputs": [],
   "source": [
    "# May as well finish off with the blue mask\n",
    "lower_blue = np.array([120, 50, 90])\n",
    "upper_blue = np.array([160, 255, 255])\n",
    "blue_mask = cv2.inRange(image_hsv, lower_blue, upper_blue)\n",
    "blue_image = cv2.bitwise_and(image, image, mask=blue_mask)\n",
    "display_image(blue_image)\n"
   ],
   "metadata": {
    "collapsed": false,
    "pycharm": {
     "name": "#%%\n"
    }
   }
  }
 ],
 "metadata": {
  "kernelspec": {
   "display_name": "Python 3",
   "language": "python",
   "name": "python3"
  },
  "language_info": {
   "codemirror_mode": {
    "name": "ipython",
    "version": 2
   },
   "file_extension": ".py",
   "mimetype": "text/x-python",
   "name": "python",
   "nbconvert_exporter": "python",
   "pygments_lexer": "ipython2",
   "version": "2.7.6"
  }
 },
 "nbformat": 4,
 "nbformat_minor": 0
}