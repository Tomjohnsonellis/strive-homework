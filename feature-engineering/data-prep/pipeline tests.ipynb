{
 "cells": [
  {
   "cell_type": "code",
   "execution_count": 1,
   "id": "02e4f721-9adf-42aa-acca-9048adcc2fb9",
   "metadata": {},
   "outputs": [],
   "source": [
    "import time\n",
    "from IPython.display import clear_output\n",
    "import numpy    as np\n",
    "import pandas   as pd\n",
    "import seaborn  as sb\n",
    "import matplotlib.pyplot as plt\n",
    "import sklearn  as skl\n",
    "\n",
    "from sklearn import pipeline      # Pipeline\n",
    "from sklearn import preprocessing # OrdinalEncoder, LabelEncoder\n",
    "from sklearn import impute\n",
    "from sklearn import compose\n",
    "from sklearn import model_selection # train_test_split\n",
    "from sklearn import metrics         # accuracy_score, balanced_accuracy_score, plot_confusion_matrix\n",
    "from sklearn import set_config"
   ]
  },
  {
   "cell_type": "code",
   "execution_count": 2,
   "id": "71f14b61-1d02-4f7d-8882-a68b2acda20c",
   "metadata": {},
   "outputs": [],
   "source": [
    "CLOUD = False\n",
    "\n",
    "if CLOUD:\n",
    "    import os\n",
    "    os.environ['KAGGLE_USERNAME'] = \"your_kaggle_username\"\n",
    "    os.environ['KAGGLE_KEY']      = \"your_kaggle_api_key\"  # See https://www.kaggle.com/docs/api\n",
    "    !pip install --upgrade kaggle\n",
    "    !kaggle competitions download -c titanic\n",
    "    DATA_PATH = \"./\"\n",
    "\n",
    "else:\n",
    "    DATA_PATH = \"../../Datasets/Tabular/titanic/\""
   ]
  },
  {
   "cell_type": "code",
   "execution_count": 3,
   "id": "683e8f47-9cb7-4fab-863c-6a6307123198",
   "metadata": {},
   "outputs": [
    {
     "name": "stdout",
     "output_type": "stream",
     "text": [
      "Train DataFrame: (891, 11)\n",
      "Test DataFrame:  (418, 10)\n"
     ]
    }
   ],
   "source": [
    "DATA_PATH = \"../../Datasets/Tabular/titanic/\"\n",
    "df      = pd.read_csv(DATA_PATH + \"train.csv\", index_col='PassengerId')\n",
    "df_test = pd.read_csv(DATA_PATH + \"test.csv\",  index_col='PassengerId')\n",
    "\n",
    "print(\"Train DataFrame:\", df.shape)\n",
    "print(\"Test DataFrame: \", df_test.shape)"
   ]
  },
  {
   "cell_type": "code",
   "execution_count": 4,
   "id": "6c3dd763-7f33-4e04-b3da-e67dc046a64b",
   "metadata": {},
   "outputs": [
    {
     "data": {
      "text/plain": [
       "Mr        240\n",
       "Miss       78\n",
       "Mrs        72\n",
       "Master     21\n",
       "Col         2\n",
       "Rev         2\n",
       "Dr          1\n",
       "Dona        1\n",
       "Ms          1\n",
       "Name: Title, dtype: int64"
      ]
     },
     "execution_count": 4,
     "metadata": {},
     "output_type": "execute_result"
    }
   ],
   "source": [
    "get_Title_from_Name = lambda name: name.split(\",\")[1].strip().split(\" \")[0][:-1]\n",
    "get_Title_from_Name = lambda name: name.split(',')[1].split('.')[0].strip() \n",
    "\n",
    "\n",
    "df['Title']      = df['Name'].map(get_Title_from_Name)\n",
    "df_test['Title'] = df_test['Name'].map(get_Title_from_Name)\n",
    "\n",
    "# print(df_test[\"Name\"].values[414])\n",
    "# print(df_test[\"Title\"].values[410:415])\n",
    "df_test[\"Title\"].value_counts()"
   ]
  },
  {
   "cell_type": "code",
   "execution_count": 5,
   "id": "0f1544d1-4401-4fe3-8398-e948d5b8b8f7",
   "metadata": {},
   "outputs": [
    {
     "data": {
      "text/plain": [
       "0"
      ]
     },
     "execution_count": 5,
     "metadata": {},
     "output_type": "execute_result"
    }
   ],
   "source": [
    "title_dictionary = {\n",
    "    \"Capt\": \"Officer\",\n",
    "    \"Col\": \"Officer\",\n",
    "    \"Major\": \"Officer\",\n",
    "    \"Jonkheer\": \"Royalty\",\n",
    "    \"Don\": \"Royalty\",\n",
    "    \"Sir\" : \"Royalty\",\n",
    "    \"Dr\": \"Officer\",\n",
    "    \"Rev\": \"Officer\",\n",
    "    \"the Countess\":\"Royalty\",\n",
    "    \"Mme\": \"Mrs\",\n",
    "    \"Mlle\": \"Miss\",\n",
    "    \"Ms\": \"Mrs\",\n",
    "    \"Mr\" : \"Mr\",\n",
    "    \"Mrs\" : \"Mrs\",\n",
    "    \"Miss\" : \"Miss\",\n",
    "    \"Master\" : \"Master\",\n",
    "    \"Lady\" : \"Royalty\"\n",
    "}\n",
    "\n",
    "df[\"Title\"] =  df[\"Title\"].map(title_dictionary)\n",
    "df_test[\"Title\"] = df_test[\"Title\"].map(title_dictionary)\n",
    "\n",
    "df[\"Title\"].isnull().sum()"
   ]
  },
  {
   "cell_type": "code",
   "execution_count": 10,
   "id": "9847a44c-c3f2-4a68-9228-6a6ba4374864",
   "metadata": {},
   "outputs": [
    {
     "name": "stdout",
     "output_type": "stream",
     "text": [
      "\n",
      "Numerical features:\n",
      " ['Pclass', 'SibSp', 'Parch', 'Fare', 'Age']\n",
      "\n",
      "Categorical features:\n",
      " ['Sex', 'Embarked', 'Title']\n"
     ]
    }
   ],
   "source": [
    "cat_vars  = ['Sex', 'Embarked', 'Title']         # x.select_dtypes(include=[object]).columns.values.tolist()\n",
    "num_vars  = ['Pclass', 'SibSp', 'Parch', 'Fare', 'Age'] # x.select_dtypes(exclude=[object]).columns.values.tolist()\n",
    "\n",
    "print(\"\\nNumerical features:\\n\", num_vars)\n",
    "print(\"\\nCategorical features:\\n\", cat_vars)"
   ]
  },
  {
   "cell_type": "code",
   "execution_count": 33,
   "id": "cb142b3b-9d53-4c41-9060-63a9d9038330",
   "metadata": {},
   "outputs": [
    {
     "data": {
      "text/plain": [
       "?    687\n",
       "C     59\n",
       "B     47\n",
       "D     33\n",
       "E     32\n",
       "A     15\n",
       "F     13\n",
       "G      4\n",
       "T      1\n",
       "Name: Deck, dtype: int64"
      ]
     },
     "execution_count": 33,
     "metadata": {},
     "output_type": "execute_result"
    }
   ],
   "source": [
    "# The cabin info can be used to figure out what deck a passenger was on,\n",
    "# Despite having a lot of NaNs, we can still use it as only first class\n",
    "# passengers would have had a cabin, so the missing data likely doesn't exist\n",
    "\n",
    "df[\"Deck\"] = df[\"Cabin\"].fillna(\"?\").str[:1]\n",
    "\n",
    "# cabins = cabins.fillna(\"?\")\n",
    "# cabins.str[:1]\n",
    "\n",
    "df[\"Deck\"].value_counts()"
   ]
  },
  {
   "cell_type": "code",
   "execution_count": 34,
   "id": "0504f641-905b-45f3-af9b-7e0a022312bd",
   "metadata": {},
   "outputs": [
    {
     "data": {
      "text/plain": [
       "0     537\n",
       "1     161\n",
       "2     102\n",
       "3      29\n",
       "5      22\n",
       "4      15\n",
       "6      12\n",
       "10      7\n",
       "7       6\n",
       "Name: Family_Size, dtype: int64"
      ]
     },
     "execution_count": 34,
     "metadata": {},
     "output_type": "execute_result"
    }
   ],
   "source": [
    "# We could make another feature by adding data together, for example...\n",
    "df['Family_Size']=df['SibSp']+df['Parch']\n",
    "\n",
    "df[\"Family_Size\"].value_counts()"
   ]
  },
  {
   "cell_type": "code",
   "execution_count": 96,
   "id": "62df8fdd-7a28-44bf-afd4-1f7d026620eb",
   "metadata": {},
   "outputs": [],
   "source": [
    "# Alternatively we could see if people were travelling in a group instead of\n",
    "# a family specifically by seeing what ticket numbers appear more than  once.\n",
    "\n",
    "multis = df[\"Ticket\"].value_counts() > 2\n",
    "#df.sort_values(by=\"Ticket\").head(50)\n",
    "multis = multis[multis == True]\n",
    "multis = list(multis.index)\n",
    "\n",
    "tickets = df[\"Ticket\"]\n",
    "data_i_want = []\n",
    "for row in df.values:\n",
    "    #print(row[7])\n",
    "    if row[7] in multis:\n",
    "        data_i_want.append(row)\n",
    "        \n",
    "#pd.DataFrame(data_i_want, columns = df.columns).sort_values(by=\"Ticket\").head(50)"
   ]
  },
  {
   "cell_type": "code",
   "execution_count": 143,
   "id": "2ba51ef7-e08e-40a0-bab7-dfee38fa415f",
   "metadata": {},
   "outputs": [],
   "source": [
    "# Copied from the other day\n",
    "num_preprocessing = pipeline.Pipeline(steps=[\n",
    "    # I went with median just so we don't end up with classes/families with fractional values\n",
    "    (\"imputer\", impute.SimpleImputer(strategy=\"median\")),\n",
    "    # As we are using a tree classifier, the rule of thumb is not to do anything to the numeric values\n",
    "    #(\"scaler\", preprocessing.StandardScaler())\n",
    "])\n",
    "\n",
    "cat_preprocessing = pipeline.Pipeline(steps=[\n",
    "    # By default, imputer uses 0/\"missing_value\" when filling things in with the constant strategy, I think that's fine for this\n",
    "    (\"imputer\", impute.SimpleImputer(strategy=\"constant\")),\n",
    "    # Rule of thumb for categorical data when using trees is \"Ordinal Encoding\", where classes become numeric values.\n",
    "    (\"ordinal\", preprocessing.OrdinalEncoder(handle_unknown=\"use_encoded_value\", unknown_value=np.nan)  )\n",
    "])\n",
    "\n",
    "# This is a nice pipeline, very concise and organised.\n",
    "tree_prepro = compose.ColumnTransformer(transformers=[\n",
    "    # Apply the imputer to our numeric data\n",
    "    (\"num\", num_preprocessing, num_vars),\n",
    "    # Apply the imputer and ordinal encoding to the categorical data\n",
    "    (\"cat\", cat_preprocessing, cat_vars),\n",
    "], remainder=\"drop\") # And finally get rid of everything else\n"
   ]
  },
  {
   "cell_type": "code",
   "execution_count": 102,
   "id": "4242d758-4029-4179-8740-18cdb7f7b524",
   "metadata": {},
   "outputs": [
    {
     "data": {
      "text/html": [
       "<style>div.sk-top-container {color: black;background-color: white;}div.sk-toggleable {background-color: white;}label.sk-toggleable__label {cursor: pointer;display: block;width: 100%;margin-bottom: 0;padding: 0.2em 0.3em;box-sizing: border-box;text-align: center;}div.sk-toggleable__content {max-height: 0;max-width: 0;overflow: hidden;text-align: left;background-color: #f0f8ff;}div.sk-toggleable__content pre {margin: 0.2em;color: black;border-radius: 0.25em;background-color: #f0f8ff;}input.sk-toggleable__control:checked~div.sk-toggleable__content {max-height: 200px;max-width: 100%;overflow: auto;}div.sk-estimator input.sk-toggleable__control:checked~label.sk-toggleable__label {background-color: #d4ebff;}div.sk-label input.sk-toggleable__control:checked~label.sk-toggleable__label {background-color: #d4ebff;}input.sk-hidden--visually {border: 0;clip: rect(1px 1px 1px 1px);clip: rect(1px, 1px, 1px, 1px);height: 1px;margin: -1px;overflow: hidden;padding: 0;position: absolute;width: 1px;}div.sk-estimator {font-family: monospace;background-color: #f0f8ff;margin: 0.25em 0.25em;border: 1px dotted black;border-radius: 0.25em;box-sizing: border-box;}div.sk-estimator:hover {background-color: #d4ebff;}div.sk-parallel-item::after {content: \"\";width: 100%;border-bottom: 1px solid gray;flex-grow: 1;}div.sk-label:hover label.sk-toggleable__label {background-color: #d4ebff;}div.sk-serial::before {content: \"\";position: absolute;border-left: 1px solid gray;box-sizing: border-box;top: 2em;bottom: 0;left: 50%;}div.sk-serial {display: flex;flex-direction: column;align-items: center;background-color: white;}div.sk-item {z-index: 1;}div.sk-parallel {display: flex;align-items: stretch;justify-content: center;background-color: white;}div.sk-parallel-item {display: flex;flex-direction: column;position: relative;background-color: white;}div.sk-parallel-item:first-child::after {align-self: flex-end;width: 50%;}div.sk-parallel-item:last-child::after {align-self: flex-start;width: 50%;}div.sk-parallel-item:only-child::after {width: 0;}div.sk-dashed-wrapped {border: 1px dashed gray;margin: 0.2em;box-sizing: border-box;padding-bottom: 0.1em;background-color: white;position: relative;}div.sk-label label {font-family: monospace;font-weight: bold;background-color: white;display: inline-block;line-height: 1.2em;}div.sk-label-container {position: relative;z-index: 2;text-align: center;}div.sk-container {display: inline-block;position: relative;}</style><div class=\"sk-top-container\"><div class=\"sk-container\"><div class=\"sk-item sk-dashed-wrapped\"><div class=\"sk-label-container\"><div class=\"sk-label sk-toggleable\"><input class=\"sk-toggleable__control sk-hidden--visually\" id=\"ec34185d-0e12-4d02-8b39-df3b4f6de9b8\" type=\"checkbox\" ><label class=\"sk-toggleable__label\" for=\"ec34185d-0e12-4d02-8b39-df3b4f6de9b8\">Pipeline</label><div class=\"sk-toggleable__content\"><pre>Pipeline(steps=[('columntransformer',\n",
       "                 ColumnTransformer(transformers=[('num',\n",
       "                                                  Pipeline(steps=[('imputer',\n",
       "                                                                   SimpleImputer(strategy='median'))]),\n",
       "                                                  ['Pclass', 'SibSp', 'Parch',\n",
       "                                                   'Fare', 'Age']),\n",
       "                                                 ('cat',\n",
       "                                                  Pipeline(steps=[('imputer',\n",
       "                                                                   SimpleImputer(strategy='constant')),\n",
       "                                                                  ('ordinal',\n",
       "                                                                   OrdinalEncoder(handle_unknown='use_encoded_value',\n",
       "                                                                                  unknown_value=nan))]),\n",
       "                                                  ['Sex', 'Embarked',\n",
       "                                                   'Title'])])),\n",
       "                ('lgbmclassifier', LGBMClassifier())])</pre></div></div></div><div class=\"sk-serial\"><div class=\"sk-item sk-dashed-wrapped\"><div class=\"sk-label-container\"><div class=\"sk-label sk-toggleable\"><input class=\"sk-toggleable__control sk-hidden--visually\" id=\"e2830bd5-68a9-4574-910a-7bd0f4c6ef5b\" type=\"checkbox\" ><label class=\"sk-toggleable__label\" for=\"e2830bd5-68a9-4574-910a-7bd0f4c6ef5b\">columntransformer: ColumnTransformer</label><div class=\"sk-toggleable__content\"><pre>ColumnTransformer(transformers=[('num',\n",
       "                                 Pipeline(steps=[('imputer',\n",
       "                                                  SimpleImputer(strategy='median'))]),\n",
       "                                 ['Pclass', 'SibSp', 'Parch', 'Fare', 'Age']),\n",
       "                                ('cat',\n",
       "                                 Pipeline(steps=[('imputer',\n",
       "                                                  SimpleImputer(strategy='constant')),\n",
       "                                                 ('ordinal',\n",
       "                                                  OrdinalEncoder(handle_unknown='use_encoded_value',\n",
       "                                                                 unknown_value=nan))]),\n",
       "                                 ['Sex', 'Embarked', 'Title'])])</pre></div></div></div><div class=\"sk-parallel\"><div class=\"sk-parallel-item\"><div class=\"sk-item\"><div class=\"sk-label-container\"><div class=\"sk-label sk-toggleable\"><input class=\"sk-toggleable__control sk-hidden--visually\" id=\"3312839c-e400-48cb-99b0-6c06f378019c\" type=\"checkbox\" ><label class=\"sk-toggleable__label\" for=\"3312839c-e400-48cb-99b0-6c06f378019c\">num</label><div class=\"sk-toggleable__content\"><pre>['Pclass', 'SibSp', 'Parch', 'Fare', 'Age']</pre></div></div></div><div class=\"sk-serial\"><div class=\"sk-item\"><div class=\"sk-serial\"><div class=\"sk-item\"><div class=\"sk-estimator sk-toggleable\"><input class=\"sk-toggleable__control sk-hidden--visually\" id=\"c697e759-f6f9-404a-97a0-5b5b33985452\" type=\"checkbox\" ><label class=\"sk-toggleable__label\" for=\"c697e759-f6f9-404a-97a0-5b5b33985452\">SimpleImputer</label><div class=\"sk-toggleable__content\"><pre>SimpleImputer(strategy='median')</pre></div></div></div></div></div></div></div></div><div class=\"sk-parallel-item\"><div class=\"sk-item\"><div class=\"sk-label-container\"><div class=\"sk-label sk-toggleable\"><input class=\"sk-toggleable__control sk-hidden--visually\" id=\"6e153448-e9eb-4c0f-aa7b-98ef289387f7\" type=\"checkbox\" ><label class=\"sk-toggleable__label\" for=\"6e153448-e9eb-4c0f-aa7b-98ef289387f7\">cat</label><div class=\"sk-toggleable__content\"><pre>['Sex', 'Embarked', 'Title']</pre></div></div></div><div class=\"sk-serial\"><div class=\"sk-item\"><div class=\"sk-serial\"><div class=\"sk-item\"><div class=\"sk-estimator sk-toggleable\"><input class=\"sk-toggleable__control sk-hidden--visually\" id=\"1060983a-1cf7-4818-bb4c-c19685c8220a\" type=\"checkbox\" ><label class=\"sk-toggleable__label\" for=\"1060983a-1cf7-4818-bb4c-c19685c8220a\">SimpleImputer</label><div class=\"sk-toggleable__content\"><pre>SimpleImputer(strategy='constant')</pre></div></div></div><div class=\"sk-item\"><div class=\"sk-estimator sk-toggleable\"><input class=\"sk-toggleable__control sk-hidden--visually\" id=\"9383571c-47df-42f4-885d-9942f87bcb29\" type=\"checkbox\" ><label class=\"sk-toggleable__label\" for=\"9383571c-47df-42f4-885d-9942f87bcb29\">OrdinalEncoder</label><div class=\"sk-toggleable__content\"><pre>OrdinalEncoder(handle_unknown='use_encoded_value', unknown_value=nan)</pre></div></div></div></div></div></div></div></div></div></div><div class=\"sk-item\"><div class=\"sk-estimator sk-toggleable\"><input class=\"sk-toggleable__control sk-hidden--visually\" id=\"0d0e2f0a-864a-4dec-9ada-e6129b675ba3\" type=\"checkbox\" ><label class=\"sk-toggleable__label\" for=\"0d0e2f0a-864a-4dec-9ada-e6129b675ba3\">LGBMClassifier</label><div class=\"sk-toggleable__content\"><pre>LGBMClassifier()</pre></div></div></div></div></div></div></div>"
      ],
      "text/plain": [
       "Pipeline(steps=[('columntransformer',\n",
       "                 ColumnTransformer(transformers=[('num',\n",
       "                                                  Pipeline(steps=[('imputer',\n",
       "                                                                   SimpleImputer(strategy='median'))]),\n",
       "                                                  ['Pclass', 'SibSp', 'Parch',\n",
       "                                                   'Fare', 'Age']),\n",
       "                                                 ('cat',\n",
       "                                                  Pipeline(steps=[('imputer',\n",
       "                                                                   SimpleImputer(strategy='constant')),\n",
       "                                                                  ('ordinal',\n",
       "                                                                   OrdinalEncoder(handle_unknown='use_encoded_value',\n",
       "                                                                                  unknown_value=nan))]),\n",
       "                                                  ['Sex', 'Embarked',\n",
       "                                                   'Title'])])),\n",
       "                ('lgbmclassifier', LGBMClassifier())])"
      ]
     },
     "execution_count": 102,
     "metadata": {},
     "output_type": "execute_result"
    }
   ],
   "source": [
    "from lightgbm              import LGBMClassifier\n",
    "set_config(display='diagram')\n",
    "pipe = pipeline.make_pipeline(tree_prepro, LGBMClassifier())\n",
    "pipe"
   ]
  },
  {
   "cell_type": "code",
   "execution_count": 132,
   "id": "5631fb2b-4a45-4202-87a3-ec80d121372b",
   "metadata": {},
   "outputs": [],
   "source": [
    "df = df.dropna()\n",
    "x = df.drop(columns=[\"Survived\", 'Name', 'Ticket', 'Cabin']) # X DATA (WILL BE TRAIN+VALID DATA)\n",
    "y = df[\"Survived\"] # 0 = No, 1 = Yes\n",
    "\n",
    "\n",
    "x_train, x_val, y_train, y_val = model_selection.train_test_split(x,y, \n",
    "                                                                  train_size=0.8,\n",
    "                                                                  stratify=y,\n",
    "                                                                  random_state=0)\n",
    "\n"
   ]
  },
  {
   "cell_type": "code",
   "execution_count": 133,
   "id": "5a31bdec-659c-43da-83d1-c19559071a89",
   "metadata": {},
   "outputs": [],
   "source": [
    "# Let's use the new features we made\n",
    "cat_vars  = ['Sex', 'Embarked', 'Title', \"Cabin\"]         # x.select_dtypes(include=[object]).columns.values.tolist()\n",
    "num_vars  = ['Pclass', \"Family_Size\", 'Fare', 'Age'] # x.select_dtypes(exclude=[object]).columns.values.tolist()\n"
   ]
  },
  {
   "cell_type": "code",
   "execution_count": 142,
   "id": "6d5a404f-4161-4f42-a29e-6e327a784e84",
   "metadata": {},
   "outputs": [
    {
     "data": {
      "text/html": [
       "<style>div.sk-top-container {color: black;background-color: white;}div.sk-toggleable {background-color: white;}label.sk-toggleable__label {cursor: pointer;display: block;width: 100%;margin-bottom: 0;padding: 0.2em 0.3em;box-sizing: border-box;text-align: center;}div.sk-toggleable__content {max-height: 0;max-width: 0;overflow: hidden;text-align: left;background-color: #f0f8ff;}div.sk-toggleable__content pre {margin: 0.2em;color: black;border-radius: 0.25em;background-color: #f0f8ff;}input.sk-toggleable__control:checked~div.sk-toggleable__content {max-height: 200px;max-width: 100%;overflow: auto;}div.sk-estimator input.sk-toggleable__control:checked~label.sk-toggleable__label {background-color: #d4ebff;}div.sk-label input.sk-toggleable__control:checked~label.sk-toggleable__label {background-color: #d4ebff;}input.sk-hidden--visually {border: 0;clip: rect(1px 1px 1px 1px);clip: rect(1px, 1px, 1px, 1px);height: 1px;margin: -1px;overflow: hidden;padding: 0;position: absolute;width: 1px;}div.sk-estimator {font-family: monospace;background-color: #f0f8ff;margin: 0.25em 0.25em;border: 1px dotted black;border-radius: 0.25em;box-sizing: border-box;}div.sk-estimator:hover {background-color: #d4ebff;}div.sk-parallel-item::after {content: \"\";width: 100%;border-bottom: 1px solid gray;flex-grow: 1;}div.sk-label:hover label.sk-toggleable__label {background-color: #d4ebff;}div.sk-serial::before {content: \"\";position: absolute;border-left: 1px solid gray;box-sizing: border-box;top: 2em;bottom: 0;left: 50%;}div.sk-serial {display: flex;flex-direction: column;align-items: center;background-color: white;}div.sk-item {z-index: 1;}div.sk-parallel {display: flex;align-items: stretch;justify-content: center;background-color: white;}div.sk-parallel-item {display: flex;flex-direction: column;position: relative;background-color: white;}div.sk-parallel-item:first-child::after {align-self: flex-end;width: 50%;}div.sk-parallel-item:last-child::after {align-self: flex-start;width: 50%;}div.sk-parallel-item:only-child::after {width: 0;}div.sk-dashed-wrapped {border: 1px dashed gray;margin: 0.2em;box-sizing: border-box;padding-bottom: 0.1em;background-color: white;position: relative;}div.sk-label label {font-family: monospace;font-weight: bold;background-color: white;display: inline-block;line-height: 1.2em;}div.sk-label-container {position: relative;z-index: 2;text-align: center;}div.sk-container {display: inline-block;position: relative;}</style><div class=\"sk-top-container\"><div class=\"sk-container\"><div class=\"sk-item sk-dashed-wrapped\"><div class=\"sk-label-container\"><div class=\"sk-label sk-toggleable\"><input class=\"sk-toggleable__control sk-hidden--visually\" id=\"54097f83-76f2-44a2-ad06-406fe22f121f\" type=\"checkbox\" ><label class=\"sk-toggleable__label\" for=\"54097f83-76f2-44a2-ad06-406fe22f121f\">ColumnTransformer</label><div class=\"sk-toggleable__content\"><pre>ColumnTransformer(transformers=[('num',\n",
       "                                 Pipeline(steps=[('imputer',\n",
       "                                                  SimpleImputer(strategy='median'))]),\n",
       "                                 ['Pclass', 'SibSp', 'Parch', 'Fare', 'Age']),\n",
       "                                ('cat',\n",
       "                                 Pipeline(steps=[('imputer',\n",
       "                                                  SimpleImputer(strategy='constant')),\n",
       "                                                 ('ordinal',\n",
       "                                                  OrdinalEncoder(handle_unknown='use_encoded_value',\n",
       "                                                                 unknown_value=nan))]),\n",
       "                                 ['Sex', 'Embarked', 'Title'])])</pre></div></div></div><div class=\"sk-parallel\"><div class=\"sk-parallel-item\"><div class=\"sk-item\"><div class=\"sk-label-container\"><div class=\"sk-label sk-toggleable\"><input class=\"sk-toggleable__control sk-hidden--visually\" id=\"51d4764b-aa4c-4a84-9b43-919395553664\" type=\"checkbox\" ><label class=\"sk-toggleable__label\" for=\"51d4764b-aa4c-4a84-9b43-919395553664\">num</label><div class=\"sk-toggleable__content\"><pre>['Pclass', 'SibSp', 'Parch', 'Fare', 'Age']</pre></div></div></div><div class=\"sk-serial\"><div class=\"sk-item\"><div class=\"sk-serial\"><div class=\"sk-item\"><div class=\"sk-estimator sk-toggleable\"><input class=\"sk-toggleable__control sk-hidden--visually\" id=\"033ef033-c63e-4bae-809c-b971b75f63e2\" type=\"checkbox\" ><label class=\"sk-toggleable__label\" for=\"033ef033-c63e-4bae-809c-b971b75f63e2\">SimpleImputer</label><div class=\"sk-toggleable__content\"><pre>SimpleImputer(strategy='median')</pre></div></div></div></div></div></div></div></div><div class=\"sk-parallel-item\"><div class=\"sk-item\"><div class=\"sk-label-container\"><div class=\"sk-label sk-toggleable\"><input class=\"sk-toggleable__control sk-hidden--visually\" id=\"7ef8d509-0e79-4778-a2d9-d8c8a0695f9b\" type=\"checkbox\" ><label class=\"sk-toggleable__label\" for=\"7ef8d509-0e79-4778-a2d9-d8c8a0695f9b\">cat</label><div class=\"sk-toggleable__content\"><pre>['Sex', 'Embarked', 'Title']</pre></div></div></div><div class=\"sk-serial\"><div class=\"sk-item\"><div class=\"sk-serial\"><div class=\"sk-item\"><div class=\"sk-estimator sk-toggleable\"><input class=\"sk-toggleable__control sk-hidden--visually\" id=\"e1c33323-aabe-4552-b1bc-c56b49b0d3f8\" type=\"checkbox\" ><label class=\"sk-toggleable__label\" for=\"e1c33323-aabe-4552-b1bc-c56b49b0d3f8\">SimpleImputer</label><div class=\"sk-toggleable__content\"><pre>SimpleImputer(strategy='constant')</pre></div></div></div><div class=\"sk-item\"><div class=\"sk-estimator sk-toggleable\"><input class=\"sk-toggleable__control sk-hidden--visually\" id=\"6d05bc72-124f-4ba6-9690-19fbfd0318aa\" type=\"checkbox\" ><label class=\"sk-toggleable__label\" for=\"6d05bc72-124f-4ba6-9690-19fbfd0318aa\">OrdinalEncoder</label><div class=\"sk-toggleable__content\"><pre>OrdinalEncoder(handle_unknown='use_encoded_value', unknown_value=nan)</pre></div></div></div></div></div></div></div></div></div></div></div></div>"
      ],
      "text/plain": [
       "ColumnTransformer(transformers=[('num',\n",
       "                                 Pipeline(steps=[('imputer',\n",
       "                                                  SimpleImputer(strategy='median'))]),\n",
       "                                 ['Pclass', 'SibSp', 'Parch', 'Fare', 'Age']),\n",
       "                                ('cat',\n",
       "                                 Pipeline(steps=[('imputer',\n",
       "                                                  SimpleImputer(strategy='constant')),\n",
       "                                                 ('ordinal',\n",
       "                                                  OrdinalEncoder(handle_unknown='use_encoded_value',\n",
       "                                                                 unknown_value=nan))]),\n",
       "                                 ['Sex', 'Embarked', 'Title'])])"
      ]
     },
     "execution_count": 142,
     "metadata": {},
     "output_type": "execute_result"
    }
   ],
   "source": [
    "tree_prepro\n",
    "#LGBMClassifier().fit(x_train, y_train)\n"
   ]
  },
  {
   "cell_type": "code",
   "execution_count": null,
   "id": "fe9e4b62-edea-4b29-8da0-3204babac3ec",
   "metadata": {},
   "outputs": [],
   "source": []
  },
  {
   "cell_type": "code",
   "execution_count": null,
   "id": "533e29d7-5ac6-41b4-9db7-2a8757a825f0",
   "metadata": {},
   "outputs": [],
   "source": []
  },
  {
   "cell_type": "code",
   "execution_count": null,
   "id": "e21a7eab-e6f7-479f-8d66-b9521515b0b6",
   "metadata": {},
   "outputs": [],
   "source": []
  },
  {
   "cell_type": "code",
   "execution_count": null,
   "id": "c163aa35-ce7f-4f6b-9bb9-a21da5316939",
   "metadata": {},
   "outputs": [],
   "source": [
    "# Why it no work omg"
   ]
  },
  {
   "cell_type": "code",
   "execution_count": 156,
   "id": "6d9bf1bf-a5c0-4d10-963b-12d05f46f52f",
   "metadata": {},
   "outputs": [
    {
     "name": "stdout",
     "output_type": "stream",
     "text": [
      "Train DataFrame: (891, 11)\n",
      "Test DataFrame:  (418, 10)\n",
      "Index(['Survived', 'Pclass', 'Name', 'Sex', 'Age', 'SibSp', 'Parch', 'Ticket',\n",
      "       'Fare', 'Cabin', 'Embarked', 'Title', 'Deck', 'Family_Size'],\n",
      "      dtype='object')\n",
      "Pipeline after\n"
     ]
    }
   ],
   "source": [
    "DATA_PATH = \"../../Datasets/Tabular/titanic/\"\n",
    "df      = pd.read_csv(DATA_PATH + \"train.csv\", index_col='PassengerId')\n",
    "df_test = pd.read_csv(DATA_PATH + \"test.csv\",  index_col='PassengerId')\n",
    "\n",
    "print(\"Train DataFrame:\", df.shape)\n",
    "print(\"Test DataFrame: \", df_test.shape)\n",
    "\n",
    "\n",
    "\n",
    "get_Title_from_Name = lambda name: name.split(\",\")[1].strip().split(\" \")[0][:-1]\n",
    "get_Title_from_Name = lambda name: name.split(',')[1].split('.')[0].strip() \n",
    "\n",
    "\n",
    "df['Title']      = df['Name'].map(get_Title_from_Name)\n",
    "df_test['Title'] = df_test['Name'].map(get_Title_from_Name)\n",
    "\n",
    "title_dictionary = {\n",
    "    \"Capt\": \"Officer\",\n",
    "    \"Col\": \"Officer\",\n",
    "    \"Major\": \"Officer\",\n",
    "    \"Jonkheer\": \"Royalty\",\n",
    "    \"Don\": \"Royalty\",\n",
    "    \"Sir\" : \"Royalty\",\n",
    "    \"Dr\": \"Officer\",\n",
    "    \"Rev\": \"Officer\",\n",
    "    \"the Countess\":\"Royalty\",\n",
    "    \"Mme\": \"Mrs\",\n",
    "    \"Mlle\": \"Miss\",\n",
    "    \"Ms\": \"Mrs\",\n",
    "    \"Mr\" : \"Mr\",\n",
    "    \"Mrs\" : \"Mrs\",\n",
    "    \"Miss\" : \"Miss\",\n",
    "    \"Master\" : \"Master\",\n",
    "    \"Lady\" : \"Royalty\"\n",
    "}\n",
    "\n",
    "df[\"Title\"] =  df[\"Title\"].map(title_dictionary)\n",
    "df_test[\"Title\"] = df_test[\"Title\"].map(title_dictionary)\n",
    "\n",
    "\n",
    "df[\"Deck\"] = df[\"Cabin\"].fillna(\"?\").str[:1]\n",
    "df['Family_Size']=df['SibSp']+df['Parch']\n",
    "\n",
    "print(df.columns)\n",
    "\n",
    "x = df.drop(columns=[\"Survived\"]) # X DATA (WILL BE TRAIN+VALID DATA)\n",
    "y = df[\"Survived\"] # 0 = No, 1 = Yes\n",
    "\n",
    "\n",
    "cat_vars  = ['Sex', 'Embarked', 'Title', \"Deck\"]         # x.select_dtypes(include=[object]).columns.values.tolist()\n",
    "num_vars  = [\"Family_Size\", 'Fare', 'Age'] # x.\n",
    "\n",
    "print(\"Pipeline after\")\n",
    "#print(df.isnull().sum())"
   ]
  },
  {
   "cell_type": "code",
   "execution_count": 158,
   "id": "15e69119-c6fe-4b74-9df0-122e716107e4",
   "metadata": {},
   "outputs": [
    {
     "data": {
      "text/html": [
       "<style>div.sk-top-container {color: black;background-color: white;}div.sk-toggleable {background-color: white;}label.sk-toggleable__label {cursor: pointer;display: block;width: 100%;margin-bottom: 0;padding: 0.2em 0.3em;box-sizing: border-box;text-align: center;}div.sk-toggleable__content {max-height: 0;max-width: 0;overflow: hidden;text-align: left;background-color: #f0f8ff;}div.sk-toggleable__content pre {margin: 0.2em;color: black;border-radius: 0.25em;background-color: #f0f8ff;}input.sk-toggleable__control:checked~div.sk-toggleable__content {max-height: 200px;max-width: 100%;overflow: auto;}div.sk-estimator input.sk-toggleable__control:checked~label.sk-toggleable__label {background-color: #d4ebff;}div.sk-label input.sk-toggleable__control:checked~label.sk-toggleable__label {background-color: #d4ebff;}input.sk-hidden--visually {border: 0;clip: rect(1px 1px 1px 1px);clip: rect(1px, 1px, 1px, 1px);height: 1px;margin: -1px;overflow: hidden;padding: 0;position: absolute;width: 1px;}div.sk-estimator {font-family: monospace;background-color: #f0f8ff;margin: 0.25em 0.25em;border: 1px dotted black;border-radius: 0.25em;box-sizing: border-box;}div.sk-estimator:hover {background-color: #d4ebff;}div.sk-parallel-item::after {content: \"\";width: 100%;border-bottom: 1px solid gray;flex-grow: 1;}div.sk-label:hover label.sk-toggleable__label {background-color: #d4ebff;}div.sk-serial::before {content: \"\";position: absolute;border-left: 1px solid gray;box-sizing: border-box;top: 2em;bottom: 0;left: 50%;}div.sk-serial {display: flex;flex-direction: column;align-items: center;background-color: white;}div.sk-item {z-index: 1;}div.sk-parallel {display: flex;align-items: stretch;justify-content: center;background-color: white;}div.sk-parallel-item {display: flex;flex-direction: column;position: relative;background-color: white;}div.sk-parallel-item:first-child::after {align-self: flex-end;width: 50%;}div.sk-parallel-item:last-child::after {align-self: flex-start;width: 50%;}div.sk-parallel-item:only-child::after {width: 0;}div.sk-dashed-wrapped {border: 1px dashed gray;margin: 0.2em;box-sizing: border-box;padding-bottom: 0.1em;background-color: white;position: relative;}div.sk-label label {font-family: monospace;font-weight: bold;background-color: white;display: inline-block;line-height: 1.2em;}div.sk-label-container {position: relative;z-index: 2;text-align: center;}div.sk-container {display: inline-block;position: relative;}</style><div class=\"sk-top-container\"><div class=\"sk-container\"><div class=\"sk-item sk-dashed-wrapped\"><div class=\"sk-label-container\"><div class=\"sk-label sk-toggleable\"><input class=\"sk-toggleable__control sk-hidden--visually\" id=\"78d40ae2-31fc-47e1-a6e2-a27f5f8e4887\" type=\"checkbox\" ><label class=\"sk-toggleable__label\" for=\"78d40ae2-31fc-47e1-a6e2-a27f5f8e4887\">ColumnTransformer</label><div class=\"sk-toggleable__content\"><pre>ColumnTransformer(transformers=[('num',\n",
       "                                 Pipeline(steps=[('imputer',\n",
       "                                                  SimpleImputer(strategy='median'))]),\n",
       "                                 ['Pclass', 'Family_Size', 'Fare', 'Age']),\n",
       "                                ('cat',\n",
       "                                 Pipeline(steps=[('imputer',\n",
       "                                                  SimpleImputer(strategy='constant')),\n",
       "                                                 ('ordinal',\n",
       "                                                  OrdinalEncoder(handle_unknown='use_encoded_value',\n",
       "                                                                 unknown_value=nan))]),\n",
       "                                 ['Sex', 'Embarked', 'Title', 'Cabin'])])</pre></div></div></div><div class=\"sk-parallel\"><div class=\"sk-parallel-item\"><div class=\"sk-item\"><div class=\"sk-label-container\"><div class=\"sk-label sk-toggleable\"><input class=\"sk-toggleable__control sk-hidden--visually\" id=\"f2420472-4444-4268-8510-8ac4ee9b1fbd\" type=\"checkbox\" ><label class=\"sk-toggleable__label\" for=\"f2420472-4444-4268-8510-8ac4ee9b1fbd\">num</label><div class=\"sk-toggleable__content\"><pre>['Pclass', 'Family_Size', 'Fare', 'Age']</pre></div></div></div><div class=\"sk-serial\"><div class=\"sk-item\"><div class=\"sk-serial\"><div class=\"sk-item\"><div class=\"sk-estimator sk-toggleable\"><input class=\"sk-toggleable__control sk-hidden--visually\" id=\"85756f8c-56d0-432e-9148-ed2a5d4b1c27\" type=\"checkbox\" ><label class=\"sk-toggleable__label\" for=\"85756f8c-56d0-432e-9148-ed2a5d4b1c27\">SimpleImputer</label><div class=\"sk-toggleable__content\"><pre>SimpleImputer(strategy='median')</pre></div></div></div></div></div></div></div></div><div class=\"sk-parallel-item\"><div class=\"sk-item\"><div class=\"sk-label-container\"><div class=\"sk-label sk-toggleable\"><input class=\"sk-toggleable__control sk-hidden--visually\" id=\"a81af645-97ef-4992-a5d1-23dffbbab576\" type=\"checkbox\" ><label class=\"sk-toggleable__label\" for=\"a81af645-97ef-4992-a5d1-23dffbbab576\">cat</label><div class=\"sk-toggleable__content\"><pre>['Sex', 'Embarked', 'Title', 'Cabin']</pre></div></div></div><div class=\"sk-serial\"><div class=\"sk-item\"><div class=\"sk-serial\"><div class=\"sk-item\"><div class=\"sk-estimator sk-toggleable\"><input class=\"sk-toggleable__control sk-hidden--visually\" id=\"60b7d58b-425c-4d21-acae-b553a34ad467\" type=\"checkbox\" ><label class=\"sk-toggleable__label\" for=\"60b7d58b-425c-4d21-acae-b553a34ad467\">SimpleImputer</label><div class=\"sk-toggleable__content\"><pre>SimpleImputer(strategy='constant')</pre></div></div></div><div class=\"sk-item\"><div class=\"sk-estimator sk-toggleable\"><input class=\"sk-toggleable__control sk-hidden--visually\" id=\"654a3ab1-2b51-49b3-8bac-2368f9601db0\" type=\"checkbox\" ><label class=\"sk-toggleable__label\" for=\"654a3ab1-2b51-49b3-8bac-2368f9601db0\">OrdinalEncoder</label><div class=\"sk-toggleable__content\"><pre>OrdinalEncoder(handle_unknown='use_encoded_value', unknown_value=nan)</pre></div></div></div></div></div></div></div></div></div></div></div></div>"
      ],
      "text/plain": [
       "ColumnTransformer(transformers=[('num',\n",
       "                                 Pipeline(steps=[('imputer',\n",
       "                                                  SimpleImputer(strategy='median'))]),\n",
       "                                 ['Pclass', 'Family_Size', 'Fare', 'Age']),\n",
       "                                ('cat',\n",
       "                                 Pipeline(steps=[('imputer',\n",
       "                                                  SimpleImputer(strategy='constant')),\n",
       "                                                 ('ordinal',\n",
       "                                                  OrdinalEncoder(handle_unknown='use_encoded_value',\n",
       "                                                                 unknown_value=nan))]),\n",
       "                                 ['Sex', 'Embarked', 'Title', 'Cabin'])])"
      ]
     },
     "execution_count": 158,
     "metadata": {},
     "output_type": "execute_result"
    }
   ],
   "source": [
    "tree_prepro\n",
    "#pipe\n",
    "# pipe = pipeline.make_pipeline(tree_prepro, LGBMClassifier())\n",
    "# pipe"
   ]
  },
  {
   "cell_type": "code",
   "execution_count": 191,
   "id": "918d96c0-0661-4129-8b9a-0450921d02d8",
   "metadata": {},
   "outputs": [],
   "source": [
    "from sklearn.tree          import DecisionTreeClassifier\n",
    "from sklearn.ensemble      import RandomForestClassifier\n",
    "from sklearn.ensemble      import ExtraTreesClassifier\n",
    "from sklearn.ensemble      import AdaBoostClassifier\n",
    "from sklearn.ensemble      import GradientBoostingClassifier\n",
    "from sklearn.experimental  import enable_hist_gradient_boosting # Necesary for HistGradientBoostingClassifier\n",
    "from sklearn.ensemble      import HistGradientBoostingClassifier\n",
    "from xgboost               import XGBClassifier\n",
    "from catboost              import CatBoostClassifier\n",
    "# I just want this one\n",
    "from lightgbm              import LGBMClassifier\n",
    "\n",
    "tree_classifiers = {\n",
    "  \"Decision Tree\": DecisionTreeClassifier(random_state=0),\n",
    "    # Extra trees needed a bit of tuning to get past 75% accuracy, rest where fine with default settings\n",
    "  \"Extra Trees\": ExtraTreesClassifier(random_state=0, n_estimators=1000, bootstrap=True, max_samples=10),\n",
    "  \"Random Forest\": RandomForestClassifier(random_state=0),\n",
    "  \"AdaBoost\": AdaBoostClassifier(random_state=0),\n",
    "  \"Skl GBM\": GradientBoostingClassifier(random_state=0),\n",
    "  \"Skl HistGBM\": HistGradientBoostingClassifier(random_state=0),\n",
    "  \"XGBoost\": XGBClassifier(random_state=0),\n",
    "  \"LightGBM\": LGBMClassifier(random_state=0),\n",
    "  \"CatBoost\": CatBoostClassifier(random_state=0),\n",
    "}\n",
    "tree_classifiers= {\n",
    "     \"LightGBM\": LGBMClassifier(random_state=0)\n",
    "}\n",
    "\n",
    "\n",
    "tree_classifiers = {name: pipeline.make_pipeline(tree_prepro, model) for name, model in tree_classifiers.items()}\n",
    "\n",
    "#tree_classifiers[\"LightGBM\"]\n",
    "# This is the same thing I had earlier???\n",
    "one_pipe = pipeline.make_pipeline(tree_prepro, LGBMClassifier())"
   ]
  },
  {
   "cell_type": "code",
   "execution_count": 163,
   "id": "b89519fe-6cdf-4b6d-b4d9-5666f23b3128",
   "metadata": {},
   "outputs": [],
   "source": [
    "x_train, x_val, y_train, y_val = model_selection.train_test_split(x,y, \n",
    "                                                                  train_size=0.8,\n",
    "                                                                  stratify=y,\n",
    "                                                                  random_state=0)\n",
    "\n",
    "\n",
    "results = pd.DataFrame({'Model': [], 'Accuracy': [], 'Bal Acc.': [], 'Time': []})"
   ]
  },
  {
   "cell_type": "code",
   "execution_count": 210,
   "id": "3e76c777-5582-4f42-ad1e-11073c007bba",
   "metadata": {},
   "outputs": [
    {
     "name": "stdout",
     "output_type": "stream",
     "text": [
      "LightGBM\n",
      "Pipeline(steps=[('columntransformer',\n",
      "                 ColumnTransformer(transformers=[('num',\n",
      "                                                  Pipeline(steps=[('imputer',\n",
      "                                                                   SimpleImputer(strategy='median'))]),\n",
      "                                                  ['Pclass', 'Family_Size',\n",
      "                                                   'Fare', 'Age']),\n",
      "                                                 ('cat',\n",
      "                                                  Pipeline(steps=[('imputer',\n",
      "                                                                   SimpleImputer(strategy='constant')),\n",
      "                                                                  ('ordinal',\n",
      "                                                                   OrdinalEncoder(handle_unknown='use_encoded_value',\n",
      "                                                                                  unknown_value=nan))]),\n",
      "                                                  ['Sex', 'Embarked', 'Title',\n",
      "                                                   'Cabin'])])),\n",
      "                ('lgbmclassifier', LGBMClassifier(random_state=0))])\n",
      "==========\n"
     ]
    }
   ],
   "source": [
    "for model_name, model in tree_classifiers.items():\n",
    "    print(model_name)\n",
    "    print(model)\n",
    "    print(\"=\"*10)\n",
    "    start_time = time.time()\n",
    "    model.fit(x_train, y_train)\n",
    "    pred = model.predict(x_val)\n",
    "    total_time = time.time() - start_time\n",
    "    results = results.append({\"Model\":    model_name,\n",
    "                          \"Accuracy\": metrics.accuracy_score(y_val, pred)*100,\n",
    "                          \"Bal Acc.\": metrics.balanced_accuracy_score(y_val, pred)*100,\n",
    "                          \"Time\":     total_time},\n",
    "                          ignore_index=True)\n",
    "\n",
    "\n",
    "# results_ord = results.sort_values(by=['Accuracy'], ascending=False, ignore_index=True)\n",
    "# results_ord.index += 1 \n",
    "# # One of these models is spewing out information about it's learning rate, my guess is one of them is \"verbose\"?\n",
    "# # This is my small-brain fix\n",
    "# clear_output()\n",
    "# results_ord.style.bar(subset=['Accuracy', 'Bal Acc.'], vmin=0, vmax=100, color='#5fba7d')\n",
    "\n"
   ]
  },
  {
   "cell_type": "code",
   "execution_count": 218,
   "id": "c210c4a0-ddf0-4eb3-8158-a95b515534b5",
   "metadata": {},
   "outputs": [
    {
     "data": {
      "text/html": [
       "<style>div.sk-top-container {color: black;background-color: white;}div.sk-toggleable {background-color: white;}label.sk-toggleable__label {cursor: pointer;display: block;width: 100%;margin-bottom: 0;padding: 0.2em 0.3em;box-sizing: border-box;text-align: center;}div.sk-toggleable__content {max-height: 0;max-width: 0;overflow: hidden;text-align: left;background-color: #f0f8ff;}div.sk-toggleable__content pre {margin: 0.2em;color: black;border-radius: 0.25em;background-color: #f0f8ff;}input.sk-toggleable__control:checked~div.sk-toggleable__content {max-height: 200px;max-width: 100%;overflow: auto;}div.sk-estimator input.sk-toggleable__control:checked~label.sk-toggleable__label {background-color: #d4ebff;}div.sk-label input.sk-toggleable__control:checked~label.sk-toggleable__label {background-color: #d4ebff;}input.sk-hidden--visually {border: 0;clip: rect(1px 1px 1px 1px);clip: rect(1px, 1px, 1px, 1px);height: 1px;margin: -1px;overflow: hidden;padding: 0;position: absolute;width: 1px;}div.sk-estimator {font-family: monospace;background-color: #f0f8ff;margin: 0.25em 0.25em;border: 1px dotted black;border-radius: 0.25em;box-sizing: border-box;}div.sk-estimator:hover {background-color: #d4ebff;}div.sk-parallel-item::after {content: \"\";width: 100%;border-bottom: 1px solid gray;flex-grow: 1;}div.sk-label:hover label.sk-toggleable__label {background-color: #d4ebff;}div.sk-serial::before {content: \"\";position: absolute;border-left: 1px solid gray;box-sizing: border-box;top: 2em;bottom: 0;left: 50%;}div.sk-serial {display: flex;flex-direction: column;align-items: center;background-color: white;}div.sk-item {z-index: 1;}div.sk-parallel {display: flex;align-items: stretch;justify-content: center;background-color: white;}div.sk-parallel-item {display: flex;flex-direction: column;position: relative;background-color: white;}div.sk-parallel-item:first-child::after {align-self: flex-end;width: 50%;}div.sk-parallel-item:last-child::after {align-self: flex-start;width: 50%;}div.sk-parallel-item:only-child::after {width: 0;}div.sk-dashed-wrapped {border: 1px dashed gray;margin: 0.2em;box-sizing: border-box;padding-bottom: 0.1em;background-color: white;position: relative;}div.sk-label label {font-family: monospace;font-weight: bold;background-color: white;display: inline-block;line-height: 1.2em;}div.sk-label-container {position: relative;z-index: 2;text-align: center;}div.sk-container {display: inline-block;position: relative;}</style><div class=\"sk-top-container\"><div class=\"sk-container\"><div class=\"sk-item sk-dashed-wrapped\"><div class=\"sk-label-container\"><div class=\"sk-label sk-toggleable\"><input class=\"sk-toggleable__control sk-hidden--visually\" id=\"7eb8ca10-f549-4f2f-ad12-a6f50398f81e\" type=\"checkbox\" ><label class=\"sk-toggleable__label\" for=\"7eb8ca10-f549-4f2f-ad12-a6f50398f81e\">Pipeline</label><div class=\"sk-toggleable__content\"><pre>Pipeline(steps=[('columntransformer',\n",
       "                 ColumnTransformer(transformers=[('num',\n",
       "                                                  Pipeline(steps=[('imputer',\n",
       "                                                                   SimpleImputer(strategy='median'))]),\n",
       "                                                  ['Pclass', 'Family_Size',\n",
       "                                                   'Fare', 'Age']),\n",
       "                                                 ('cat',\n",
       "                                                  Pipeline(steps=[('imputer',\n",
       "                                                                   SimpleImputer(strategy='constant')),\n",
       "                                                                  ('ordinal',\n",
       "                                                                   OrdinalEncoder(handle_unknown='use_encoded_value',\n",
       "                                                                                  unknown_value=nan))]),\n",
       "                                                  ['Sex', 'Embarked', 'Title',\n",
       "                                                   'Cabin'])])),\n",
       "                ('lgbmclassifier', LGBMClassifier())])</pre></div></div></div><div class=\"sk-serial\"><div class=\"sk-item sk-dashed-wrapped\"><div class=\"sk-label-container\"><div class=\"sk-label sk-toggleable\"><input class=\"sk-toggleable__control sk-hidden--visually\" id=\"be692908-73f7-42dc-913f-94f9eac2d8dc\" type=\"checkbox\" ><label class=\"sk-toggleable__label\" for=\"be692908-73f7-42dc-913f-94f9eac2d8dc\">columntransformer: ColumnTransformer</label><div class=\"sk-toggleable__content\"><pre>ColumnTransformer(transformers=[('num',\n",
       "                                 Pipeline(steps=[('imputer',\n",
       "                                                  SimpleImputer(strategy='median'))]),\n",
       "                                 ['Pclass', 'Family_Size', 'Fare', 'Age']),\n",
       "                                ('cat',\n",
       "                                 Pipeline(steps=[('imputer',\n",
       "                                                  SimpleImputer(strategy='constant')),\n",
       "                                                 ('ordinal',\n",
       "                                                  OrdinalEncoder(handle_unknown='use_encoded_value',\n",
       "                                                                 unknown_value=nan))]),\n",
       "                                 ['Sex', 'Embarked', 'Title', 'Cabin'])])</pre></div></div></div><div class=\"sk-parallel\"><div class=\"sk-parallel-item\"><div class=\"sk-item\"><div class=\"sk-label-container\"><div class=\"sk-label sk-toggleable\"><input class=\"sk-toggleable__control sk-hidden--visually\" id=\"e7d0f3d2-6ba7-4b0c-bd46-22d21392390c\" type=\"checkbox\" ><label class=\"sk-toggleable__label\" for=\"e7d0f3d2-6ba7-4b0c-bd46-22d21392390c\">num</label><div class=\"sk-toggleable__content\"><pre>['Pclass', 'Family_Size', 'Fare', 'Age']</pre></div></div></div><div class=\"sk-serial\"><div class=\"sk-item\"><div class=\"sk-serial\"><div class=\"sk-item\"><div class=\"sk-estimator sk-toggleable\"><input class=\"sk-toggleable__control sk-hidden--visually\" id=\"cfc5f45c-91fa-47dd-8a45-c72cb7539b99\" type=\"checkbox\" ><label class=\"sk-toggleable__label\" for=\"cfc5f45c-91fa-47dd-8a45-c72cb7539b99\">SimpleImputer</label><div class=\"sk-toggleable__content\"><pre>SimpleImputer(strategy='median')</pre></div></div></div></div></div></div></div></div><div class=\"sk-parallel-item\"><div class=\"sk-item\"><div class=\"sk-label-container\"><div class=\"sk-label sk-toggleable\"><input class=\"sk-toggleable__control sk-hidden--visually\" id=\"4a022e71-d80b-402b-9c6c-a0f300907d85\" type=\"checkbox\" ><label class=\"sk-toggleable__label\" for=\"4a022e71-d80b-402b-9c6c-a0f300907d85\">cat</label><div class=\"sk-toggleable__content\"><pre>['Sex', 'Embarked', 'Title', 'Cabin']</pre></div></div></div><div class=\"sk-serial\"><div class=\"sk-item\"><div class=\"sk-serial\"><div class=\"sk-item\"><div class=\"sk-estimator sk-toggleable\"><input class=\"sk-toggleable__control sk-hidden--visually\" id=\"791054b9-ad7d-42ed-9640-477df38f6485\" type=\"checkbox\" ><label class=\"sk-toggleable__label\" for=\"791054b9-ad7d-42ed-9640-477df38f6485\">SimpleImputer</label><div class=\"sk-toggleable__content\"><pre>SimpleImputer(strategy='constant')</pre></div></div></div><div class=\"sk-item\"><div class=\"sk-estimator sk-toggleable\"><input class=\"sk-toggleable__control sk-hidden--visually\" id=\"f1957486-202d-4bcc-9b0f-f2b942c0ab2b\" type=\"checkbox\" ><label class=\"sk-toggleable__label\" for=\"f1957486-202d-4bcc-9b0f-f2b942c0ab2b\">OrdinalEncoder</label><div class=\"sk-toggleable__content\"><pre>OrdinalEncoder(handle_unknown='use_encoded_value', unknown_value=nan)</pre></div></div></div></div></div></div></div></div></div></div><div class=\"sk-item\"><div class=\"sk-estimator sk-toggleable\"><input class=\"sk-toggleable__control sk-hidden--visually\" id=\"e6016089-2177-458d-b50d-29f846ae1a3b\" type=\"checkbox\" ><label class=\"sk-toggleable__label\" for=\"e6016089-2177-458d-b50d-29f846ae1a3b\">LGBMClassifier</label><div class=\"sk-toggleable__content\"><pre>LGBMClassifier()</pre></div></div></div></div></div></div></div>"
      ],
      "text/plain": [
       "Pipeline(steps=[('columntransformer',\n",
       "                 ColumnTransformer(transformers=[('num',\n",
       "                                                  Pipeline(steps=[('imputer',\n",
       "                                                                   SimpleImputer(strategy='median'))]),\n",
       "                                                  ['Pclass', 'Family_Size',\n",
       "                                                   'Fare', 'Age']),\n",
       "                                                 ('cat',\n",
       "                                                  Pipeline(steps=[('imputer',\n",
       "                                                                   SimpleImputer(strategy='constant')),\n",
       "                                                                  ('ordinal',\n",
       "                                                                   OrdinalEncoder(handle_unknown='use_encoded_value',\n",
       "                                                                                  unknown_value=nan))]),\n",
       "                                                  ['Sex', 'Embarked', 'Title',\n",
       "                                                   'Cabin'])])),\n",
       "                ('lgbmclassifier', LGBMClassifier())])"
      ]
     },
     "execution_count": 218,
     "metadata": {},
     "output_type": "execute_result"
    }
   ],
   "source": [
    "one_pipe"
   ]
  },
  {
   "cell_type": "code",
   "execution_count": 216,
   "id": "b7a5d2ee-c72d-4c17-8ec4-5793798ec96b",
   "metadata": {},
   "outputs": [
    {
     "data": {
      "text/plain": [
       "0.8212290502793296"
      ]
     },
     "execution_count": 216,
     "metadata": {},
     "output_type": "execute_result"
    }
   ],
   "source": [
    "one_pipe\n",
    "one_pipe.fit(x_train, y_train)\n",
    "one_pipe.score(x_val, y_val)"
   ]
  },
  {
   "cell_type": "code",
   "execution_count": 217,
   "id": "09e875c5-32e9-47d4-b690-a8b08bb13ce0",
   "metadata": {},
   "outputs": [
    {
     "name": "stdout",
     "output_type": "stream",
     "text": [
      "ColumnTransformer(transformers=[('num',\n",
      "                                 Pipeline(steps=[('imputer',\n",
      "                                                  SimpleImputer(strategy='median'))]),\n",
      "                                 ['Pclass', 'Family_Size', 'Fare', 'Age']),\n",
      "                                ('cat',\n",
      "                                 Pipeline(steps=[('imputer',\n",
      "                                                  SimpleImputer(strategy='constant')),\n",
      "                                                 ('ordinal',\n",
      "                                                  OrdinalEncoder(handle_unknown='use_encoded_value',\n",
      "                                                                 unknown_value=nan))]),\n",
      "                                 ['Sex', 'Embarked', 'Title', 'Cabin'])])\n",
      "LGBMClassifier()\n"
     ]
    }
   ],
   "source": [
    "for thing in one_pipe:\n",
    "    print(thing)"
   ]
  },
  {
   "cell_type": "code",
   "execution_count": 212,
   "id": "fd0200f4-1f19-4f26-ae24-90807449aff3",
   "metadata": {},
   "outputs": [
    {
     "ename": "TypeError",
     "evalue": "cannot unpack non-iterable ColumnTransformer object",
     "output_type": "error",
     "traceback": [
      "\u001b[0;31m---------------------------------------------------------------------------\u001b[0m",
      "\u001b[0;31mTypeError\u001b[0m                                 Traceback (most recent call last)",
      "\u001b[0;32m<ipython-input-212-73c8b50fdaa2>\u001b[0m in \u001b[0;36m<module>\u001b[0;34m\u001b[0m\n\u001b[1;32m      1\u001b[0m \u001b[0;31m#tree_classifiers.items()\u001b[0m\u001b[0;34m\u001b[0m\u001b[0;34m\u001b[0m\u001b[0;34m\u001b[0m\u001b[0m\n\u001b[1;32m      2\u001b[0m \u001b[0;31m#tree_classifiers[\"LightGBM\"]\u001b[0m\u001b[0;34m\u001b[0m\u001b[0;34m\u001b[0m\u001b[0;34m\u001b[0m\u001b[0m\n\u001b[0;32m----> 3\u001b[0;31m \u001b[0;32mfor\u001b[0m \u001b[0mthing\u001b[0m\u001b[0;34m,\u001b[0m \u001b[0mother_thing\u001b[0m \u001b[0;32min\u001b[0m \u001b[0mone_pipe\u001b[0m\u001b[0;34m:\u001b[0m\u001b[0;34m\u001b[0m\u001b[0;34m\u001b[0m\u001b[0m\n\u001b[0m\u001b[1;32m      4\u001b[0m     \u001b[0mprint\u001b[0m\u001b[0;34m(\u001b[0m\u001b[0mthing\u001b[0m\u001b[0;34m)\u001b[0m\u001b[0;34m\u001b[0m\u001b[0;34m\u001b[0m\u001b[0m\n\u001b[1;32m      5\u001b[0m     \u001b[0mprint\u001b[0m\u001b[0;34m(\u001b[0m\u001b[0mother_thing\u001b[0m\u001b[0;34m)\u001b[0m\u001b[0;34m\u001b[0m\u001b[0;34m\u001b[0m\u001b[0m\n",
      "\u001b[0;31mTypeError\u001b[0m: cannot unpack non-iterable ColumnTransformer object"
     ]
    }
   ],
   "source": [
    "#tree_classifiers.items()\n",
    "#tree_classifiers[\"LightGBM\"]\n",
    "for thing, other_thing in one_pipe:\n",
    "    print(thing)\n",
    "    print(other_thing)"
   ]
  },
  {
   "cell_type": "code",
   "execution_count": 211,
   "id": "368e583f-7275-4784-8ff7-72c3dd5c6147",
   "metadata": {},
   "outputs": [
    {
     "name": "stdout",
     "output_type": "stream",
     "text": [
      "ColumnTransformer(transformers=[('num',\n",
      "                                 Pipeline(steps=[('imputer',\n",
      "                                                  SimpleImputer(strategy='median'))]),\n",
      "                                 ['Pclass', 'Family_Size', 'Fare', 'Age']),\n",
      "                                ('cat',\n",
      "                                 Pipeline(steps=[('imputer',\n",
      "                                                  SimpleImputer(strategy='constant')),\n",
      "                                                 ('ordinal',\n",
      "                                                  OrdinalEncoder(handle_unknown='use_encoded_value',\n",
      "                                                                 unknown_value=nan))]),\n",
      "                                 ['Sex', 'Embarked', 'Title', 'Cabin'])])\n",
      "LGBMClassifier()\n"
     ]
    }
   ],
   "source": [
    "for thing, other_thing in [one_pipe]:\n",
    "    print(thing)\n",
    "    print(other_thing)"
   ]
  }
 ],
 "metadata": {
  "kernelspec": {
   "display_name": "Python 3",
   "language": "python",
   "name": "python3"
  },
  "language_info": {
   "codemirror_mode": {
    "name": "ipython",
    "version": 3
   },
   "file_extension": ".py",
   "mimetype": "text/x-python",
   "name": "python",
   "nbconvert_exporter": "python",
   "pygments_lexer": "ipython3",
   "version": "3.8.2"
  }
 },
 "nbformat": 4,
 "nbformat_minor": 5
}
