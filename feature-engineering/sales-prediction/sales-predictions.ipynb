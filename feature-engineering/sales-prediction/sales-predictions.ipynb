{
 "cells": [
  {
   "cell_type": "code",
   "execution_count": 20,
   "metadata": {
    "collapsed": true
   },
   "outputs": [],
   "source": [
    "import pandas as pd\n",
    "import numpy as np\n",
    "import matplotlib.pyplot as plt\n",
    "import seaborn as sb"
   ]
  },
  {
   "cell_type": "code",
   "execution_count": 2,
   "outputs": [
    {
     "data": {
      "text/plain": "0.5    214200\nName: item_cnt_month, dtype: int64"
     },
     "execution_count": 2,
     "metadata": {},
     "output_type": "execute_result"
    }
   ],
   "source": [
    "sub = pd.read_csv(\"./data/sample_submission.csv\")\n",
    "sub.describe()\n",
    "sub[\"item_cnt_month\"].value_counts()"
   ],
   "metadata": {
    "collapsed": false,
    "pycharm": {
     "name": "#%%\n"
    }
   }
  },
  {
   "cell_type": "code",
   "execution_count": 3,
   "outputs": [
    {
     "data": {
      "text/plain": "   item_id  category_id                                          item_name\n0        0           40             !! IN THE POWER OF HAPPINESS (PLAST) D\n1        1           76  ! ABBYY FineReader 12 Professional Edition Ful...\n2        2           40              *** IN THE GLORY OF THE GLORY (UNV) D\n3        3           40                             *** BLUE WAVE (Univ) D\n4        4           40                                  *** BOX (GLASS) D",
      "text/html": "<div>\n<style scoped>\n    .dataframe tbody tr th:only-of-type {\n        vertical-align: middle;\n    }\n\n    .dataframe tbody tr th {\n        vertical-align: top;\n    }\n\n    .dataframe thead th {\n        text-align: right;\n    }\n</style>\n<table border=\"1\" class=\"dataframe\">\n  <thead>\n    <tr style=\"text-align: right;\">\n      <th></th>\n      <th>item_id</th>\n      <th>category_id</th>\n      <th>item_name</th>\n    </tr>\n  </thead>\n  <tbody>\n    <tr>\n      <th>0</th>\n      <td>0</td>\n      <td>40</td>\n      <td>!! IN THE POWER OF HAPPINESS (PLAST) D</td>\n    </tr>\n    <tr>\n      <th>1</th>\n      <td>1</td>\n      <td>76</td>\n      <td>! ABBYY FineReader 12 Professional Edition Ful...</td>\n    </tr>\n    <tr>\n      <th>2</th>\n      <td>2</td>\n      <td>40</td>\n      <td>*** IN THE GLORY OF THE GLORY (UNV) D</td>\n    </tr>\n    <tr>\n      <th>3</th>\n      <td>3</td>\n      <td>40</td>\n      <td>*** BLUE WAVE (Univ) D</td>\n    </tr>\n    <tr>\n      <th>4</th>\n      <td>4</td>\n      <td>40</td>\n      <td>*** BOX (GLASS) D</td>\n    </tr>\n  </tbody>\n</table>\n</div>"
     },
     "execution_count": 3,
     "metadata": {},
     "output_type": "execute_result"
    }
   ],
   "source": [
    "items = pd.read_csv(\"./data/items.csv\")\n",
    "items.head()"
   ],
   "metadata": {
    "collapsed": false,
    "pycharm": {
     "name": "#%%\n"
    }
   }
  },
  {
   "cell_type": "code",
   "execution_count": 4,
   "outputs": [
    {
     "data": {
      "text/plain": "                category_name  category_id\n0  PC - Headsets / Headphones            0\n1           Accessories - PS2            1\n2           Accessories - PS3            2\n3           Accessories - PS4            3\n4           Accessories - PSP            4",
      "text/html": "<div>\n<style scoped>\n    .dataframe tbody tr th:only-of-type {\n        vertical-align: middle;\n    }\n\n    .dataframe tbody tr th {\n        vertical-align: top;\n    }\n\n    .dataframe thead th {\n        text-align: right;\n    }\n</style>\n<table border=\"1\" class=\"dataframe\">\n  <thead>\n    <tr style=\"text-align: right;\">\n      <th></th>\n      <th>category_name</th>\n      <th>category_id</th>\n    </tr>\n  </thead>\n  <tbody>\n    <tr>\n      <th>0</th>\n      <td>PC - Headsets / Headphones</td>\n      <td>0</td>\n    </tr>\n    <tr>\n      <th>1</th>\n      <td>Accessories - PS2</td>\n      <td>1</td>\n    </tr>\n    <tr>\n      <th>2</th>\n      <td>Accessories - PS3</td>\n      <td>2</td>\n    </tr>\n    <tr>\n      <th>3</th>\n      <td>Accessories - PS4</td>\n      <td>3</td>\n    </tr>\n    <tr>\n      <th>4</th>\n      <td>Accessories - PSP</td>\n      <td>4</td>\n    </tr>\n  </tbody>\n</table>\n</div>"
     },
     "execution_count": 4,
     "metadata": {},
     "output_type": "execute_result"
    }
   ],
   "source": [
    "categories = pd.read_csv(\"./data/categories.csv\")\n",
    "categories.head()"
   ],
   "metadata": {
    "collapsed": false,
    "pycharm": {
     "name": "#%%\n"
    }
   }
  },
  {
   "cell_type": "code",
   "execution_count": 5,
   "outputs": [
    {
     "data": {
      "text/plain": "                            shop_name  shop_id\n0  ! Yakutsk Ordzhonikidze, 56 francs        0\n1         ! Yakutsk TC \"Central\" fran        1\n2                    Adygea TC \"Mega\"        2\n3     Balashikha TC \"Oktyabr-Kinomir\"        3\n4               Volga TC \"Volga Mall\"        4",
      "text/html": "<div>\n<style scoped>\n    .dataframe tbody tr th:only-of-type {\n        vertical-align: middle;\n    }\n\n    .dataframe tbody tr th {\n        vertical-align: top;\n    }\n\n    .dataframe thead th {\n        text-align: right;\n    }\n</style>\n<table border=\"1\" class=\"dataframe\">\n  <thead>\n    <tr style=\"text-align: right;\">\n      <th></th>\n      <th>shop_name</th>\n      <th>shop_id</th>\n    </tr>\n  </thead>\n  <tbody>\n    <tr>\n      <th>0</th>\n      <td>! Yakutsk Ordzhonikidze, 56 francs</td>\n      <td>0</td>\n    </tr>\n    <tr>\n      <th>1</th>\n      <td>! Yakutsk TC \"Central\" fran</td>\n      <td>1</td>\n    </tr>\n    <tr>\n      <th>2</th>\n      <td>Adygea TC \"Mega\"</td>\n      <td>2</td>\n    </tr>\n    <tr>\n      <th>3</th>\n      <td>Balashikha TC \"Oktyabr-Kinomir\"</td>\n      <td>3</td>\n    </tr>\n    <tr>\n      <th>4</th>\n      <td>Volga TC \"Volga Mall\"</td>\n      <td>4</td>\n    </tr>\n  </tbody>\n</table>\n</div>"
     },
     "execution_count": 5,
     "metadata": {},
     "output_type": "execute_result"
    }
   ],
   "source": [
    "shops = pd.read_csv(\"./data/shops.csv\")\n",
    "shops.head()"
   ],
   "metadata": {
    "collapsed": false,
    "pycharm": {
     "name": "#%%\n"
    }
   }
  },
  {
   "cell_type": "code",
   "execution_count": 6,
   "outputs": [
    {
     "data": {
      "text/plain": "         date  date_block_num  shop_id  item_id  item_price  item_cnt_day\n0  02.01.2013               0       59    22154      999.00           1.0\n1  03.01.2013               0       25     2552      899.00           1.0\n2  05.01.2013               0       25     2552      899.00          -1.0\n3  06.01.2013               0       25     2554     1709.05           1.0\n4  15.01.2013               0       25     2555     1099.00           1.0",
      "text/html": "<div>\n<style scoped>\n    .dataframe tbody tr th:only-of-type {\n        vertical-align: middle;\n    }\n\n    .dataframe tbody tr th {\n        vertical-align: top;\n    }\n\n    .dataframe thead th {\n        text-align: right;\n    }\n</style>\n<table border=\"1\" class=\"dataframe\">\n  <thead>\n    <tr style=\"text-align: right;\">\n      <th></th>\n      <th>date</th>\n      <th>date_block_num</th>\n      <th>shop_id</th>\n      <th>item_id</th>\n      <th>item_price</th>\n      <th>item_cnt_day</th>\n    </tr>\n  </thead>\n  <tbody>\n    <tr>\n      <th>0</th>\n      <td>02.01.2013</td>\n      <td>0</td>\n      <td>59</td>\n      <td>22154</td>\n      <td>999.00</td>\n      <td>1.0</td>\n    </tr>\n    <tr>\n      <th>1</th>\n      <td>03.01.2013</td>\n      <td>0</td>\n      <td>25</td>\n      <td>2552</td>\n      <td>899.00</td>\n      <td>1.0</td>\n    </tr>\n    <tr>\n      <th>2</th>\n      <td>05.01.2013</td>\n      <td>0</td>\n      <td>25</td>\n      <td>2552</td>\n      <td>899.00</td>\n      <td>-1.0</td>\n    </tr>\n    <tr>\n      <th>3</th>\n      <td>06.01.2013</td>\n      <td>0</td>\n      <td>25</td>\n      <td>2554</td>\n      <td>1709.05</td>\n      <td>1.0</td>\n    </tr>\n    <tr>\n      <th>4</th>\n      <td>15.01.2013</td>\n      <td>0</td>\n      <td>25</td>\n      <td>2555</td>\n      <td>1099.00</td>\n      <td>1.0</td>\n    </tr>\n  </tbody>\n</table>\n</div>"
     },
     "execution_count": 6,
     "metadata": {},
     "output_type": "execute_result"
    }
   ],
   "source": [
    "training_data = pd.read_csv(\"./data/sales_train.csv\")\n",
    "training_data.head()"
   ],
   "metadata": {
    "collapsed": false,
    "pycharm": {
     "name": "#%%\n"
    }
   }
  },
  {
   "cell_type": "code",
   "execution_count": 7,
   "outputs": [
    {
     "name": "stdout",
     "output_type": "stream",
     "text": [
      "Index(['date', 'date_block_num', 'shop_id', 'item_id', 'item_price',\n",
      "       'item_cnt_day'],\n",
      "      dtype='object')\n"
     ]
    },
    {
     "data": {
      "text/plain": "949.0    7\n899.0    2\nName: item_price, dtype: int64"
     },
     "execution_count": 7,
     "metadata": {},
     "output_type": "execute_result"
    }
   ],
   "source": [
    "columns = training_data.columns\n",
    "print(columns)\n",
    "training_data[\"item_price\"][training_data[\"item_id\"] == 2552].value_counts()\n"
   ],
   "metadata": {
    "collapsed": false,
    "pycharm": {
     "name": "#%%\n"
    }
   }
  },
  {
   "cell_type": "markdown",
   "source": [
    "# EDA\n",
    "Basic things about the data\n",
    " - `items` :\n",
    "    - category_id is not unique\n",
    "    - item_id is a unique number\n",
    "    - item_name is the human text for above\n",
    " - `categories` :\n",
    "    - category_id is a unique number\n",
    "    - category_name is the human text for above\n",
    " - `shops` :\n",
    "    - shop_id is a unique number\n",
    "    - shop_name is the human text for above\n",
    " - `training_data` :\n",
    "    - item_price isn't always the same for the same item_id! Sales do exist\n",
    "    - date_block_num is the month the data is from (Jan 2013 is 0, Oct 2015 is 33)\n",
    "    - item_cnt_day is products sold, this is our target. We are predicting a MONTHLY value though\n",
    "- Submission: test.csv has ID which is (Shop ID, Item ID), submissions are a prediction for each of those\n",
    "\n",
    "## Thoughts\n",
    "- A Haggling score could be useful as I have noticed that identical items are sold for different prices\n",
    "- Refunds do also exist (negative prices) which may also be important\n",
    "- Might be worth breaking a month into weeks, making a prediction for each and then using the average"
   ],
   "metadata": {
    "collapsed": false
   }
  },
  {
   "cell_type": "code",
   "execution_count": 75,
   "outputs": [
    {
     "data": {
      "text/plain": "<matplotlib.collections.PathCollection at 0x7fd50c2c6610>"
     },
     "execution_count": 75,
     "metadata": {},
     "output_type": "execute_result"
    },
    {
     "data": {
      "text/plain": "<Figure size 720x720 with 1 Axes>",
      "image/png": "[encoded data removed]"
     },
     "metadata": {
      "needs_background": "light"
     },
     "output_type": "display_data"
    }
   ],
   "source": [
    "plt.figure(figsize=(10,10))\n",
    "# This shows that some items had ridiculous sales numbers\n",
    "#sb.boxplot(x=training_data.item_cnt_day)\n",
    "plt.scatter(x=training_data[\"item_cnt_day\"],y=training_data[\"item_cnt_day\"])"
   ],
   "metadata": {
    "collapsed": false,
    "pycharm": {
     "name": "#%%\n"
    }
   }
  },
  {
   "cell_type": "markdown",
   "source": [
    "### Practice: Build a \"Lagged Value\" prediction\n",
    "The predictions here are just the monthly sales from previous month\n",
    "(Also limited to the [0,20] range)"
   ],
   "metadata": {
    "collapsed": false,
    "pycharm": {
     "name": "#%% md\n"
    }
   }
  },
  {
   "cell_type": "code",
   "execution_count": 8,
   "outputs": [
    {
     "name": "stdout",
     "output_type": "stream",
     "text": [
      "Index(['date', 'date_block_num', 'shop_id', 'item_id', 'item_price',\n",
      "       'item_cnt_day'],\n",
      "      dtype='object')\n"
     ]
    },
    {
     "data": {
      "text/plain": "         shop_id  item_id  item_cnt_day\n2882335       45    13315           1.0\n2882336       45    13880           1.0\n2882337       45    13881           1.0\n2882338       45    13881           1.0\n2882339       45    13923           1.0",
      "text/html": "<div>\n<style scoped>\n    .dataframe tbody tr th:only-of-type {\n        vertical-align: middle;\n    }\n\n    .dataframe tbody tr th {\n        vertical-align: top;\n    }\n\n    .dataframe thead th {\n        text-align: right;\n    }\n</style>\n<table border=\"1\" class=\"dataframe\">\n  <thead>\n    <tr style=\"text-align: right;\">\n      <th></th>\n      <th>shop_id</th>\n      <th>item_id</th>\n      <th>item_cnt_day</th>\n    </tr>\n  </thead>\n  <tbody>\n    <tr>\n      <th>2882335</th>\n      <td>45</td>\n      <td>13315</td>\n      <td>1.0</td>\n    </tr>\n    <tr>\n      <th>2882336</th>\n      <td>45</td>\n      <td>13880</td>\n      <td>1.0</td>\n    </tr>\n    <tr>\n      <th>2882337</th>\n      <td>45</td>\n      <td>13881</td>\n      <td>1.0</td>\n    </tr>\n    <tr>\n      <th>2882338</th>\n      <td>45</td>\n      <td>13881</td>\n      <td>1.0</td>\n    </tr>\n    <tr>\n      <th>2882339</th>\n      <td>45</td>\n      <td>13923</td>\n      <td>1.0</td>\n    </tr>\n  </tbody>\n</table>\n</div>"
     },
     "execution_count": 8,
     "metadata": {},
     "output_type": "execute_result"
    }
   ],
   "source": [
    "df = training_data\n",
    "print(df.columns)\n",
    "# So to build a lagged data prediction, we need to have just one month of data\n",
    "# Then copy that info to be our \"prediction\"\n",
    "month = df[df[\"date_block_num\"] == 33]\n",
    "month = month.drop(columns= [\"date\",\"date_block_num\", \"item_price\"])\n",
    "month.head()"
   ],
   "metadata": {
    "collapsed": false,
    "pycharm": {
     "name": "#%%\n"
    }
   }
  },
  {
   "cell_type": "code",
   "execution_count": 9,
   "outputs": [
    {
     "data": {
      "text/plain": "   ID  shop_id  item_id\n0   0        5     5037\n1   1        5     5320\n2   2        5     5233\n3   3        5     5232\n4   4        5     5268",
      "text/html": "<div>\n<style scoped>\n    .dataframe tbody tr th:only-of-type {\n        vertical-align: middle;\n    }\n\n    .dataframe tbody tr th {\n        vertical-align: top;\n    }\n\n    .dataframe thead th {\n        text-align: right;\n    }\n</style>\n<table border=\"1\" class=\"dataframe\">\n  <thead>\n    <tr style=\"text-align: right;\">\n      <th></th>\n      <th>ID</th>\n      <th>shop_id</th>\n      <th>item_id</th>\n    </tr>\n  </thead>\n  <tbody>\n    <tr>\n      <th>0</th>\n      <td>0</td>\n      <td>5</td>\n      <td>5037</td>\n    </tr>\n    <tr>\n      <th>1</th>\n      <td>1</td>\n      <td>5</td>\n      <td>5320</td>\n    </tr>\n    <tr>\n      <th>2</th>\n      <td>2</td>\n      <td>5</td>\n      <td>5233</td>\n    </tr>\n    <tr>\n      <th>3</th>\n      <td>3</td>\n      <td>5</td>\n      <td>5232</td>\n    </tr>\n    <tr>\n      <th>4</th>\n      <td>4</td>\n      <td>5</td>\n      <td>5268</td>\n    </tr>\n  </tbody>\n</table>\n</div>"
     },
     "execution_count": 9,
     "metadata": {},
     "output_type": "execute_result"
    }
   ],
   "source": [
    "test = pd.read_csv(\"./data/test.csv\")\n",
    "test.head()"
   ],
   "metadata": {
    "collapsed": false,
    "pycharm": {
     "name": "#%%\n"
    }
   }
  },
  {
   "cell_type": "code",
   "execution_count": 10,
   "outputs": [],
   "source": [
    "# #test[\"prediction\"] = month[\"item_cnt_day\"][month[\"shop_id\"] == test[\"shop_id\"] and month[\"item_id\"] == test[\"item_id\"]]\n",
    "# results = pd.DataFrame()\n",
    "# for row in test[\"ID\"]:\n",
    "#     #print(test[\"shop_id\"][row])\n",
    "#     shop = test[\"shop_id\"][row]\n",
    "#     item = test[\"item_id\"][row]\n",
    "#     subdata = month[month[\"shop_id\"] == shop]\n",
    "#     results.append(subdata[subdata[\"item_id\"] == item])\n",
    "#\n",
    "# results.head()\n",
    "# #test.head()"
   ],
   "metadata": {
    "collapsed": false,
    "pycharm": {
     "name": "#%%\n"
    }
   }
  },
  {
   "cell_type": "code",
   "execution_count": 15,
   "outputs": [
    {
     "data": {
      "text/plain": "  shop_id item_id  prediction\n0       2      31         1.0\n0       2     486         3.0\n0       2     787         1.0\n0       2     794         1.0\n0       2     968         1.0",
      "text/html": "<div>\n<style scoped>\n    .dataframe tbody tr th:only-of-type {\n        vertical-align: middle;\n    }\n\n    .dataframe tbody tr th {\n        vertical-align: top;\n    }\n\n    .dataframe thead th {\n        text-align: right;\n    }\n</style>\n<table border=\"1\" class=\"dataframe\">\n  <thead>\n    <tr style=\"text-align: right;\">\n      <th></th>\n      <th>shop_id</th>\n      <th>item_id</th>\n      <th>prediction</th>\n    </tr>\n  </thead>\n  <tbody>\n    <tr>\n      <th>0</th>\n      <td>2</td>\n      <td>31</td>\n      <td>1.0</td>\n    </tr>\n    <tr>\n      <th>0</th>\n      <td>2</td>\n      <td>486</td>\n      <td>3.0</td>\n    </tr>\n    <tr>\n      <th>0</th>\n      <td>2</td>\n      <td>787</td>\n      <td>1.0</td>\n    </tr>\n    <tr>\n      <th>0</th>\n      <td>2</td>\n      <td>794</td>\n      <td>1.0</td>\n    </tr>\n    <tr>\n      <th>0</th>\n      <td>2</td>\n      <td>968</td>\n      <td>1.0</td>\n    </tr>\n  </tbody>\n</table>\n</div>"
     },
     "execution_count": 15,
     "metadata": {},
     "output_type": "execute_result"
    }
   ],
   "source": [
    "groups = month.groupby([\"shop_id\", \"item_id\"])\n",
    "columns = [\"shop_id\", \"item_id\", \"prediction\"]\n",
    "results = pd.DataFrame(columns=columns)\n",
    "\n",
    "for group, data in groups:\n",
    "    # print(group)\n",
    "    # print(data[\"item_cnt_day\"].sum())\n",
    "    shopid = int(data[\"shop_id\"].mean())\n",
    "    itemid = int(data[\"item_id\"].mean())\n",
    "    pred = data[\"item_cnt_day\"].sum()\n",
    "    #row_to_add = [shopid, itemid, pred]\n",
    "    data = [{\"shop_id\":shopid, \"item_id\":itemid, \"prediction\":pred}]\n",
    "\n",
    "    results = results.append(data)\n",
    "    #print(results)\n",
    "    # print(shopid)\n",
    "    # print(itemid)\n",
    "    # print(pred)\n",
    "\n",
    "    #print(\"=====\")\n",
    "\n",
    "results.head()"
   ],
   "metadata": {
    "collapsed": false,
    "pycharm": {
     "name": "#%%\n"
    }
   }
  },
  {
   "cell_type": "code",
   "execution_count": 45,
   "outputs": [
    {
     "name": "stdout",
     "output_type": "stream",
     "text": [
      "Index(['date', 'date_block_num', 'shop_id', 'item_id', 'item_price',\n",
      "       'item_cnt_day'],\n",
      "      dtype='object')\n"
     ]
    },
    {
     "data": {
      "text/plain": "   shop_id  item_id  item_cnt_day\n0        2       31           1.0\n1        2      486           3.0\n2        2      787           1.0\n3        2      794           1.0\n4        2      968           1.0",
      "text/html": "<div>\n<style scoped>\n    .dataframe tbody tr th:only-of-type {\n        vertical-align: middle;\n    }\n\n    .dataframe tbody tr th {\n        vertical-align: top;\n    }\n\n    .dataframe thead th {\n        text-align: right;\n    }\n</style>\n<table border=\"1\" class=\"dataframe\">\n  <thead>\n    <tr style=\"text-align: right;\">\n      <th></th>\n      <th>shop_id</th>\n      <th>item_id</th>\n      <th>item_cnt_day</th>\n    </tr>\n  </thead>\n  <tbody>\n    <tr>\n      <th>0</th>\n      <td>2</td>\n      <td>31</td>\n      <td>1.0</td>\n    </tr>\n    <tr>\n      <th>1</th>\n      <td>2</td>\n      <td>486</td>\n      <td>3.0</td>\n    </tr>\n    <tr>\n      <th>2</th>\n      <td>2</td>\n      <td>787</td>\n      <td>1.0</td>\n    </tr>\n    <tr>\n      <th>3</th>\n      <td>2</td>\n      <td>794</td>\n      <td>1.0</td>\n    </tr>\n    <tr>\n      <th>4</th>\n      <td>2</td>\n      <td>968</td>\n      <td>1.0</td>\n    </tr>\n  </tbody>\n</table>\n</div>"
     },
     "execution_count": 45,
     "metadata": {},
     "output_type": "execute_result"
    }
   ],
   "source": [
    "# Non awful method, thanks Javier\n",
    "df = training_data\n",
    "print(df.columns)\n",
    "# So to build a lagged data prediction, we need to have just one month of data\n",
    "# Then copy that info to be our \"prediction\"\n",
    "month = df[df[\"date_block_num\"] == 33]\n",
    "#month = month.drop(columns= [\"date\",\"date_block_num\", \"item_price\"])\n",
    "final = month.groupby([\"shop_id\", \"item_id\"])[\"item_cnt_day\"].sum().reset_index()\n",
    "final.head()"
   ],
   "metadata": {
    "collapsed": false,
    "pycharm": {
     "name": "#%%\n"
    }
   }
  },
  {
   "cell_type": "code",
   "execution_count": 52,
   "outputs": [
    {
     "data": {
      "text/plain": "   ID shop_id item_id  prediction\n0   0       5    5037         NaN\n1   1       5    5320         NaN\n2   2       5    5233         1.0\n3   3       5    5232         NaN\n4   4       5    5268         NaN",
      "text/html": "<div>\n<style scoped>\n    .dataframe tbody tr th:only-of-type {\n        vertical-align: middle;\n    }\n\n    .dataframe tbody tr th {\n        vertical-align: top;\n    }\n\n    .dataframe thead th {\n        text-align: right;\n    }\n</style>\n<table border=\"1\" class=\"dataframe\">\n  <thead>\n    <tr style=\"text-align: right;\">\n      <th></th>\n      <th>ID</th>\n      <th>shop_id</th>\n      <th>item_id</th>\n      <th>prediction</th>\n    </tr>\n  </thead>\n  <tbody>\n    <tr>\n      <th>0</th>\n      <td>0</td>\n      <td>5</td>\n      <td>5037</td>\n      <td>NaN</td>\n    </tr>\n    <tr>\n      <th>1</th>\n      <td>1</td>\n      <td>5</td>\n      <td>5320</td>\n      <td>NaN</td>\n    </tr>\n    <tr>\n      <th>2</th>\n      <td>2</td>\n      <td>5</td>\n      <td>5233</td>\n      <td>1.0</td>\n    </tr>\n    <tr>\n      <th>3</th>\n      <td>3</td>\n      <td>5</td>\n      <td>5232</td>\n      <td>NaN</td>\n    </tr>\n    <tr>\n      <th>4</th>\n      <td>4</td>\n      <td>5</td>\n      <td>5268</td>\n      <td>NaN</td>\n    </tr>\n  </tbody>\n</table>\n</div>"
     },
     "execution_count": 52,
     "metadata": {},
     "output_type": "execute_result"
    }
   ],
   "source": [
    "df = results\n",
    "# merge is a very useful method here, much easier than the insane method I was doing (open each file and match the ids etc etc)\n",
    "# Literally one easy to read command\n",
    "submission = pd.merge(left = test, # The dataframe on the left (The one we want to add our results to)\n",
    "                      right = df, # The results to add to it\n",
    "                      on=[\"shop_id\", \"item_id\"], # How we want to have the results added\n",
    "                      how=\"left\") # Tell pandas the left one is the base\n",
    "\n",
    "# And it's built\n",
    "submission.head()"
   ],
   "metadata": {
    "collapsed": false,
    "pycharm": {
     "name": "#%%\n"
    }
   }
  },
  {
   "cell_type": "code",
   "execution_count": 71,
   "outputs": [
    {
     "data": {
      "text/plain": "    item_cnt_month\nID                \n0              0.0\n1              0.0\n2              1.0\n3              0.0\n4              0.0",
      "text/html": "<div>\n<style scoped>\n    .dataframe tbody tr th:only-of-type {\n        vertical-align: middle;\n    }\n\n    .dataframe tbody tr th {\n        vertical-align: top;\n    }\n\n    .dataframe thead th {\n        text-align: right;\n    }\n</style>\n<table border=\"1\" class=\"dataframe\">\n  <thead>\n    <tr style=\"text-align: right;\">\n      <th></th>\n      <th>item_cnt_month</th>\n    </tr>\n    <tr>\n      <th>ID</th>\n      <th></th>\n    </tr>\n  </thead>\n  <tbody>\n    <tr>\n      <th>0</th>\n      <td>0.0</td>\n    </tr>\n    <tr>\n      <th>1</th>\n      <td>0.0</td>\n    </tr>\n    <tr>\n      <th>2</th>\n      <td>1.0</td>\n    </tr>\n    <tr>\n      <th>3</th>\n      <td>0.0</td>\n    </tr>\n    <tr>\n      <th>4</th>\n      <td>0.0</td>\n    </tr>\n  </tbody>\n</table>\n</div>"
     },
     "execution_count": 71,
     "metadata": {},
     "output_type": "execute_result"
    }
   ],
   "source": [],
   "metadata": {
    "collapsed": false,
    "pycharm": {
     "name": "#%%\n"
    }
   }
  },
  {
   "cell_type": "code",
   "execution_count": 72,
   "outputs": [],
   "source": [
    "# Has a lot of Nans though\n",
    "#submission.isnull().sum()\n",
    "# Fill NaNs with 0s\n",
    "submission[\"prediction\"] = submission[\"prediction\"].fillna(0)\n",
    "# Done\n",
    "#submission.head()\n",
    "\n",
    "# Need to squish our values into range [0 to 20]\n",
    "#submission.prediction.describe()\n",
    "submission.prediction = submission.prediction.clip(lower=0, upper=20)\n",
    "#submission.describe()\n",
    "\n",
    "# Finally tidy up for submission\n",
    "submission[\"item_cnt_month\"] = submission[\"prediction\"]\n",
    "renamed = submission.drop(columns=[\"shop_id\", \"item_id\",\"prediction\"])\n",
    "#renamed = renamed.drop(columns=\"ID\")\n",
    "renamed.index = renamed.ID\n",
    "renamed = renamed.drop(columns=\"ID\")\n",
    "#renamed.head()\n",
    "renamed.to_csv(\"lag-predictor.csv\", index_label=\"ID\")"
   ],
   "metadata": {
    "collapsed": false,
    "pycharm": {
     "name": "#%%\n"
    }
   }
  }
 ],
 "metadata": {
  "kernelspec": {
   "display_name": "Python 3",
   "language": "python",
   "name": "python3"
  },
  "language_info": {
   "codemirror_mode": {
    "name": "ipython",
    "version": 2
   },
   "file_extension": ".py",
   "mimetype": "text/x-python",
   "name": "python",
   "nbconvert_exporter": "python",
   "pygments_lexer": "ipython2",
   "version": "2.7.6"
  }
 },
 "nbformat": 4,
 "nbformat_minor": 0
}