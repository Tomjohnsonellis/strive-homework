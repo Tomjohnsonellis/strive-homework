{
 "cells": [
  {
   "cell_type": "markdown",
   "metadata": {},
   "source": [
    "## Linear Algebra Quiz #2\n",
    "\n",
    "![title](./img/2_1.jpeg)\n",
    "\n",
    "We strongly suggest working with numpy :)"
   ]
  },
  {
   "cell_type": "code",
   "execution_count": 1,
   "metadata": {},
   "outputs": [],
   "source": [
    "#Do your imports here\n",
    "import numpy as np\n",
    "import pandas as pd"
   ]
  },
  {
   "cell_type": "markdown",
   "metadata": {},
   "source": [
    "![title](./img/2_2.png)\n",
    "- Which vectors below define a plane spanned by a linear combination?"
   ]
  },
  {
   "cell_type": "code",
   "execution_count": 54,
   "metadata": {},
   "outputs": [
    {
     "name": "stdout",
     "output_type": "stream",
     "text": [
      "[2, 2, 2] and [8, 8, 8] are linear combinations\n"
     ]
    },
    {
     "data": {
      "text/plain": [
       "[[2, 2, 2], [8, 8, 8]]"
      ]
     },
     "execution_count": 54,
     "metadata": {},
     "output_type": "execute_result"
    }
   ],
   "source": [
    "# A linear combination is all the possible vectors that can be reached by scaling a combination of vectors\n",
    "# If you have 2 vectors, as long as they aren't the same line, you can reach any point in 2d space\n",
    "# If they are on the same line, all you can really do is move along that line.\n",
    "# Similar for 3 vectors, if they are all at least slightly different, you can access any point in 3d space.\n",
    "# If the 3rd dimension is the same across all vectors, you would make a plane in 3d space\n",
    "\n",
    "# A redundant vector in this case would be Linearly dependant, it can be expressed as a linear combination of another\n",
    "# Vectors that do add another dimension Linearly independant\n",
    "\n",
    "\n",
    "# I'm not sure I understand the question, I've gone with:\n",
    "# \"Which of the given vectors are linear combinations of another?\"\n",
    "\n",
    "def plane(a,b,c):\n",
    "    #returns false if the vectors don't define a plane and returns which are those vectors if true\n",
    "#     print(np.mod(a,b))\n",
    "#     print(np.mod(b,a))\n",
    "#     print(np.mod(c,a))\n",
    "#     print(np.mod(a,c))\n",
    "#     print(np.mod(b,c))\n",
    "#     print(np.mod(c,b))\n",
    "#     if np.all(np.mod(c,b) == 0):\n",
    "#         print(\"yes\")\n",
    "    #This was challenging more for finding the syntax than solving the problem, I went with \"if a vector mod vector results in all 0s, it's a factor\"\n",
    "    \n",
    "    if np.all(np.mod(a,b) == 0) or (np.all(np.mod(b,a) == 0)):\n",
    "        print(f\"{a} and {b} are linear combinations\")\n",
    "        return[a,b]\n",
    "    if (np.all(np.mod(a,c) == 0)) or (np.all(np.mod(c,a) == 0)):\n",
    "        print(f\"{a} and {c} are linear combinations\")\n",
    "        return[a,c]\n",
    "    if (np.all(np.mod(b,c) == 0) ) or (np.all(np.mod(c,b) == 0)):\n",
    "        print(f\"{b} and {c} are linear combinations\")\n",
    "        return[b,c]\n",
    "        \n",
    "    return False\n",
    "# Harder exercise\n",
    "\n",
    "\n",
    "# I don't understand what the question is asking me to do.\n",
    "# Inverse of above with user inputs?\n",
    "\n",
    "def complete_plane():#inputs):\n",
    "    pass \n",
    "#returns the first set of vectors to complete a plane, false otherwise\n",
    "\n",
    "\n",
    "v1 = [1,2,3]\n",
    "v2 = [2,2,2]\n",
    "v3 = [8,8,8]\n",
    "\n",
    "plane(v1,v2,v3)"
   ]
  },
  {
   "cell_type": "markdown",
   "metadata": {},
   "source": [
    "![title](./img/2_3.png)\n",
    "- What is the solution for a and b?"
   ]
  },
  {
   "cell_type": "code",
   "execution_count": 63,
   "metadata": {},
   "outputs": [
    {
     "name": "stdout",
     "output_type": "stream",
     "text": [
      "[-1.  -0.5]\n",
      "[-1.  -0.5]\n"
     ]
    }
   ],
   "source": [
    "# do you need a function for this? What is the most efficient way to solve it?\n",
    "# Numpy has a function for this, may as well use it\n",
    "# The solutions for this problem are where a graph of the function would cross the axes\n",
    "\n",
    "# Rearrange to get 2a + 3b +1 = 0, use those coeffeciants in the .roots function\n",
    "\n",
    "print(np.roots([2,3,1]))\n",
    "print(np.roots([10,15,5]))\n"
   ]
  },
  {
   "cell_type": "markdown",
   "metadata": {},
   "source": [
    "![title](./img/2_4.png)\n",
    "- What is the solution for a and b?"
   ]
  },
  {
   "cell_type": "code",
   "execution_count": 66,
   "metadata": {},
   "outputs": [
    {
     "data": {
      "text/plain": [
       "array([1.5+1.6583124j, 1.5-1.6583124j])"
      ]
     },
     "execution_count": 66,
     "metadata": {},
     "output_type": "execute_result"
    }
   ],
   "source": [
    "\"\"\"\n",
    "3b = 1 + a\n",
    "3b = 5 + a\n",
    "\n",
    "3b - a = 1\n",
    "3b - a = 5\n",
    "\n",
    "1 =/= 5\n",
    "\n",
    "No solution\n",
    "\"\"\""
   ]
  }
 ],
 "metadata": {
  "kernelspec": {
   "display_name": "Python 3",
   "language": "python",
   "name": "python3"
  },
  "language_info": {
   "codemirror_mode": {
    "name": "ipython",
    "version": 3
   },
   "file_extension": ".py",
   "mimetype": "text/x-python",
   "name": "python",
   "nbconvert_exporter": "python",
   "pygments_lexer": "ipython3",
   "version": "3.8.8"
  }
 },
 "nbformat": 4,
 "nbformat_minor": 2
}
