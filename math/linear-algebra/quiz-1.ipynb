{
 "cells": [
  {
   "cell_type": "markdown",
   "metadata": {},
   "source": [
    "## Linear Algebra Quiz #1\n",
    "\n",
    "![title](./img/1_0.jpeg)\n",
    "\n",
    "We strongly suggest working with numpy :)"
   ]
  },
  {
   "cell_type": "code",
   "execution_count": 1,
   "metadata": {},
   "outputs": [],
   "source": [
    "#Do your imports here\n",
    "import numpy as np\n",
    "import pandas as pd"
   ]
  },
  {
   "cell_type": "markdown",
   "metadata": {},
   "source": [
    "![title](./img/1_1.png)"
   ]
  },
  {
   "cell_type": "code",
   "execution_count": 15,
   "metadata": {},
   "outputs": [
    {
     "name": "stdout",
     "output_type": "stream",
     "text": [
      "3.7416573867739413\n",
      "How many dimensions would you like your vector to have?: 4\n",
      "Enter a value for dimension 1: 2\n",
      "Enter a value for dimension 2: 1\n",
      "Enter a value for dimension 3: 3\n",
      "Enter a value for dimension 4: 4\n"
     ]
    },
    {
     "data": {
      "text/plain": [
       "5.477225575051661"
      ]
     },
     "execution_count": 15,
     "metadata": {},
     "output_type": "execute_result"
    }
   ],
   "source": [
    "# type a function that given a 3_dimensional vector it is able to calculate its magnitude\n",
    "\n",
    "def magnitude_3(a,b,c):\n",
    "    return np.linalg.norm([a,b,c])\n",
    "\n",
    "# type a function that given a n_dimensional vector it is able to calculate its magnitude\n",
    "# if you want to try this from python (not jupyter notebook) https://docs.python.org/3/library/argparse.html would be a good addition\n",
    "# if you are doing this from a jupyter notebook only, you can try to promt the user for an input  \n",
    "\n",
    "\n",
    "def mag_comp_user(v):\n",
    "    return np.linalg.norm(v)\n",
    "\n",
    "print(magnitude_3(1,2,3))\n",
    "\n",
    "user_dimensions = int(input(\"How many dimensions would you like your vector to have?: \"))\n",
    "user_vector = []\n",
    "for dim in range(1,user_dimensions+1):\n",
    "    user_vector.append(input(f\"Enter a value for dimension {dim}: \"))\n",
    "\n",
    "mag_comp_user(user_vector)\n",
    "\n",
    "\n",
    "# Had no idea about this *arg until after I wrote the user input version, it's very handy!\n",
    "def magnitude_complete(*arg): #inputs\n",
    "    return np.linalg.norm(arg)"
   ]
  },
  {
   "cell_type": "markdown",
   "metadata": {},
   "source": [
    "uncomment the following line when you are ready to test"
   ]
  },
  {
   "cell_type": "code",
   "execution_count": 16,
   "metadata": {},
   "outputs": [
    {
     "data": {
      "text/plain": [
       "True"
      ]
     },
     "execution_count": 16,
     "metadata": {},
     "output_type": "execute_result"
    }
   ],
   "source": [
    "magnitude_complete(1) == 1.0\n",
    "magnitude_complete(1,2) >= 2.236\n",
    "magnitude_complete(1,2,3) >= 3.741\n",
    "magnitude_complete(1,2,3,4,5) >= 5.477\n",
    "magnitude_complete(1,2,3,4,5) >= 7.416"
   ]
  },
  {
   "cell_type": "markdown",
   "metadata": {},
   "source": [
    "![title](./img/1_2.png)"
   ]
  },
  {
   "cell_type": "code",
   "execution_count": 21,
   "metadata": {},
   "outputs": [
    {
     "name": "stdout",
     "output_type": "stream",
     "text": [
      "[5, 1] + [-4, -1] = [1 0]\n"
     ]
    },
    {
     "data": {
      "text/plain": [
       "1.0"
      ]
     },
     "execution_count": 21,
     "metadata": {},
     "output_type": "execute_result"
    }
   ],
   "source": [
    "def magnitude_vectors(a, b):\n",
    "    #checks that size is equal\n",
    "    if len(a) == len(b):\n",
    "        pass\n",
    "    else:\n",
    "        print(\"Those vectors are not of equal length!\")\n",
    "        return\n",
    "    #returns the magnitude\n",
    "    c = np.add(a,b)\n",
    "    print(f\"{a} + {b} = {c}\")\n",
    "    return np.linalg.norm(c)\n",
    "\n",
    "a = [5,1]\n",
    "b = [-4,-1]\n",
    "magnitude_vectors(a,b)"
   ]
  },
  {
   "cell_type": "markdown",
   "metadata": {},
   "source": [
    "![title](./img/1_3.png)"
   ]
  },
  {
   "cell_type": "code",
   "execution_count": 30,
   "metadata": {},
   "outputs": [
    {
     "name": "stdout",
     "output_type": "stream",
     "text": [
      "[5, 1] + [-4, -1] = [1 0]\n",
      "The magnitude of [5, 1] + [-4, -1] is 1.0 and the direction is 0.0\n"
     ]
    }
   ],
   "source": [
    "def direction_vectors(a, b):\n",
    "    #checks that size is equal\n",
    "    if len(a) == len(b):\n",
    "        pass\n",
    "    else:\n",
    "        print(\"Those vectors are not of equal length!\")\n",
    "        return\n",
    "    #returns the direction\n",
    "    c = np.add(a,b)\n",
    "    #print(c)\n",
    "    return np.arctan(c[1] / c[0])\n",
    "    \n",
    "    \n",
    "# or if you want to do it all in one batch:\n",
    "def magdir_vectors(a, b):\n",
    "    #checks that size is equal\n",
    "    if len(a) == len(b):\n",
    "        pass\n",
    "    else:\n",
    "        print(\"Those vectors are not of equal length!\")\n",
    "        return\n",
    "    #returns the magnitude and direction in a nicely printed format \n",
    "    magnitude = magnitude_vectors(a,b)\n",
    "    direction = direction_vectors(a,b)\n",
    "    #\"The magnitude of a + b is X and the direction is Y\"\n",
    "    print(f\"The magnitude of {a} + {b} is {magnitude} and the direction is {direction}\")\n",
    "\n",
    "    \n",
    "a = [5,1]\n",
    "b = [-4,-1]\n",
    "direction_vectors(a,b)\n",
    "magdir_vectors(a,b)"
   ]
  },
  {
   "cell_type": "markdown",
   "metadata": {},
   "source": [
    "![title](./img/1_4.png)\n",
    "- What is the magnitude of αx⃗? \n",
    "- If α>0, will the direction of the resulting vector change?\n",
    "- If α<0, will the direction of the resulting vector change?\n",
    "\n",
    "- If −1<α<1, will ∥αx⃗∥  increase, decrease or stay the same?"
   ]
  },
  {
   "cell_type": "code",
   "execution_count": 39,
   "metadata": {},
   "outputs": [
    {
     "name": "stdout",
     "output_type": "stream",
     "text": [
      "The vector's direction is unchanged.\n",
      "The vector's velocity has been decreased!\n"
     ]
    },
    {
     "data": {
      "text/plain": [
       "1.1661903789690602"
      ]
     },
     "execution_count": 39,
     "metadata": {},
     "output_type": "execute_result"
    }
   ],
   "source": [
    "# x = [a b]\n",
    "# αx⃗ is alpha times x\n",
    "# so.. [some value] * mag(x) ?\n",
    "# If so:\n",
    "def alpha_magnitude(alpha, b):\n",
    "    #returns the resulting magnitude, if the direction has changed and what has happened to the vector\n",
    "    alp_mag = alpha * np.linalg.norm(b)\n",
    "    \n",
    "    if alpha < 0:\n",
    "        print(\"The vector's direction has changed! It is now headed in the opposite direction.\")\n",
    "    elif alpha > 0:\n",
    "        print(\"The vector's direction is unchanged.\")\n",
    "        \n",
    "    if ((-1 < alpha) and (alpha < 1)):\n",
    "        print(\"The vector's velocity has been decreased!\")\n",
    "    else:\n",
    "        pass\n",
    "    \n",
    "    return alp_mag\n",
    "\n",
    "x = [3,5]\n",
    "alpha_magnitude(0.2,x)\n",
    "\n"
   ]
  }
 ],
 "metadata": {
  "kernelspec": {
   "display_name": "Python 3",
   "language": "python",
   "name": "python3"
  },
  "language_info": {
   "codemirror_mode": {
    "name": "ipython",
    "version": 3
   },
   "file_extension": ".py",
   "mimetype": "text/x-python",
   "name": "python",
   "nbconvert_exporter": "python",
   "pygments_lexer": "ipython3",
   "version": "3.8.8"
  }
 },
 "nbformat": 4,
 "nbformat_minor": 2
}
