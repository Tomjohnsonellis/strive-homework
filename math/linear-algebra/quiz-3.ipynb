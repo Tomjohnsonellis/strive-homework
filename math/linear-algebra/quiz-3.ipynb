{
 "cells": [
  {
   "cell_type": "markdown",
   "metadata": {},
   "source": [
    "## Linear Algebra Quiz #3\n",
    "\n",
    "![title](./img/3_0.jpeg)\n",
    "\n",
    "We strongly suggest working with numpy :)"
   ]
  },
  {
   "cell_type": "code",
   "execution_count": 1,
   "metadata": {},
   "outputs": [],
   "source": [
    "#Do your imports here\n",
    "import numpy as np\n",
    "import pandas as pd"
   ]
  },
  {
   "cell_type": "markdown",
   "metadata": {},
   "source": [
    "![title](./img/3_2.png)\n",
    "![title](./img/3_3.png)\n",
    "Create a program that can output\n",
    "\n",
    "- What is the value of element c23​ of Matrix C where C=A x B ?\n",
    "- What is the value of element c23​ of Matrix C where C=B x A ?"
   ]
  },
  {
   "cell_type": "code",
   "execution_count": null,
   "metadata": {},
   "outputs": [],
   "source": [
    "# okay numpy is great but... how would you inverse a matrix by hand?\n",
    "\n",
    "def inverse_matrix(A):\n",
    "    # I'm pressed for time, but https://www.mathsisfun.com/algebra/matrix-inverse.html and https://www.mathsisfun.com/algebra/matrix-determinant.html\n",
    "    # Explain the concept well\n",
    "    return numpy.linalg.inv(A)"
   ]
  },
  {
   "cell_type": "markdown",
   "metadata": {},
   "source": [
    "![title](./img/3_1.png)\n",
    "Create a program that can output\n",
    "\n",
    "- What is the value of the ijth element if i = 2 and j=3?\n",
    "- What is the value of the ijth element if i = 3 and j=1?"
   ]
  },
  {
   "cell_type": "code",
   "execution_count": 33,
   "metadata": {},
   "outputs": [
    {
     "name": "stdout",
     "output_type": "stream",
     "text": [
      "[[ 6.000000e+00  7.000000e-01  2.370000e+01]\n",
      " [-1.014160e+03 -3.000000e+00  0.000000e+00]\n",
      " [ 1.157849e+02 -2.700000e+00 -8.000000e+00]\n",
      " [-9.300000e+01  1.767000e+01  6.000000e-03]]\n",
      "=====\n",
      "[[115.7849  -2.7     -8.    ]]\n"
     ]
    }
   ],
   "source": [
    "# Just answer using code --> easy stuff!\n",
    "A = np.matrix([[3,-1.3,7],[0.6,4,0],[4,0,-8],[-3,8.6,0.006]])\n",
    "B = np.matrix([[3,2,9],[-5.76,-2,0],[45,1.3,0],[0,9,0]])\n",
    "C = np.matrix([[0,0,-7.7],[1009,5,0],[-66.7849,4,0],[90,-0.07,0]])\n",
    "\n",
    "temp = np.add(A,B)\n",
    "#print(A+B-C)\n",
    "D = (A+B-C)\n",
    "print(D)\n",
    "\n",
    "print(\"=====\")\n",
    "i = 2\n",
    "j = 3\n",
    "# Minusing one because 0-index\n",
    "print(str(D[i]))\n",
    "\n",
    "\n",
    "# Harder\n",
    "# Can you build a matrix solver that can do output the result given n matrices and a sequence of operations such as [add subtract multiply transpose?]\n",
    "#Some ideas on valid operations: Multiplication Addition Subtraction Inverstion Transposed. "
   ]
  },
  {
   "cell_type": "markdown",
   "metadata": {},
   "source": [
    "![title](./img/3_3.png)\n",
    "Create a program that can output\n",
    "- How many rows will C have?\n",
    "- How many columns will C have?\n",
    "- What will be the value of c13​?"
   ]
  },
  {
   "cell_type": "code",
   "execution_count": null,
   "metadata": {},
   "outputs": [],
   "source": [
    "\"\"\"\n",
    "Minimum of rows of A and B\n",
    "Minimum of columns of A and B\n",
    "\"\"\""
   ]
  }
 ],
 "metadata": {
  "kernelspec": {
   "display_name": "Python 3",
   "language": "python",
   "name": "python3"
  },
  "language_info": {
   "codemirror_mode": {
    "name": "ipython",
    "version": 3
   },
   "file_extension": ".py",
   "mimetype": "text/x-python",
   "name": "python",
   "nbconvert_exporter": "python",
   "pygments_lexer": "ipython3",
   "version": "3.8.8"
  }
 },
 "nbformat": 4,
 "nbformat_minor": 2
}
