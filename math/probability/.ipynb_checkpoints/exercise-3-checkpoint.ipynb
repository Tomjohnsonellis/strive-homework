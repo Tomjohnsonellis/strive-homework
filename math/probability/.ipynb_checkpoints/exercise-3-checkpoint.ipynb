{
 "cells": [
  {
   "cell_type": "markdown",
   "id": "reflected-transaction",
   "metadata": {},
   "source": [
    "Consider the following boxes (two boxes (red/blue) with two types of balls (green/orange)):\n",
    "\n",
    "![Hello](image)"
   ]
  },
  {
   "cell_type": "markdown",
   "id": "thorough-depression",
   "metadata": {},
   "source": [
    "#### Exercise 3: which is the probability of picking up a green ball if you are using the red box?"
   ]
  },
  {
   "cell_type": "code",
   "execution_count": 3,
   "id": "banner-folder",
   "metadata": {},
   "outputs": [
    {
     "name": "stdout",
     "output_type": "stream",
     "text": [
      "0.25\n"
     ]
    },
    {
     "data": {
      "text/plain": [
       "0.25"
      ]
     },
     "execution_count": 3,
     "metadata": {},
     "output_type": "execute_result"
    }
   ],
   "source": [
    "\"\"\"\n",
    "Using my eyes: 2 out of 8\n",
    "2/8\n",
    "\"\"\"\n",
    "print(2/8)\n",
    "0.25\n",
    "\n",
    "\n",
    "# \"\"\"\n",
    "# Bayes method, there's a reference below.\n",
    "# H|E = Probability of: <green ball> given <red box>\n",
    "\n",
    "# (H) = I will pick up a green ball\n",
    "# P(H) = Prob of me choosing a green ball = 5/12 = 0.416\n",
    "# P(E|H) = I have chosen a green ball, prob of it being from red box = 2/5 = 0.4\n",
    "# P(¬H) = Prob of \"I will NOT choose a green ball\" = 7/12 = 0.583\n",
    "# P(E|¬H) = I did not select a green ball, prob of red box = 6/7 = 0.857\n",
    "\n",
    "#         (0.416 * 0.4)\n",
    "#     -------------------\n",
    "# (0.416 * 0.4) + (0.583 * 0.857)\n",
    "       \n",
    "# = 0.25\n",
    "# \"\"\""
   ]
  },
  {
   "cell_type": "code",
   "execution_count": null,
   "id": "combined-designer",
   "metadata": {},
   "outputs": [],
   "source": []
  }
 ],
 "metadata": {
  "kernelspec": {
   "display_name": "Python 3",
   "language": "python",
   "name": "python3"
  },
  "language_info": {
   "codemirror_mode": {
    "name": "ipython",
    "version": 3
   },
   "file_extension": ".py",
   "mimetype": "text/x-python",
   "name": "python",
   "nbconvert_exporter": "python",
   "pygments_lexer": "ipython3",
   "version": "3.8.8"
  }
 },
 "nbformat": 4,
 "nbformat_minor": 5
}
