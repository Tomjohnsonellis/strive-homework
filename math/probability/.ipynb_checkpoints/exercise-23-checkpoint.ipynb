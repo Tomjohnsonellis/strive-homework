{
 "cells": [
  {
   "cell_type": "markdown",
   "id": "choice-victorian",
   "metadata": {},
   "source": [
    "#### Exercise 23: How many different seven-letter arrangements of the letters in the word HEXAGON can be made if each letter is used only once?"
   ]
  },
  {
   "cell_type": "code",
   "execution_count": 1,
   "id": "native-tourist",
   "metadata": {},
   "outputs": [
    {
     "data": {
      "text/plain": [
       "5040"
      ]
     },
     "execution_count": 1,
     "metadata": {},
     "output_type": "execute_result"
    }
   ],
   "source": [
    "# This is a \"permutation without repitition\"\n",
    "# Which can be found with the factorial of the length of the word\n",
    "# 7! = 5040\n",
    "7*6*5*4*3*2"
   ]
  }
 ],
 "metadata": {
  "kernelspec": {
   "display_name": "Python 3",
   "language": "python",
   "name": "python3"
  },
  "language_info": {
   "codemirror_mode": {
    "name": "ipython",
    "version": 3
   },
   "file_extension": ".py",
   "mimetype": "text/x-python",
   "name": "python",
   "nbconvert_exporter": "python",
   "pygments_lexer": "ipython3",
   "version": "3.8.8"
  }
 },
 "nbformat": 4,
 "nbformat_minor": 5
}
