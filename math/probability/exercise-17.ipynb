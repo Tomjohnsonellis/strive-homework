{
 "cells": [
  {
   "cell_type": "markdown",
   "id": "coated-invalid",
   "metadata": {},
   "source": [
    "![Hello](cards.png)"
   ]
  },
  {
   "cell_type": "code",
   "execution_count": 2,
   "id": "baking-caution",
   "metadata": {},
   "outputs": [],
   "source": [
    "# Create function that returns probability percent rounded to three decimal places\n",
    "def event_probability(event_outcomes, sample_space):\n",
    "    probability = event_outcomes / sample_space\n",
    "    return round(probability, 3)"
   ]
  },
  {
   "cell_type": "markdown",
   "id": "associate-fetish",
   "metadata": {},
   "source": [
    "#### Exercise 17: which is the probability of drawing a heart or an ace?"
   ]
  },
  {
   "cell_type": "code",
   "execution_count": 16,
   "id": "subtle-calvin",
   "metadata": {},
   "outputs": [
    {
     "name": "stdout",
     "output_type": "stream",
     "text": [
      "0.525\n",
      "0.3076923076923077\n",
      "0.308\n",
      "0.525288\n"
     ]
    }
   ],
   "source": [
    "# Calculate the probability of drawing a heart or an ace\n",
    "\n",
    "# I'm going to understand this question as:\n",
    "# \"We draw 2 cards from a fresh deck, what's the probability of <x>?\"\n",
    "\n",
    "# Sample Space\n",
    "cards = 52\n",
    "player_cards = 0\n",
    "cards = cards - (player_cards)\n",
    "\n",
    "# In poker, cards that complete a draw are known as \"outs\"\n",
    "hearts = 13\n",
    "aces = 4\n",
    "# One card is both a heart and an ace\n",
    "overlap = 1\n",
    "\n",
    "outs = hearts + aces - overlap\n",
    "\n",
    "\"\"\"\n",
    "Chance of drawing a card in first 2 draws is:\n",
    "Chance of drawing it initially + (not drawing it initially * drawing it second)\n",
    "chance = event_probability(outs, cards) + ( event_probability(outs, cards-1))\n",
    "\"\"\"\n",
    "first_chance = event_probability(outs, cards)\n",
    "second_chance = event_probability(outs, cards - 1)\n",
    "total_chance = first_chance + ((1 - first_chance) * second_chance)\n",
    "total_chance\n",
    "\n",
    "\n",
    "h = 13/52\n",
    "a = 4/52\n",
    "ov = 1/52\n",
    "first = h + a -ov\n",
    "\n",
    "fail_first = (1 - first)\n",
    "\n",
    "h2 = 13/51\n",
    "a2 = 4/51\n",
    "ov2 = 1/51\n",
    "second = h2 + a2 - ov2\n",
    "\n",
    "toot = first + (fail_first * second)\n",
    "print(round(toot, 3))\n",
    "\n",
    "print(first)\n",
    "print(event_probability(outs, cards))\n",
    "\n",
    "print(total_chance)"
   ]
  },
  {
   "cell_type": "code",
   "execution_count": null,
   "id": "further-value",
   "metadata": {},
   "outputs": [],
   "source": []
  }
 ],
 "metadata": {
  "kernelspec": {
   "display_name": "Python 3",
   "language": "python",
   "name": "python3"
  },
  "language_info": {
   "codemirror_mode": {
    "name": "ipython",
    "version": 3
   },
   "file_extension": ".py",
   "mimetype": "text/x-python",
   "name": "python",
   "nbconvert_exporter": "python",
   "pygments_lexer": "ipython3",
   "version": "3.8.8"
  }
 },
 "nbformat": 4,
 "nbformat_minor": 5
}
