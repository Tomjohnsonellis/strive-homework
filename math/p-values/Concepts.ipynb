{
 "cells": [
  {
   "cell_type": "code",
   "execution_count": 1,
   "id": "altered-kuwait",
   "metadata": {},
   "outputs": [
    {
     "name": "stdout",
     "output_type": "stream",
     "text": [
      "[5, 2, 3]\n",
      "[1, 10, 15]\n"
     ]
    }
   ],
   "source": [
    "foo = [1,2,3]\n",
    "bar = [5,10,15]\n",
    "\n",
    "(foo[0], bar[0]) = (bar[0], foo[0])\n",
    "\n",
    "print(foo)\n",
    "print(bar)"
   ]
  },
  {
   "cell_type": "code",
   "execution_count": 8,
   "id": "enormous-continuity",
   "metadata": {},
   "outputs": [
    {
     "data": {
      "text/plain": [
       "[0, 25, 100, 225, 400]"
      ]
     },
     "execution_count": 8,
     "metadata": {},
     "output_type": "execute_result"
    }
   ],
   "source": [
    "ten_numbers = range(25)\n",
    "cool_list = [element**2 for element in ten_numbers if (element%5 == 0)]\n",
    "cool_list"
   ]
  },
  {
   "cell_type": "code",
   "execution_count": null,
   "id": "surgical-government",
   "metadata": {},
   "outputs": [],
   "source": []
  },
  {
   "cell_type": "code",
   "execution_count": null,
   "id": "colonial-slovakia",
   "metadata": {},
   "outputs": [],
   "source": []
  }
 ],
 "metadata": {
  "kernelspec": {
   "display_name": "Python 3",
   "language": "python",
   "name": "python3"
  },
  "language_info": {
   "codemirror_mode": {
    "name": "ipython",
    "version": 3
   },
   "file_extension": ".py",
   "mimetype": "text/x-python",
   "name": "python",
   "nbconvert_exporter": "python",
   "pygments_lexer": "ipython3",
   "version": "3.8.8"
  }
 },
 "nbformat": 4,
 "nbformat_minor": 5
}
